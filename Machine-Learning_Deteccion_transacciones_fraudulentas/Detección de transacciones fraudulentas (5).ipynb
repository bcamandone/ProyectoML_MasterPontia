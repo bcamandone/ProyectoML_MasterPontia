{
 "cells": [
  {
   "cell_type": "markdown",
   "id": "ba0083b0",
   "metadata": {},
   "source": [
    "## Proyecto jupiter - Introducción\n",
    "La empresa Pontia Bank S.L. necesita desarrollar un sistema de detección de transacciones fraudulentas. Esta compañía, tramita miles de transacciones diarias de todos sus clientes entre las cuales se quiere diferenciar entre las que son fraudulentas de las que no lo son.\n",
    "Se deben presentar al menos dos algoritmos de los cuales al menos uno debe ser de Deep Learning y otro no.\n"
   ]
  },
  {
   "cell_type": "markdown",
   "id": "a39b666f",
   "metadata": {},
   "source": [
    "## 1. Importar librerias"
   ]
  },
  {
   "cell_type": "code",
   "execution_count": 1,
   "id": "90be6056",
   "metadata": {},
   "outputs": [
    {
     "data": {
      "text/html": [
       "        <script type=\"text/javascript\">\n",
       "        window.PlotlyConfig = {MathJaxConfig: 'local'};\n",
       "        if (window.MathJax && window.MathJax.Hub && window.MathJax.Hub.Config) {window.MathJax.Hub.Config({SVG: {font: \"STIX-Web\"}});}\n",
       "        if (typeof require !== 'undefined') {\n",
       "        require.undef(\"plotly\");\n",
       "        requirejs.config({\n",
       "            paths: {\n",
       "                'plotly': ['https://cdn.plot.ly/plotly-2.12.1.min']\n",
       "            }\n",
       "        });\n",
       "        require(['plotly'], function(Plotly) {\n",
       "            window._Plotly = Plotly;\n",
       "        });\n",
       "        }\n",
       "        </script>\n",
       "        "
      ]
     },
     "metadata": {},
     "output_type": "display_data"
    }
   ],
   "source": [
    "#Librerias basicas\n",
    "import pandas as pd\n",
    "import numpy as np\n",
    "\n",
    "#Librerias de visualizacion\n",
    "import seaborn as sns\n",
    "import matplotlib.pyplot as plt\n",
    "import plotly.express as px\n",
    "import plotly.graph_objects as go\n",
    "from plotly.offline import plot, iplot, init_notebook_mode\n",
    "init_notebook_mode(connected=True)\n",
    "%matplotlib inline\n",
    "\n",
    "\n",
    "#Librerias de ML\n",
    "import tensorflow as tf\n",
    "from sklearn.svm import SVC\n",
    "from sklearn.linear_model import LogisticRegression\n",
    "from sklearn.naive_bayes import GaussianNB\n",
    "from sklearn.model_selection import train_test_split\n",
    "from sklearn.preprocessing import LabelEncoder\n",
    "from sklearn.preprocessing import StandardScaler\n",
    "from sklearn.model_selection import GridSearchCV\n",
    "from sklearn.ensemble import RandomForestClassifier\n",
    "from sklearn.neighbors import KNeighborsClassifier\n",
    "from sklearn.svm import LinearSVC\n",
    "from mlxtend.plotting import plot_confusion_matrix\n",
    "from sklearn.model_selection import RepeatedStratifiedKFold\n",
    "from imblearn.under_sampling import RandomUnderSampler \n",
    "from keras.models import Sequential\n",
    "from keras.layers import Dense, Dropout\n",
    "import keras\n",
    "import xgboost as xgb\n",
    "from sklearn.model_selection import RandomizedSearchCV\n",
    "\n",
    "#Librerias de Metricas \n",
    "from sklearn import metrics\n",
    "from sklearn.metrics import mean_squared_error\n",
    "from sklearn.metrics import classification_report\n",
    "from sklearn.model_selection import cross_val_score\n",
    "from sklearn.metrics import accuracy_score\n",
    "from sklearn.metrics import confusion_matrix\n",
    "from sklearn.metrics import roc_curve, auc\n",
    "from sklearn.metrics import precision_score\n",
    "from sklearn.metrics import recall_score\n",
    "\n",
    "#Libreria para guardar y cargar nuestros modelos\n",
    "from joblib import dump\n",
    "from joblib import load\n",
    "\n",
    "import warnings\n",
    "warnings.filterwarnings(\"ignore\")"
   ]
  },
  {
   "cell_type": "markdown",
   "id": "6dc59b07",
   "metadata": {},
   "source": [
    "## 2. Carga del dataset"
   ]
  },
  {
   "cell_type": "code",
   "execution_count": 2,
   "id": "005baaa1",
   "metadata": {},
   "outputs": [],
   "source": [
    "data = pd.read_csv(\"df_completo.csv\")"
   ]
  },
  {
   "cell_type": "code",
   "execution_count": 4,
   "id": "828d2f99",
   "metadata": {},
   "outputs": [
    {
     "data": {
      "text/plain": [
       "(6362520, 12)"
      ]
     },
     "execution_count": 4,
     "metadata": {},
     "output_type": "execute_result"
    }
   ],
   "source": [
    "data.shape"
   ]
  },
  {
   "cell_type": "markdown",
   "id": "4c0f0f0a",
   "metadata": {},
   "source": [
    "## 3. Selección del algoritmo:\n",
    "¿Qué queremos conseguir con el modelo? clasificar datos en dos clases: fraudes y no fraudes\n",
    "\n",
    "¿Con qué datos contamos para resolver el problema? Datos etiquetados\n",
    "\n",
    "Conclusión: algoritmo de aprendizaje supervisado, clasificación"
   ]
  },
  {
   "cell_type": "markdown",
   "id": "7c230729",
   "metadata": {},
   "source": [
    "## 4. Feature engineering"
   ]
  },
  {
   "cell_type": "markdown",
   "id": "e62f48b6",
   "metadata": {},
   "source": [
    "## 4.1 Feature creation"
   ]
  },
  {
   "cell_type": "markdown",
   "id": "fc9e199e",
   "metadata": {},
   "source": [
    "Como vimos en el EDA que solo existen transacciones fraudulentas del tipo TRANSFER Y CASH_OUT, vamos a realizar nuestros modelos solo con las transacciones de estos tipos."
   ]
  },
  {
   "cell_type": "code",
   "execution_count": 5,
   "id": "7d9c1357",
   "metadata": {},
   "outputs": [],
   "source": [
    "filtro = (data['tipo'] == 'TRANSFER')| (data['tipo']  == 'CASH_OUT')"
   ]
  },
  {
   "cell_type": "code",
   "execution_count": 6,
   "id": "928c805c",
   "metadata": {},
   "outputs": [],
   "source": [
    "df =  data[filtro]"
   ]
  },
  {
   "cell_type": "code",
   "execution_count": 7,
   "id": "1dd2fe25",
   "metadata": {},
   "outputs": [
    {
     "data": {
      "text/plain": [
       "Index(['t_id', 'tipo', 'fecha_final', 'id_cliente_origen',\n",
       "       'balance_prev_origen', 'balance_post_origen', 'id_cliente_destino',\n",
       "       'balance_prev_destino', 'balance_post_destino', 'cuantia',\n",
       "       'mensaje_alarma', 'es_fraude'],\n",
       "      dtype='object')"
      ]
     },
     "execution_count": 7,
     "metadata": {},
     "output_type": "execute_result"
    }
   ],
   "source": [
    "df.columns"
   ]
  },
  {
   "cell_type": "markdown",
   "id": "4158ac9e",
   "metadata": {},
   "source": [
    "Como vimos en el EDA que la fecha no se vinculaba a los fraudes vamos a eliminar dicho atributo, tambien eliminaremos las columnas que son Identificadores unicos, tanto de clientes como de las transacciones."
   ]
  },
  {
   "cell_type": "code",
   "execution_count": 8,
   "id": "add8f1c6",
   "metadata": {},
   "outputs": [],
   "source": [
    "df_1=df.copy()"
   ]
  },
  {
   "cell_type": "code",
   "execution_count": 9,
   "id": "dbe5c819",
   "metadata": {},
   "outputs": [],
   "source": [
    "df_1 = df_1.drop(['id_cliente_origen','id_cliente_destino','fecha_final','t_id'], axis=1)"
   ]
  },
  {
   "cell_type": "markdown",
   "id": "9cfd0987",
   "metadata": {},
   "source": [
    "Creamos nuevos atributos para entrenar nuestros modelos y obtener mejores resultados"
   ]
  },
  {
   "cell_type": "code",
   "execution_count": 10,
   "id": "fb317a55",
   "metadata": {},
   "outputs": [],
   "source": [
    "df_1['diff_origen'] = abs(df_1['balance_post_origen']-df_1['balance_prev_origen'].astype(int))"
   ]
  },
  {
   "cell_type": "code",
   "execution_count": 11,
   "id": "47e82b97",
   "metadata": {},
   "outputs": [],
   "source": [
    "df_1['diff_destino'] = abs(df_1['balance_post_destino']-df_1['balance_prev_destino'].astype(int))"
   ]
  },
  {
   "cell_type": "code",
   "execution_count": 12,
   "id": "bb348cce",
   "metadata": {},
   "outputs": [
    {
     "data": {
      "text/html": [
       "<div>\n",
       "<style scoped>\n",
       "    .dataframe tbody tr th:only-of-type {\n",
       "        vertical-align: middle;\n",
       "    }\n",
       "\n",
       "    .dataframe tbody tr th {\n",
       "        vertical-align: top;\n",
       "    }\n",
       "\n",
       "    .dataframe thead th {\n",
       "        text-align: right;\n",
       "    }\n",
       "</style>\n",
       "<table border=\"1\" class=\"dataframe\">\n",
       "  <thead>\n",
       "    <tr style=\"text-align: right;\">\n",
       "      <th></th>\n",
       "      <th>tipo</th>\n",
       "      <th>balance_prev_origen</th>\n",
       "      <th>balance_post_origen</th>\n",
       "      <th>balance_prev_destino</th>\n",
       "      <th>balance_post_destino</th>\n",
       "      <th>cuantia</th>\n",
       "      <th>mensaje_alarma</th>\n",
       "      <th>es_fraude</th>\n",
       "      <th>diff_origen</th>\n",
       "      <th>diff_destino</th>\n",
       "    </tr>\n",
       "  </thead>\n",
       "  <tbody>\n",
       "    <tr>\n",
       "      <th>2</th>\n",
       "      <td>TRANSFER</td>\n",
       "      <td>181.00</td>\n",
       "      <td>0.0</td>\n",
       "      <td>0.0</td>\n",
       "      <td>0.00</td>\n",
       "      <td>181.00</td>\n",
       "      <td>False</td>\n",
       "      <td>True</td>\n",
       "      <td>181.0</td>\n",
       "      <td>0.00</td>\n",
       "    </tr>\n",
       "    <tr>\n",
       "      <th>3</th>\n",
       "      <td>CASH_OUT</td>\n",
       "      <td>181.00</td>\n",
       "      <td>0.0</td>\n",
       "      <td>21182.0</td>\n",
       "      <td>0.00</td>\n",
       "      <td>181.00</td>\n",
       "      <td>False</td>\n",
       "      <td>True</td>\n",
       "      <td>181.0</td>\n",
       "      <td>21182.00</td>\n",
       "    </tr>\n",
       "    <tr>\n",
       "      <th>15</th>\n",
       "      <td>CASH_OUT</td>\n",
       "      <td>15325.00</td>\n",
       "      <td>0.0</td>\n",
       "      <td>5083.0</td>\n",
       "      <td>51513.44</td>\n",
       "      <td>229133.94</td>\n",
       "      <td>False</td>\n",
       "      <td>False</td>\n",
       "      <td>15325.0</td>\n",
       "      <td>46430.44</td>\n",
       "    </tr>\n",
       "    <tr>\n",
       "      <th>19</th>\n",
       "      <td>TRANSFER</td>\n",
       "      <td>705.00</td>\n",
       "      <td>0.0</td>\n",
       "      <td>22425.0</td>\n",
       "      <td>0.00</td>\n",
       "      <td>215310.30</td>\n",
       "      <td>False</td>\n",
       "      <td>False</td>\n",
       "      <td>705.0</td>\n",
       "      <td>22425.00</td>\n",
       "    </tr>\n",
       "    <tr>\n",
       "      <th>24</th>\n",
       "      <td>TRANSFER</td>\n",
       "      <td>10835.00</td>\n",
       "      <td>0.0</td>\n",
       "      <td>6267.0</td>\n",
       "      <td>2719172.89</td>\n",
       "      <td>311685.89</td>\n",
       "      <td>False</td>\n",
       "      <td>False</td>\n",
       "      <td>10835.0</td>\n",
       "      <td>2712905.89</td>\n",
       "    </tr>\n",
       "    <tr>\n",
       "      <th>42</th>\n",
       "      <td>CASH_OUT</td>\n",
       "      <td>26845.41</td>\n",
       "      <td>0.0</td>\n",
       "      <td>288800.0</td>\n",
       "      <td>2415.16</td>\n",
       "      <td>110414.71</td>\n",
       "      <td>False</td>\n",
       "      <td>False</td>\n",
       "      <td>26845.0</td>\n",
       "      <td>286384.84</td>\n",
       "    </tr>\n",
       "    <tr>\n",
       "      <th>47</th>\n",
       "      <td>CASH_OUT</td>\n",
       "      <td>1942.02</td>\n",
       "      <td>0.0</td>\n",
       "      <td>70253.0</td>\n",
       "      <td>64106.18</td>\n",
       "      <td>56953.90</td>\n",
       "      <td>False</td>\n",
       "      <td>False</td>\n",
       "      <td>1942.0</td>\n",
       "      <td>6146.82</td>\n",
       "    </tr>\n",
       "    <tr>\n",
       "      <th>48</th>\n",
       "      <td>CASH_OUT</td>\n",
       "      <td>0.00</td>\n",
       "      <td>0.0</td>\n",
       "      <td>652637.0</td>\n",
       "      <td>6453430.91</td>\n",
       "      <td>5346.89</td>\n",
       "      <td>False</td>\n",
       "      <td>False</td>\n",
       "      <td>0.0</td>\n",
       "      <td>5800793.91</td>\n",
       "    </tr>\n",
       "    <tr>\n",
       "      <th>51</th>\n",
       "      <td>CASH_OUT</td>\n",
       "      <td>20411.53</td>\n",
       "      <td>0.0</td>\n",
       "      <td>25742.0</td>\n",
       "      <td>0.00</td>\n",
       "      <td>23261.30</td>\n",
       "      <td>False</td>\n",
       "      <td>False</td>\n",
       "      <td>20411.0</td>\n",
       "      <td>25742.00</td>\n",
       "    </tr>\n",
       "    <tr>\n",
       "      <th>58</th>\n",
       "      <td>TRANSFER</td>\n",
       "      <td>79114.00</td>\n",
       "      <td>16503.2</td>\n",
       "      <td>517.0</td>\n",
       "      <td>8383.29</td>\n",
       "      <td>62610.80</td>\n",
       "      <td>False</td>\n",
       "      <td>False</td>\n",
       "      <td>62610.8</td>\n",
       "      <td>7866.29</td>\n",
       "    </tr>\n",
       "  </tbody>\n",
       "</table>\n",
       "</div>"
      ],
      "text/plain": [
       "        tipo  balance_prev_origen  balance_post_origen  balance_prev_destino  \\\n",
       "2   TRANSFER               181.00                  0.0                   0.0   \n",
       "3   CASH_OUT               181.00                  0.0               21182.0   \n",
       "15  CASH_OUT             15325.00                  0.0                5083.0   \n",
       "19  TRANSFER               705.00                  0.0               22425.0   \n",
       "24  TRANSFER             10835.00                  0.0                6267.0   \n",
       "42  CASH_OUT             26845.41                  0.0              288800.0   \n",
       "47  CASH_OUT              1942.02                  0.0               70253.0   \n",
       "48  CASH_OUT                 0.00                  0.0              652637.0   \n",
       "51  CASH_OUT             20411.53                  0.0               25742.0   \n",
       "58  TRANSFER             79114.00              16503.2                 517.0   \n",
       "\n",
       "    balance_post_destino    cuantia  mensaje_alarma  es_fraude  diff_origen  \\\n",
       "2                   0.00     181.00           False       True        181.0   \n",
       "3                   0.00     181.00           False       True        181.0   \n",
       "15              51513.44  229133.94           False      False      15325.0   \n",
       "19                  0.00  215310.30           False      False        705.0   \n",
       "24            2719172.89  311685.89           False      False      10835.0   \n",
       "42               2415.16  110414.71           False      False      26845.0   \n",
       "47              64106.18   56953.90           False      False       1942.0   \n",
       "48            6453430.91    5346.89           False      False          0.0   \n",
       "51                  0.00   23261.30           False      False      20411.0   \n",
       "58               8383.29   62610.80           False      False      62610.8   \n",
       "\n",
       "    diff_destino  \n",
       "2           0.00  \n",
       "3       21182.00  \n",
       "15      46430.44  \n",
       "19      22425.00  \n",
       "24    2712905.89  \n",
       "42     286384.84  \n",
       "47       6146.82  \n",
       "48    5800793.91  \n",
       "51      25742.00  \n",
       "58       7866.29  "
      ]
     },
     "execution_count": 12,
     "metadata": {},
     "output_type": "execute_result"
    }
   ],
   "source": [
    "df_1.head(10)"
   ]
  },
  {
   "cell_type": "code",
   "execution_count": 13,
   "id": "6f02a8c5",
   "metadata": {},
   "outputs": [
    {
     "data": {
      "text/plain": [
       "Index(['tipo', 'balance_prev_origen', 'balance_post_origen',\n",
       "       'balance_prev_destino', 'balance_post_destino', 'cuantia',\n",
       "       'mensaje_alarma', 'es_fraude', 'diff_origen', 'diff_destino'],\n",
       "      dtype='object')"
      ]
     },
     "execution_count": 13,
     "metadata": {},
     "output_type": "execute_result"
    }
   ],
   "source": [
    "df_1.columns"
   ]
  },
  {
   "cell_type": "code",
   "execution_count": 14,
   "id": "f79f1d9e",
   "metadata": {},
   "outputs": [],
   "source": [
    "df['es_fraude'] = df['es_fraude'].astype(int)"
   ]
  },
  {
   "cell_type": "code",
   "execution_count": 15,
   "id": "152af1df",
   "metadata": {},
   "outputs": [],
   "source": [
    "df['mensaje_alarma'] = df['mensaje_alarma'].astype(int)"
   ]
  },
  {
   "cell_type": "markdown",
   "id": "4f1cf2c5",
   "metadata": {},
   "source": [
    "## 4.2 Feature transformation - Transformaciones categóricas"
   ]
  },
  {
   "cell_type": "code",
   "execution_count": 16,
   "id": "030d9056",
   "metadata": {},
   "outputs": [],
   "source": [
    "df2 = pd.get_dummies(df_1)"
   ]
  },
  {
   "cell_type": "code",
   "execution_count": 17,
   "id": "c3bbc595",
   "metadata": {},
   "outputs": [
    {
     "data": {
      "text/html": [
       "<div>\n",
       "<style scoped>\n",
       "    .dataframe tbody tr th:only-of-type {\n",
       "        vertical-align: middle;\n",
       "    }\n",
       "\n",
       "    .dataframe tbody tr th {\n",
       "        vertical-align: top;\n",
       "    }\n",
       "\n",
       "    .dataframe thead th {\n",
       "        text-align: right;\n",
       "    }\n",
       "</style>\n",
       "<table border=\"1\" class=\"dataframe\">\n",
       "  <thead>\n",
       "    <tr style=\"text-align: right;\">\n",
       "      <th></th>\n",
       "      <th>balance_prev_origen</th>\n",
       "      <th>balance_post_origen</th>\n",
       "      <th>balance_prev_destino</th>\n",
       "      <th>balance_post_destino</th>\n",
       "      <th>cuantia</th>\n",
       "      <th>mensaje_alarma</th>\n",
       "      <th>es_fraude</th>\n",
       "      <th>diff_origen</th>\n",
       "      <th>diff_destino</th>\n",
       "      <th>tipo_CASH_OUT</th>\n",
       "      <th>tipo_TRANSFER</th>\n",
       "    </tr>\n",
       "  </thead>\n",
       "  <tbody>\n",
       "    <tr>\n",
       "      <th>2</th>\n",
       "      <td>181.0</td>\n",
       "      <td>0.0</td>\n",
       "      <td>0.0</td>\n",
       "      <td>0.0</td>\n",
       "      <td>181.0</td>\n",
       "      <td>False</td>\n",
       "      <td>True</td>\n",
       "      <td>181.0</td>\n",
       "      <td>0.0</td>\n",
       "      <td>0</td>\n",
       "      <td>1</td>\n",
       "    </tr>\n",
       "    <tr>\n",
       "      <th>3</th>\n",
       "      <td>181.0</td>\n",
       "      <td>0.0</td>\n",
       "      <td>21182.0</td>\n",
       "      <td>0.0</td>\n",
       "      <td>181.0</td>\n",
       "      <td>False</td>\n",
       "      <td>True</td>\n",
       "      <td>181.0</td>\n",
       "      <td>21182.0</td>\n",
       "      <td>1</td>\n",
       "      <td>0</td>\n",
       "    </tr>\n",
       "  </tbody>\n",
       "</table>\n",
       "</div>"
      ],
      "text/plain": [
       "   balance_prev_origen  balance_post_origen  balance_prev_destino  \\\n",
       "2                181.0                  0.0                   0.0   \n",
       "3                181.0                  0.0               21182.0   \n",
       "\n",
       "   balance_post_destino  cuantia  mensaje_alarma  es_fraude  diff_origen  \\\n",
       "2                   0.0    181.0           False       True        181.0   \n",
       "3                   0.0    181.0           False       True        181.0   \n",
       "\n",
       "   diff_destino  tipo_CASH_OUT  tipo_TRANSFER  \n",
       "2           0.0              0              1  \n",
       "3       21182.0              1              0  "
      ]
     },
     "execution_count": 17,
     "metadata": {},
     "output_type": "execute_result"
    }
   ],
   "source": [
    "df2.head(2)"
   ]
  },
  {
   "cell_type": "code",
   "execution_count": 18,
   "id": "87de0df7",
   "metadata": {},
   "outputs": [
    {
     "data": {
      "text/plain": [
       "Index(['balance_prev_origen', 'balance_post_origen', 'balance_prev_destino',\n",
       "       'balance_post_destino', 'cuantia', 'mensaje_alarma', 'es_fraude',\n",
       "       'diff_origen', 'diff_destino', 'tipo_CASH_OUT', 'tipo_TRANSFER'],\n",
       "      dtype='object')"
      ]
     },
     "execution_count": 18,
     "metadata": {},
     "output_type": "execute_result"
    }
   ],
   "source": [
    "df2.columns"
   ]
  },
  {
   "cell_type": "code",
   "execution_count": 19,
   "id": "b102c037",
   "metadata": {},
   "outputs": [
    {
     "data": {
      "text/plain": [
       "(2770360, 11)"
      ]
     },
     "execution_count": 19,
     "metadata": {},
     "output_type": "execute_result"
    }
   ],
   "source": [
    "df2.shape"
   ]
  },
  {
   "cell_type": "markdown",
   "id": "bffa8f2d",
   "metadata": {},
   "source": [
    "Separo variables de target "
   ]
  },
  {
   "cell_type": "code",
   "execution_count": 20,
   "id": "3112d888",
   "metadata": {},
   "outputs": [],
   "source": [
    "X = df2.drop('es_fraude', 1)      "
   ]
  },
  {
   "cell_type": "code",
   "execution_count": 21,
   "id": "5d3e5650",
   "metadata": {},
   "outputs": [],
   "source": [
    "y = df2['es_fraude']   "
   ]
  },
  {
   "cell_type": "markdown",
   "id": "4770bdf2",
   "metadata": {},
   "source": [
    "## 4.3 Feature Selection"
   ]
  },
  {
   "cell_type": "markdown",
   "id": "cb194e33",
   "metadata": {},
   "source": [
    "Selección de características basada en impurezas/importancia de características"
   ]
  },
  {
   "cell_type": "code",
   "execution_count": 41,
   "id": "a98c23a6",
   "metadata": {},
   "outputs": [
    {
     "data": {
      "text/plain": [
       "RandomForestClassifier(n_estimators=200, random_state=0)"
      ]
     },
     "execution_count": 41,
     "metadata": {},
     "output_type": "execute_result"
    }
   ],
   "source": [
    "model = RandomForestClassifier(n_estimators=200, random_state=0)\n",
    "model.fit(X,y)"
   ]
  },
  {
   "cell_type": "code",
   "execution_count": 42,
   "id": "110c7503",
   "metadata": {},
   "outputs": [
    {
     "data": {
      "text/plain": [
       "<AxesSubplot:>"
      ]
     },
     "execution_count": 42,
     "metadata": {},
     "output_type": "execute_result"
    },
    {
     "data": {
      "image/png": "[encoded data removed]",
      "text/plain": [
       "<Figure size 400x1000 with 1 Axes>"
      ]
     },
     "metadata": {},
     "output_type": "display_data"
    }
   ],
   "source": [
    "importances = model.feature_importances_\n",
    "\n",
    "# visualizacion\n",
    "cols = X.columns\n",
    "(pd.DataFrame(importances, cols, columns = ['importance'])\n",
    " .sort_values(by='importance', ascending=True)\n",
    " .plot(kind='barh', figsize=(4,10)))"
   ]
  },
  {
   "cell_type": "markdown",
   "id": "75a6806d",
   "metadata": {},
   "source": [
    "Variables seleccionadas para el modelo:\n",
    "\n",
    "'diff_origen'\n",
    "\n",
    "'diff_destino'\n",
    "\n",
    "'balance_prev_origen'\n",
    "\n",
    "'balance_post_destino'\n",
    "\n",
    "'cuantia'\n",
    "\n",
    "'tipo_CASH_OUT'\n",
    "\n",
    "'tipo_TRANSFER'"
   ]
  },
  {
   "cell_type": "markdown",
   "id": "0e63da2b",
   "metadata": {},
   "source": [
    "## 5. Data Splitting"
   ]
  },
  {
   "cell_type": "code",
   "execution_count": 22,
   "id": "3c01abd3",
   "metadata": {},
   "outputs": [],
   "source": [
    "# Eliminamos la variables que no se usaran para el modelo \n",
    "df3 = df2.drop(['balance_post_origen','balance_prev_destino','mensaje_alarma' ], axis=1)"
   ]
  },
  {
   "cell_type": "code",
   "execution_count": 23,
   "id": "6801bba2",
   "metadata": {},
   "outputs": [],
   "source": [
    "X1 = df3.drop('es_fraude', 1)    "
   ]
  },
  {
   "cell_type": "code",
   "execution_count": 24,
   "id": "358e5c8f",
   "metadata": {},
   "outputs": [
    {
     "data": {
      "text/plain": [
       "(2770360, 7)"
      ]
     },
     "execution_count": 24,
     "metadata": {},
     "output_type": "execute_result"
    }
   ],
   "source": [
    "X1.shape"
   ]
  },
  {
   "cell_type": "code",
   "execution_count": 25,
   "id": "e36b3a51",
   "metadata": {},
   "outputs": [],
   "source": [
    "y1 = df['es_fraude']   "
   ]
  },
  {
   "cell_type": "code",
   "execution_count": 26,
   "id": "9133d50d",
   "metadata": {},
   "outputs": [
    {
     "data": {
      "text/plain": [
       "(2770360,)"
      ]
     },
     "execution_count": 26,
     "metadata": {},
     "output_type": "execute_result"
    }
   ],
   "source": [
    "y1.shape"
   ]
  },
  {
   "cell_type": "markdown",
   "id": "136ea52a",
   "metadata": {},
   "source": [
    "## 6. Lidiando con el desequilibrio"
   ]
  },
  {
   "cell_type": "markdown",
   "id": "3d9765e5",
   "metadata": {},
   "source": [
    "El conjunto de datos está desequilibrado, necesitamos equilibrarlo para obtener un mejor modelo.\n",
    "Un primer enfoque para tratar con datos desequilibrados es equilibrarlos descartando la clase mayoritaria antes de aplicar un algoritmo de ML.Otro enfoque podría ser sobremuestrear la clase minoritaria, por ejemplo, mediante la técnica de sobremuestreo SMOTE contenida en la biblioteca 'imblearn'. \n",
    "La tecnica de submuestreo aleatorio (RandomUnderSampler) elimina aleatoriamente muestras de la  clase mayoritaria, con o sin reemplazo, como desventaja puede aumentar la varianza del clasificador y puede descartar potencialmente muestras utiles o importantes. Por otro lado, la ventaja que ofrece es que al reducir el tamaño del conjunto de datos, el tiempo de computacion y el uso de memoria tambien disminuyen al trabajar con la nueva muestra. La tecnica de sobremuestreo añade muestras a la clase minoritaria con el fin de equilibrar la diferencia entre clases. La tecnica SMOTE (Synthetic Minority Over-sampling Technique) crea puntos sinteticos (muestras) de la clase minoritaria para alcanzar un equilibrio equitativo entre la clase minoritaria y la mayoritaria. \n",
    "Para este proyecto academico en particular, dado el tamaño del dataset(6 millones de registros) optamos por utilizar la tecnica RandomUnderSampler con el objetivo de disminuir el tiempo y el uso de memoria al ejecutar los algoritmos de ML en nuestro ordenador. "
   ]
  },
  {
   "cell_type": "code",
   "execution_count": 27,
   "id": "c3518c29",
   "metadata": {},
   "outputs": [
    {
     "data": {
      "text/plain": [
       "0    2762151\n",
       "1       8209\n",
       "Name: es_fraude, dtype: int64"
      ]
     },
     "execution_count": 27,
     "metadata": {},
     "output_type": "execute_result"
    }
   ],
   "source": [
    "y1.value_counts()"
   ]
  },
  {
   "cell_type": "code",
   "execution_count": 28,
   "id": "8d97f0db",
   "metadata": {},
   "outputs": [],
   "source": [
    "sm = RandomUnderSampler(random_state=42)\n",
    "X_under, y_under = sm.fit_resample(X1, y1)\n",
    "\n"
   ]
  },
  {
   "cell_type": "code",
   "execution_count": 29,
   "id": "1c008804",
   "metadata": {},
   "outputs": [
    {
     "name": "stdout",
     "output_type": "stream",
     "text": [
      "(16418, 7)\n",
      "(16418,)\n"
     ]
    }
   ],
   "source": [
    "print(X_under.shape)\n",
    "print(y_under.shape)"
   ]
  },
  {
   "cell_type": "code",
   "execution_count": 30,
   "id": "5e94ed70",
   "metadata": {},
   "outputs": [
    {
     "data": {
      "text/plain": [
       "<AxesSubplot:title={'center':'Distribución de etiquetas después del submuestreo'}>"
      ]
     },
     "execution_count": 30,
     "metadata": {},
     "output_type": "execute_result"
    },
    {
     "data": {
      "image/png": "[encoded data removed]",
      "text/plain": [
       "<Figure size 640x480 with 1 Axes>"
      ]
     },
     "metadata": {},
     "output_type": "display_data"
    }
   ],
   "source": [
    "#Pintamos la nueva distribución \n",
    "y_under.value_counts().plot(kind='bar', title='Distribución de etiquetas después del submuestreo')"
   ]
  },
  {
   "cell_type": "markdown",
   "id": "e905ad4d",
   "metadata": {},
   "source": [
    "## 7. División de conjuntos de datos en train y test"
   ]
  },
  {
   "cell_type": "code",
   "execution_count": 31,
   "id": "667f21e8",
   "metadata": {},
   "outputs": [],
   "source": [
    "X_train , X_test , y_train , y_test = train_test_split(X_under,y_under, test_size=0.2 , random_state=42)"
   ]
  },
  {
   "cell_type": "code",
   "execution_count": 32,
   "id": "c34991b9",
   "metadata": {},
   "outputs": [
    {
     "name": "stdout",
     "output_type": "stream",
     "text": [
      "Ejemplos usados para entrenar:  13134\n",
      "Ejemplos usados para test:  3284\n"
     ]
    }
   ],
   "source": [
    "print(\"Ejemplos usados para entrenar: \", len(X_train))\n",
    "print(\"Ejemplos usados para test: \", len(X_test))"
   ]
  },
  {
   "cell_type": "markdown",
   "id": "ca8edd60",
   "metadata": {},
   "source": [
    "## 8. Data Scalling"
   ]
  },
  {
   "cell_type": "markdown",
   "id": "232aa1d4",
   "metadata": {},
   "source": [
    "Recopilamos todas las características numéricas y aplicamos la función StandardScaler() que transforma la distribución para que la media se convierta en 0 y la desviación estándar se convierta en 1"
   ]
  },
  {
   "cell_type": "code",
   "execution_count": 35,
   "id": "b351fec7",
   "metadata": {},
   "outputs": [],
   "source": [
    "#Estandarizamos las columnas numericas \n",
    "col_names=['balance_prev_origen', 'balance_post_destino', 'cuantia', 'diff_origen',\n",
    "       'diff_destino']\n",
    "features_train = X_train[col_names]\n",
    "features_test = X_test[col_names]\n",
    "scaler = StandardScaler().fit(features_train.values)\n",
    "features_train = scaler.transform(features_train.values)\n",
    "features_test = scaler.transform(features_test.values)\n",
    "X_train[col_names] = features_train\n",
    "X_test[col_names] = features_test"
   ]
  },
  {
   "cell_type": "markdown",
   "id": "07395345",
   "metadata": {},
   "source": [
    "## 9. Model Building"
   ]
  },
  {
   "cell_type": "markdown",
   "id": "f312d334",
   "metadata": {},
   "source": [
    "Se aplicaran:\n",
    "    \n",
    "     1)Un algoritmo de clasificacion, se medira la recall de los algoritmos: KNN, regresion logistica, Naive Bayes y SVC y se entrenara aquel con el cual se obtenga la recall mas alta. \n",
    "     2)Dos algoritmos de tipo ensemble, Random forest y XGBoost\n",
    "     3)Un algoritmo de Deep Learnig \n",
    "     \n",
    "\n",
    "Al final del documento se uniran las metricas de las propuestas para evaluar los resultados y obtener conclusiones."
   ]
  },
  {
   "cell_type": "markdown",
   "id": "c14341a5",
   "metadata": {},
   "source": [
    "Para este caso en particular las «falsas alarmas» (falsos positivos) no nos preocupan, y lo que queremos evitar son los falsos negativos, por lo tanto, nos interesa una mayor sensibilidad o recall. (VP / + FN VP).\n",
    "Tambien nos interesa la tasa de falsos negativos, llamada también tasa de error, es la probabilidad de que la prueba pase por alto un verdadero positivo. Se calcula como FN / FN + VP, donde FN es el número de falsos negativos y VP es el número de verdaderos positivos. "
   ]
  },
  {
   "cell_type": "markdown",
   "id": "24087a0b",
   "metadata": {},
   "source": [
    "## 9.1 Buscando el algoritmo con mejor Recall "
   ]
  },
  {
   "cell_type": "code",
   "execution_count": 36,
   "id": "3bdb2c0a",
   "metadata": {},
   "outputs": [
    {
     "name": "stdout",
     "output_type": "stream",
     "text": [
      "Logistic Regression Recall: 0.8577061755206593\n",
      "KNN Recall: 0.9640443442105655\n",
      "SVC Recall: 0.8683701785647994\n",
      "Naive Bayes Recall: 0.6329943479229312\n"
     ]
    }
   ],
   "source": [
    "logreg_cv = LogisticRegression(random_state=123)\n",
    "knn_cv=KNeighborsClassifier()\n",
    "svc_cv=SVC(kernel='linear',random_state=123)\n",
    "nb_cv=GaussianNB()\n",
    "cv_dict = {0: 'Logistic Regression', 1:'KNN',2:'SVC',3:'Naive Bayes'}\n",
    "cv_models=[logreg_cv,knn_cv,svc_cv,nb_cv]\n",
    "\n",
    "\n",
    "for i,model in enumerate(cv_models):\n",
    "    print(\"{} Recall: {}\".format(cv_dict[i],cross_val_score(model, X_train, y_train, cv=10, scoring ='recall').mean()))"
   ]
  },
  {
   "cell_type": "markdown",
   "id": "38719fd6",
   "metadata": {},
   "source": [
    "## 9.2 KNN"
   ]
  },
  {
   "cell_type": "code",
   "execution_count": 37,
   "id": "71de7dac",
   "metadata": {},
   "outputs": [],
   "source": [
    "# Definir el modelo de clasificación\n",
    "neigh = KNeighborsClassifier(5)\n",
    "\n",
    "# Entrenarlo\n",
    "neigh.fit(X_train, y_train)\n",
    "\n",
    "# Obtener las predicciones para el conjunto de datos de testeo\n",
    "y_est = neigh.predict(X_test) "
   ]
  },
  {
   "cell_type": "code",
   "execution_count": 38,
   "id": "464ad8d9",
   "metadata": {},
   "outputs": [
    {
     "name": "stdout",
     "output_type": "stream",
     "text": [
      "MSE : 0.04110840438489647\n",
      "Accuracy: 0.9588915956151035\n",
      "recall: 0.9683890577507599\n",
      "precision: 0.9504773269689738\n"
     ]
    }
   ],
   "source": [
    "# Obtener las metricas\n",
    "MSE_tst = mean_squared_error(y_test, y_est)\n",
    "accuracy = accuracy_score(y_test,y_est)\n",
    "recall = recall_score(y_test, y_est)\n",
    "precision= precision_score(y_test, y_est)\n",
    "\n",
    "# Imprimimos las metricas\n",
    "print('MSE : ' + str(MSE_tst))\n",
    "print('Accuracy: ' + str(accuracy))\n",
    "print('recall: ' + str(recall))  \n",
    "print('precision: ' + str(precision))"
   ]
  },
  {
   "cell_type": "code",
   "execution_count": 39,
   "id": "e2869562",
   "metadata": {},
   "outputs": [
    {
     "name": "stdout",
     "output_type": "stream",
     "text": [
      "Matriz de confusion KNN\n"
     ]
    },
    {
     "data": {
      "image/png": "[encoded data removed]",
      "text/plain": [
       "<Figure size 640x480 with 2 Axes>"
      ]
     },
     "metadata": {},
     "output_type": "display_data"
    }
   ],
   "source": [
    "print('Matriz de confusion KNN')\n",
    "\n",
    "cm1 = confusion_matrix(y_test,y_est)\n",
    "plot_confusion_matrix(conf_mat=cm1,show_absolute=True,\n",
    "                                show_normed=True,\n",
    "                                colorbar=True)\n",
    "plt.show()"
   ]
  },
  {
   "cell_type": "markdown",
   "id": "2cbaaafe",
   "metadata": {},
   "source": [
    "- 95% de los casos, predijo que no era fraude y era cierto.  (Verdadero Negativo)\n",
    "- 3% de los casos predijo que no era fraude y era. (Falsos Negativos)\n",
    "- 5% de los casos predijo que era fraude y no era.(Falso positivo)\n",
    "- 97% de los casos que son fraude fueron predichos como fraude. (Verdaderos Positivos)"
   ]
  },
  {
   "cell_type": "markdown",
   "id": "46b5ba8e",
   "metadata": {},
   "source": [
    "## 9.2.1 ¿Cuál es el número óptimo de vecinos?\n",
    "Apliquemos mejor validación cruzada con GridSearchCV para obtener el valor óptimo"
   ]
  },
  {
   "cell_type": "code",
   "execution_count": 40,
   "id": "90a9133a",
   "metadata": {},
   "outputs": [
    {
     "name": "stdout",
     "output_type": "stream",
     "text": [
      "Selected value of k: 3\n"
     ]
    }
   ],
   "source": [
    "k_max =20\n",
    "rang_K = np.arange(1, k_max+1)\n",
    "tuned_parameters = [{'n_neighbors': rang_K}]\n",
    "nfold = 5\n",
    "\n",
    "# Definir el modelo de clasificacion KNN con validación cruzada y entrenarlo\n",
    "# Configurar CV para que devuelva las puntuaciones de entrenamiento\n",
    "neigh_CV = GridSearchCV(KNeighborsClassifier(), \n",
    "                        tuned_parameters, \n",
    "                        cv=nfold, \n",
    "                        return_train_score=True).fit(X_train, y_train)\n",
    "\n",
    "# Obtener las predicciones para el conjunto de datos de testeo\n",
    "y_est1 = neigh_CV.predict(X_test) \n",
    "\n",
    "\n",
    "#Obtener el mejor parametro \n",
    "K_CV = neigh_CV.best_params_['n_neighbors']\n",
    "\n",
    "print('Selected value of k: ' + str(K_CV))"
   ]
  },
  {
   "cell_type": "code",
   "execution_count": 41,
   "id": "7f6db86f",
   "metadata": {},
   "outputs": [
    {
     "name": "stdout",
     "output_type": "stream",
     "text": [
      "MSE: 0.04080389768574909\n",
      "Accuracy: 0.9591961023142509\n",
      "recall: 0.9702127659574468\n",
      "precision: 0.9494348602022605\n"
     ]
    }
   ],
   "source": [
    "# Obtener las metricas\n",
    "MSE_tst_knn = mean_squared_error(y_test, y_est1)\n",
    "accuracy_knn = accuracy_score(y_test,y_est1)\n",
    "recall_knn = recall_score(y_test, y_est1)\n",
    "precision_knn= precision_score(y_test, y_est1)\n",
    "\n",
    "# Imprimimos las metricas\n",
    "print('MSE: ' + str(MSE_tst_knn))\n",
    "print('Accuracy: ' + str(accuracy_knn))\n",
    "print('recall: ' + str(recall_knn))  \n",
    "print('precision: ' + str(precision_knn))"
   ]
  },
  {
   "cell_type": "code",
   "execution_count": 42,
   "id": "10e3e90f",
   "metadata": {},
   "outputs": [
    {
     "name": "stdout",
     "output_type": "stream",
     "text": [
      "Matriz de confusion KNN - número óptimo de vecinos\n"
     ]
    },
    {
     "data": {
      "image/png": "[encoded data removed]",
      "text/plain": [
       "<Figure size 640x480 with 2 Axes>"
      ]
     },
     "metadata": {},
     "output_type": "display_data"
    }
   ],
   "source": [
    "print('Matriz de confusion KNN - número óptimo de vecinos')\n",
    "\n",
    "cm1 = confusion_matrix(y_test,y_est1)\n",
    "plot_confusion_matrix(conf_mat=cm1,show_absolute=True,\n",
    "                                show_normed=True,\n",
    "                                colorbar=True)\n",
    "plt.show()"
   ]
  },
  {
   "cell_type": "markdown",
   "id": "385c3fad",
   "metadata": {},
   "source": [
    "- 95% de los casos, predijo que no era fraude y era cierto. (Verdadero Negativo)\n",
    "- 3% de los casos predijo que no era fraude y era. (Falsos Negativos)\n",
    "- 5% de los casos predijo que era fraude y no era.(Falso positivo)\n",
    "- 97% de los casos que son fraude fueron predichos como fraude. (Verdaderos Positivos)"
   ]
  },
  {
   "cell_type": "code",
   "execution_count": 46,
   "id": "86333fc4",
   "metadata": {},
   "outputs": [],
   "source": [
    "def plot_roc_curve(fpr, tpr, roc_auc):\n",
    "    figsize=(6, 4)\n",
    "    plt.plot(fpr, tpr, color='orange', label='ROC curve of class (area = %0.2f)' % roc_auc)\n",
    "    plt.plot([0, 1], [0, 1], color='darkblue', linestyle='--', label='Base estimator')\n",
    "    plt.xlabel('Tasa de falsos positivos')\n",
    "    plt.ylabel('Tasa de verdaderos positivos')\n",
    "    plt.title('Curva de Roc')\n",
    "    plt.legend()\n",
    "    plt.show()"
   ]
  },
  {
   "cell_type": "code",
   "execution_count": 47,
   "id": "01ec82ca",
   "metadata": {
    "scrolled": true
   },
   "outputs": [
    {
     "name": "stdout",
     "output_type": "stream",
     "text": [
      "AUC:  0.9783545456399947\n"
     ]
    },
    {
     "data": {
      "image/png": "[encoded data removed]",
      "text/plain": [
       "<Figure size 640x480 with 1 Axes>"
      ]
     },
     "metadata": {},
     "output_type": "display_data"
    }
   ],
   "source": [
    "fpr, tpr, thresholds = roc_curve(y_test, neigh_CV.predict_proba(X_test)[:, 1])\n",
    "roc_auc = auc(fpr, tpr)\n",
    "\n",
    "print(\"AUC: \", roc_auc)\n",
    "plot_roc_curve(fpr, tpr, roc_auc)"
   ]
  },
  {
   "cell_type": "markdown",
   "id": "fe654e2a",
   "metadata": {},
   "source": [
    "La curva ROC compara la Tasa de Verdaderos Positivos y la Tasa de Falsos Positivos, esta se usa para medir el rendimiento (o\n",
    "la efectividad, en su mas amplio sentido) del clasificador a traves de distintos metodos, en este caso se emplea el  AUC - ROC (area bajo la curva ROC).\n",
    "El ROC es una curva de probabilidad y el AUC representa el grado de separabilidad, este indica en que medida el modelo es capaz de distinguir entre clases. Respecto a la generacion de la curva, cuanto mas alto sea el AUC mejor sera el modelo a la hora de predecir no fraudes (0s) como no fraudes (0s) y fraudes (1s) como fraudes (1s).\n",
    "Cuanto más abraza la curva la esquina superior izquierda del gráfico, mejor lo hace el modelo para clasificar los datos en categorías. Cuanto más cerca esté el AUC de 1, mejor será el modelo. Un modelo con un AUC igual a 0.5 no es mejor que un modelo que hace clasificaciones aleatorias.\n",
    "En nuestro caso la AUC es del 97% por lo que podemos decir que performa de buena manera al distinguir entre las clases. "
   ]
  },
  {
   "cell_type": "code",
   "execution_count": 48,
   "id": "304b79e0",
   "metadata": {},
   "outputs": [
    {
     "data": {
      "text/plain": [
       "['knn.joblib']"
      ]
     },
     "execution_count": 48,
     "metadata": {},
     "output_type": "execute_result"
    }
   ],
   "source": [
    "dump(neigh_CV, 'knn.joblib') "
   ]
  },
  {
   "cell_type": "markdown",
   "id": "11ec4bc8",
   "metadata": {},
   "source": [
    "## 9.3 Random Forest"
   ]
  },
  {
   "cell_type": "code",
   "execution_count": 49,
   "id": "dcd86c45",
   "metadata": {},
   "outputs": [
    {
     "name": "stdout",
     "output_type": "stream",
     "text": [
      "Best: 0.912710 using {'ccp_alpha': 0.01, 'criterion': 'gini', 'max_depth': 4, 'max_features': 'sqrt'}\n"
     ]
    }
   ],
   "source": [
    "# Aplico tuning de hyperparametros del modelo\n",
    "rfc = RandomForestClassifier(n_estimators = 200, n_jobs  = -1, random_state = 123)\n",
    "\n",
    "# Defino grid search\n",
    "param_grid = { \n",
    "    'max_features': [ 'sqrt', 'log2'], \n",
    "    'max_depth' : [3,4], # Número máximo de niveles por Arbol.\n",
    "    'criterion' :['gini', 'entropy'],\n",
    "    'ccp_alpha': [0, 0.01]\n",
    "}\n",
    "\n",
    "cv = RepeatedStratifiedKFold(n_splits=10, n_repeats=3, random_state=1)\n",
    "grid = GridSearchCV(\n",
    "        estimator  = rfc,\n",
    "        param_grid = param_grid,\n",
    "        scoring    = 'recall', \n",
    "        cv         = cv, \n",
    "        return_train_score = True\n",
    "       )\n",
    "\n",
    "grid_result = grid.fit(X_train, y_train)\n",
    "# Sumarizo resultados\n",
    "print(\"Best: %f using %s\" % (grid_result.best_score_, grid_result.best_params_))"
   ]
  },
  {
   "cell_type": "code",
   "execution_count": 50,
   "id": "0f70f49a",
   "metadata": {},
   "outputs": [
    {
     "data": {
      "text/html": [
       "<div>\n",
       "<style scoped>\n",
       "    .dataframe tbody tr th:only-of-type {\n",
       "        vertical-align: middle;\n",
       "    }\n",
       "\n",
       "    .dataframe tbody tr th {\n",
       "        vertical-align: top;\n",
       "    }\n",
       "\n",
       "    .dataframe thead th {\n",
       "        text-align: right;\n",
       "    }\n",
       "</style>\n",
       "<table border=\"1\" class=\"dataframe\">\n",
       "  <thead>\n",
       "    <tr style=\"text-align: right;\">\n",
       "      <th></th>\n",
       "      <th>param_ccp_alpha</th>\n",
       "      <th>param_criterion</th>\n",
       "      <th>param_max_depth</th>\n",
       "      <th>param_max_features</th>\n",
       "      <th>mean_test_score</th>\n",
       "      <th>std_test_score</th>\n",
       "      <th>mean_train_score</th>\n",
       "      <th>std_train_score</th>\n",
       "    </tr>\n",
       "  </thead>\n",
       "  <tbody>\n",
       "    <tr>\n",
       "      <th>10</th>\n",
       "      <td>0.01</td>\n",
       "      <td>gini</td>\n",
       "      <td>4</td>\n",
       "      <td>sqrt</td>\n",
       "      <td>0.912710</td>\n",
       "      <td>0.012897</td>\n",
       "      <td>0.915279</td>\n",
       "      <td>0.007126</td>\n",
       "    </tr>\n",
       "    <tr>\n",
       "      <th>11</th>\n",
       "      <td>0.01</td>\n",
       "      <td>gini</td>\n",
       "      <td>4</td>\n",
       "      <td>log2</td>\n",
       "      <td>0.912710</td>\n",
       "      <td>0.012897</td>\n",
       "      <td>0.915279</td>\n",
       "      <td>0.007126</td>\n",
       "    </tr>\n",
       "    <tr>\n",
       "      <th>2</th>\n",
       "      <td>0</td>\n",
       "      <td>gini</td>\n",
       "      <td>4</td>\n",
       "      <td>sqrt</td>\n",
       "      <td>0.912202</td>\n",
       "      <td>0.013148</td>\n",
       "      <td>0.916074</td>\n",
       "      <td>0.007925</td>\n",
       "    </tr>\n",
       "    <tr>\n",
       "      <th>3</th>\n",
       "      <td>0</td>\n",
       "      <td>gini</td>\n",
       "      <td>4</td>\n",
       "      <td>log2</td>\n",
       "      <td>0.912202</td>\n",
       "      <td>0.013148</td>\n",
       "      <td>0.916074</td>\n",
       "      <td>0.007925</td>\n",
       "    </tr>\n",
       "    <tr>\n",
       "      <th>14</th>\n",
       "      <td>0.01</td>\n",
       "      <td>entropy</td>\n",
       "      <td>4</td>\n",
       "      <td>sqrt</td>\n",
       "      <td>0.896967</td>\n",
       "      <td>0.015478</td>\n",
       "      <td>0.898464</td>\n",
       "      <td>0.010800</td>\n",
       "    </tr>\n",
       "    <tr>\n",
       "      <th>15</th>\n",
       "      <td>0.01</td>\n",
       "      <td>entropy</td>\n",
       "      <td>4</td>\n",
       "      <td>log2</td>\n",
       "      <td>0.896967</td>\n",
       "      <td>0.015478</td>\n",
       "      <td>0.898464</td>\n",
       "      <td>0.010800</td>\n",
       "    </tr>\n",
       "    <tr>\n",
       "      <th>6</th>\n",
       "      <td>0</td>\n",
       "      <td>entropy</td>\n",
       "      <td>4</td>\n",
       "      <td>sqrt</td>\n",
       "      <td>0.896408</td>\n",
       "      <td>0.014130</td>\n",
       "      <td>0.898899</td>\n",
       "      <td>0.009791</td>\n",
       "    </tr>\n",
       "    <tr>\n",
       "      <th>7</th>\n",
       "      <td>0</td>\n",
       "      <td>entropy</td>\n",
       "      <td>4</td>\n",
       "      <td>log2</td>\n",
       "      <td>0.896408</td>\n",
       "      <td>0.014130</td>\n",
       "      <td>0.898899</td>\n",
       "      <td>0.009791</td>\n",
       "    </tr>\n",
       "    <tr>\n",
       "      <th>8</th>\n",
       "      <td>0.01</td>\n",
       "      <td>gini</td>\n",
       "      <td>3</td>\n",
       "      <td>sqrt</td>\n",
       "      <td>0.893918</td>\n",
       "      <td>0.013368</td>\n",
       "      <td>0.895203</td>\n",
       "      <td>0.007711</td>\n",
       "    </tr>\n",
       "    <tr>\n",
       "      <th>9</th>\n",
       "      <td>0.01</td>\n",
       "      <td>gini</td>\n",
       "      <td>3</td>\n",
       "      <td>log2</td>\n",
       "      <td>0.893918</td>\n",
       "      <td>0.013368</td>\n",
       "      <td>0.895203</td>\n",
       "      <td>0.007711</td>\n",
       "    </tr>\n",
       "    <tr>\n",
       "      <th>0</th>\n",
       "      <td>0</td>\n",
       "      <td>gini</td>\n",
       "      <td>3</td>\n",
       "      <td>sqrt</td>\n",
       "      <td>0.891380</td>\n",
       "      <td>0.011622</td>\n",
       "      <td>0.892286</td>\n",
       "      <td>0.005020</td>\n",
       "    </tr>\n",
       "    <tr>\n",
       "      <th>1</th>\n",
       "      <td>0</td>\n",
       "      <td>gini</td>\n",
       "      <td>3</td>\n",
       "      <td>log2</td>\n",
       "      <td>0.891380</td>\n",
       "      <td>0.011622</td>\n",
       "      <td>0.892286</td>\n",
       "      <td>0.005020</td>\n",
       "    </tr>\n",
       "    <tr>\n",
       "      <th>12</th>\n",
       "      <td>0.01</td>\n",
       "      <td>entropy</td>\n",
       "      <td>3</td>\n",
       "      <td>sqrt</td>\n",
       "      <td>0.890060</td>\n",
       "      <td>0.012038</td>\n",
       "      <td>0.890937</td>\n",
       "      <td>0.004730</td>\n",
       "    </tr>\n",
       "    <tr>\n",
       "      <th>13</th>\n",
       "      <td>0.01</td>\n",
       "      <td>entropy</td>\n",
       "      <td>3</td>\n",
       "      <td>log2</td>\n",
       "      <td>0.890060</td>\n",
       "      <td>0.012038</td>\n",
       "      <td>0.890937</td>\n",
       "      <td>0.004730</td>\n",
       "    </tr>\n",
       "    <tr>\n",
       "      <th>4</th>\n",
       "      <td>0</td>\n",
       "      <td>entropy</td>\n",
       "      <td>3</td>\n",
       "      <td>sqrt</td>\n",
       "      <td>0.889959</td>\n",
       "      <td>0.011868</td>\n",
       "      <td>0.890723</td>\n",
       "      <td>0.004284</td>\n",
       "    </tr>\n",
       "    <tr>\n",
       "      <th>5</th>\n",
       "      <td>0</td>\n",
       "      <td>entropy</td>\n",
       "      <td>3</td>\n",
       "      <td>log2</td>\n",
       "      <td>0.889959</td>\n",
       "      <td>0.011868</td>\n",
       "      <td>0.890723</td>\n",
       "      <td>0.004284</td>\n",
       "    </tr>\n",
       "  </tbody>\n",
       "</table>\n",
       "</div>"
      ],
      "text/plain": [
       "   param_ccp_alpha param_criterion param_max_depth param_max_features  \\\n",
       "10            0.01            gini               4               sqrt   \n",
       "11            0.01            gini               4               log2   \n",
       "2                0            gini               4               sqrt   \n",
       "3                0            gini               4               log2   \n",
       "14            0.01         entropy               4               sqrt   \n",
       "15            0.01         entropy               4               log2   \n",
       "6                0         entropy               4               sqrt   \n",
       "7                0         entropy               4               log2   \n",
       "8             0.01            gini               3               sqrt   \n",
       "9             0.01            gini               3               log2   \n",
       "0                0            gini               3               sqrt   \n",
       "1                0            gini               3               log2   \n",
       "12            0.01         entropy               3               sqrt   \n",
       "13            0.01         entropy               3               log2   \n",
       "4                0         entropy               3               sqrt   \n",
       "5                0         entropy               3               log2   \n",
       "\n",
       "    mean_test_score  std_test_score  mean_train_score  std_train_score  \n",
       "10         0.912710        0.012897          0.915279         0.007126  \n",
       "11         0.912710        0.012897          0.915279         0.007126  \n",
       "2          0.912202        0.013148          0.916074         0.007925  \n",
       "3          0.912202        0.013148          0.916074         0.007925  \n",
       "14         0.896967        0.015478          0.898464         0.010800  \n",
       "15         0.896967        0.015478          0.898464         0.010800  \n",
       "6          0.896408        0.014130          0.898899         0.009791  \n",
       "7          0.896408        0.014130          0.898899         0.009791  \n",
       "8          0.893918        0.013368          0.895203         0.007711  \n",
       "9          0.893918        0.013368          0.895203         0.007711  \n",
       "0          0.891380        0.011622          0.892286         0.005020  \n",
       "1          0.891380        0.011622          0.892286         0.005020  \n",
       "12         0.890060        0.012038          0.890937         0.004730  \n",
       "13         0.890060        0.012038          0.890937         0.004730  \n",
       "4          0.889959        0.011868          0.890723         0.004284  \n",
       "5          0.889959        0.011868          0.890723         0.004284  "
      ]
     },
     "execution_count": 50,
     "metadata": {},
     "output_type": "execute_result"
    }
   ],
   "source": [
    "# Resultados\n",
    "resultados = pd.DataFrame(grid.cv_results_)\n",
    "resultados.filter(regex = '(param.*|mean_t|std_t)') \\\n",
    "    .drop(columns = 'params') \\\n",
    "    .sort_values('mean_test_score', ascending = False)"
   ]
  },
  {
   "cell_type": "code",
   "execution_count": 51,
   "id": "8e4ef2f6",
   "metadata": {},
   "outputs": [],
   "source": [
    "#Aplicamos los parametros obtenidos \n",
    "rfc1 = RandomForestClassifier(n_estimators = 200, n_jobs  = -1, random_state = 123,\n",
    "                              ccp_alpha= 0.01, criterion = 'gini', max_depth= 4, max_features= 'sqrt')\n",
    "# Entrenarlo\n",
    "rfc1.fit(X_train, y_train)\n",
    "\n",
    "# Obtener las predicciones para el conjunto de datos de testeo\n",
    "y_est2 = rfc1.predict(X_test) \n",
    "\n"
   ]
  },
  {
   "cell_type": "code",
   "execution_count": 52,
   "id": "dac80db9",
   "metadata": {},
   "outputs": [
    {
     "name": "stdout",
     "output_type": "stream",
     "text": [
      "MSE : 0.08465286236297198\n",
      "Accuracy: 0.915347137637028\n",
      "recall: 0.8875379939209727\n",
      "precision: 0.9401159047005795\n"
     ]
    }
   ],
   "source": [
    "# Obtener las metricas\n",
    "MSE_tst_rf = mean_squared_error(y_test, y_est2)\n",
    "accuracy_rf = accuracy_score(y_test,y_est2)\n",
    "recall_rf = recall_score(y_test, y_est2)\n",
    "precision_rf= precision_score(y_test, y_est2)\n",
    "\n",
    "# Imprimimos las metricas\n",
    "print('MSE : ' + str(MSE_tst_rf))\n",
    "print('Accuracy: ' + str(accuracy_rf))\n",
    "print('recall: ' + str(recall_rf))\n",
    "print('precision: ' + str(precision_rf))"
   ]
  },
  {
   "cell_type": "code",
   "execution_count": 53,
   "id": "0a47c3f1",
   "metadata": {},
   "outputs": [
    {
     "name": "stdout",
     "output_type": "stream",
     "text": [
      "Matriz de confusion para Random Forest\n"
     ]
    },
    {
     "data": {
      "image/png": "[encoded data removed]",
      "text/plain": [
       "<Figure size 640x480 with 2 Axes>"
      ]
     },
     "metadata": {},
     "output_type": "display_data"
    }
   ],
   "source": [
    "print('Matriz de confusion para Random Forest')\n",
    "\n",
    "cm1 = confusion_matrix(y_test,y_est2)\n",
    "plot_confusion_matrix(conf_mat=cm1,show_absolute=True,\n",
    "                                show_normed=True,\n",
    "                                colorbar=True)\n",
    "plt.show()"
   ]
  },
  {
   "cell_type": "markdown",
   "id": "6a5187e9",
   "metadata": {},
   "source": [
    "- 94% de los casos, predijo que no era fraude y era cierto. (Verdadero Negativo)\n",
    "- 11% de los casos predijo que no era fraude y era. (Falsos Negativos)\n",
    "- 6% de los casos predijo que era fraude y no era.(Falso positivo)\n",
    "- 89% de los casos que son fraude fueron predichos como fraude. (Verdaderos Positivos)"
   ]
  },
  {
   "cell_type": "code",
   "execution_count": 56,
   "id": "053bbec1",
   "metadata": {},
   "outputs": [
    {
     "name": "stdout",
     "output_type": "stream",
     "text": [
      "AUC:  0.9833014051491847\n"
     ]
    },
    {
     "data": {
      "image/png": "[encoded data removed]",
      "text/plain": [
       "<Figure size 640x480 with 1 Axes>"
      ]
     },
     "metadata": {},
     "output_type": "display_data"
    }
   ],
   "source": [
    "fpr, tpr, thresholds = roc_curve(y_test, rfc1.predict_proba(X_test)[:, 1])\n",
    "roc_auc = auc(fpr, tpr)\n",
    "\n",
    "print(\"AUC: \", roc_auc)\n",
    "plot_roc_curve(fpr, tpr, roc_auc)"
   ]
  },
  {
   "cell_type": "code",
   "execution_count": 59,
   "id": "09b3836d",
   "metadata": {},
   "outputs": [
    {
     "data": {
      "image/png": "[encoded data removed]",
      "text/plain": [
       "<Figure size 1500x1000 with 1 Axes>"
      ]
     },
     "metadata": {},
     "output_type": "display_data"
    }
   ],
   "source": [
    "plt.figure(figsize=(15,10))\n",
    "importances = rfc1.feature_importances_\n",
    "columns = X_train.columns\n",
    "sns.barplot(columns, importances, palette=\"Blues\")\n",
    "plt.title('Importancia de cada Feature')\n",
    "plt.show()"
   ]
  },
  {
   "cell_type": "code",
   "execution_count": 55,
   "id": "f866d00c",
   "metadata": {},
   "outputs": [
    {
     "data": {
      "text/plain": [
       "['rf.joblib']"
      ]
     },
     "execution_count": 55,
     "metadata": {},
     "output_type": "execute_result"
    }
   ],
   "source": [
    "dump(rfc1, 'rf.joblib') "
   ]
  },
  {
   "cell_type": "markdown",
   "id": "be00dd3a",
   "metadata": {},
   "source": [
    "## 9.4 XGBOOST"
   ]
  },
  {
   "cell_type": "code",
   "execution_count": 60,
   "id": "a33f8449",
   "metadata": {},
   "outputs": [],
   "source": [
    "GBoost =  xgb.XGBClassifier(learning_rate =0.1, n_estimators=100, max_depth=2,  \n",
    "                   subsample=0.8, colsample_bytree=0.8, objective= 'binary:logistic', \n",
    "                   seed=42)\n",
    "GBoost.fit(X_train, y_train)\n",
    "# Obtener las predicciones para el conjunto de datos de testeo\n",
    "y_est3 = GBoost.predict(X_test)"
   ]
  },
  {
   "cell_type": "code",
   "execution_count": 61,
   "id": "ea6a49b4",
   "metadata": {},
   "outputs": [
    {
     "name": "stdout",
     "output_type": "stream",
     "text": [
      "MSE : 0.05176613885505481\n",
      "Accuracy: 0.9482338611449452\n",
      "recall: 0.9556231003039514\n",
      "precision: 0.9418813660874775\n"
     ]
    }
   ],
   "source": [
    "# Obtener las metricas\n",
    "MSE_tst_xg = mean_squared_error(y_test, y_est3)\n",
    "accuracy_xg = accuracy_score(y_test,y_est3)\n",
    "recall_xg = recall_score(y_test, y_est3)\n",
    "precision_xg = precision_score(y_test, y_est3)\n",
    "\n",
    "# Imprimimos las metricas\n",
    "print('MSE : ' + str(MSE_tst_xg))\n",
    "print('Accuracy: ' + str(accuracy_xg))\n",
    "print('recall: ' + str(recall_xg))\n",
    "print('precision: ' + str(precision_xg))"
   ]
  },
  {
   "cell_type": "code",
   "execution_count": 62,
   "id": "bd0eb57d",
   "metadata": {},
   "outputs": [
    {
     "name": "stdout",
     "output_type": "stream",
     "text": [
      "Matriz de confusion  XGBOOST\n"
     ]
    },
    {
     "data": {
      "image/png": "[encoded data removed]",
      "text/plain": [
       "<Figure size 640x480 with 2 Axes>"
      ]
     },
     "metadata": {},
     "output_type": "display_data"
    }
   ],
   "source": [
    "print('Matriz de confusion  XGBOOST')\n",
    "\n",
    "cm1 = confusion_matrix(y_test,y_est3)\n",
    "plot_confusion_matrix(conf_mat=cm1,show_absolute=True,\n",
    "                                show_normed=True,\n",
    "                                colorbar=True)\n",
    "plt.show()"
   ]
  },
  {
   "cell_type": "markdown",
   "id": "71f09c3c",
   "metadata": {},
   "source": [
    "- 94% de los casos, predijo que no era fraude y era cierto. (Verdadero negativo)\n",
    "- 4% de los casos predijo que no era fraude y era. (Falsos Negativos)\n",
    "- 6% de los casos predijo que era fraude y no era.(Falso positivo)\n",
    "- 96% de los casos que son fraude fueron predichos como fraude. (Verdaderos Positivos)"
   ]
  },
  {
   "cell_type": "code",
   "execution_count": 64,
   "id": "8814b71c",
   "metadata": {},
   "outputs": [
    {
     "name": "stdout",
     "output_type": "stream",
     "text": [
      "AUC:  0.9901726718233931\n"
     ]
    },
    {
     "data": {
      "image/png": "[encoded data removed]",
      "text/plain": [
       "<Figure size 640x480 with 1 Axes>"
      ]
     },
     "metadata": {},
     "output_type": "display_data"
    }
   ],
   "source": [
    "fpr, tpr, thresholds = roc_curve(y_test, GBoost.predict_proba(X_test)[:, 1])\n",
    "roc_auc = auc(fpr, tpr)\n",
    "\n",
    "print(\"AUC: \", roc_auc)\n",
    "plot_roc_curve(fpr, tpr, roc_auc)"
   ]
  },
  {
   "cell_type": "code",
   "execution_count": 63,
   "id": "db5af81c",
   "metadata": {},
   "outputs": [
    {
     "data": {
      "text/plain": [
       "['GBoost.joblib']"
      ]
     },
     "execution_count": 63,
     "metadata": {},
     "output_type": "execute_result"
    }
   ],
   "source": [
    "dump(GBoost, 'GBoost.joblib') "
   ]
  },
  {
   "cell_type": "markdown",
   "id": "d2826679",
   "metadata": {},
   "source": [
    "## 9.5 Deep learning"
   ]
  },
  {
   "cell_type": "markdown",
   "id": "0afb084e",
   "metadata": {},
   "source": [
    "Deep learning es un subconjunto de machine learning (que a su vez es parte de la inteligencia artificial) donde las redes neuronales, algoritmos inspirados en cómo funciona el cerebro humano, aprenden de grandes cantidades de datos y son el fundamento de esta disciplina.\n",
    "Utilizamos el perceptrón multicapa (MLP), que es una red neuronal de avance con al menos 1 capa entre la capa de entrada y la de salida. Los datos se entrenan desde la capa de entrada hasta la capa de salida."
   ]
  },
  {
   "cell_type": "markdown",
   "id": "5d82d757",
   "metadata": {},
   "source": [
    "## 9.5.1 Redes de neuronas "
   ]
  },
  {
   "cell_type": "code",
   "execution_count": 78,
   "id": "44107705",
   "metadata": {},
   "outputs": [],
   "source": [
    "input_dim = X_train.shape[1]\n"
   ]
  },
  {
   "cell_type": "code",
   "execution_count": 79,
   "id": "fcb676bc",
   "metadata": {},
   "outputs": [],
   "source": [
    "model = Sequential() #creamos un modelo vació de tipo Secuencial.\n",
    "#Este modelo se refiere a que crearemos una serie de capas de neuronas secuenciales, “una delante de otra”\n",
    "model.add(Dense(units = 32, input_dim=input_dim, activation = \"relu\")) #units = neuronas\n",
    "model.add(Dense(units = 64, activation = \"relu\"))\n",
    "model.add(Dense(units = 128, activation = \"relu\"))\n",
    "model.add(Dense(units = 256, activation = \"relu\"))\n",
    "model.add(Dropout(0.4)) \n",
    "#Regularizacion-->Se opta por Dropout\n",
    "#El proceso consiste en desactivar aleatoriamente una serie de neuronas durante el proceso de entrenamiento. \n",
    "#En concreto, durante cada iteración del entrenamiento, se ponen a cero los pesos de una fracción aleatoria de neuronas por capa\n",
    "\n",
    "model.add(Dense(units = 64, activation = \"relu\"))\n",
    "model.add(Dense(units = 32, activation = \"relu\"))\n",
    "model.add(Dense(units = 64, activation = \"relu\"))\n",
    "model.add(Dense(units = 32, activation = \"relu\"))\n",
    "\n",
    "# Capa de salida --> función de activación sigmoide en la capa de salida por ser un modelo de clasificación binaria\n",
    "model.add(Dense(units = 1, activation = \"sigmoid\"))\n"
   ]
  },
  {
   "cell_type": "markdown",
   "id": "96f9fcf9",
   "metadata": {},
   "source": [
    "Antes de de entrenar la red haremos unos ajustes a nuestro modelo:\n",
    "En este caso, utilizaremos la pérdida logarítmica, que para un problema de clasificación binaria se define en Keras como “binary_crossentropy”. También utilizaremos el optimizador “adam” por su alta eficiencia en estos problemas."
   ]
  },
  {
   "cell_type": "code",
   "execution_count": 80,
   "id": "949ebe5e",
   "metadata": {},
   "outputs": [
    {
     "name": "stdout",
     "output_type": "stream",
     "text": [
      "Model: \"sequential_2\"\n",
      "_________________________________________________________________\n",
      " Layer (type)                Output Shape              Param #   \n",
      "=================================================================\n",
      " dense_18 (Dense)            (None, 32)                256       \n",
      "                                                                 \n",
      " dense_19 (Dense)            (None, 64)                2112      \n",
      "                                                                 \n",
      " dense_20 (Dense)            (None, 128)               8320      \n",
      "                                                                 \n",
      " dense_21 (Dense)            (None, 256)               33024     \n",
      "                                                                 \n",
      " dropout_2 (Dropout)         (None, 256)               0         \n",
      "                                                                 \n",
      " dense_22 (Dense)            (None, 64)                16448     \n",
      "                                                                 \n",
      " dense_23 (Dense)            (None, 32)                2080      \n",
      "                                                                 \n",
      " dense_24 (Dense)            (None, 64)                2112      \n",
      "                                                                 \n",
      " dense_25 (Dense)            (None, 32)                2080      \n",
      "                                                                 \n",
      " dense_26 (Dense)            (None, 1)                 33        \n",
      "                                                                 \n",
      "=================================================================\n",
      "Total params: 66,465\n",
      "Trainable params: 66,465\n",
      "Non-trainable params: 0\n",
      "_________________________________________________________________\n"
     ]
    }
   ],
   "source": [
    "#Con esto indicamos el tipo de pérdida (loss) que utilizaremos, el “optimizador” de los pesos de las conexiones de las neuronas\n",
    "#y las métricas que queremos obtener. \n",
    "model.compile( \n",
    "              loss = \"binary_crossentropy\", \n",
    "              optimizer = 'adam',\n",
    "              metrics = (['binary_accuracy'],\n",
    "                        [tf.keras.metrics.FalseNegatives()],\n",
    "                        [tf.keras.metrics.Recall()]))\n",
    "model.summary()"
   ]
  },
  {
   "cell_type": "code",
   "execution_count": 81,
   "id": "de756a14",
   "metadata": {},
   "outputs": [],
   "source": [
    "#Early Stopping\n",
    "callback = tf.keras.callbacks.EarlyStopping(monitor=\"val_loss\", mode='min', verbose=1 )"
   ]
  },
  {
   "cell_type": "markdown",
   "id": "bddf77a5",
   "metadata": {},
   "source": [
    "Entrenamos la red"
   ]
  },
  {
   "cell_type": "code",
   "execution_count": 82,
   "id": "e31ea9a6",
   "metadata": {
    "scrolled": true
   },
   "outputs": [
    {
     "name": "stdout",
     "output_type": "stream",
     "text": [
      "Epoch 1/25\n",
      "263/263 [==============================] - 3s 4ms/step - loss: 0.3254 - binary_accuracy: 0.8617 - false_negatives_2: 1089.0000 - recall_2: 0.8341 - val_loss: 0.2195 - val_binary_accuracy: 0.9047 - val_false_negatives_2: 80.0000 - val_recall_2: 0.9514\n",
      "Epoch 2/25\n",
      "263/263 [==============================] - 1s 5ms/step - loss: 0.1957 - binary_accuracy: 0.9167 - false_negatives_2: 616.0000 - recall_2: 0.9062 - val_loss: 0.1818 - val_binary_accuracy: 0.9278 - val_false_negatives_2: 38.0000 - val_recall_2: 0.9769\n",
      "Epoch 2: early stopping\n"
     ]
    }
   ],
   "source": [
    "historico = model.fit(X_train, y_train,validation_data=(X_test,y_test), batch_size = 50 , epochs = 25,callbacks=[callback],validation_split=0.2, verbose=1)\n",
    "\n"
   ]
  },
  {
   "cell_type": "code",
   "execution_count": 83,
   "id": "df94ba4b",
   "metadata": {},
   "outputs": [
    {
     "name": "stdout",
     "output_type": "stream",
     "text": [
      "Accuracy: 0.93\n",
      "Recall: 0.98\n",
      "Falsos negativos Test: 38.00\n"
     ]
    }
   ],
   "source": [
    "# Evaluemos el modelo\n",
    "\n",
    "print(\"Accuracy: %.2f\" % model.evaluate(X_test, y_test, verbose=0)[1])\n",
    "\n",
    "print(\"Recall: %.2f\" % model.evaluate(X_test, y_test, verbose=0)[3])\n",
    "\n",
    "print(\"Falsos negativos Test: %.2f\" % model.evaluate(X_test, y_test, verbose=0)[2])"
   ]
  },
  {
   "cell_type": "code",
   "execution_count": 84,
   "id": "6b5cbb5e",
   "metadata": {},
   "outputs": [],
   "source": [
    "recall_red = model.evaluate(X_test, y_test, verbose=0)[3]"
   ]
  },
  {
   "cell_type": "code",
   "execution_count": 85,
   "id": "5d1cb1e7",
   "metadata": {},
   "outputs": [],
   "source": [
    "model.save('C:\\Documents\\Python Scripts.h5')"
   ]
  },
  {
   "cell_type": "markdown",
   "id": "625fa2cd",
   "metadata": {},
   "source": [
    "## 10. Comparamos los resultados de los modelos desarrollados "
   ]
  },
  {
   "cell_type": "code",
   "execution_count": 86,
   "id": "9e4b4965",
   "metadata": {},
   "outputs": [],
   "source": [
    "data = {'Modelo':['KNN','Random Forest','XGBOOST','Redes Neuronales'],\n",
    "        'Recall':[recall_knn,recall_rf,recall_xg,recall_red],\n",
    "        'Falsos Negativos': ['49', '185', '73', '38']\n",
    "        }"
   ]
  },
  {
   "cell_type": "code",
   "execution_count": 87,
   "id": "c7056617",
   "metadata": {},
   "outputs": [],
   "source": [
    "data1 = pd.DataFrame(data)\n"
   ]
  },
  {
   "cell_type": "code",
   "execution_count": 88,
   "id": "6055ca7e",
   "metadata": {},
   "outputs": [
    {
     "data": {
      "text/html": [
       "<div>\n",
       "<style scoped>\n",
       "    .dataframe tbody tr th:only-of-type {\n",
       "        vertical-align: middle;\n",
       "    }\n",
       "\n",
       "    .dataframe tbody tr th {\n",
       "        vertical-align: top;\n",
       "    }\n",
       "\n",
       "    .dataframe thead th {\n",
       "        text-align: right;\n",
       "    }\n",
       "</style>\n",
       "<table border=\"1\" class=\"dataframe\">\n",
       "  <thead>\n",
       "    <tr style=\"text-align: right;\">\n",
       "      <th></th>\n",
       "      <th>Modelo</th>\n",
       "      <th>Recall</th>\n",
       "      <th>Falsos Negativos</th>\n",
       "    </tr>\n",
       "  </thead>\n",
       "  <tbody>\n",
       "    <tr>\n",
       "      <th>3</th>\n",
       "      <td>Redes Neuronales</td>\n",
       "      <td>0.976900</td>\n",
       "      <td>38</td>\n",
       "    </tr>\n",
       "    <tr>\n",
       "      <th>0</th>\n",
       "      <td>KNN</td>\n",
       "      <td>0.970213</td>\n",
       "      <td>49</td>\n",
       "    </tr>\n",
       "    <tr>\n",
       "      <th>2</th>\n",
       "      <td>XGBOOST</td>\n",
       "      <td>0.955623</td>\n",
       "      <td>73</td>\n",
       "    </tr>\n",
       "    <tr>\n",
       "      <th>1</th>\n",
       "      <td>Random Forest</td>\n",
       "      <td>0.887538</td>\n",
       "      <td>185</td>\n",
       "    </tr>\n",
       "  </tbody>\n",
       "</table>\n",
       "</div>"
      ],
      "text/plain": [
       "             Modelo    Recall Falsos Negativos\n",
       "3  Redes Neuronales  0.976900               38\n",
       "0               KNN  0.970213               49\n",
       "2           XGBOOST  0.955623               73\n",
       "1     Random Forest  0.887538              185"
      ]
     },
     "execution_count": 88,
     "metadata": {},
     "output_type": "execute_result"
    }
   ],
   "source": [
    "data1.sort_values(by='Recall', ascending=False)"
   ]
  },
  {
   "cell_type": "markdown",
   "id": "b22f2292",
   "metadata": {},
   "source": [
    "## 11. Aplicamos los modelos de detección de fraude a los datos en producción no etiquetados y generamos un archivo con las predicciones de cada uno de los modelos. \n",
    "Este archivo debe poseer la siguiente información: identificador de la transferencia y resultado de la predicción (si es fraudulenta o no)."
   ]
  },
  {
   "cell_type": "markdown",
   "id": "ccf6ca0d",
   "metadata": {},
   "source": [
    "## 11.1 Cargamos el dataset con los fraudes a predecir"
   ]
  },
  {
   "cell_type": "code",
   "execution_count": 127,
   "id": "4f16c837",
   "metadata": {},
   "outputs": [],
   "source": [
    "a_predecir = pd.read_csv(\"fraudes_a_predecir.csv\") "
   ]
  },
  {
   "cell_type": "code",
   "execution_count": 128,
   "id": "4c24c6f4",
   "metadata": {},
   "outputs": [
    {
     "data": {
      "text/html": [
       "<div>\n",
       "<style scoped>\n",
       "    .dataframe tbody tr th:only-of-type {\n",
       "        vertical-align: middle;\n",
       "    }\n",
       "\n",
       "    .dataframe tbody tr th {\n",
       "        vertical-align: top;\n",
       "    }\n",
       "\n",
       "    .dataframe thead th {\n",
       "        text-align: right;\n",
       "    }\n",
       "</style>\n",
       "<table border=\"1\" class=\"dataframe\">\n",
       "  <thead>\n",
       "    <tr style=\"text-align: right;\">\n",
       "      <th></th>\n",
       "      <th>t_id</th>\n",
       "      <th>tipo</th>\n",
       "      <th>fecha_final</th>\n",
       "      <th>id_cliente_origen</th>\n",
       "      <th>balance_prev_origen</th>\n",
       "      <th>balance_post_origen</th>\n",
       "      <th>id_cliente_destino</th>\n",
       "      <th>balance_prev_destino</th>\n",
       "      <th>balance_post_destino</th>\n",
       "      <th>cuantia</th>\n",
       "      <th>mensaje_alarma</th>\n",
       "      <th>es_fraude</th>\n",
       "    </tr>\n",
       "  </thead>\n",
       "  <tbody>\n",
       "    <tr>\n",
       "      <th>0</th>\n",
       "      <td>1200</td>\n",
       "      <td>TRANSFER</td>\n",
       "      <td>2022-09-01 08:00:00</td>\n",
       "      <td>C1366722422</td>\n",
       "      <td>0.00</td>\n",
       "      <td>0.00</td>\n",
       "      <td>C2083562754</td>\n",
       "      <td>763134.49</td>\n",
       "      <td>1186556.81</td>\n",
       "      <td>424141.36</td>\n",
       "      <td>NaN</td>\n",
       "      <td>NaN</td>\n",
       "    </tr>\n",
       "    <tr>\n",
       "      <th>1</th>\n",
       "      <td>156083</td>\n",
       "      <td>CASH_OUT</td>\n",
       "      <td>2022-09-01 19:00:00</td>\n",
       "      <td>C554058441</td>\n",
       "      <td>438.00</td>\n",
       "      <td>0.00</td>\n",
       "      <td>C1620029891</td>\n",
       "      <td>7992405.59</td>\n",
       "      <td>8198842.17</td>\n",
       "      <td>206436.59</td>\n",
       "      <td>NaN</td>\n",
       "      <td>NaN</td>\n",
       "    </tr>\n",
       "    <tr>\n",
       "      <th>2</th>\n",
       "      <td>160160</td>\n",
       "      <td>PAYMENT</td>\n",
       "      <td>2022-09-01 19:00:00</td>\n",
       "      <td>C1829190420</td>\n",
       "      <td>0.00</td>\n",
       "      <td>0.00</td>\n",
       "      <td>M1542648727</td>\n",
       "      <td>0.00</td>\n",
       "      <td>0.00</td>\n",
       "      <td>12185.20</td>\n",
       "      <td>NaN</td>\n",
       "      <td>NaN</td>\n",
       "    </tr>\n",
       "    <tr>\n",
       "      <th>3</th>\n",
       "      <td>217179</td>\n",
       "      <td>CASH_IN</td>\n",
       "      <td>2022-09-01 20:00:00</td>\n",
       "      <td>C649079159</td>\n",
       "      <td>14441449.12</td>\n",
       "      <td>14624800.35</td>\n",
       "      <td>C580961280</td>\n",
       "      <td>542893.81</td>\n",
       "      <td>467905.16</td>\n",
       "      <td>183351.24</td>\n",
       "      <td>NaN</td>\n",
       "      <td>NaN</td>\n",
       "    </tr>\n",
       "  </tbody>\n",
       "</table>\n",
       "</div>"
      ],
      "text/plain": [
       "     t_id      tipo          fecha_final id_cliente_origen  \\\n",
       "0    1200  TRANSFER  2022-09-01 08:00:00       C1366722422   \n",
       "1  156083  CASH_OUT  2022-09-01 19:00:00        C554058441   \n",
       "2  160160   PAYMENT  2022-09-01 19:00:00       C1829190420   \n",
       "3  217179   CASH_IN  2022-09-01 20:00:00        C649079159   \n",
       "\n",
       "   balance_prev_origen  balance_post_origen id_cliente_destino  \\\n",
       "0                 0.00                 0.00        C2083562754   \n",
       "1               438.00                 0.00        C1620029891   \n",
       "2                 0.00                 0.00        M1542648727   \n",
       "3          14441449.12          14624800.35         C580961280   \n",
       "\n",
       "   balance_prev_destino  balance_post_destino    cuantia  mensaje_alarma  \\\n",
       "0             763134.49            1186556.81  424141.36             NaN   \n",
       "1            7992405.59            8198842.17  206436.59             NaN   \n",
       "2                  0.00                  0.00   12185.20             NaN   \n",
       "3             542893.81             467905.16  183351.24             NaN   \n",
       "\n",
       "   es_fraude  \n",
       "0        NaN  \n",
       "1        NaN  \n",
       "2        NaN  \n",
       "3        NaN  "
      ]
     },
     "execution_count": 128,
     "metadata": {},
     "output_type": "execute_result"
    }
   ],
   "source": [
    "a_predecir.head(4)"
   ]
  },
  {
   "cell_type": "markdown",
   "id": "47141d92",
   "metadata": {},
   "source": [
    "## 11.2 Aplicamos las mismas transformaciones que a nuestros modelos "
   ]
  },
  {
   "cell_type": "code",
   "execution_count": 129,
   "id": "aeaa53a2",
   "metadata": {},
   "outputs": [],
   "source": [
    "filtro = (a_predecir['tipo'] == 'TRANSFER') | (a_predecir['tipo']  == 'CASH_OUT')"
   ]
  },
  {
   "cell_type": "code",
   "execution_count": 130,
   "id": "6e60dfab",
   "metadata": {},
   "outputs": [],
   "source": [
    "df_fraude =  a_predecir[filtro]"
   ]
  },
  {
   "cell_type": "code",
   "execution_count": 131,
   "id": "1c6fb1b0",
   "metadata": {},
   "outputs": [
    {
     "data": {
      "text/plain": [
       "t_id                    49\n",
       "tipo                    49\n",
       "fecha_final             49\n",
       "id_cliente_origen       49\n",
       "balance_prev_origen     49\n",
       "balance_post_origen     49\n",
       "id_cliente_destino      49\n",
       "balance_prev_destino    49\n",
       "balance_post_destino    49\n",
       "cuantia                 49\n",
       "mensaje_alarma           0\n",
       "es_fraude                0\n",
       "dtype: int64"
      ]
     },
     "execution_count": 131,
     "metadata": {},
     "output_type": "execute_result"
    }
   ],
   "source": [
    "df_fraude.count()"
   ]
  },
  {
   "cell_type": "code",
   "execution_count": 132,
   "id": "00a1af0c",
   "metadata": {},
   "outputs": [],
   "source": [
    "ID = df_fraude['t_id']"
   ]
  },
  {
   "cell_type": "code",
   "execution_count": 133,
   "id": "d3dedd0b",
   "metadata": {},
   "outputs": [],
   "source": [
    "df_fraude['diff_origen'] = abs(df_fraude['balance_post_origen']-df_fraude['balance_prev_origen'].astype(int))"
   ]
  },
  {
   "cell_type": "code",
   "execution_count": 134,
   "id": "675bf9c9",
   "metadata": {},
   "outputs": [],
   "source": [
    "df_fraude['diff_destino'] = abs(df_fraude['balance_post_destino']-df_fraude['balance_prev_destino'].astype(int))"
   ]
  },
  {
   "cell_type": "code",
   "execution_count": 136,
   "id": "8ab494a1",
   "metadata": {},
   "outputs": [],
   "source": [
    "df_fraude1 = df_fraude.drop(['id_cliente_origen','id_cliente_destino','fecha_final', 'mensaje_alarma',\n",
    "                                             'balance_post_origen', 'balance_prev_destino','es_fraude','t_id'], axis=1)"
   ]
  },
  {
   "cell_type": "code",
   "execution_count": 138,
   "id": "a32847c5",
   "metadata": {},
   "outputs": [],
   "source": [
    "df_fraude2 = pd.get_dummies(df_fraude1) "
   ]
  },
  {
   "cell_type": "code",
   "execution_count": 139,
   "id": "f225113c",
   "metadata": {},
   "outputs": [
    {
     "data": {
      "text/html": [
       "<div>\n",
       "<style scoped>\n",
       "    .dataframe tbody tr th:only-of-type {\n",
       "        vertical-align: middle;\n",
       "    }\n",
       "\n",
       "    .dataframe tbody tr th {\n",
       "        vertical-align: top;\n",
       "    }\n",
       "\n",
       "    .dataframe thead th {\n",
       "        text-align: right;\n",
       "    }\n",
       "</style>\n",
       "<table border=\"1\" class=\"dataframe\">\n",
       "  <thead>\n",
       "    <tr style=\"text-align: right;\">\n",
       "      <th></th>\n",
       "      <th>balance_prev_origen</th>\n",
       "      <th>balance_post_destino</th>\n",
       "      <th>cuantia</th>\n",
       "      <th>diff_origen</th>\n",
       "      <th>diff_destino</th>\n",
       "      <th>tipo_CASH_OUT</th>\n",
       "      <th>tipo_TRANSFER</th>\n",
       "    </tr>\n",
       "  </thead>\n",
       "  <tbody>\n",
       "    <tr>\n",
       "      <th>0</th>\n",
       "      <td>0.0</td>\n",
       "      <td>1186556.81</td>\n",
       "      <td>424141.36</td>\n",
       "      <td>0.0</td>\n",
       "      <td>423422.81</td>\n",
       "      <td>0</td>\n",
       "      <td>1</td>\n",
       "    </tr>\n",
       "    <tr>\n",
       "      <th>1</th>\n",
       "      <td>438.0</td>\n",
       "      <td>8198842.17</td>\n",
       "      <td>206436.59</td>\n",
       "      <td>438.0</td>\n",
       "      <td>206437.17</td>\n",
       "      <td>1</td>\n",
       "      <td>0</td>\n",
       "    </tr>\n",
       "    <tr>\n",
       "      <th>5</th>\n",
       "      <td>0.0</td>\n",
       "      <td>2796844.45</td>\n",
       "      <td>1205911.79</td>\n",
       "      <td>0.0</td>\n",
       "      <td>1406049.45</td>\n",
       "      <td>0</td>\n",
       "      <td>1</td>\n",
       "    </tr>\n",
       "    <tr>\n",
       "      <th>6</th>\n",
       "      <td>0.0</td>\n",
       "      <td>2889608.83</td>\n",
       "      <td>40549.48</td>\n",
       "      <td>0.0</td>\n",
       "      <td>40549.83</td>\n",
       "      <td>1</td>\n",
       "      <td>0</td>\n",
       "    </tr>\n",
       "    <tr>\n",
       "      <th>7</th>\n",
       "      <td>0.0</td>\n",
       "      <td>681336.38</td>\n",
       "      <td>296354.62</td>\n",
       "      <td>0.0</td>\n",
       "      <td>296355.38</td>\n",
       "      <td>1</td>\n",
       "      <td>0</td>\n",
       "    </tr>\n",
       "  </tbody>\n",
       "</table>\n",
       "</div>"
      ],
      "text/plain": [
       "   balance_prev_origen  balance_post_destino     cuantia  diff_origen  \\\n",
       "0                  0.0            1186556.81   424141.36          0.0   \n",
       "1                438.0            8198842.17   206436.59        438.0   \n",
       "5                  0.0            2796844.45  1205911.79          0.0   \n",
       "6                  0.0            2889608.83    40549.48          0.0   \n",
       "7                  0.0             681336.38   296354.62          0.0   \n",
       "\n",
       "   diff_destino  tipo_CASH_OUT  tipo_TRANSFER  \n",
       "0     423422.81              0              1  \n",
       "1     206437.17              1              0  \n",
       "5    1406049.45              0              1  \n",
       "6      40549.83              1              0  \n",
       "7     296355.38              1              0  "
      ]
     },
     "execution_count": 139,
     "metadata": {},
     "output_type": "execute_result"
    }
   ],
   "source": [
    "df_fraude2.head()"
   ]
  },
  {
   "cell_type": "code",
   "execution_count": 141,
   "id": "e7a042b0",
   "metadata": {},
   "outputs": [],
   "source": [
    "#Estandarizamos las columnas numericas \n",
    "col_names=['balance_prev_origen', 'balance_post_destino', 'cuantia', 'diff_origen',\n",
    "       'diff_destino']\n",
    "features_train = df_fraude2[col_names]\n",
    "scaler = StandardScaler().fit(features_train.values)\n",
    "features_train = scaler.transform(features_train.values)\n",
    "df_fraude2[col_names] = features_train\n"
   ]
  },
  {
   "cell_type": "markdown",
   "id": "128c14aa",
   "metadata": {},
   "source": [
    "## 11.3 Cargamos el modelo KNN que guardamos y predecimos "
   ]
  },
  {
   "cell_type": "code",
   "execution_count": 143,
   "id": "fcf235f4",
   "metadata": {},
   "outputs": [],
   "source": [
    "KNN = load('knn.joblib')\n",
    "prediccion_knn = KNN.predict(df_fraude2) #devuelve los t_id en orden "
   ]
  },
  {
   "cell_type": "code",
   "execution_count": 144,
   "id": "1c0c763a",
   "metadata": {},
   "outputs": [],
   "source": [
    "df_knn = pd.DataFrame(data=ID.values, columns=['t_id'])"
   ]
  },
  {
   "cell_type": "code",
   "execution_count": 145,
   "id": "86345f49",
   "metadata": {},
   "outputs": [
    {
     "data": {
      "text/html": [
       "<div>\n",
       "<style scoped>\n",
       "    .dataframe tbody tr th:only-of-type {\n",
       "        vertical-align: middle;\n",
       "    }\n",
       "\n",
       "    .dataframe tbody tr th {\n",
       "        vertical-align: top;\n",
       "    }\n",
       "\n",
       "    .dataframe thead th {\n",
       "        text-align: right;\n",
       "    }\n",
       "</style>\n",
       "<table border=\"1\" class=\"dataframe\">\n",
       "  <thead>\n",
       "    <tr style=\"text-align: right;\">\n",
       "      <th></th>\n",
       "      <th>t_id</th>\n",
       "    </tr>\n",
       "  </thead>\n",
       "  <tbody>\n",
       "    <tr>\n",
       "      <th>0</th>\n",
       "      <td>1200</td>\n",
       "    </tr>\n",
       "    <tr>\n",
       "      <th>1</th>\n",
       "      <td>156083</td>\n",
       "    </tr>\n",
       "    <tr>\n",
       "      <th>2</th>\n",
       "      <td>318471</td>\n",
       "    </tr>\n",
       "    <tr>\n",
       "      <th>3</th>\n",
       "      <td>330446</td>\n",
       "    </tr>\n",
       "    <tr>\n",
       "      <th>4</th>\n",
       "      <td>399390</td>\n",
       "    </tr>\n",
       "    <tr>\n",
       "      <th>5</th>\n",
       "      <td>472486</td>\n",
       "    </tr>\n",
       "    <tr>\n",
       "      <th>6</th>\n",
       "      <td>533676</td>\n",
       "    </tr>\n",
       "    <tr>\n",
       "      <th>7</th>\n",
       "      <td>543910</td>\n",
       "    </tr>\n",
       "    <tr>\n",
       "      <th>8</th>\n",
       "      <td>601322</td>\n",
       "    </tr>\n",
       "    <tr>\n",
       "      <th>9</th>\n",
       "      <td>876335</td>\n",
       "    </tr>\n",
       "    <tr>\n",
       "      <th>10</th>\n",
       "      <td>1012596</td>\n",
       "    </tr>\n",
       "    <tr>\n",
       "      <th>11</th>\n",
       "      <td>1412025</td>\n",
       "    </tr>\n",
       "    <tr>\n",
       "      <th>12</th>\n",
       "      <td>1571403</td>\n",
       "    </tr>\n",
       "    <tr>\n",
       "      <th>13</th>\n",
       "      <td>1605700</td>\n",
       "    </tr>\n",
       "    <tr>\n",
       "      <th>14</th>\n",
       "      <td>1724871</td>\n",
       "    </tr>\n",
       "    <tr>\n",
       "      <th>15</th>\n",
       "      <td>1734214</td>\n",
       "    </tr>\n",
       "    <tr>\n",
       "      <th>16</th>\n",
       "      <td>1819443</td>\n",
       "    </tr>\n",
       "    <tr>\n",
       "      <th>17</th>\n",
       "      <td>2010797</td>\n",
       "    </tr>\n",
       "    <tr>\n",
       "      <th>18</th>\n",
       "      <td>2047268</td>\n",
       "    </tr>\n",
       "    <tr>\n",
       "      <th>19</th>\n",
       "      <td>2631088</td>\n",
       "    </tr>\n",
       "    <tr>\n",
       "      <th>20</th>\n",
       "      <td>2640911</td>\n",
       "    </tr>\n",
       "    <tr>\n",
       "      <th>21</th>\n",
       "      <td>2660364</td>\n",
       "    </tr>\n",
       "    <tr>\n",
       "      <th>22</th>\n",
       "      <td>2829165</td>\n",
       "    </tr>\n",
       "    <tr>\n",
       "      <th>23</th>\n",
       "      <td>3073889</td>\n",
       "    </tr>\n",
       "    <tr>\n",
       "      <th>24</th>\n",
       "      <td>3107872</td>\n",
       "    </tr>\n",
       "    <tr>\n",
       "      <th>25</th>\n",
       "      <td>3121785</td>\n",
       "    </tr>\n",
       "    <tr>\n",
       "      <th>26</th>\n",
       "      <td>3345937</td>\n",
       "    </tr>\n",
       "    <tr>\n",
       "      <th>27</th>\n",
       "      <td>3525094</td>\n",
       "    </tr>\n",
       "    <tr>\n",
       "      <th>28</th>\n",
       "      <td>3773028</td>\n",
       "    </tr>\n",
       "    <tr>\n",
       "      <th>29</th>\n",
       "      <td>3847446</td>\n",
       "    </tr>\n",
       "    <tr>\n",
       "      <th>30</th>\n",
       "      <td>3979431</td>\n",
       "    </tr>\n",
       "    <tr>\n",
       "      <th>31</th>\n",
       "      <td>3995359</td>\n",
       "    </tr>\n",
       "    <tr>\n",
       "      <th>32</th>\n",
       "      <td>4259572</td>\n",
       "    </tr>\n",
       "    <tr>\n",
       "      <th>33</th>\n",
       "      <td>4629351</td>\n",
       "    </tr>\n",
       "    <tr>\n",
       "      <th>34</th>\n",
       "      <td>4812661</td>\n",
       "    </tr>\n",
       "    <tr>\n",
       "      <th>35</th>\n",
       "      <td>5009067</td>\n",
       "    </tr>\n",
       "    <tr>\n",
       "      <th>36</th>\n",
       "      <td>5049094</td>\n",
       "    </tr>\n",
       "    <tr>\n",
       "      <th>37</th>\n",
       "      <td>5226213</td>\n",
       "    </tr>\n",
       "    <tr>\n",
       "      <th>38</th>\n",
       "      <td>5323742</td>\n",
       "    </tr>\n",
       "    <tr>\n",
       "      <th>39</th>\n",
       "      <td>5366311</td>\n",
       "    </tr>\n",
       "    <tr>\n",
       "      <th>40</th>\n",
       "      <td>5437377</td>\n",
       "    </tr>\n",
       "    <tr>\n",
       "      <th>41</th>\n",
       "      <td>5454303</td>\n",
       "    </tr>\n",
       "    <tr>\n",
       "      <th>42</th>\n",
       "      <td>5600136</td>\n",
       "    </tr>\n",
       "    <tr>\n",
       "      <th>43</th>\n",
       "      <td>5716386</td>\n",
       "    </tr>\n",
       "    <tr>\n",
       "      <th>44</th>\n",
       "      <td>6168485</td>\n",
       "    </tr>\n",
       "    <tr>\n",
       "      <th>45</th>\n",
       "      <td>6201410</td>\n",
       "    </tr>\n",
       "    <tr>\n",
       "      <th>46</th>\n",
       "      <td>6223327</td>\n",
       "    </tr>\n",
       "    <tr>\n",
       "      <th>47</th>\n",
       "      <td>6273796</td>\n",
       "    </tr>\n",
       "    <tr>\n",
       "      <th>48</th>\n",
       "      <td>6278033</td>\n",
       "    </tr>\n",
       "  </tbody>\n",
       "</table>\n",
       "</div>"
      ],
      "text/plain": [
       "       t_id\n",
       "0      1200\n",
       "1    156083\n",
       "2    318471\n",
       "3    330446\n",
       "4    399390\n",
       "5    472486\n",
       "6    533676\n",
       "7    543910\n",
       "8    601322\n",
       "9    876335\n",
       "10  1012596\n",
       "11  1412025\n",
       "12  1571403\n",
       "13  1605700\n",
       "14  1724871\n",
       "15  1734214\n",
       "16  1819443\n",
       "17  2010797\n",
       "18  2047268\n",
       "19  2631088\n",
       "20  2640911\n",
       "21  2660364\n",
       "22  2829165\n",
       "23  3073889\n",
       "24  3107872\n",
       "25  3121785\n",
       "26  3345937\n",
       "27  3525094\n",
       "28  3773028\n",
       "29  3847446\n",
       "30  3979431\n",
       "31  3995359\n",
       "32  4259572\n",
       "33  4629351\n",
       "34  4812661\n",
       "35  5009067\n",
       "36  5049094\n",
       "37  5226213\n",
       "38  5323742\n",
       "39  5366311\n",
       "40  5437377\n",
       "41  5454303\n",
       "42  5600136\n",
       "43  5716386\n",
       "44  6168485\n",
       "45  6201410\n",
       "46  6223327\n",
       "47  6273796\n",
       "48  6278033"
      ]
     },
     "execution_count": 145,
     "metadata": {},
     "output_type": "execute_result"
    }
   ],
   "source": [
    "df_knn "
   ]
  },
  {
   "cell_type": "code",
   "execution_count": 146,
   "id": "b9fee56d",
   "metadata": {},
   "outputs": [],
   "source": [
    "df_knn['es_fraude'] = prediccion_knn\n"
   ]
  },
  {
   "cell_type": "code",
   "execution_count": 147,
   "id": "b5e472be",
   "metadata": {},
   "outputs": [
    {
     "data": {
      "text/html": [
       "<div>\n",
       "<style scoped>\n",
       "    .dataframe tbody tr th:only-of-type {\n",
       "        vertical-align: middle;\n",
       "    }\n",
       "\n",
       "    .dataframe tbody tr th {\n",
       "        vertical-align: top;\n",
       "    }\n",
       "\n",
       "    .dataframe thead th {\n",
       "        text-align: right;\n",
       "    }\n",
       "</style>\n",
       "<table border=\"1\" class=\"dataframe\">\n",
       "  <thead>\n",
       "    <tr style=\"text-align: right;\">\n",
       "      <th></th>\n",
       "      <th>t_id</th>\n",
       "      <th>es_fraude</th>\n",
       "    </tr>\n",
       "  </thead>\n",
       "  <tbody>\n",
       "    <tr>\n",
       "      <th>0</th>\n",
       "      <td>1200</td>\n",
       "      <td>0</td>\n",
       "    </tr>\n",
       "    <tr>\n",
       "      <th>1</th>\n",
       "      <td>156083</td>\n",
       "      <td>0</td>\n",
       "    </tr>\n",
       "    <tr>\n",
       "      <th>2</th>\n",
       "      <td>318471</td>\n",
       "      <td>0</td>\n",
       "    </tr>\n",
       "    <tr>\n",
       "      <th>3</th>\n",
       "      <td>330446</td>\n",
       "      <td>0</td>\n",
       "    </tr>\n",
       "    <tr>\n",
       "      <th>4</th>\n",
       "      <td>399390</td>\n",
       "      <td>0</td>\n",
       "    </tr>\n",
       "    <tr>\n",
       "      <th>5</th>\n",
       "      <td>472486</td>\n",
       "      <td>0</td>\n",
       "    </tr>\n",
       "    <tr>\n",
       "      <th>6</th>\n",
       "      <td>533676</td>\n",
       "      <td>0</td>\n",
       "    </tr>\n",
       "    <tr>\n",
       "      <th>7</th>\n",
       "      <td>543910</td>\n",
       "      <td>0</td>\n",
       "    </tr>\n",
       "    <tr>\n",
       "      <th>8</th>\n",
       "      <td>601322</td>\n",
       "      <td>0</td>\n",
       "    </tr>\n",
       "    <tr>\n",
       "      <th>9</th>\n",
       "      <td>876335</td>\n",
       "      <td>0</td>\n",
       "    </tr>\n",
       "    <tr>\n",
       "      <th>10</th>\n",
       "      <td>1012596</td>\n",
       "      <td>0</td>\n",
       "    </tr>\n",
       "    <tr>\n",
       "      <th>11</th>\n",
       "      <td>1412025</td>\n",
       "      <td>0</td>\n",
       "    </tr>\n",
       "    <tr>\n",
       "      <th>12</th>\n",
       "      <td>1571403</td>\n",
       "      <td>0</td>\n",
       "    </tr>\n",
       "    <tr>\n",
       "      <th>13</th>\n",
       "      <td>1605700</td>\n",
       "      <td>0</td>\n",
       "    </tr>\n",
       "    <tr>\n",
       "      <th>14</th>\n",
       "      <td>1724871</td>\n",
       "      <td>0</td>\n",
       "    </tr>\n",
       "    <tr>\n",
       "      <th>15</th>\n",
       "      <td>1734214</td>\n",
       "      <td>1</td>\n",
       "    </tr>\n",
       "    <tr>\n",
       "      <th>16</th>\n",
       "      <td>1819443</td>\n",
       "      <td>1</td>\n",
       "    </tr>\n",
       "    <tr>\n",
       "      <th>17</th>\n",
       "      <td>2010797</td>\n",
       "      <td>0</td>\n",
       "    </tr>\n",
       "    <tr>\n",
       "      <th>18</th>\n",
       "      <td>2047268</td>\n",
       "      <td>1</td>\n",
       "    </tr>\n",
       "    <tr>\n",
       "      <th>19</th>\n",
       "      <td>2631088</td>\n",
       "      <td>1</td>\n",
       "    </tr>\n",
       "    <tr>\n",
       "      <th>20</th>\n",
       "      <td>2640911</td>\n",
       "      <td>1</td>\n",
       "    </tr>\n",
       "    <tr>\n",
       "      <th>21</th>\n",
       "      <td>2660364</td>\n",
       "      <td>1</td>\n",
       "    </tr>\n",
       "    <tr>\n",
       "      <th>22</th>\n",
       "      <td>2829165</td>\n",
       "      <td>1</td>\n",
       "    </tr>\n",
       "    <tr>\n",
       "      <th>23</th>\n",
       "      <td>3073889</td>\n",
       "      <td>1</td>\n",
       "    </tr>\n",
       "    <tr>\n",
       "      <th>24</th>\n",
       "      <td>3107872</td>\n",
       "      <td>0</td>\n",
       "    </tr>\n",
       "    <tr>\n",
       "      <th>25</th>\n",
       "      <td>3121785</td>\n",
       "      <td>0</td>\n",
       "    </tr>\n",
       "    <tr>\n",
       "      <th>26</th>\n",
       "      <td>3345937</td>\n",
       "      <td>0</td>\n",
       "    </tr>\n",
       "    <tr>\n",
       "      <th>27</th>\n",
       "      <td>3525094</td>\n",
       "      <td>0</td>\n",
       "    </tr>\n",
       "    <tr>\n",
       "      <th>28</th>\n",
       "      <td>3773028</td>\n",
       "      <td>0</td>\n",
       "    </tr>\n",
       "    <tr>\n",
       "      <th>29</th>\n",
       "      <td>3847446</td>\n",
       "      <td>0</td>\n",
       "    </tr>\n",
       "    <tr>\n",
       "      <th>30</th>\n",
       "      <td>3979431</td>\n",
       "      <td>0</td>\n",
       "    </tr>\n",
       "    <tr>\n",
       "      <th>31</th>\n",
       "      <td>3995359</td>\n",
       "      <td>0</td>\n",
       "    </tr>\n",
       "    <tr>\n",
       "      <th>32</th>\n",
       "      <td>4259572</td>\n",
       "      <td>1</td>\n",
       "    </tr>\n",
       "    <tr>\n",
       "      <th>33</th>\n",
       "      <td>4629351</td>\n",
       "      <td>0</td>\n",
       "    </tr>\n",
       "    <tr>\n",
       "      <th>34</th>\n",
       "      <td>4812661</td>\n",
       "      <td>1</td>\n",
       "    </tr>\n",
       "    <tr>\n",
       "      <th>35</th>\n",
       "      <td>5009067</td>\n",
       "      <td>1</td>\n",
       "    </tr>\n",
       "    <tr>\n",
       "      <th>36</th>\n",
       "      <td>5049094</td>\n",
       "      <td>0</td>\n",
       "    </tr>\n",
       "    <tr>\n",
       "      <th>37</th>\n",
       "      <td>5226213</td>\n",
       "      <td>1</td>\n",
       "    </tr>\n",
       "    <tr>\n",
       "      <th>38</th>\n",
       "      <td>5323742</td>\n",
       "      <td>1</td>\n",
       "    </tr>\n",
       "    <tr>\n",
       "      <th>39</th>\n",
       "      <td>5366311</td>\n",
       "      <td>0</td>\n",
       "    </tr>\n",
       "    <tr>\n",
       "      <th>40</th>\n",
       "      <td>5437377</td>\n",
       "      <td>0</td>\n",
       "    </tr>\n",
       "    <tr>\n",
       "      <th>41</th>\n",
       "      <td>5454303</td>\n",
       "      <td>0</td>\n",
       "    </tr>\n",
       "    <tr>\n",
       "      <th>42</th>\n",
       "      <td>5600136</td>\n",
       "      <td>1</td>\n",
       "    </tr>\n",
       "    <tr>\n",
       "      <th>43</th>\n",
       "      <td>5716386</td>\n",
       "      <td>0</td>\n",
       "    </tr>\n",
       "    <tr>\n",
       "      <th>44</th>\n",
       "      <td>6168485</td>\n",
       "      <td>1</td>\n",
       "    </tr>\n",
       "    <tr>\n",
       "      <th>45</th>\n",
       "      <td>6201410</td>\n",
       "      <td>1</td>\n",
       "    </tr>\n",
       "    <tr>\n",
       "      <th>46</th>\n",
       "      <td>6223327</td>\n",
       "      <td>1</td>\n",
       "    </tr>\n",
       "    <tr>\n",
       "      <th>47</th>\n",
       "      <td>6273796</td>\n",
       "      <td>1</td>\n",
       "    </tr>\n",
       "    <tr>\n",
       "      <th>48</th>\n",
       "      <td>6278033</td>\n",
       "      <td>1</td>\n",
       "    </tr>\n",
       "  </tbody>\n",
       "</table>\n",
       "</div>"
      ],
      "text/plain": [
       "       t_id  es_fraude\n",
       "0      1200          0\n",
       "1    156083          0\n",
       "2    318471          0\n",
       "3    330446          0\n",
       "4    399390          0\n",
       "5    472486          0\n",
       "6    533676          0\n",
       "7    543910          0\n",
       "8    601322          0\n",
       "9    876335          0\n",
       "10  1012596          0\n",
       "11  1412025          0\n",
       "12  1571403          0\n",
       "13  1605700          0\n",
       "14  1724871          0\n",
       "15  1734214          1\n",
       "16  1819443          1\n",
       "17  2010797          0\n",
       "18  2047268          1\n",
       "19  2631088          1\n",
       "20  2640911          1\n",
       "21  2660364          1\n",
       "22  2829165          1\n",
       "23  3073889          1\n",
       "24  3107872          0\n",
       "25  3121785          0\n",
       "26  3345937          0\n",
       "27  3525094          0\n",
       "28  3773028          0\n",
       "29  3847446          0\n",
       "30  3979431          0\n",
       "31  3995359          0\n",
       "32  4259572          1\n",
       "33  4629351          0\n",
       "34  4812661          1\n",
       "35  5009067          1\n",
       "36  5049094          0\n",
       "37  5226213          1\n",
       "38  5323742          1\n",
       "39  5366311          0\n",
       "40  5437377          0\n",
       "41  5454303          0\n",
       "42  5600136          1\n",
       "43  5716386          0\n",
       "44  6168485          1\n",
       "45  6201410          1\n",
       "46  6223327          1\n",
       "47  6273796          1\n",
       "48  6278033          1"
      ]
     },
     "execution_count": 147,
     "metadata": {},
     "output_type": "execute_result"
    }
   ],
   "source": [
    "df_knn"
   ]
  },
  {
   "cell_type": "code",
   "execution_count": 160,
   "id": "df33b505",
   "metadata": {},
   "outputs": [],
   "source": [
    "filtro2 = (a_predecir['tipo']  == 'DEBIT') | (a_predecir['tipo']  == 'CASH_IN')  | (a_predecir['tipo']  == 'PAYMENT')   "
   ]
  },
  {
   "cell_type": "code",
   "execution_count": 161,
   "id": "77c42cc0",
   "metadata": {},
   "outputs": [],
   "source": [
    "df_fraude3 =  a_predecir[filtro2]"
   ]
  },
  {
   "cell_type": "code",
   "execution_count": 163,
   "id": "0cf770c0",
   "metadata": {},
   "outputs": [],
   "source": [
    "ID3 = df_fraude3['t_id']"
   ]
  },
  {
   "cell_type": "code",
   "execution_count": 164,
   "id": "0534bb4a",
   "metadata": {},
   "outputs": [],
   "source": [
    "ID3 = pd.DataFrame(data=ID3.values, columns=['t_id'])"
   ]
  },
  {
   "cell_type": "code",
   "execution_count": 166,
   "id": "cd156ba6",
   "metadata": {},
   "outputs": [],
   "source": [
    "final_knn = df_knn.merge(ID3, how='outer', on = ['t_id'])"
   ]
  },
  {
   "cell_type": "code",
   "execution_count": 168,
   "id": "e8d89867",
   "metadata": {},
   "outputs": [],
   "source": [
    "final_knn.fillna({'es_fraude': 0 }, inplace=True)"
   ]
  },
  {
   "cell_type": "code",
   "execution_count": 169,
   "id": "dec671ff",
   "metadata": {},
   "outputs": [],
   "source": [
    "final_knn = pd.DataFrame(data = final_knn , columns=['t_id','es_fraude'])"
   ]
  },
  {
   "cell_type": "code",
   "execution_count": 171,
   "id": "61cccceb",
   "metadata": {},
   "outputs": [],
   "source": [
    "final_knn['es_fraude'] = final_knn['es_fraude'].astype(int)"
   ]
  },
  {
   "cell_type": "code",
   "execution_count": 177,
   "id": "7ef28d2b",
   "metadata": {},
   "outputs": [
    {
     "data": {
      "text/html": [
       "<div>\n",
       "<style scoped>\n",
       "    .dataframe tbody tr th:only-of-type {\n",
       "        vertical-align: middle;\n",
       "    }\n",
       "\n",
       "    .dataframe tbody tr th {\n",
       "        vertical-align: top;\n",
       "    }\n",
       "\n",
       "    .dataframe thead th {\n",
       "        text-align: right;\n",
       "    }\n",
       "</style>\n",
       "<table border=\"1\" class=\"dataframe\">\n",
       "  <thead>\n",
       "    <tr style=\"text-align: right;\">\n",
       "      <th></th>\n",
       "      <th>t_id</th>\n",
       "      <th>es_fraude</th>\n",
       "    </tr>\n",
       "  </thead>\n",
       "  <tbody>\n",
       "    <tr>\n",
       "      <th>0</th>\n",
       "      <td>1200</td>\n",
       "      <td>0</td>\n",
       "    </tr>\n",
       "    <tr>\n",
       "      <th>1</th>\n",
       "      <td>156083</td>\n",
       "      <td>0</td>\n",
       "    </tr>\n",
       "    <tr>\n",
       "      <th>2</th>\n",
       "      <td>318471</td>\n",
       "      <td>0</td>\n",
       "    </tr>\n",
       "    <tr>\n",
       "      <th>3</th>\n",
       "      <td>330446</td>\n",
       "      <td>0</td>\n",
       "    </tr>\n",
       "    <tr>\n",
       "      <th>4</th>\n",
       "      <td>399390</td>\n",
       "      <td>0</td>\n",
       "    </tr>\n",
       "    <tr>\n",
       "      <th>5</th>\n",
       "      <td>472486</td>\n",
       "      <td>0</td>\n",
       "    </tr>\n",
       "    <tr>\n",
       "      <th>6</th>\n",
       "      <td>533676</td>\n",
       "      <td>0</td>\n",
       "    </tr>\n",
       "    <tr>\n",
       "      <th>7</th>\n",
       "      <td>543910</td>\n",
       "      <td>0</td>\n",
       "    </tr>\n",
       "    <tr>\n",
       "      <th>8</th>\n",
       "      <td>601322</td>\n",
       "      <td>0</td>\n",
       "    </tr>\n",
       "    <tr>\n",
       "      <th>9</th>\n",
       "      <td>876335</td>\n",
       "      <td>0</td>\n",
       "    </tr>\n",
       "    <tr>\n",
       "      <th>10</th>\n",
       "      <td>1012596</td>\n",
       "      <td>0</td>\n",
       "    </tr>\n",
       "    <tr>\n",
       "      <th>11</th>\n",
       "      <td>1412025</td>\n",
       "      <td>0</td>\n",
       "    </tr>\n",
       "    <tr>\n",
       "      <th>12</th>\n",
       "      <td>1571403</td>\n",
       "      <td>0</td>\n",
       "    </tr>\n",
       "    <tr>\n",
       "      <th>13</th>\n",
       "      <td>1605700</td>\n",
       "      <td>0</td>\n",
       "    </tr>\n",
       "    <tr>\n",
       "      <th>14</th>\n",
       "      <td>1724871</td>\n",
       "      <td>0</td>\n",
       "    </tr>\n",
       "    <tr>\n",
       "      <th>15</th>\n",
       "      <td>1734214</td>\n",
       "      <td>1</td>\n",
       "    </tr>\n",
       "    <tr>\n",
       "      <th>16</th>\n",
       "      <td>1819443</td>\n",
       "      <td>1</td>\n",
       "    </tr>\n",
       "    <tr>\n",
       "      <th>17</th>\n",
       "      <td>2010797</td>\n",
       "      <td>0</td>\n",
       "    </tr>\n",
       "    <tr>\n",
       "      <th>18</th>\n",
       "      <td>2047268</td>\n",
       "      <td>1</td>\n",
       "    </tr>\n",
       "    <tr>\n",
       "      <th>19</th>\n",
       "      <td>2631088</td>\n",
       "      <td>1</td>\n",
       "    </tr>\n",
       "    <tr>\n",
       "      <th>20</th>\n",
       "      <td>2640911</td>\n",
       "      <td>1</td>\n",
       "    </tr>\n",
       "    <tr>\n",
       "      <th>21</th>\n",
       "      <td>2660364</td>\n",
       "      <td>1</td>\n",
       "    </tr>\n",
       "    <tr>\n",
       "      <th>22</th>\n",
       "      <td>2829165</td>\n",
       "      <td>1</td>\n",
       "    </tr>\n",
       "    <tr>\n",
       "      <th>23</th>\n",
       "      <td>3073889</td>\n",
       "      <td>1</td>\n",
       "    </tr>\n",
       "    <tr>\n",
       "      <th>24</th>\n",
       "      <td>3107872</td>\n",
       "      <td>0</td>\n",
       "    </tr>\n",
       "  </tbody>\n",
       "</table>\n",
       "</div>"
      ],
      "text/plain": [
       "       t_id  es_fraude\n",
       "0      1200          0\n",
       "1    156083          0\n",
       "2    318471          0\n",
       "3    330446          0\n",
       "4    399390          0\n",
       "5    472486          0\n",
       "6    533676          0\n",
       "7    543910          0\n",
       "8    601322          0\n",
       "9    876335          0\n",
       "10  1012596          0\n",
       "11  1412025          0\n",
       "12  1571403          0\n",
       "13  1605700          0\n",
       "14  1724871          0\n",
       "15  1734214          1\n",
       "16  1819443          1\n",
       "17  2010797          0\n",
       "18  2047268          1\n",
       "19  2631088          1\n",
       "20  2640911          1\n",
       "21  2660364          1\n",
       "22  2829165          1\n",
       "23  3073889          1\n",
       "24  3107872          0"
      ]
     },
     "execution_count": 177,
     "metadata": {},
     "output_type": "execute_result"
    }
   ],
   "source": [
    "final_knn.head(25)"
   ]
  },
  {
   "cell_type": "code",
   "execution_count": 174,
   "id": "fed1fcea",
   "metadata": {},
   "outputs": [
    {
     "data": {
      "text/plain": [
       "(100, 2)"
      ]
     },
     "execution_count": 174,
     "metadata": {},
     "output_type": "execute_result"
    }
   ],
   "source": [
    "final_knn.shape"
   ]
  },
  {
   "cell_type": "code",
   "execution_count": 178,
   "id": "a74b9791",
   "metadata": {},
   "outputs": [],
   "source": [
    "final_knn.to_csv('predicciones_knn.csv', index = False)"
   ]
  },
  {
   "cell_type": "markdown",
   "id": "b8e30b6b",
   "metadata": {},
   "source": [
    "## 11.4 Cargamos el modelo Random forest que guardamos y predecimos"
   ]
  },
  {
   "cell_type": "code",
   "execution_count": 179,
   "id": "4d4d7fed",
   "metadata": {},
   "outputs": [],
   "source": [
    "RF = load('knn.joblib')\n",
    "prediccion_rf = RF.predict(df_fraude2)"
   ]
  },
  {
   "cell_type": "code",
   "execution_count": 180,
   "id": "6a81281b",
   "metadata": {},
   "outputs": [],
   "source": [
    "df_rf = pd.DataFrame(data=ID.values, columns=['t_id'])"
   ]
  },
  {
   "cell_type": "code",
   "execution_count": 181,
   "id": "3a1b59c4",
   "metadata": {},
   "outputs": [],
   "source": [
    "df_rf['es_fraude'] = prediccion_rf"
   ]
  },
  {
   "cell_type": "code",
   "execution_count": 182,
   "id": "9ed86204",
   "metadata": {},
   "outputs": [],
   "source": [
    "final_rf = df_rf.merge(ID3, how='outer', on = ['t_id'])"
   ]
  },
  {
   "cell_type": "code",
   "execution_count": 183,
   "id": "64a921d8",
   "metadata": {},
   "outputs": [],
   "source": [
    "final_rf.fillna({'es_fraude': 0 }, inplace=True)"
   ]
  },
  {
   "cell_type": "code",
   "execution_count": 184,
   "id": "b8ef0c52",
   "metadata": {},
   "outputs": [],
   "source": [
    "final_rf = pd.DataFrame(data = final_rf , columns=['t_id','es_fraude'])"
   ]
  },
  {
   "cell_type": "code",
   "execution_count": 185,
   "id": "86bb77bf",
   "metadata": {},
   "outputs": [],
   "source": [
    "final_rf['es_fraude'] = final_rf['es_fraude'].astype(int)"
   ]
  },
  {
   "cell_type": "code",
   "execution_count": 189,
   "id": "f1176930",
   "metadata": {},
   "outputs": [
    {
     "data": {
      "text/plain": [
       "(100, 2)"
      ]
     },
     "execution_count": 189,
     "metadata": {},
     "output_type": "execute_result"
    }
   ],
   "source": [
    "final_rf.shape"
   ]
  },
  {
   "cell_type": "code",
   "execution_count": 190,
   "id": "32159290",
   "metadata": {},
   "outputs": [],
   "source": [
    "final_rf.to_csv('predicciones_Random_forest.csv', index = False)"
   ]
  },
  {
   "cell_type": "markdown",
   "id": "d73c3d02",
   "metadata": {},
   "source": [
    "## 11.5 Cargamos el modelo XGBoost que guardamos y predecimos"
   ]
  },
  {
   "cell_type": "code",
   "execution_count": 191,
   "id": "d52c40c1",
   "metadata": {},
   "outputs": [],
   "source": [
    "GB = load('GBoost.joblib')"
   ]
  },
  {
   "cell_type": "code",
   "execution_count": 192,
   "id": "f720c44b",
   "metadata": {},
   "outputs": [],
   "source": [
    "prediccion_GBoost = GB.predict(df_fraude2)"
   ]
  },
  {
   "cell_type": "code",
   "execution_count": 193,
   "id": "bca1f0f3",
   "metadata": {},
   "outputs": [],
   "source": [
    "df_gb = pd.DataFrame(data=ID.values, columns=['t_id'])"
   ]
  },
  {
   "cell_type": "code",
   "execution_count": 194,
   "id": "a892ca9d",
   "metadata": {},
   "outputs": [],
   "source": [
    "df_gb['es_fraude'] = prediccion_GBoost"
   ]
  },
  {
   "cell_type": "code",
   "execution_count": 195,
   "id": "d878f453",
   "metadata": {},
   "outputs": [],
   "source": [
    "final_gb = df_gb.merge(ID3, how='outer', on = ['t_id'])"
   ]
  },
  {
   "cell_type": "code",
   "execution_count": 196,
   "id": "bdfb9ddc",
   "metadata": {},
   "outputs": [],
   "source": [
    "final_gb.fillna({'es_fraude': 0 }, inplace=True)"
   ]
  },
  {
   "cell_type": "code",
   "execution_count": 197,
   "id": "bb8c3414",
   "metadata": {},
   "outputs": [],
   "source": [
    "final_gb = pd.DataFrame(data = final_gb , columns=['t_id','es_fraude'])"
   ]
  },
  {
   "cell_type": "code",
   "execution_count": 198,
   "id": "34f7c404",
   "metadata": {},
   "outputs": [],
   "source": [
    "final_gb['es_fraude'] = final_gb['es_fraude'].astype(int)"
   ]
  },
  {
   "cell_type": "code",
   "execution_count": 202,
   "id": "6eb2d565",
   "metadata": {},
   "outputs": [
    {
     "data": {
      "text/plain": [
       "(100, 2)"
      ]
     },
     "execution_count": 202,
     "metadata": {},
     "output_type": "execute_result"
    }
   ],
   "source": [
    "final_gb.shape"
   ]
  },
  {
   "cell_type": "code",
   "execution_count": 203,
   "id": "54f4a86f",
   "metadata": {},
   "outputs": [],
   "source": [
    "final_gb.to_csv('predicciones_GBoost.csv', index = False)"
   ]
  },
  {
   "cell_type": "markdown",
   "id": "a9d4555c",
   "metadata": {},
   "source": [
    "## 11.6 Cargamos el modelo de Redes neuronales que guardamos y predecimos"
   ]
  },
  {
   "cell_type": "code",
   "execution_count": 204,
   "id": "020a16b5",
   "metadata": {},
   "outputs": [],
   "source": [
    "red = keras.models.load_model('C:\\Documents\\Python Scripts.h5')"
   ]
  },
  {
   "cell_type": "code",
   "execution_count": 205,
   "id": "c337e855",
   "metadata": {},
   "outputs": [
    {
     "name": "stdout",
     "output_type": "stream",
     "text": [
      "2/2 [==============================] - 0s 0s/step\n"
     ]
    }
   ],
   "source": [
    "prediccion_red = red.predict(df_fraude2)"
   ]
  },
  {
   "cell_type": "code",
   "execution_count": 206,
   "id": "c1f328e9",
   "metadata": {},
   "outputs": [],
   "source": [
    "df_red = pd.DataFrame(data=ID.values, columns=['t_id'])"
   ]
  },
  {
   "cell_type": "code",
   "execution_count": 207,
   "id": "fe020394",
   "metadata": {},
   "outputs": [],
   "source": [
    "df_red['es_fraude'] = prediccion_red "
   ]
  },
  {
   "cell_type": "code",
   "execution_count": 208,
   "id": "51121e60",
   "metadata": {},
   "outputs": [],
   "source": [
    "final_red = df_red.merge(ID3, how='outer', on = ['t_id'])"
   ]
  },
  {
   "cell_type": "code",
   "execution_count": 209,
   "id": "af855bf5",
   "metadata": {},
   "outputs": [],
   "source": [
    "final_red.fillna({'es_fraude': 0 }, inplace=True)"
   ]
  },
  {
   "cell_type": "code",
   "execution_count": 210,
   "id": "a348b58f",
   "metadata": {},
   "outputs": [],
   "source": [
    "final_red = pd.DataFrame(data = final_red , columns=['t_id','es_fraude'])"
   ]
  },
  {
   "cell_type": "code",
   "execution_count": 211,
   "id": "fb7d53e1",
   "metadata": {},
   "outputs": [],
   "source": [
    "final_red['es_fraude'] = final_red['es_fraude'].astype(int)"
   ]
  },
  {
   "cell_type": "code",
   "execution_count": 213,
   "id": "d76180ee",
   "metadata": {},
   "outputs": [
    {
     "data": {
      "text/plain": [
       "(100, 2)"
      ]
     },
     "execution_count": 213,
     "metadata": {},
     "output_type": "execute_result"
    }
   ],
   "source": [
    "final_red.shape"
   ]
  },
  {
   "cell_type": "code",
   "execution_count": 214,
   "id": "7dc906d3",
   "metadata": {},
   "outputs": [],
   "source": [
    "final_red.to_csv('predicciones_red.csv', index = False)"
   ]
  },
  {
   "cell_type": "markdown",
   "id": "bd29b8bc",
   "metadata": {},
   "source": [
    "## by Maria Belen Camandone"
   ]
  }
 ],
 "metadata": {
  "kernelspec": {
   "display_name": "Python 3 (ipykernel)",
   "language": "python",
   "name": "python3"
  },
  "language_info": {
   "codemirror_mode": {
    "name": "ipython",
    "version": 3
   },
   "file_extension": ".py",
   "mimetype": "text/x-python",
   "name": "python",
   "nbconvert_exporter": "python",
   "pygments_lexer": "ipython3",
   "version": "3.9.13"
  }
 },
 "nbformat": 4,
 "nbformat_minor": 5
}
