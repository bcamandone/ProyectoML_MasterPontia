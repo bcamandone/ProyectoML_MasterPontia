{
 "cells": [
  {
   "cell_type": "markdown",
   "id": "e361fabb",
   "metadata": {},
   "source": [
    "## EDA"
   ]
  },
  {
   "cell_type": "markdown",
   "id": "99d89df5",
   "metadata": {},
   "source": [
    "Importamos las librerias "
   ]
  },
  {
   "cell_type": "code",
   "execution_count": 80,
   "id": "25f72b74",
   "metadata": {},
   "outputs": [],
   "source": [
    "import pandas as pd\n",
    "import numpy as np\n",
    "import matplotlib as mpl\n",
    "import matplotlib.pyplot as plt\n",
    "import plotly.express as px\n",
    "import seaborn as sns\n",
    "import scipy.stats as stats\n",
    "import scipy \n",
    "from datatile.summary.df import DataFrameSummary\n",
    "\n"
   ]
  },
  {
   "cell_type": "code",
   "execution_count": 2,
   "id": "91701e19",
   "metadata": {},
   "outputs": [],
   "source": [
    "import sys\n",
    "\n",
    "if not sys.warnoptions:\n",
    "    import warnings\n",
    "    warnings.simplefilter(\"ignore\")"
   ]
  },
  {
   "cell_type": "markdown",
   "id": "6210f6af",
   "metadata": {},
   "source": [
    "Lectura del dataset"
   ]
  },
  {
   "cell_type": "code",
   "execution_count": 3,
   "id": "69161c72",
   "metadata": {},
   "outputs": [],
   "source": [
    "data = pd.read_csv(\"df_completo.csv\")"
   ]
  },
  {
   "cell_type": "markdown",
   "id": "18b1f4da",
   "metadata": {},
   "source": [
    "Chequear tipo de datos "
   ]
  },
  {
   "cell_type": "code",
   "execution_count": 4,
   "id": "b7381df9",
   "metadata": {},
   "outputs": [
    {
     "data": {
      "text/plain": [
       "t_id                      int64\n",
       "tipo                     object\n",
       "fecha_final              object\n",
       "id_cliente_origen        object\n",
       "balance_prev_origen     float64\n",
       "balance_post_origen     float64\n",
       "id_cliente_destino       object\n",
       "balance_prev_destino    float64\n",
       "balance_post_destino    float64\n",
       "cuantia                 float64\n",
       "mensaje_alarma             bool\n",
       "es_fraude                  bool\n",
       "dtype: object"
      ]
     },
     "execution_count": 4,
     "metadata": {},
     "output_type": "execute_result"
    }
   ],
   "source": [
    "data.dtypes"
   ]
  },
  {
   "cell_type": "markdown",
   "id": "d7009156",
   "metadata": {},
   "source": [
    "Cambiamos el tipo de datos de la columna fecha_final que es un object a datetime"
   ]
  },
  {
   "cell_type": "code",
   "execution_count": 5,
   "id": "9a20810f",
   "metadata": {},
   "outputs": [],
   "source": [
    "data['fecha_final'] = pd.to_datetime(data['fecha_final'],  yearfirst=True)"
   ]
  },
  {
   "cell_type": "code",
   "execution_count": 6,
   "id": "a92a915d",
   "metadata": {},
   "outputs": [
    {
     "data": {
      "text/plain": [
       "t_id                             int64\n",
       "tipo                            object\n",
       "fecha_final             datetime64[ns]\n",
       "id_cliente_origen               object\n",
       "balance_prev_origen            float64\n",
       "balance_post_origen            float64\n",
       "id_cliente_destino              object\n",
       "balance_prev_destino           float64\n",
       "balance_post_destino           float64\n",
       "cuantia                        float64\n",
       "mensaje_alarma                    bool\n",
       "es_fraude                         bool\n",
       "dtype: object"
      ]
     },
     "execution_count": 6,
     "metadata": {},
     "output_type": "execute_result"
    }
   ],
   "source": [
    "data.dtypes"
   ]
  },
  {
   "cell_type": "markdown",
   "id": "0ee7507c",
   "metadata": {},
   "source": [
    "Separamos la columna fecha_final en fecha y hora para un mejor analisis "
   ]
  },
  {
   "cell_type": "code",
   "execution_count": 7,
   "id": "e3d8ade7",
   "metadata": {},
   "outputs": [],
   "source": [
    "data['fecha'] = [d.date() for d in data['fecha_final']]"
   ]
  },
  {
   "cell_type": "code",
   "execution_count": 8,
   "id": "e7d5c70e",
   "metadata": {},
   "outputs": [],
   "source": [
    "data['fecha'] = pd.to_datetime(data['fecha'],  yearfirst=True)"
   ]
  },
  {
   "cell_type": "code",
   "execution_count": 9,
   "id": "32bd33e4",
   "metadata": {},
   "outputs": [],
   "source": [
    "data['hora'] = data['fecha_final'].dt.hour "
   ]
  },
  {
   "cell_type": "markdown",
   "id": "5eefc6f2",
   "metadata": {},
   "source": [
    "Chequear primeras filas "
   ]
  },
  {
   "cell_type": "code",
   "execution_count": 10,
   "id": "990a468c",
   "metadata": {
    "scrolled": true
   },
   "outputs": [
    {
     "data": {
      "text/html": [
       "<div>\n",
       "<style scoped>\n",
       "    .dataframe tbody tr th:only-of-type {\n",
       "        vertical-align: middle;\n",
       "    }\n",
       "\n",
       "    .dataframe tbody tr th {\n",
       "        vertical-align: top;\n",
       "    }\n",
       "\n",
       "    .dataframe thead th {\n",
       "        text-align: right;\n",
       "    }\n",
       "</style>\n",
       "<table border=\"1\" class=\"dataframe\">\n",
       "  <thead>\n",
       "    <tr style=\"text-align: right;\">\n",
       "      <th></th>\n",
       "      <th>t_id</th>\n",
       "      <th>tipo</th>\n",
       "      <th>fecha_final</th>\n",
       "      <th>id_cliente_origen</th>\n",
       "      <th>balance_prev_origen</th>\n",
       "      <th>balance_post_origen</th>\n",
       "      <th>id_cliente_destino</th>\n",
       "      <th>balance_prev_destino</th>\n",
       "      <th>balance_post_destino</th>\n",
       "      <th>cuantia</th>\n",
       "      <th>mensaje_alarma</th>\n",
       "      <th>es_fraude</th>\n",
       "      <th>fecha</th>\n",
       "      <th>hora</th>\n",
       "    </tr>\n",
       "  </thead>\n",
       "  <tbody>\n",
       "    <tr>\n",
       "      <th>0</th>\n",
       "      <td>0</td>\n",
       "      <td>PAYMENT</td>\n",
       "      <td>2022-09-01 08:00:00</td>\n",
       "      <td>C1231006815</td>\n",
       "      <td>170136.0</td>\n",
       "      <td>160296.36</td>\n",
       "      <td>M1979787155</td>\n",
       "      <td>0.0</td>\n",
       "      <td>0.0</td>\n",
       "      <td>9839.64</td>\n",
       "      <td>False</td>\n",
       "      <td>False</td>\n",
       "      <td>2022-09-01</td>\n",
       "      <td>8</td>\n",
       "    </tr>\n",
       "    <tr>\n",
       "      <th>1</th>\n",
       "      <td>1</td>\n",
       "      <td>PAYMENT</td>\n",
       "      <td>2022-09-01 08:00:00</td>\n",
       "      <td>C1666544295</td>\n",
       "      <td>21249.0</td>\n",
       "      <td>19384.72</td>\n",
       "      <td>M2044282225</td>\n",
       "      <td>0.0</td>\n",
       "      <td>0.0</td>\n",
       "      <td>1864.28</td>\n",
       "      <td>False</td>\n",
       "      <td>False</td>\n",
       "      <td>2022-09-01</td>\n",
       "      <td>8</td>\n",
       "    </tr>\n",
       "    <tr>\n",
       "      <th>2</th>\n",
       "      <td>2</td>\n",
       "      <td>TRANSFER</td>\n",
       "      <td>2022-09-01 08:00:00</td>\n",
       "      <td>C1305486145</td>\n",
       "      <td>181.0</td>\n",
       "      <td>0.00</td>\n",
       "      <td>C553264065</td>\n",
       "      <td>0.0</td>\n",
       "      <td>0.0</td>\n",
       "      <td>181.00</td>\n",
       "      <td>False</td>\n",
       "      <td>True</td>\n",
       "      <td>2022-09-01</td>\n",
       "      <td>8</td>\n",
       "    </tr>\n",
       "  </tbody>\n",
       "</table>\n",
       "</div>"
      ],
      "text/plain": [
       "   t_id      tipo         fecha_final id_cliente_origen  balance_prev_origen  \\\n",
       "0     0   PAYMENT 2022-09-01 08:00:00       C1231006815             170136.0   \n",
       "1     1   PAYMENT 2022-09-01 08:00:00       C1666544295              21249.0   \n",
       "2     2  TRANSFER 2022-09-01 08:00:00       C1305486145                181.0   \n",
       "\n",
       "   balance_post_origen id_cliente_destino  balance_prev_destino  \\\n",
       "0            160296.36        M1979787155                   0.0   \n",
       "1             19384.72        M2044282225                   0.0   \n",
       "2                 0.00         C553264065                   0.0   \n",
       "\n",
       "   balance_post_destino  cuantia  mensaje_alarma  es_fraude      fecha  hora  \n",
       "0                   0.0  9839.64           False      False 2022-09-01     8  \n",
       "1                   0.0  1864.28           False      False 2022-09-01     8  \n",
       "2                   0.0   181.00           False       True 2022-09-01     8  "
      ]
     },
     "execution_count": 10,
     "metadata": {},
     "output_type": "execute_result"
    }
   ],
   "source": [
    "data.head(3)"
   ]
  },
  {
   "cell_type": "markdown",
   "id": "29e9d612",
   "metadata": {},
   "source": [
    "Chequear tamaño del dataset "
   ]
  },
  {
   "cell_type": "code",
   "execution_count": 11,
   "id": "04f252a9",
   "metadata": {},
   "outputs": [
    {
     "data": {
      "text/plain": [
       "(6362520, 14)"
      ]
     },
     "execution_count": 11,
     "metadata": {},
     "output_type": "execute_result"
    }
   ],
   "source": [
    "data.shape"
   ]
  },
  {
   "cell_type": "markdown",
   "id": "416d97b4",
   "metadata": {},
   "source": [
    "Chequear columnas del dataset"
   ]
  },
  {
   "cell_type": "code",
   "execution_count": 11,
   "id": "4ec34d92",
   "metadata": {},
   "outputs": [
    {
     "data": {
      "text/plain": [
       "Index(['t_id', 'tipo', 'fecha_final', 'id_cliente_origen',\n",
       "       'balance_prev_origen', 'balance_post_origen', 'id_cliente_destino',\n",
       "       'balance_prev_destino', 'balance_post_destino', 'cuantia',\n",
       "       'mensaje_alarma', 'es_fraude', 'fecha', 'hora'],\n",
       "      dtype='object')"
      ]
     },
     "execution_count": 11,
     "metadata": {},
     "output_type": "execute_result"
    }
   ],
   "source": [
    "data.columns"
   ]
  },
  {
   "cell_type": "markdown",
   "id": "152266e3",
   "metadata": {},
   "source": [
    "## Realizaremos el EDA para las transacciones que fueron fraude y que no fueron fraude, por separado "
   ]
  },
  {
   "cell_type": "code",
   "execution_count": 12,
   "id": "00e7ee19",
   "metadata": {},
   "outputs": [],
   "source": [
    "df_fraudes = data[data['es_fraude']]"
   ]
  },
  {
   "cell_type": "code",
   "execution_count": 13,
   "id": "b2928e4c",
   "metadata": {},
   "outputs": [],
   "source": [
    "no_fraudes = data['es_fraude'] == False\n",
    "df = data[no_fraudes]"
   ]
  },
  {
   "cell_type": "code",
   "execution_count": 14,
   "id": "02f859a3",
   "metadata": {},
   "outputs": [
    {
     "data": {
      "text/plain": [
       "(8209, 14)"
      ]
     },
     "execution_count": 14,
     "metadata": {},
     "output_type": "execute_result"
    }
   ],
   "source": [
    "df_fraudes.shape"
   ]
  },
  {
   "cell_type": "code",
   "execution_count": 15,
   "id": "a60e2c57",
   "metadata": {},
   "outputs": [
    {
     "data": {
      "text/plain": [
       "(6354311, 14)"
      ]
     },
     "execution_count": 15,
     "metadata": {},
     "output_type": "execute_result"
    }
   ],
   "source": [
    "df.shape"
   ]
  },
  {
   "cell_type": "markdown",
   "id": "f9ec95dd",
   "metadata": {},
   "source": [
    "**Búsqueda de valores nulos "
   ]
  },
  {
   "cell_type": "code",
   "execution_count": 16,
   "id": "e90da629",
   "metadata": {},
   "outputs": [
    {
     "name": "stdout",
     "output_type": "stream",
     "text": [
      "t_id                    0\n",
      "tipo                    0\n",
      "fecha_final             0\n",
      "id_cliente_origen       0\n",
      "balance_prev_origen     0\n",
      "balance_post_origen     0\n",
      "id_cliente_destino      0\n",
      "balance_prev_destino    0\n",
      "balance_post_destino    0\n",
      "cuantia                 0\n",
      "mensaje_alarma          0\n",
      "es_fraude               0\n",
      "fecha                   0\n",
      "hora                    0\n",
      "dtype: int64\n"
     ]
    }
   ],
   "source": [
    "print(df_fraudes.isnull().sum(axis = 0))"
   ]
  },
  {
   "cell_type": "code",
   "execution_count": 17,
   "id": "8f2a6c9b",
   "metadata": {},
   "outputs": [
    {
     "name": "stdout",
     "output_type": "stream",
     "text": [
      "t_id                    0\n",
      "tipo                    0\n",
      "fecha_final             0\n",
      "id_cliente_origen       0\n",
      "balance_prev_origen     0\n",
      "balance_post_origen     0\n",
      "id_cliente_destino      0\n",
      "balance_prev_destino    0\n",
      "balance_post_destino    0\n",
      "cuantia                 0\n",
      "mensaje_alarma          0\n",
      "es_fraude               0\n",
      "fecha                   0\n",
      "hora                    0\n",
      "dtype: int64\n"
     ]
    }
   ],
   "source": [
    "print(df.isnull().sum(axis = 0))"
   ]
  },
  {
   "cell_type": "markdown",
   "id": "f640c07a",
   "metadata": {},
   "source": [
    "**Chequeo de duplicados "
   ]
  },
  {
   "cell_type": "code",
   "execution_count": 18,
   "id": "24194a8e",
   "metadata": {},
   "outputs": [
    {
     "data": {
      "text/plain": [
       "0"
      ]
     },
     "execution_count": 18,
     "metadata": {},
     "output_type": "execute_result"
    }
   ],
   "source": [
    "df_fraudes.duplicated().sum()"
   ]
  },
  {
   "cell_type": "code",
   "execution_count": 19,
   "id": "6f935db3",
   "metadata": {},
   "outputs": [
    {
     "data": {
      "text/plain": [
       "0"
      ]
     },
     "execution_count": 19,
     "metadata": {},
     "output_type": "execute_result"
    }
   ],
   "source": [
    "df.duplicated().sum()"
   ]
  },
  {
   "cell_type": "markdown",
   "id": "8ce45851",
   "metadata": {},
   "source": [
    "## Cálculo de estadísticos descriptivos "
   ]
  },
  {
   "cell_type": "markdown",
   "id": "155b94d3",
   "metadata": {},
   "source": [
    "**Variables numéricas"
   ]
  },
  {
   "cell_type": "markdown",
   "id": "033628e2",
   "metadata": {},
   "source": [
    "**Dataset solo de transacciones fraudulentas "
   ]
  },
  {
   "cell_type": "code",
   "execution_count": 20,
   "id": "1e23cff4",
   "metadata": {},
   "outputs": [],
   "source": [
    "dff = DataFrameSummary(df_fraudes)"
   ]
  },
  {
   "cell_type": "code",
   "execution_count": 21,
   "id": "38f5db1c",
   "metadata": {},
   "outputs": [
    {
     "data": {
      "text/html": [
       "<div>\n",
       "<style scoped>\n",
       "    .dataframe tbody tr th:only-of-type {\n",
       "        vertical-align: middle;\n",
       "    }\n",
       "\n",
       "    .dataframe tbody tr th {\n",
       "        vertical-align: top;\n",
       "    }\n",
       "\n",
       "    .dataframe thead th {\n",
       "        text-align: right;\n",
       "    }\n",
       "</style>\n",
       "<table border=\"1\" class=\"dataframe\">\n",
       "  <thead>\n",
       "    <tr style=\"text-align: right;\">\n",
       "      <th></th>\n",
       "      <th>t_id</th>\n",
       "      <th>tipo</th>\n",
       "      <th>fecha_final</th>\n",
       "      <th>id_cliente_origen</th>\n",
       "      <th>balance_prev_origen</th>\n",
       "      <th>balance_post_origen</th>\n",
       "      <th>id_cliente_destino</th>\n",
       "      <th>balance_prev_destino</th>\n",
       "      <th>balance_post_destino</th>\n",
       "      <th>cuantia</th>\n",
       "      <th>mensaje_alarma</th>\n",
       "      <th>es_fraude</th>\n",
       "      <th>fecha</th>\n",
       "      <th>hora</th>\n",
       "    </tr>\n",
       "  </thead>\n",
       "  <tbody>\n",
       "    <tr>\n",
       "      <th>counts</th>\n",
       "      <td>8209</td>\n",
       "      <td>8209</td>\n",
       "      <td>8209</td>\n",
       "      <td>8209</td>\n",
       "      <td>8209</td>\n",
       "      <td>8209</td>\n",
       "      <td>8209</td>\n",
       "      <td>8209</td>\n",
       "      <td>8209</td>\n",
       "      <td>8209</td>\n",
       "      <td>8209</td>\n",
       "      <td>8209</td>\n",
       "      <td>8209</td>\n",
       "      <td>8209</td>\n",
       "    </tr>\n",
       "    <tr>\n",
       "      <th>uniques</th>\n",
       "      <td>8209</td>\n",
       "      <td>2</td>\n",
       "      <td>741</td>\n",
       "      <td>8209</td>\n",
       "      <td>4094</td>\n",
       "      <td>145</td>\n",
       "      <td>8165</td>\n",
       "      <td>2862</td>\n",
       "      <td>4065</td>\n",
       "      <td>3977</td>\n",
       "      <td>2</td>\n",
       "      <td>1</td>\n",
       "      <td>32</td>\n",
       "      <td>24</td>\n",
       "    </tr>\n",
       "    <tr>\n",
       "      <th>missing</th>\n",
       "      <td>0</td>\n",
       "      <td>0</td>\n",
       "      <td>0</td>\n",
       "      <td>0</td>\n",
       "      <td>0</td>\n",
       "      <td>0</td>\n",
       "      <td>0</td>\n",
       "      <td>0</td>\n",
       "      <td>0</td>\n",
       "      <td>0</td>\n",
       "      <td>0</td>\n",
       "      <td>0</td>\n",
       "      <td>0</td>\n",
       "      <td>0</td>\n",
       "    </tr>\n",
       "    <tr>\n",
       "      <th>missing_perc</th>\n",
       "      <td>0%</td>\n",
       "      <td>0%</td>\n",
       "      <td>0%</td>\n",
       "      <td>0%</td>\n",
       "      <td>0%</td>\n",
       "      <td>0%</td>\n",
       "      <td>0%</td>\n",
       "      <td>0%</td>\n",
       "      <td>0%</td>\n",
       "      <td>0%</td>\n",
       "      <td>0%</td>\n",
       "      <td>0%</td>\n",
       "      <td>0%</td>\n",
       "      <td>0%</td>\n",
       "    </tr>\n",
       "    <tr>\n",
       "      <th>types</th>\n",
       "      <td>numeric</td>\n",
       "      <td>bool</td>\n",
       "      <td>date</td>\n",
       "      <td>unique</td>\n",
       "      <td>numeric</td>\n",
       "      <td>numeric</td>\n",
       "      <td>categorical</td>\n",
       "      <td>numeric</td>\n",
       "      <td>numeric</td>\n",
       "      <td>numeric</td>\n",
       "      <td>bool</td>\n",
       "      <td>constant</td>\n",
       "      <td>date</td>\n",
       "      <td>numeric</td>\n",
       "    </tr>\n",
       "  </tbody>\n",
       "</table>\n",
       "</div>"
      ],
      "text/plain": [
       "                 t_id  tipo fecha_final id_cliente_origen balance_prev_origen  \\\n",
       "counts           8209  8209        8209              8209                8209   \n",
       "uniques          8209     2         741              8209                4094   \n",
       "missing             0     0           0                 0                   0   \n",
       "missing_perc       0%    0%          0%                0%                  0%   \n",
       "types         numeric  bool        date            unique             numeric   \n",
       "\n",
       "             balance_post_origen id_cliente_destino balance_prev_destino  \\\n",
       "counts                      8209               8209                 8209   \n",
       "uniques                      145               8165                 2862   \n",
       "missing                        0                  0                    0   \n",
       "missing_perc                  0%                 0%                   0%   \n",
       "types                    numeric        categorical              numeric   \n",
       "\n",
       "             balance_post_destino  cuantia mensaje_alarma es_fraude fecha  \\\n",
       "counts                       8209     8209           8209      8209  8209   \n",
       "uniques                      4065     3977              2         1    32   \n",
       "missing                         0        0              0         0     0   \n",
       "missing_perc                   0%       0%             0%        0%    0%   \n",
       "types                     numeric  numeric           bool  constant  date   \n",
       "\n",
       "                 hora  \n",
       "counts           8209  \n",
       "uniques            24  \n",
       "missing             0  \n",
       "missing_perc       0%  \n",
       "types         numeric  "
      ]
     },
     "execution_count": 21,
     "metadata": {},
     "output_type": "execute_result"
    }
   ],
   "source": [
    "dff.columns_stats"
   ]
  },
  {
   "cell_type": "markdown",
   "id": "53fe9ee5",
   "metadata": {},
   "source": [
    "Primeras conclusiones: \n",
    "- Solo existen dos tipos de transacciones que fueron fraudes\n",
    "-En el balance_prev_destino los valores unicos son considerablemente bajos al igual que en el balance_post_origen, comparando con el total de valores"
   ]
  },
  {
   "cell_type": "code",
   "execution_count": 24,
   "id": "e967c8dc",
   "metadata": {},
   "outputs": [
    {
     "data": {
      "text/plain": [
       "array(['TRANSFER', 'CASH_OUT'], dtype=object)"
      ]
     },
     "execution_count": 24,
     "metadata": {},
     "output_type": "execute_result"
    }
   ],
   "source": [
    "df_fraudes['tipo'].unique()"
   ]
  },
  {
   "cell_type": "code",
   "execution_count": 22,
   "id": "2a9cefc2",
   "metadata": {},
   "outputs": [
    {
     "data": {
      "text/plain": [
       "mean                                                      1650053.070675\n",
       "std                                                       3548507.098201\n",
       "variance                                           12591902625983.509766\n",
       "min                                                                  0.0\n",
       "max                                                          59585040.37\n",
       "mode                                                          10000000.0\n",
       "5%                                                             16234.028\n",
       "25%                                                            125822.44\n",
       "50%                                                            438983.45\n",
       "75%                                                           1517771.48\n",
       "95%                                                           8020192.15\n",
       "iqr                                                           1391949.04\n",
       "kurtosis                                                       56.899021\n",
       "skewness                                                        6.016567\n",
       "sum                                                       13545285657.17\n",
       "mad                                                       1893312.744378\n",
       "cv                                                              2.150541\n",
       "zeros_num                                                             41\n",
       "zeros_perc                                                          0.5%\n",
       "deviating_of_mean                                                    115\n",
       "deviating_of_mean_perc                                              1.4%\n",
       "deviating_of_median                                                  612\n",
       "deviating_of_median_perc                                           7.46%\n",
       "top_correlations            cuantia: 85.89%, balance_post_origen: 76.78%\n",
       "counts                                                              8209\n",
       "uniques                                                             4094\n",
       "missing                                                                0\n",
       "missing_perc                                                          0%\n",
       "types                                                            numeric\n",
       "Name: balance_prev_origen, dtype: object"
      ]
     },
     "execution_count": 22,
     "metadata": {},
     "output_type": "execute_result"
    }
   ],
   "source": [
    "dff['balance_prev_origen']"
   ]
  },
  {
   "cell_type": "markdown",
   "id": "bc93b808",
   "metadata": {},
   "source": [
    "El balance previo de los clientes de origen tiene un rango de 0 a 59.585.040, con una media de 1.650.053  Euros.\n",
    "Q1 = 125.822, 44; 25% de los datos es menor que o igual a este valor\n",
    "Q2/Mediana = La mitad de los valores es menor que o igual a 438.983,45 y la otra mitad de los valores es mayor que o igual a 438.983,45\n",
    "Q3 = 75% de los datos es menor que o igual a 1.517.771,5 Euros\n",
    "IQR = 1.391.949. El el 50% intermedio de los datos está entre 1.517.771,5(Q3) y 125.822(Q1)\n",
    "Desviación estandar = 3.548.507,09\n",
    "La DS esta por encima de la media, por lo que, podemos decir que los datos estan dispersos.\n",
    "El valor mas repetido es 10.000.000\n",
    "Existe una gran asimetria positiva \n",
    "Con respecto a la curtosis, al estar muy lejos del valor 3, nuestros datos se encuentran concentrados cerca de la media, curtosis del tipo Leptocúrtica."
   ]
  },
  {
   "cell_type": "code",
   "execution_count": 25,
   "id": "7c27544a",
   "metadata": {},
   "outputs": [
    {
     "data": {
      "text/plain": [
       "mean                                      192486.379007\n",
       "std                                      1966140.771435\n",
       "variance                           3865709533099.778809\n",
       "min                                                 0.0\n",
       "max                                         49585040.37\n",
       "mode                                                0.0\n",
       "5%                                                  0.0\n",
       "25%                                                 0.0\n",
       "50%                                                 0.0\n",
       "75%                                                 0.0\n",
       "95%                                                 0.0\n",
       "iqr                                                 0.0\n",
       "kurtosis                                     241.672541\n",
       "skewness                                      14.233991\n",
       "sum                                       1580120685.27\n",
       "mad                                       377475.144241\n",
       "cv                                            10.214441\n",
       "zeros_num                                          8049\n",
       "zeros_perc                                       98.05%\n",
       "deviating_of_mean                                    78\n",
       "deviating_of_mean_perc                            0.95%\n",
       "deviating_of_median                                 143\n",
       "deviating_of_median_perc                          1.74%\n",
       "top_correlations            balance_prev_origen: 76.78%\n",
       "counts                                             8209\n",
       "uniques                                             145\n",
       "missing                                               0\n",
       "missing_perc                                         0%\n",
       "types                                           numeric\n",
       "Name: balance_post_origen, dtype: object"
      ]
     },
     "execution_count": 25,
     "metadata": {},
     "output_type": "execute_result"
    }
   ],
   "source": [
    "dff['balance_post_origen']"
   ]
  },
  {
   "cell_type": "markdown",
   "id": "191e0eab",
   "metadata": {},
   "source": [
    "El balance posterior de los clientes de origen tiene un rango de 0 a 49.585.040.37, con una media de 192.486 Euros\n",
    "El valor mas repetido es 0, tanto la mediana(Q2), como el Q1 y Q3 son cero. \n",
    "De 8209 casos de fraude, 8049 casos son 0 en el balance posterior de origen \n",
    "Desviación estandar = 1.966.140\n",
    "La DS esta muy por encima de la media, por lo que, podemos decir que los datos estan dispersos.\n",
    "Existe una gran asimetria positiva \n",
    "Con respecto a la curtosis,nuestros datos se encuentran concentrados cerca de la media, curtosis del tipo Leptocúrtica. "
   ]
  },
  {
   "cell_type": "code",
   "execution_count": 25,
   "id": "505f0ad2",
   "metadata": {},
   "outputs": [
    {
     "data": {
      "text/plain": [
       "mean                                       544511.657696\n",
       "std                                        3337212.68512\n",
       "variance                           11136988505726.960938\n",
       "min                                                  0.0\n",
       "max                                         236230516.82\n",
       "mode                                                 0.0\n",
       "5%                                                   0.0\n",
       "25%                                                  0.0\n",
       "50%                                                  0.0\n",
       "75%                                            147929.48\n",
       "95%                                          2657455.592\n",
       "iqr                                            147929.48\n",
       "kurtosis                                     3069.262611\n",
       "skewness                                       45.847611\n",
       "sum                                        4469896198.03\n",
       "mad                                        849836.022867\n",
       "cv                                              6.128818\n",
       "zeros_num                                           5348\n",
       "zeros_perc                                        65.15%\n",
       "deviating_of_mean                                     66\n",
       "deviating_of_mean_perc                              0.8%\n",
       "deviating_of_median                                  428\n",
       "deviating_of_median_perc                           5.21%\n",
       "top_correlations            balance_post_destino: 88.04%\n",
       "counts                                              8209\n",
       "uniques                                             2862\n",
       "missing                                                0\n",
       "missing_perc                                          0%\n",
       "types                                            numeric\n",
       "Name: balance_prev_destino, dtype: object"
      ]
     },
     "execution_count": 25,
     "metadata": {},
     "output_type": "execute_result"
    }
   ],
   "source": [
    "dff['balance_prev_destino']"
   ]
  },
  {
   "cell_type": "markdown",
   "id": "b3833428",
   "metadata": {},
   "source": [
    "El balance previo de los clientes de origen tiene un rango de 0 a  236.230.516,82, con una media de 544.511,65  Euros.\n",
    "Q1 = 0\n",
    "Q2/Mediana = 0\n",
    "Q3 = 75% de los datos es menor que o igual a 147.929,48 Euros\n",
    "IQR = 147.929,48. El el 50% intermedio de los datos está entre 147.929,48(Q3) y 0(Q1)\n",
    "Desviación estandar = 3.337.212,68\n",
    "La DS esta muy por encima de la media, por lo que, podemos decir que los datos estan dispersos.\n",
    "El valor mas repetido es cero\n",
    "Existe una gran asimetria positiva \n",
    "Con respecto a la curtosis, al estar muy lejos del valor 3, nuestros datos se encuentran concentrados cerca de la media, curtosis del tipo Leptocúrtica."
   ]
  },
  {
   "cell_type": "code",
   "execution_count": 26,
   "id": "874e8779",
   "metadata": {},
   "outputs": [
    {
     "data": {
      "text/plain": [
       "mean                                      1280155.471453\n",
       "std                                       3909692.744389\n",
       "variance                           15285697355531.787109\n",
       "min                                                  0.0\n",
       "max                                         236726494.66\n",
       "mode                                                 0.0\n",
       "5%                                                   0.0\n",
       "25%                                                  0.0\n",
       "50%                                              4676.42\n",
       "75%                                           1058725.22\n",
       "95%                                          7369487.416\n",
       "iqr                                           1058725.22\n",
       "kurtosis                                     1623.077629\n",
       "skewness                                       28.978526\n",
       "sum                                       10508796265.16\n",
       "mad                                       1714367.563222\n",
       "cv                                              3.054077\n",
       "zeros_num                                           4089\n",
       "zeros_perc                                        49.81%\n",
       "deviating_of_mean                                     54\n",
       "deviating_of_mean_perc                             0.66%\n",
       "deviating_of_median                                  620\n",
       "deviating_of_median_perc                           7.55%\n",
       "top_correlations            balance_prev_destino: 88.04%\n",
       "counts                                              8209\n",
       "uniques                                             4065\n",
       "missing                                                0\n",
       "missing_perc                                          0%\n",
       "types                                            numeric\n",
       "Name: balance_post_destino, dtype: object"
      ]
     },
     "execution_count": 26,
     "metadata": {},
     "output_type": "execute_result"
    }
   ],
   "source": [
    "dff['balance_post_destino']"
   ]
  },
  {
   "cell_type": "markdown",
   "id": "3f2108f4",
   "metadata": {},
   "source": [
    "El balance previo de los clientes de origen tiene un rango de 0 a  236.726.494,66, con una media de 1.280.155,47  Euros.\n",
    "Q1 = 0\n",
    "Q2/Mediana = La mitad de los valores es menor que o igual a 4676.42 y la otra mitad de los valores es mayor que o igual a 4676.42\n",
    "Q3 = 75% de los datos es menor que o igual a 1.058.725,22 Euros\n",
    "IQR = 1.058.725,22 El el 50% intermedio de los datos está entre 1.058.725,22(Q3) y 0(Q1)\n",
    "Desviación estandar = 3.909.692,74\n",
    "La DS esta por encima de la media, por lo que, podemos decir que los datos estan dispersos.\n",
    "El valor mas repetido es cero\n",
    "Existe una gran asimetria positiva \n",
    "Con respecto a la curtosis, al estar muy lejos del valor 3, nuestros datos se encuentran concentrados cerca de la media, curtosis del tipo Leptocúrtica."
   ]
  },
  {
   "cell_type": "code",
   "execution_count": 27,
   "id": "975eceb6",
   "metadata": {},
   "outputs": [
    {
     "data": {
      "text/plain": [
       "mean                                     1468264.226983\n",
       "std                                      2404751.338921\n",
       "variance                            5782829002043.53418\n",
       "min                                                 0.0\n",
       "max                                          10000000.0\n",
       "mode                                         10000000.0\n",
       "5%                                             17484.29\n",
       "25%                                           127091.33\n",
       "50%                                           441423.44\n",
       "75%                                          1517771.48\n",
       "95%                                          8006429.04\n",
       "iqr                                          1390680.15\n",
       "kurtosis                                        4.99007\n",
       "skewness                                       2.384497\n",
       "sum                                  12052981039.299999\n",
       "mad                                      1617119.693632\n",
       "cv                                             1.637819\n",
       "zeros_num                                            16\n",
       "zeros_perc                                        0.19%\n",
       "deviating_of_mean                                   368\n",
       "deviating_of_mean_perc                            4.48%\n",
       "deviating_of_median                                 706\n",
       "deviating_of_median_perc                           8.6%\n",
       "top_correlations            balance_prev_origen: 85.89%\n",
       "counts                                             8209\n",
       "uniques                                            3977\n",
       "missing                                               0\n",
       "missing_perc                                         0%\n",
       "types                                           numeric\n",
       "Name: cuantia, dtype: object"
      ]
     },
     "execution_count": 27,
     "metadata": {},
     "output_type": "execute_result"
    }
   ],
   "source": [
    "dff['cuantia']"
   ]
  },
  {
   "cell_type": "markdown",
   "id": "f49e2175",
   "metadata": {},
   "source": [
    "La cuantia de las operaciones de los clientes tiene un rango de 0 a 10.000.000, con una media de 1.468.264,22 Euros.\n",
    "Q1 = 127.091,33; 25% de los datos es menor que o igual a este valor\n",
    "Q2/Mediana = La mitad de los valores es menor que o igual a 441.423,44 y la otra mitad de los valores es mayor que o igual a 441.423,44\n",
    "Q3 = 75% de los datos es menor que o igual a 1.517.771,48 Euros\n",
    "IQR =  1.390.680,15. El el 50% intermedio de los datos está entre 1.517.771,5(Q3) y  127.091,33(Q1)\n",
    "Desviación estandar = 2.404.751,34\n",
    "La DS esta por encima de la media, por lo que, podemos decir que los datos estan dispersos.\n",
    "El valor mas repetido es 10.000.000\n",
    "Existe una asimetria positiva \n",
    "Con respecto a la curtosis,nuestros datos se encuentran concentrados cerca de la media, curtosis del tipo Leptocúrtica."
   ]
  },
  {
   "cell_type": "markdown",
   "id": "1d64bea8",
   "metadata": {},
   "source": [
    "**Variables categóricas"
   ]
  },
  {
   "cell_type": "markdown",
   "id": "9a5a11a0",
   "metadata": {},
   "source": [
    "**Dataset solo de transacciones fraudulentas"
   ]
  },
  {
   "cell_type": "code",
   "execution_count": 28,
   "id": "d59b03cc",
   "metadata": {},
   "outputs": [
    {
     "data": {
      "text/plain": [
       "CASH_OUT    0.501157\n",
       "TRANSFER    0.498843\n",
       "Name: tipo, dtype: float64"
      ]
     },
     "execution_count": 28,
     "metadata": {},
     "output_type": "execute_result"
    }
   ],
   "source": [
    "df_fraudes[\"tipo\"].value_counts(normalize=True)"
   ]
  },
  {
   "cell_type": "markdown",
   "id": "5d52b6fd",
   "metadata": {},
   "source": [
    "La cantidad de transferencias del tipo CASH_OUT  y TRANSFER se encuentra casi en la mitad "
   ]
  },
  {
   "cell_type": "code",
   "execution_count": 29,
   "id": "fb99be4f",
   "metadata": {},
   "outputs": [
    {
     "data": {
      "text/plain": [
       "False    8193\n",
       "True       16\n",
       "Name: mensaje_alarma, dtype: int64"
      ]
     },
     "execution_count": 29,
     "metadata": {},
     "output_type": "execute_result"
    }
   ],
   "source": [
    "df_fraudes[\"mensaje_alarma\"].value_counts()"
   ]
  },
  {
   "cell_type": "markdown",
   "id": "de60aa05",
   "metadata": {},
   "source": [
    "Solo saltó la alarma en 16 transacciones que fueron fraude"
   ]
  },
  {
   "cell_type": "code",
   "execution_count": 31,
   "id": "8893d7a6",
   "metadata": {},
   "outputs": [],
   "source": [
    "Clientes_origen =  df_fraudes['id_cliente_origen'].unique().tolist()"
   ]
  },
  {
   "cell_type": "code",
   "execution_count": 36,
   "id": "bc1215e7",
   "metadata": {},
   "outputs": [
    {
     "data": {
      "text/plain": [
       "8209"
      ]
     },
     "execution_count": 36,
     "metadata": {},
     "output_type": "execute_result"
    }
   ],
   "source": [
    "len(Clientes_origen)"
   ]
  },
  {
   "cell_type": "code",
   "execution_count": 32,
   "id": "3e9d0e38",
   "metadata": {},
   "outputs": [],
   "source": [
    "Clientes_destino =  df_fraudes['id_cliente_destino'].unique().tolist()"
   ]
  },
  {
   "cell_type": "code",
   "execution_count": 37,
   "id": "f7a25da2",
   "metadata": {},
   "outputs": [
    {
     "data": {
      "text/plain": [
       "8165"
      ]
     },
     "execution_count": 37,
     "metadata": {},
     "output_type": "execute_result"
    }
   ],
   "source": [
    "len(Clientes_destino)"
   ]
  },
  {
   "cell_type": "markdown",
   "id": "78323901",
   "metadata": {},
   "source": [
    "Existen 44 clientes de destino que estan repetidos "
   ]
  },
  {
   "cell_type": "code",
   "execution_count": 33,
   "id": "359c3a36",
   "metadata": {},
   "outputs": [],
   "source": [
    "clientes_unicos =  set(Clientes_origen + Clientes_destino)"
   ]
  },
  {
   "cell_type": "code",
   "execution_count": 34,
   "id": "b5f38350",
   "metadata": {},
   "outputs": [
    {
     "data": {
      "text/plain": [
       "16374"
      ]
     },
     "execution_count": 34,
     "metadata": {},
     "output_type": "execute_result"
    }
   ],
   "source": [
    "len(clientes_unicos)"
   ]
  },
  {
   "cell_type": "markdown",
   "id": "ec674468",
   "metadata": {},
   "source": [
    "Existen 16374 clientes únicos en las transacciones que fueron fraude. "
   ]
  },
  {
   "cell_type": "markdown",
   "id": "49577ef7",
   "metadata": {},
   "source": [
    "**Calculo de correlación "
   ]
  },
  {
   "cell_type": "code",
   "execution_count": 48,
   "id": "2557658d",
   "metadata": {},
   "outputs": [
    {
     "data": {
      "text/plain": [
       "Text(0.5, 1.0, 'Correlación')"
      ]
     },
     "execution_count": 48,
     "metadata": {},
     "output_type": "execute_result"
    },
    {
     "data": {
      "image/png": "[encoded data removed]",
      "text/plain": [
       "<Figure size 1000x500 with 2 Axes>"
      ]
     },
     "metadata": {},
     "output_type": "display_data"
    }
   ],
   "source": [
    "plt.figure(figsize = (10,5))\n",
    "sns.heatmap(df_fraudes.corr(),annot=True , cmap ='YlOrRd' )\n",
    "plt.title(\"Correlación\")"
   ]
  },
  {
   "cell_type": "markdown",
   "id": "fae0a16b",
   "metadata": {},
   "source": [
    "Correlaciones por encima del 0.8 son altas e implican una clara correlación entre ambas variables.\n",
    "En este caso tenemos una correlación de 0.86 entre el balance previo de origen y la cuantia; y una correlacion de 0.88 entre el balance prev y post de destino. \n"
   ]
  },
  {
   "cell_type": "markdown",
   "id": "e1a83f8d",
   "metadata": {},
   "source": [
    "**Detección de outliers "
   ]
  },
  {
   "cell_type": "code",
   "execution_count": 50,
   "id": "ba220ad6",
   "metadata": {},
   "outputs": [
    {
     "data": {
      "image/png": "[encoded data removed]",
      "text/plain": [
       "<Figure size 1500x1500 with 5 Axes>"
      ]
     },
     "metadata": {},
     "output_type": "display_data"
    }
   ],
   "source": [
    "plt.figure(figsize = (15,15))\n",
    "for i,col in enumerate(['balance_prev_origen', 'balance_post_origen', 'balance_prev_destino', 'balance_post_destino', 'cuantia']):\n",
    "    plt.subplot(4,2,i+1)\n",
    "    sns.boxplot(x = col, data = df_fraudes ,palette='Set2')\n",
    "plt.show()"
   ]
  },
  {
   "cell_type": "markdown",
   "id": "c10e43ea",
   "metadata": {},
   "source": [
    "No vamos a quitar los valores atipicos ya que no existen restricciones en el monto de las cuantias de las operaciones, y tambien nos interesa analizar estos valores en las transacciones fraudulentas. "
   ]
  },
  {
   "cell_type": "markdown",
   "id": "dd767b29",
   "metadata": {},
   "source": [
    "## EDA para las transacciones que NO fueron fraude (solo tomaremos CASH_OUT  y TRANSFER, ya que vimos que son el tipo de transacciones que fueron fraude)"
   ]
  },
  {
   "cell_type": "code",
   "execution_count": 42,
   "id": "cdca80d0",
   "metadata": {},
   "outputs": [],
   "source": [
    "filtro = (df['tipo'] == 'TRANSFER')| (df['tipo']  == 'CASH_OUT')"
   ]
  },
  {
   "cell_type": "code",
   "execution_count": 43,
   "id": "8701fdc2",
   "metadata": {},
   "outputs": [],
   "source": [
    "df1 =  df[filtro]"
   ]
  },
  {
   "cell_type": "code",
   "execution_count": 46,
   "id": "8eba61b3",
   "metadata": {},
   "outputs": [
    {
     "data": {
      "text/plain": [
       "(2762151, 14)"
      ]
     },
     "execution_count": 46,
     "metadata": {},
     "output_type": "execute_result"
    }
   ],
   "source": [
    "df1.shape"
   ]
  },
  {
   "cell_type": "code",
   "execution_count": 52,
   "id": "14e838ad",
   "metadata": {},
   "outputs": [
    {
     "data": {
      "text/plain": [
       "DescribeResult(nobs=2762151, minmax=(0.0, 43818855.3), mean=42879.2777468031, variance=18279285518.92977, skewness=50.264087192449495, kurtosis=11142.145270840118)"
      ]
     },
     "execution_count": 52,
     "metadata": {},
     "output_type": "execute_result"
    }
   ],
   "source": [
    "scipy.stats.describe(df1['balance_prev_origen'])"
   ]
  },
  {
   "cell_type": "code",
   "execution_count": 53,
   "id": "e059b788",
   "metadata": {},
   "outputs": [
    {
     "data": {
      "text/plain": [
       "DescribeResult(nobs=2762151, minmax=(0.0, 43686616.33), mean=15567.45504417029, variance=11366523208.99582, skewness=94.41900165237037, kurtosis=27678.12169159778)"
      ]
     },
     "execution_count": 53,
     "metadata": {},
     "output_type": "execute_result"
    }
   ],
   "source": [
    "scipy.stats.describe(df1['balance_post_origen'])"
   ]
  },
  {
   "cell_type": "markdown",
   "id": "3793f229",
   "metadata": {},
   "source": [
    "Comparando con las transacciones fraudulentas tenemos una media mucho menor tanto en el balance previo como en el balance post de origen "
   ]
  },
  {
   "cell_type": "code",
   "execution_count": 54,
   "id": "0578b2cb",
   "metadata": {},
   "outputs": [
    {
     "data": {
      "text/plain": [
       "DescribeResult(nobs=2762151, minmax=(0.0, 356015889.35), mean=1707006.5124975485, variance=17871507522079.75, skewness=17.12015939283157, kurtosis=666.0708981927626)"
      ]
     },
     "execution_count": 54,
     "metadata": {},
     "output_type": "execute_result"
    }
   ],
   "source": [
    "scipy.stats.describe(df1['balance_prev_destino'])"
   ]
  },
  {
   "cell_type": "code",
   "execution_count": 55,
   "id": "644634f4",
   "metadata": {},
   "outputs": [
    {
     "data": {
      "text/plain": [
       "DescribeResult(nobs=2762151, minmax=(0.0, 356179278.92), mean=2052033.8520441898, variance=21892387277819.137, skewness=16.411809138636496, kurtosis=583.4528377184726)"
      ]
     },
     "execution_count": 55,
     "metadata": {},
     "output_type": "execute_result"
    }
   ],
   "source": [
    "scipy.stats.describe(df1['balance_post_destino'])"
   ]
  },
  {
   "cell_type": "markdown",
   "id": "6e6c92d1",
   "metadata": {},
   "source": [
    "Comparando con las transacciones fraudulentas tenemos una media y un maximo que se asemejan mas "
   ]
  },
  {
   "cell_type": "code",
   "execution_count": 56,
   "id": "4448131b",
   "metadata": {},
   "outputs": [
    {
     "data": {
      "text/plain": [
       "DescribeResult(nobs=2762151, minmax=(0.01, 92445516.64), mean=314116.61160628445, variance=769392711068.9844, skewness=22.58192619917333, kurtosis=912.3578469308919)"
      ]
     },
     "execution_count": 56,
     "metadata": {},
     "output_type": "execute_result"
    }
   ],
   "source": [
    "scipy.stats.describe(df1['cuantia'])"
   ]
  },
  {
   "cell_type": "code",
   "execution_count": null,
   "id": "500346f4",
   "metadata": {},
   "outputs": [],
   "source": [
    "Comparando con las transacciones fraudulentas tenemos una media mucho menor."
   ]
  },
  {
   "cell_type": "markdown",
   "id": "47da8c8b",
   "metadata": {},
   "source": [
    "**Calculo de correlación "
   ]
  },
  {
   "cell_type": "code",
   "execution_count": 57,
   "id": "7edf5ba6",
   "metadata": {},
   "outputs": [
    {
     "data": {
      "text/plain": [
       "Text(0.5, 1.0, 'Correlación')"
      ]
     },
     "execution_count": 57,
     "metadata": {},
     "output_type": "execute_result"
    },
    {
     "data": {
      "image/png": "[encoded data removed]",
      "text/plain": [
       "<Figure size 1000x500 with 2 Axes>"
      ]
     },
     "metadata": {},
     "output_type": "display_data"
    }
   ],
   "source": [
    "plt.figure(figsize = (10,5))\n",
    "sns.heatmap(df1.corr(),annot=True , cmap ='YlOrRd' )\n",
    "plt.title(\"Correlación\")"
   ]
  },
  {
   "cell_type": "markdown",
   "id": "df626e09",
   "metadata": {},
   "source": [
    "Correlaciones por encima del 0.8 son altas e implican una clara correlación entre ambas variables.\n",
    "En este caso tenemos una correlación alta entre el balance previo y post de origen, y el balance previo y post de destino. "
   ]
  },
  {
   "cell_type": "markdown",
   "id": "2741afe6",
   "metadata": {},
   "source": [
    "**Detección de outliers"
   ]
  },
  {
   "cell_type": "code",
   "execution_count": 58,
   "id": "e777770d",
   "metadata": {},
   "outputs": [
    {
     "data": {
      "image/png": "[encoded data removed]",
      "text/plain": [
       "<Figure size 1500x1500 with 5 Axes>"
      ]
     },
     "metadata": {},
     "output_type": "display_data"
    }
   ],
   "source": [
    "plt.figure(figsize = (15,15))\n",
    "for i,col in enumerate(['balance_prev_origen', 'balance_post_origen', 'balance_prev_destino', 'balance_post_destino', 'cuantia']):\n",
    "    plt.subplot(4,2,i+1)\n",
    "    sns.boxplot(x = col, data = df1 ,palette='Set2')\n",
    "plt.show()"
   ]
  },
  {
   "cell_type": "markdown",
   "id": "3502a699",
   "metadata": {},
   "source": [
    "## Visualización y Analisis de los datos"
   ]
  },
  {
   "cell_type": "code",
   "execution_count": 65,
   "id": "784c8efd",
   "metadata": {},
   "outputs": [],
   "source": [
    "data_1 = df_fraudes[['fecha','t_id']]"
   ]
  },
  {
   "cell_type": "code",
   "execution_count": 74,
   "id": "2b63baac",
   "metadata": {},
   "outputs": [],
   "source": [
    "data_2 = data_1[['t_id','fecha']].groupby(by='fecha').count().reset_index()"
   ]
  },
  {
   "cell_type": "code",
   "execution_count": 77,
   "id": "045b819e",
   "metadata": {},
   "outputs": [
    {
     "data": {
      "text/html": [
       "<div>\n",
       "<style scoped>\n",
       "    .dataframe tbody tr th:only-of-type {\n",
       "        vertical-align: middle;\n",
       "    }\n",
       "\n",
       "    .dataframe tbody tr th {\n",
       "        vertical-align: top;\n",
       "    }\n",
       "\n",
       "    .dataframe thead th {\n",
       "        text-align: right;\n",
       "    }\n",
       "</style>\n",
       "<table border=\"1\" class=\"dataframe\">\n",
       "  <thead>\n",
       "    <tr style=\"text-align: right;\">\n",
       "      <th></th>\n",
       "      <th>fecha</th>\n",
       "      <th>t_id</th>\n",
       "    </tr>\n",
       "  </thead>\n",
       "  <tbody>\n",
       "    <tr>\n",
       "      <th>17</th>\n",
       "      <td>2022-09-18</td>\n",
       "      <td>308</td>\n",
       "    </tr>\n",
       "    <tr>\n",
       "      <th>3</th>\n",
       "      <td>2022-09-04</td>\n",
       "      <td>304</td>\n",
       "    </tr>\n",
       "    <tr>\n",
       "      <th>2</th>\n",
       "      <td>2022-09-03</td>\n",
       "      <td>290</td>\n",
       "    </tr>\n",
       "    <tr>\n",
       "      <th>9</th>\n",
       "      <td>2022-09-10</td>\n",
       "      <td>289</td>\n",
       "    </tr>\n",
       "    <tr>\n",
       "      <th>11</th>\n",
       "      <td>2022-09-12</td>\n",
       "      <td>286</td>\n",
       "    </tr>\n",
       "    <tr>\n",
       "      <th>16</th>\n",
       "      <td>2022-09-17</td>\n",
       "      <td>284</td>\n",
       "    </tr>\n",
       "    <tr>\n",
       "      <th>30</th>\n",
       "      <td>2022-10-01</td>\n",
       "      <td>284</td>\n",
       "    </tr>\n",
       "    <tr>\n",
       "      <th>6</th>\n",
       "      <td>2022-09-07</td>\n",
       "      <td>284</td>\n",
       "    </tr>\n",
       "    <tr>\n",
       "      <th>29</th>\n",
       "      <td>2022-09-30</td>\n",
       "      <td>278</td>\n",
       "    </tr>\n",
       "    <tr>\n",
       "      <th>13</th>\n",
       "      <td>2022-09-14</td>\n",
       "      <td>276</td>\n",
       "    </tr>\n",
       "    <tr>\n",
       "      <th>1</th>\n",
       "      <td>2022-09-02</td>\n",
       "      <td>275</td>\n",
       "    </tr>\n",
       "    <tr>\n",
       "      <th>26</th>\n",
       "      <td>2022-09-27</td>\n",
       "      <td>268</td>\n",
       "    </tr>\n",
       "    <tr>\n",
       "      <th>27</th>\n",
       "      <td>2022-09-28</td>\n",
       "      <td>267</td>\n",
       "    </tr>\n",
       "    <tr>\n",
       "      <th>10</th>\n",
       "      <td>2022-09-11</td>\n",
       "      <td>266</td>\n",
       "    </tr>\n",
       "    <tr>\n",
       "      <th>21</th>\n",
       "      <td>2022-09-22</td>\n",
       "      <td>266</td>\n",
       "    </tr>\n",
       "    <tr>\n",
       "      <th>23</th>\n",
       "      <td>2022-09-24</td>\n",
       "      <td>261</td>\n",
       "    </tr>\n",
       "    <tr>\n",
       "      <th>15</th>\n",
       "      <td>2022-09-16</td>\n",
       "      <td>258</td>\n",
       "    </tr>\n",
       "    <tr>\n",
       "      <th>4</th>\n",
       "      <td>2022-09-05</td>\n",
       "      <td>258</td>\n",
       "    </tr>\n",
       "    <tr>\n",
       "      <th>24</th>\n",
       "      <td>2022-09-25</td>\n",
       "      <td>257</td>\n",
       "    </tr>\n",
       "    <tr>\n",
       "      <th>25</th>\n",
       "      <td>2022-09-26</td>\n",
       "      <td>256</td>\n",
       "    </tr>\n",
       "    <tr>\n",
       "      <th>12</th>\n",
       "      <td>2022-09-13</td>\n",
       "      <td>254</td>\n",
       "    </tr>\n",
       "    <tr>\n",
       "      <th>18</th>\n",
       "      <td>2022-09-19</td>\n",
       "      <td>250</td>\n",
       "    </tr>\n",
       "    <tr>\n",
       "      <th>7</th>\n",
       "      <td>2022-09-08</td>\n",
       "      <td>249</td>\n",
       "    </tr>\n",
       "    <tr>\n",
       "      <th>19</th>\n",
       "      <td>2022-09-20</td>\n",
       "      <td>248</td>\n",
       "    </tr>\n",
       "    <tr>\n",
       "      <th>22</th>\n",
       "      <td>2022-09-23</td>\n",
       "      <td>244</td>\n",
       "    </tr>\n",
       "    <tr>\n",
       "      <th>8</th>\n",
       "      <td>2022-09-09</td>\n",
       "      <td>244</td>\n",
       "    </tr>\n",
       "    <tr>\n",
       "      <th>28</th>\n",
       "      <td>2022-09-29</td>\n",
       "      <td>234</td>\n",
       "    </tr>\n",
       "    <tr>\n",
       "      <th>20</th>\n",
       "      <td>2022-09-21</td>\n",
       "      <td>232</td>\n",
       "    </tr>\n",
       "    <tr>\n",
       "      <th>5</th>\n",
       "      <td>2022-09-06</td>\n",
       "      <td>232</td>\n",
       "    </tr>\n",
       "    <tr>\n",
       "      <th>14</th>\n",
       "      <td>2022-09-15</td>\n",
       "      <td>230</td>\n",
       "    </tr>\n",
       "    <tr>\n",
       "      <th>0</th>\n",
       "      <td>2022-09-01</td>\n",
       "      <td>197</td>\n",
       "    </tr>\n",
       "    <tr>\n",
       "      <th>31</th>\n",
       "      <td>2022-10-02</td>\n",
       "      <td>80</td>\n",
       "    </tr>\n",
       "  </tbody>\n",
       "</table>\n",
       "</div>"
      ],
      "text/plain": [
       "        fecha  t_id\n",
       "17 2022-09-18   308\n",
       "3  2022-09-04   304\n",
       "2  2022-09-03   290\n",
       "9  2022-09-10   289\n",
       "11 2022-09-12   286\n",
       "16 2022-09-17   284\n",
       "30 2022-10-01   284\n",
       "6  2022-09-07   284\n",
       "29 2022-09-30   278\n",
       "13 2022-09-14   276\n",
       "1  2022-09-02   275\n",
       "26 2022-09-27   268\n",
       "27 2022-09-28   267\n",
       "10 2022-09-11   266\n",
       "21 2022-09-22   266\n",
       "23 2022-09-24   261\n",
       "15 2022-09-16   258\n",
       "4  2022-09-05   258\n",
       "24 2022-09-25   257\n",
       "25 2022-09-26   256\n",
       "12 2022-09-13   254\n",
       "18 2022-09-19   250\n",
       "7  2022-09-08   249\n",
       "19 2022-09-20   248\n",
       "22 2022-09-23   244\n",
       "8  2022-09-09   244\n",
       "28 2022-09-29   234\n",
       "20 2022-09-21   232\n",
       "5  2022-09-06   232\n",
       "14 2022-09-15   230\n",
       "0  2022-09-01   197\n",
       "31 2022-10-02    80"
      ]
     },
     "execution_count": 77,
     "metadata": {},
     "output_type": "execute_result"
    }
   ],
   "source": [
    "data_2.sort_values(by=\"t_id\" , ascending=False )"
   ]
  },
  {
   "cell_type": "code",
   "execution_count": 67,
   "id": "0e3fb811",
   "metadata": {},
   "outputs": [
    {
     "data": {
      "image/png": "[encoded data removed]",
      "text/plain": [
       "<Figure size 1200x300 with 1 Axes>"
      ]
     },
     "metadata": {},
     "output_type": "display_data"
    }
   ],
   "source": [
    "date=data_2['fecha'] \n",
    "cantidad=data_2['t_id'] \n",
    "plt.subplots(figsize=(12, 3))\n",
    "plt.plot_date(date,cantidad, linestyle='solid') # Graficar la serie de tiempo\n",
    "plt.gcf().autofmt_xdate() # Darle formato fecha al eje x\n",
    "plt.title('Transacciones fraudulentas por fecha')\n",
    "plt.xlabel('Fecha')\n",
    "plt.ylabel('Cantidad de transacciones')\n",
    "plt.tight_layout() # Ajustar los ejes \n",
    "\n",
    "plt.show() # mostrar la grafica"
   ]
  },
  {
   "cell_type": "markdown",
   "id": "5682632e",
   "metadata": {},
   "source": [
    "La cantidad de fraudes ronda entre los 300 y 200 por dia, no hubo dias especificos donde se produjeron mas fraudes "
   ]
  },
  {
   "cell_type": "code",
   "execution_count": 68,
   "id": "baa41082",
   "metadata": {},
   "outputs": [],
   "source": [
    "data_3 = df_fraudes[['hora','t_id']]"
   ]
  },
  {
   "cell_type": "code",
   "execution_count": 69,
   "id": "29614b3f",
   "metadata": {},
   "outputs": [],
   "source": [
    "data_4 = data_3[['t_id','hora']].groupby(by='hora').count().reset_index()"
   ]
  },
  {
   "cell_type": "code",
   "execution_count": 71,
   "id": "f5b4f428",
   "metadata": {},
   "outputs": [
    {
     "data": {
      "image/png": "[encoded data removed]",
      "text/plain": [
       "<Figure size 640x480 with 1 Axes>"
      ]
     },
     "metadata": {},
     "output_type": "display_data"
    }
   ],
   "source": [
    "date=data_4['hora'] \n",
    "cantidad=data_4['t_id'] \n",
    "plt.plot(date,cantidad, linestyle='solid') # Graficar la serie de tiempo\n",
    "plt.title('Transacciones por hora')\n",
    "plt.xlabel('Hora')\n",
    "plt.ylabel('Cantidad')\n",
    "plt.xticks(range(24))\n",
    "plt.tight_layout() # Ajustar los ejes \n",
    "plt.show() # mostrar la grafica"
   ]
  },
  {
   "cell_type": "code",
   "execution_count": 78,
   "id": "76a5322b",
   "metadata": {},
   "outputs": [
    {
     "data": {
      "text/html": [
       "<div>\n",
       "<style scoped>\n",
       "    .dataframe tbody tr th:only-of-type {\n",
       "        vertical-align: middle;\n",
       "    }\n",
       "\n",
       "    .dataframe tbody tr th {\n",
       "        vertical-align: top;\n",
       "    }\n",
       "\n",
       "    .dataframe thead th {\n",
       "        text-align: right;\n",
       "    }\n",
       "</style>\n",
       "<table border=\"1\" class=\"dataframe\">\n",
       "  <thead>\n",
       "    <tr style=\"text-align: right;\">\n",
       "      <th></th>\n",
       "      <th>hora</th>\n",
       "      <th>t_id</th>\n",
       "    </tr>\n",
       "  </thead>\n",
       "  <tbody>\n",
       "    <tr>\n",
       "      <th>17</th>\n",
       "      <td>17</td>\n",
       "      <td>375</td>\n",
       "    </tr>\n",
       "    <tr>\n",
       "      <th>9</th>\n",
       "      <td>9</td>\n",
       "      <td>372</td>\n",
       "    </tr>\n",
       "    <tr>\n",
       "      <th>15</th>\n",
       "      <td>15</td>\n",
       "      <td>368</td>\n",
       "    </tr>\n",
       "    <tr>\n",
       "      <th>12</th>\n",
       "      <td>12</td>\n",
       "      <td>366</td>\n",
       "    </tr>\n",
       "    <tr>\n",
       "      <th>13</th>\n",
       "      <td>13</td>\n",
       "      <td>358</td>\n",
       "    </tr>\n",
       "    <tr>\n",
       "      <th>8</th>\n",
       "      <td>8</td>\n",
       "      <td>356</td>\n",
       "    </tr>\n",
       "    <tr>\n",
       "      <th>21</th>\n",
       "      <td>21</td>\n",
       "      <td>353</td>\n",
       "    </tr>\n",
       "    <tr>\n",
       "      <th>0</th>\n",
       "      <td>0</td>\n",
       "      <td>351</td>\n",
       "    </tr>\n",
       "    <tr>\n",
       "      <th>5</th>\n",
       "      <td>5</td>\n",
       "      <td>351</td>\n",
       "    </tr>\n",
       "    <tr>\n",
       "      <th>4</th>\n",
       "      <td>4</td>\n",
       "      <td>347</td>\n",
       "    </tr>\n",
       "    <tr>\n",
       "      <th>20</th>\n",
       "      <td>20</td>\n",
       "      <td>346</td>\n",
       "    </tr>\n",
       "    <tr>\n",
       "      <th>23</th>\n",
       "      <td>23</td>\n",
       "      <td>345</td>\n",
       "    </tr>\n",
       "    <tr>\n",
       "      <th>1</th>\n",
       "      <td>1</td>\n",
       "      <td>343</td>\n",
       "    </tr>\n",
       "    <tr>\n",
       "      <th>2</th>\n",
       "      <td>2</td>\n",
       "      <td>342</td>\n",
       "    </tr>\n",
       "    <tr>\n",
       "      <th>16</th>\n",
       "      <td>16</td>\n",
       "      <td>341</td>\n",
       "    </tr>\n",
       "    <tr>\n",
       "      <th>22</th>\n",
       "      <td>22</td>\n",
       "      <td>341</td>\n",
       "    </tr>\n",
       "    <tr>\n",
       "      <th>3</th>\n",
       "      <td>3</td>\n",
       "      <td>340</td>\n",
       "    </tr>\n",
       "    <tr>\n",
       "      <th>19</th>\n",
       "      <td>19</td>\n",
       "      <td>339</td>\n",
       "    </tr>\n",
       "    <tr>\n",
       "      <th>14</th>\n",
       "      <td>14</td>\n",
       "      <td>328</td>\n",
       "    </tr>\n",
       "    <tr>\n",
       "      <th>10</th>\n",
       "      <td>10</td>\n",
       "      <td>326</td>\n",
       "    </tr>\n",
       "    <tr>\n",
       "      <th>18</th>\n",
       "      <td>18</td>\n",
       "      <td>324</td>\n",
       "    </tr>\n",
       "    <tr>\n",
       "      <th>6</th>\n",
       "      <td>6</td>\n",
       "      <td>323</td>\n",
       "    </tr>\n",
       "    <tr>\n",
       "      <th>7</th>\n",
       "      <td>7</td>\n",
       "      <td>300</td>\n",
       "    </tr>\n",
       "    <tr>\n",
       "      <th>11</th>\n",
       "      <td>11</td>\n",
       "      <td>274</td>\n",
       "    </tr>\n",
       "  </tbody>\n",
       "</table>\n",
       "</div>"
      ],
      "text/plain": [
       "    hora  t_id\n",
       "17    17   375\n",
       "9      9   372\n",
       "15    15   368\n",
       "12    12   366\n",
       "13    13   358\n",
       "8      8   356\n",
       "21    21   353\n",
       "0      0   351\n",
       "5      5   351\n",
       "4      4   347\n",
       "20    20   346\n",
       "23    23   345\n",
       "1      1   343\n",
       "2      2   342\n",
       "16    16   341\n",
       "22    22   341\n",
       "3      3   340\n",
       "19    19   339\n",
       "14    14   328\n",
       "10    10   326\n",
       "18    18   324\n",
       "6      6   323\n",
       "7      7   300\n",
       "11    11   274"
      ]
     },
     "execution_count": 78,
     "metadata": {},
     "output_type": "execute_result"
    }
   ],
   "source": [
    "data_4.sort_values(by=\"t_id\" , ascending=False)"
   ]
  },
  {
   "cell_type": "code",
   "execution_count": null,
   "id": "475b6001",
   "metadata": {},
   "outputs": [],
   "source": [
    "La cantidad de fraudes ronda entre los 300 y 400 por hora, no hubo horas especificas donde se produjeron mas fraudes "
   ]
  },
  {
   "cell_type": "markdown",
   "id": "c1dd6185",
   "metadata": {},
   "source": [
    "## Identificación de datos erroneos "
   ]
  },
  {
   "cell_type": "markdown",
   "id": "1a7d0153",
   "metadata": {},
   "source": [
    "• El límite de la retirada en efectivo es de 2000 € al día. • El límite de pago con tarjeta de débito al mes es de 5000 €. • No se pueden producir tres transferencias en una misma hora. • No se pueden producir varias transferencias que juntas sumen más de 3000€ en una misma hora."
   ]
  },
  {
   "cell_type": "markdown",
   "id": "0cf2c32d",
   "metadata": {},
   "source": [
    "## Errores en transacciones que fueron fraude "
   ]
  },
  {
   "cell_type": "code",
   "execution_count": 83,
   "id": "bcb3cdfa",
   "metadata": {},
   "outputs": [
    {
     "data": {
      "text/plain": [
       "Index(['t_id', 'tipo', 'fecha_final', 'id_cliente_origen',\n",
       "       'balance_prev_origen', 'balance_post_origen', 'id_cliente_destino',\n",
       "       'balance_prev_destino', 'balance_post_destino', 'cuantia',\n",
       "       'mensaje_alarma', 'es_fraude', 'fecha', 'hora'],\n",
       "      dtype='object')"
      ]
     },
     "execution_count": 83,
     "metadata": {},
     "output_type": "execute_result"
    }
   ],
   "source": [
    "df_fraudes.columns"
   ]
  },
  {
   "cell_type": "code",
   "execution_count": 84,
   "id": "ad5e640e",
   "metadata": {},
   "outputs": [],
   "source": [
    "CASH_OUT = df_fraudes[df_fraudes['tipo'].str.contains(\"CASH_OUT\", case=False)]"
   ]
  },
  {
   "cell_type": "code",
   "execution_count": 85,
   "id": "530769ce",
   "metadata": {},
   "outputs": [
    {
     "data": {
      "text/html": [
       "<div>\n",
       "<style scoped>\n",
       "    .dataframe tbody tr th:only-of-type {\n",
       "        vertical-align: middle;\n",
       "    }\n",
       "\n",
       "    .dataframe tbody tr th {\n",
       "        vertical-align: top;\n",
       "    }\n",
       "\n",
       "    .dataframe thead th {\n",
       "        text-align: right;\n",
       "    }\n",
       "</style>\n",
       "<table border=\"1\" class=\"dataframe\">\n",
       "  <thead>\n",
       "    <tr style=\"text-align: right;\">\n",
       "      <th></th>\n",
       "      <th>t_id</th>\n",
       "      <th>tipo</th>\n",
       "      <th>fecha_final</th>\n",
       "      <th>id_cliente_origen</th>\n",
       "      <th>balance_prev_origen</th>\n",
       "      <th>balance_post_origen</th>\n",
       "      <th>id_cliente_destino</th>\n",
       "      <th>balance_prev_destino</th>\n",
       "      <th>balance_post_destino</th>\n",
       "      <th>cuantia</th>\n",
       "      <th>mensaje_alarma</th>\n",
       "      <th>es_fraude</th>\n",
       "      <th>fecha</th>\n",
       "      <th>hora</th>\n",
       "    </tr>\n",
       "  </thead>\n",
       "  <tbody>\n",
       "    <tr>\n",
       "      <th>3</th>\n",
       "      <td>3</td>\n",
       "      <td>CASH_OUT</td>\n",
       "      <td>2022-09-01 08:00:00</td>\n",
       "      <td>C840083671</td>\n",
       "      <td>181.0</td>\n",
       "      <td>0.0</td>\n",
       "      <td>C38997010</td>\n",
       "      <td>21182.0</td>\n",
       "      <td>0.00</td>\n",
       "      <td>181.0</td>\n",
       "      <td>False</td>\n",
       "      <td>True</td>\n",
       "      <td>2022-09-01</td>\n",
       "      <td>8</td>\n",
       "    </tr>\n",
       "    <tr>\n",
       "      <th>253</th>\n",
       "      <td>252</td>\n",
       "      <td>CASH_OUT</td>\n",
       "      <td>2022-09-01 08:00:00</td>\n",
       "      <td>C2101527076</td>\n",
       "      <td>2806.0</td>\n",
       "      <td>0.0</td>\n",
       "      <td>C1007251739</td>\n",
       "      <td>26202.0</td>\n",
       "      <td>0.00</td>\n",
       "      <td>2806.0</td>\n",
       "      <td>False</td>\n",
       "      <td>True</td>\n",
       "      <td>2022-09-01</td>\n",
       "      <td>8</td>\n",
       "    </tr>\n",
       "    <tr>\n",
       "      <th>683</th>\n",
       "      <td>681</td>\n",
       "      <td>CASH_OUT</td>\n",
       "      <td>2022-09-01 08:00:00</td>\n",
       "      <td>C1118430673</td>\n",
       "      <td>20128.0</td>\n",
       "      <td>0.0</td>\n",
       "      <td>C339924917</td>\n",
       "      <td>6268.0</td>\n",
       "      <td>12145.85</td>\n",
       "      <td>20128.0</td>\n",
       "      <td>False</td>\n",
       "      <td>True</td>\n",
       "      <td>2022-09-01</td>\n",
       "      <td>8</td>\n",
       "    </tr>\n",
       "  </tbody>\n",
       "</table>\n",
       "</div>"
      ],
      "text/plain": [
       "     t_id      tipo         fecha_final id_cliente_origen  \\\n",
       "3       3  CASH_OUT 2022-09-01 08:00:00        C840083671   \n",
       "253   252  CASH_OUT 2022-09-01 08:00:00       C2101527076   \n",
       "683   681  CASH_OUT 2022-09-01 08:00:00       C1118430673   \n",
       "\n",
       "     balance_prev_origen  balance_post_origen id_cliente_destino  \\\n",
       "3                  181.0                  0.0          C38997010   \n",
       "253               2806.0                  0.0        C1007251739   \n",
       "683              20128.0                  0.0         C339924917   \n",
       "\n",
       "     balance_prev_destino  balance_post_destino  cuantia  mensaje_alarma  \\\n",
       "3                 21182.0                  0.00    181.0           False   \n",
       "253               26202.0                  0.00   2806.0           False   \n",
       "683                6268.0              12145.85  20128.0           False   \n",
       "\n",
       "     es_fraude      fecha  hora  \n",
       "3         True 2022-09-01     8  \n",
       "253       True 2022-09-01     8  \n",
       "683       True 2022-09-01     8  "
      ]
     },
     "execution_count": 85,
     "metadata": {},
     "output_type": "execute_result"
    }
   ],
   "source": [
    "CASH_OUT .head(3)"
   ]
  },
  {
   "cell_type": "code",
   "execution_count": 86,
   "id": "ab91ebad",
   "metadata": {},
   "outputs": [],
   "source": [
    "CASH_OUT_1  = CASH_OUT.groupby(['fecha','id_cliente_origen'])['cuantia'].agg(Sum='sum')"
   ]
  },
  {
   "cell_type": "code",
   "execution_count": 87,
   "id": "aafa1dc1",
   "metadata": {},
   "outputs": [
    {
     "data": {
      "text/html": [
       "<div>\n",
       "<style scoped>\n",
       "    .dataframe tbody tr th:only-of-type {\n",
       "        vertical-align: middle;\n",
       "    }\n",
       "\n",
       "    .dataframe tbody tr th {\n",
       "        vertical-align: top;\n",
       "    }\n",
       "\n",
       "    .dataframe thead th {\n",
       "        text-align: right;\n",
       "    }\n",
       "</style>\n",
       "<table border=\"1\" class=\"dataframe\">\n",
       "  <thead>\n",
       "    <tr style=\"text-align: right;\">\n",
       "      <th></th>\n",
       "      <th>fecha</th>\n",
       "      <th>id_cliente_origen</th>\n",
       "      <th>Sum</th>\n",
       "    </tr>\n",
       "  </thead>\n",
       "  <tbody>\n",
       "    <tr>\n",
       "      <th>0</th>\n",
       "      <td>2022-09-01</td>\n",
       "      <td>C1002446735</td>\n",
       "      <td>828720.89</td>\n",
       "    </tr>\n",
       "    <tr>\n",
       "      <th>1</th>\n",
       "      <td>2022-09-01</td>\n",
       "      <td>C1004271827</td>\n",
       "      <td>25975.86</td>\n",
       "    </tr>\n",
       "    <tr>\n",
       "      <th>2</th>\n",
       "      <td>2022-09-01</td>\n",
       "      <td>C1020461364</td>\n",
       "      <td>59835.00</td>\n",
       "    </tr>\n",
       "    <tr>\n",
       "      <th>3</th>\n",
       "      <td>2022-09-01</td>\n",
       "      <td>C1034219836</td>\n",
       "      <td>1154353.99</td>\n",
       "    </tr>\n",
       "    <tr>\n",
       "      <th>4</th>\n",
       "      <td>2022-09-01</td>\n",
       "      <td>C1055229266</td>\n",
       "      <td>248056.41</td>\n",
       "    </tr>\n",
       "    <tr>\n",
       "      <th>...</th>\n",
       "      <td>...</td>\n",
       "      <td>...</td>\n",
       "      <td>...</td>\n",
       "    </tr>\n",
       "    <tr>\n",
       "      <th>4109</th>\n",
       "      <td>2022-10-02</td>\n",
       "      <td>C696026207</td>\n",
       "      <td>167606.49</td>\n",
       "    </tr>\n",
       "    <tr>\n",
       "      <th>4110</th>\n",
       "      <td>2022-10-02</td>\n",
       "      <td>C786484425</td>\n",
       "      <td>339682.13</td>\n",
       "    </tr>\n",
       "    <tr>\n",
       "      <th>4111</th>\n",
       "      <td>2022-10-02</td>\n",
       "      <td>C919525792</td>\n",
       "      <td>323726.61</td>\n",
       "    </tr>\n",
       "    <tr>\n",
       "      <th>4112</th>\n",
       "      <td>2022-10-02</td>\n",
       "      <td>C959562247</td>\n",
       "      <td>748139.48</td>\n",
       "    </tr>\n",
       "    <tr>\n",
       "      <th>4113</th>\n",
       "      <td>2022-10-02</td>\n",
       "      <td>C994950684</td>\n",
       "      <td>63416.99</td>\n",
       "    </tr>\n",
       "  </tbody>\n",
       "</table>\n",
       "<p>4114 rows × 3 columns</p>\n",
       "</div>"
      ],
      "text/plain": [
       "          fecha id_cliente_origen         Sum\n",
       "0    2022-09-01       C1002446735   828720.89\n",
       "1    2022-09-01       C1004271827    25975.86\n",
       "2    2022-09-01       C1020461364    59835.00\n",
       "3    2022-09-01       C1034219836  1154353.99\n",
       "4    2022-09-01       C1055229266   248056.41\n",
       "...         ...               ...         ...\n",
       "4109 2022-10-02        C696026207   167606.49\n",
       "4110 2022-10-02        C786484425   339682.13\n",
       "4111 2022-10-02        C919525792   323726.61\n",
       "4112 2022-10-02        C959562247   748139.48\n",
       "4113 2022-10-02        C994950684    63416.99\n",
       "\n",
       "[4114 rows x 3 columns]"
      ]
     },
     "execution_count": 87,
     "metadata": {},
     "output_type": "execute_result"
    }
   ],
   "source": [
    "CASH_OUT_1.reset_index()"
   ]
  },
  {
   "cell_type": "code",
   "execution_count": 88,
   "id": "2374fadd",
   "metadata": {},
   "outputs": [],
   "source": [
    "CASH_OUT_2 = CASH_OUT_1[CASH_OUT_1['Sum'] > 2000]"
   ]
  },
  {
   "cell_type": "code",
   "execution_count": 89,
   "id": "7d7af0dc",
   "metadata": {},
   "outputs": [
    {
     "data": {
      "text/html": [
       "<div>\n",
       "<style scoped>\n",
       "    .dataframe tbody tr th:only-of-type {\n",
       "        vertical-align: middle;\n",
       "    }\n",
       "\n",
       "    .dataframe tbody tr th {\n",
       "        vertical-align: top;\n",
       "    }\n",
       "\n",
       "    .dataframe thead th {\n",
       "        text-align: right;\n",
       "    }\n",
       "</style>\n",
       "<table border=\"1\" class=\"dataframe\">\n",
       "  <thead>\n",
       "    <tr style=\"text-align: right;\">\n",
       "      <th></th>\n",
       "      <th>fecha</th>\n",
       "      <th>id_cliente_origen</th>\n",
       "      <th>Sum</th>\n",
       "    </tr>\n",
       "  </thead>\n",
       "  <tbody>\n",
       "    <tr>\n",
       "      <th>0</th>\n",
       "      <td>2022-09-01</td>\n",
       "      <td>C1002446735</td>\n",
       "      <td>828720.89</td>\n",
       "    </tr>\n",
       "    <tr>\n",
       "      <th>1</th>\n",
       "      <td>2022-09-01</td>\n",
       "      <td>C1004271827</td>\n",
       "      <td>25975.86</td>\n",
       "    </tr>\n",
       "    <tr>\n",
       "      <th>2</th>\n",
       "      <td>2022-09-01</td>\n",
       "      <td>C1020461364</td>\n",
       "      <td>59835.00</td>\n",
       "    </tr>\n",
       "    <tr>\n",
       "      <th>3</th>\n",
       "      <td>2022-09-01</td>\n",
       "      <td>C1034219836</td>\n",
       "      <td>1154353.99</td>\n",
       "    </tr>\n",
       "    <tr>\n",
       "      <th>4</th>\n",
       "      <td>2022-09-01</td>\n",
       "      <td>C1055229266</td>\n",
       "      <td>248056.41</td>\n",
       "    </tr>\n",
       "    <tr>\n",
       "      <th>...</th>\n",
       "      <td>...</td>\n",
       "      <td>...</td>\n",
       "      <td>...</td>\n",
       "    </tr>\n",
       "    <tr>\n",
       "      <th>4057</th>\n",
       "      <td>2022-10-02</td>\n",
       "      <td>C696026207</td>\n",
       "      <td>167606.49</td>\n",
       "    </tr>\n",
       "    <tr>\n",
       "      <th>4058</th>\n",
       "      <td>2022-10-02</td>\n",
       "      <td>C786484425</td>\n",
       "      <td>339682.13</td>\n",
       "    </tr>\n",
       "    <tr>\n",
       "      <th>4059</th>\n",
       "      <td>2022-10-02</td>\n",
       "      <td>C919525792</td>\n",
       "      <td>323726.61</td>\n",
       "    </tr>\n",
       "    <tr>\n",
       "      <th>4060</th>\n",
       "      <td>2022-10-02</td>\n",
       "      <td>C959562247</td>\n",
       "      <td>748139.48</td>\n",
       "    </tr>\n",
       "    <tr>\n",
       "      <th>4061</th>\n",
       "      <td>2022-10-02</td>\n",
       "      <td>C994950684</td>\n",
       "      <td>63416.99</td>\n",
       "    </tr>\n",
       "  </tbody>\n",
       "</table>\n",
       "<p>4062 rows × 3 columns</p>\n",
       "</div>"
      ],
      "text/plain": [
       "          fecha id_cliente_origen         Sum\n",
       "0    2022-09-01       C1002446735   828720.89\n",
       "1    2022-09-01       C1004271827    25975.86\n",
       "2    2022-09-01       C1020461364    59835.00\n",
       "3    2022-09-01       C1034219836  1154353.99\n",
       "4    2022-09-01       C1055229266   248056.41\n",
       "...         ...               ...         ...\n",
       "4057 2022-10-02        C696026207   167606.49\n",
       "4058 2022-10-02        C786484425   339682.13\n",
       "4059 2022-10-02        C919525792   323726.61\n",
       "4060 2022-10-02        C959562247   748139.48\n",
       "4061 2022-10-02        C994950684    63416.99\n",
       "\n",
       "[4062 rows x 3 columns]"
      ]
     },
     "execution_count": 89,
     "metadata": {},
     "output_type": "execute_result"
    }
   ],
   "source": [
    "CASH_OUT_2.reset_index()"
   ]
  },
  {
   "cell_type": "markdown",
   "id": "e2fee64c",
   "metadata": {},
   "source": [
    "Hay 4062 clientes que retiraron mas de 2000 Euros al día y cuyas transacciones se marcaron como fraude. "
   ]
  },
  {
   "cell_type": "markdown",
   "id": "2546b918",
   "metadata": {},
   "source": [
    "No existen transacciones del tipo DEBIT que fueron fraudes, por lo tanto, no hay errores en el límite de pago con tarjeta de débito. "
   ]
  },
  {
   "cell_type": "code",
   "execution_count": 90,
   "id": "ab271ef9",
   "metadata": {},
   "outputs": [],
   "source": [
    "TRANSFER_f = df_fraudes[df_fraudes['tipo'] == 'TRANSFER']"
   ]
  },
  {
   "cell_type": "code",
   "execution_count": 91,
   "id": "47c323fc",
   "metadata": {},
   "outputs": [],
   "source": [
    "TRANSFER_f1  = TRANSFER_f.groupby(['hora','id_cliente_origen'])['t_id'].agg(Count='count')"
   ]
  },
  {
   "cell_type": "code",
   "execution_count": 92,
   "id": "ce991adb",
   "metadata": {},
   "outputs": [
    {
     "data": {
      "text/html": [
       "<div>\n",
       "<style scoped>\n",
       "    .dataframe tbody tr th:only-of-type {\n",
       "        vertical-align: middle;\n",
       "    }\n",
       "\n",
       "    .dataframe tbody tr th {\n",
       "        vertical-align: top;\n",
       "    }\n",
       "\n",
       "    .dataframe thead th {\n",
       "        text-align: right;\n",
       "    }\n",
       "</style>\n",
       "<table border=\"1\" class=\"dataframe\">\n",
       "  <thead>\n",
       "    <tr style=\"text-align: right;\">\n",
       "      <th></th>\n",
       "      <th>hora</th>\n",
       "      <th>id_cliente_origen</th>\n",
       "      <th>Count</th>\n",
       "    </tr>\n",
       "  </thead>\n",
       "  <tbody>\n",
       "    <tr>\n",
       "      <th>0</th>\n",
       "      <td>0</td>\n",
       "      <td>C1010536295</td>\n",
       "      <td>1</td>\n",
       "    </tr>\n",
       "    <tr>\n",
       "      <th>1</th>\n",
       "      <td>0</td>\n",
       "      <td>C1025625307</td>\n",
       "      <td>1</td>\n",
       "    </tr>\n",
       "    <tr>\n",
       "      <th>2</th>\n",
       "      <td>0</td>\n",
       "      <td>C1039450195</td>\n",
       "      <td>1</td>\n",
       "    </tr>\n",
       "    <tr>\n",
       "      <th>3</th>\n",
       "      <td>0</td>\n",
       "      <td>C1045717877</td>\n",
       "      <td>1</td>\n",
       "    </tr>\n",
       "    <tr>\n",
       "      <th>4</th>\n",
       "      <td>0</td>\n",
       "      <td>C1046272255</td>\n",
       "      <td>1</td>\n",
       "    </tr>\n",
       "    <tr>\n",
       "      <th>...</th>\n",
       "      <td>...</td>\n",
       "      <td>...</td>\n",
       "      <td>...</td>\n",
       "    </tr>\n",
       "    <tr>\n",
       "      <th>4090</th>\n",
       "      <td>23</td>\n",
       "      <td>C957619820</td>\n",
       "      <td>1</td>\n",
       "    </tr>\n",
       "    <tr>\n",
       "      <th>4091</th>\n",
       "      <td>23</td>\n",
       "      <td>C962450896</td>\n",
       "      <td>1</td>\n",
       "    </tr>\n",
       "    <tr>\n",
       "      <th>4092</th>\n",
       "      <td>23</td>\n",
       "      <td>C966717890</td>\n",
       "      <td>1</td>\n",
       "    </tr>\n",
       "    <tr>\n",
       "      <th>4093</th>\n",
       "      <td>23</td>\n",
       "      <td>C96988544</td>\n",
       "      <td>1</td>\n",
       "    </tr>\n",
       "    <tr>\n",
       "      <th>4094</th>\n",
       "      <td>23</td>\n",
       "      <td>C979937832</td>\n",
       "      <td>1</td>\n",
       "    </tr>\n",
       "  </tbody>\n",
       "</table>\n",
       "<p>4095 rows × 3 columns</p>\n",
       "</div>"
      ],
      "text/plain": [
       "      hora id_cliente_origen  Count\n",
       "0        0       C1010536295      1\n",
       "1        0       C1025625307      1\n",
       "2        0       C1039450195      1\n",
       "3        0       C1045717877      1\n",
       "4        0       C1046272255      1\n",
       "...    ...               ...    ...\n",
       "4090    23        C957619820      1\n",
       "4091    23        C962450896      1\n",
       "4092    23        C966717890      1\n",
       "4093    23         C96988544      1\n",
       "4094    23        C979937832      1\n",
       "\n",
       "[4095 rows x 3 columns]"
      ]
     },
     "execution_count": 92,
     "metadata": {},
     "output_type": "execute_result"
    }
   ],
   "source": [
    "TRANSFER_f1.reset_index()"
   ]
  },
  {
   "cell_type": "code",
   "execution_count": 93,
   "id": "09d826cf",
   "metadata": {},
   "outputs": [],
   "source": [
    "TRANSFER_f2 = TRANSFER_f1[TRANSFER_f1['Count'] > 3]"
   ]
  },
  {
   "cell_type": "code",
   "execution_count": 94,
   "id": "5ebd7333",
   "metadata": {},
   "outputs": [
    {
     "data": {
      "text/html": [
       "<div>\n",
       "<style scoped>\n",
       "    .dataframe tbody tr th:only-of-type {\n",
       "        vertical-align: middle;\n",
       "    }\n",
       "\n",
       "    .dataframe tbody tr th {\n",
       "        vertical-align: top;\n",
       "    }\n",
       "\n",
       "    .dataframe thead th {\n",
       "        text-align: right;\n",
       "    }\n",
       "</style>\n",
       "<table border=\"1\" class=\"dataframe\">\n",
       "  <thead>\n",
       "    <tr style=\"text-align: right;\">\n",
       "      <th></th>\n",
       "      <th></th>\n",
       "      <th>Count</th>\n",
       "    </tr>\n",
       "    <tr>\n",
       "      <th>hora</th>\n",
       "      <th>id_cliente_origen</th>\n",
       "      <th></th>\n",
       "    </tr>\n",
       "  </thead>\n",
       "  <tbody>\n",
       "  </tbody>\n",
       "</table>\n",
       "</div>"
      ],
      "text/plain": [
       "Empty DataFrame\n",
       "Columns: [Count]\n",
       "Index: []"
      ]
     },
     "execution_count": 94,
     "metadata": {},
     "output_type": "execute_result"
    }
   ],
   "source": [
    "TRANSFER_f2"
   ]
  },
  {
   "cell_type": "markdown",
   "id": "c6b3299c",
   "metadata": {},
   "source": [
    "No existen errores con respecto a la cantidad de transferencias en una misma hora, para un mismo cliente."
   ]
  },
  {
   "cell_type": "code",
   "execution_count": 95,
   "id": "f87a6f6e",
   "metadata": {},
   "outputs": [],
   "source": [
    "TRANSFER_f3  = TRANSFER_f.groupby(['hora','id_cliente_origen'])['cuantia'].agg(Sum ='sum')"
   ]
  },
  {
   "cell_type": "code",
   "execution_count": 96,
   "id": "ee3d39c6",
   "metadata": {},
   "outputs": [
    {
     "data": {
      "text/html": [
       "<div>\n",
       "<style scoped>\n",
       "    .dataframe tbody tr th:only-of-type {\n",
       "        vertical-align: middle;\n",
       "    }\n",
       "\n",
       "    .dataframe tbody tr th {\n",
       "        vertical-align: top;\n",
       "    }\n",
       "\n",
       "    .dataframe thead th {\n",
       "        text-align: right;\n",
       "    }\n",
       "</style>\n",
       "<table border=\"1\" class=\"dataframe\">\n",
       "  <thead>\n",
       "    <tr style=\"text-align: right;\">\n",
       "      <th></th>\n",
       "      <th>hora</th>\n",
       "      <th>id_cliente_origen</th>\n",
       "      <th>Sum</th>\n",
       "    </tr>\n",
       "  </thead>\n",
       "  <tbody>\n",
       "    <tr>\n",
       "      <th>0</th>\n",
       "      <td>0</td>\n",
       "      <td>C1010536295</td>\n",
       "      <td>272776.59</td>\n",
       "    </tr>\n",
       "    <tr>\n",
       "      <th>1</th>\n",
       "      <td>0</td>\n",
       "      <td>C1025625307</td>\n",
       "      <td>6174385.48</td>\n",
       "    </tr>\n",
       "    <tr>\n",
       "      <th>2</th>\n",
       "      <td>0</td>\n",
       "      <td>C1039450195</td>\n",
       "      <td>1336901.11</td>\n",
       "    </tr>\n",
       "    <tr>\n",
       "      <th>3</th>\n",
       "      <td>0</td>\n",
       "      <td>C1045717877</td>\n",
       "      <td>141586.27</td>\n",
       "    </tr>\n",
       "    <tr>\n",
       "      <th>4</th>\n",
       "      <td>0</td>\n",
       "      <td>C1046272255</td>\n",
       "      <td>1416055.74</td>\n",
       "    </tr>\n",
       "    <tr>\n",
       "      <th>...</th>\n",
       "      <td>...</td>\n",
       "      <td>...</td>\n",
       "      <td>...</td>\n",
       "    </tr>\n",
       "    <tr>\n",
       "      <th>4090</th>\n",
       "      <td>23</td>\n",
       "      <td>C957619820</td>\n",
       "      <td>2739869.62</td>\n",
       "    </tr>\n",
       "    <tr>\n",
       "      <th>4091</th>\n",
       "      <td>23</td>\n",
       "      <td>C962450896</td>\n",
       "      <td>256705.68</td>\n",
       "    </tr>\n",
       "    <tr>\n",
       "      <th>4092</th>\n",
       "      <td>23</td>\n",
       "      <td>C966717890</td>\n",
       "      <td>432544.68</td>\n",
       "    </tr>\n",
       "    <tr>\n",
       "      <th>4093</th>\n",
       "      <td>23</td>\n",
       "      <td>C96988544</td>\n",
       "      <td>372703.48</td>\n",
       "    </tr>\n",
       "    <tr>\n",
       "      <th>4094</th>\n",
       "      <td>23</td>\n",
       "      <td>C979937832</td>\n",
       "      <td>6188772.44</td>\n",
       "    </tr>\n",
       "  </tbody>\n",
       "</table>\n",
       "<p>4095 rows × 3 columns</p>\n",
       "</div>"
      ],
      "text/plain": [
       "      hora id_cliente_origen         Sum\n",
       "0        0       C1010536295   272776.59\n",
       "1        0       C1025625307  6174385.48\n",
       "2        0       C1039450195  1336901.11\n",
       "3        0       C1045717877   141586.27\n",
       "4        0       C1046272255  1416055.74\n",
       "...    ...               ...         ...\n",
       "4090    23        C957619820  2739869.62\n",
       "4091    23        C962450896   256705.68\n",
       "4092    23        C966717890   432544.68\n",
       "4093    23         C96988544   372703.48\n",
       "4094    23        C979937832  6188772.44\n",
       "\n",
       "[4095 rows x 3 columns]"
      ]
     },
     "execution_count": 96,
     "metadata": {},
     "output_type": "execute_result"
    }
   ],
   "source": [
    "TRANSFER_f3.reset_index()"
   ]
  },
  {
   "cell_type": "code",
   "execution_count": 97,
   "id": "e0f4cd5e",
   "metadata": {},
   "outputs": [],
   "source": [
    "TRANSFER_total_1 = TRANSFER_f3[TRANSFER_f3['Sum'] > 3000]\n",
    "\n",
    "\n"
   ]
  },
  {
   "cell_type": "code",
   "execution_count": 98,
   "id": "ab5f1b7a",
   "metadata": {},
   "outputs": [
    {
     "data": {
      "text/html": [
       "<div>\n",
       "<style scoped>\n",
       "    .dataframe tbody tr th:only-of-type {\n",
       "        vertical-align: middle;\n",
       "    }\n",
       "\n",
       "    .dataframe tbody tr th {\n",
       "        vertical-align: top;\n",
       "    }\n",
       "\n",
       "    .dataframe thead th {\n",
       "        text-align: right;\n",
       "    }\n",
       "</style>\n",
       "<table border=\"1\" class=\"dataframe\">\n",
       "  <thead>\n",
       "    <tr style=\"text-align: right;\">\n",
       "      <th></th>\n",
       "      <th>hora</th>\n",
       "      <th>id_cliente_origen</th>\n",
       "      <th>Sum</th>\n",
       "    </tr>\n",
       "  </thead>\n",
       "  <tbody>\n",
       "    <tr>\n",
       "      <th>0</th>\n",
       "      <td>0</td>\n",
       "      <td>C1010536295</td>\n",
       "      <td>272776.59</td>\n",
       "    </tr>\n",
       "    <tr>\n",
       "      <th>1</th>\n",
       "      <td>0</td>\n",
       "      <td>C1025625307</td>\n",
       "      <td>6174385.48</td>\n",
       "    </tr>\n",
       "    <tr>\n",
       "      <th>2</th>\n",
       "      <td>0</td>\n",
       "      <td>C1039450195</td>\n",
       "      <td>1336901.11</td>\n",
       "    </tr>\n",
       "    <tr>\n",
       "      <th>3</th>\n",
       "      <td>0</td>\n",
       "      <td>C1045717877</td>\n",
       "      <td>141586.27</td>\n",
       "    </tr>\n",
       "    <tr>\n",
       "      <th>4</th>\n",
       "      <td>0</td>\n",
       "      <td>C1046272255</td>\n",
       "      <td>1416055.74</td>\n",
       "    </tr>\n",
       "    <tr>\n",
       "      <th>...</th>\n",
       "      <td>...</td>\n",
       "      <td>...</td>\n",
       "      <td>...</td>\n",
       "    </tr>\n",
       "    <tr>\n",
       "      <th>4041</th>\n",
       "      <td>23</td>\n",
       "      <td>C957619820</td>\n",
       "      <td>2739869.62</td>\n",
       "    </tr>\n",
       "    <tr>\n",
       "      <th>4042</th>\n",
       "      <td>23</td>\n",
       "      <td>C962450896</td>\n",
       "      <td>256705.68</td>\n",
       "    </tr>\n",
       "    <tr>\n",
       "      <th>4043</th>\n",
       "      <td>23</td>\n",
       "      <td>C966717890</td>\n",
       "      <td>432544.68</td>\n",
       "    </tr>\n",
       "    <tr>\n",
       "      <th>4044</th>\n",
       "      <td>23</td>\n",
       "      <td>C96988544</td>\n",
       "      <td>372703.48</td>\n",
       "    </tr>\n",
       "    <tr>\n",
       "      <th>4045</th>\n",
       "      <td>23</td>\n",
       "      <td>C979937832</td>\n",
       "      <td>6188772.44</td>\n",
       "    </tr>\n",
       "  </tbody>\n",
       "</table>\n",
       "<p>4046 rows × 3 columns</p>\n",
       "</div>"
      ],
      "text/plain": [
       "      hora id_cliente_origen         Sum\n",
       "0        0       C1010536295   272776.59\n",
       "1        0       C1025625307  6174385.48\n",
       "2        0       C1039450195  1336901.11\n",
       "3        0       C1045717877   141586.27\n",
       "4        0       C1046272255  1416055.74\n",
       "...    ...               ...         ...\n",
       "4041    23        C957619820  2739869.62\n",
       "4042    23        C962450896   256705.68\n",
       "4043    23        C966717890   432544.68\n",
       "4044    23         C96988544   372703.48\n",
       "4045    23        C979937832  6188772.44\n",
       "\n",
       "[4046 rows x 3 columns]"
      ]
     },
     "execution_count": 98,
     "metadata": {},
     "output_type": "execute_result"
    }
   ],
   "source": [
    "TRANSFER_total_1.reset_index()"
   ]
  },
  {
   "cell_type": "markdown",
   "id": "6d47c73d",
   "metadata": {},
   "source": [
    "Existen 4.046 casos, en los cuales las transacciones juntas suman más de 3000€ en una misma hora, para un mismo cliente, y fueron detectadas como fraude. "
   ]
  },
  {
   "cell_type": "markdown",
   "id": "65721130",
   "metadata": {},
   "source": [
    "## Errores en transacciones que no fueron fraude "
   ]
  },
  {
   "cell_type": "code",
   "execution_count": 99,
   "id": "61354a21",
   "metadata": {},
   "outputs": [],
   "source": [
    "CASH_OUT_t = df[df['tipo'].str.contains(\"CASH_OUT\", case=False)]"
   ]
  },
  {
   "cell_type": "code",
   "execution_count": 100,
   "id": "e36ae83f",
   "metadata": {},
   "outputs": [],
   "source": [
    "CASH_OUT_t1  = CASH_OUT_t.groupby(['fecha','id_cliente_origen'])['cuantia'].agg(Sum='sum')"
   ]
  },
  {
   "cell_type": "code",
   "execution_count": 101,
   "id": "afb600f8",
   "metadata": {},
   "outputs": [
    {
     "data": {
      "text/html": [
       "<div>\n",
       "<style scoped>\n",
       "    .dataframe tbody tr th:only-of-type {\n",
       "        vertical-align: middle;\n",
       "    }\n",
       "\n",
       "    .dataframe tbody tr th {\n",
       "        vertical-align: top;\n",
       "    }\n",
       "\n",
       "    .dataframe thead th {\n",
       "        text-align: right;\n",
       "    }\n",
       "</style>\n",
       "<table border=\"1\" class=\"dataframe\">\n",
       "  <thead>\n",
       "    <tr style=\"text-align: right;\">\n",
       "      <th></th>\n",
       "      <th>fecha</th>\n",
       "      <th>id_cliente_origen</th>\n",
       "      <th>Sum</th>\n",
       "    </tr>\n",
       "  </thead>\n",
       "  <tbody>\n",
       "    <tr>\n",
       "      <th>0</th>\n",
       "      <td>2022-09-01</td>\n",
       "      <td>C1000012640</td>\n",
       "      <td>367527.28</td>\n",
       "    </tr>\n",
       "    <tr>\n",
       "      <th>1</th>\n",
       "      <td>2022-09-01</td>\n",
       "      <td>C1000028246</td>\n",
       "      <td>77106.69</td>\n",
       "    </tr>\n",
       "    <tr>\n",
       "      <th>2</th>\n",
       "      <td>2022-09-01</td>\n",
       "      <td>C1000053363</td>\n",
       "      <td>84631.88</td>\n",
       "    </tr>\n",
       "    <tr>\n",
       "      <th>3</th>\n",
       "      <td>2022-09-01</td>\n",
       "      <td>C100006673</td>\n",
       "      <td>363683.60</td>\n",
       "    </tr>\n",
       "    <tr>\n",
       "      <th>4</th>\n",
       "      <td>2022-09-01</td>\n",
       "      <td>C1000093176</td>\n",
       "      <td>5155.13</td>\n",
       "    </tr>\n",
       "    <tr>\n",
       "      <th>...</th>\n",
       "      <td>...</td>\n",
       "      <td>...</td>\n",
       "      <td>...</td>\n",
       "    </tr>\n",
       "    <tr>\n",
       "      <th>2233269</th>\n",
       "      <td>2022-10-01</td>\n",
       "      <td>C99887357</td>\n",
       "      <td>117228.18</td>\n",
       "    </tr>\n",
       "    <tr>\n",
       "      <th>2233270</th>\n",
       "      <td>2022-10-01</td>\n",
       "      <td>C999143091</td>\n",
       "      <td>154502.44</td>\n",
       "    </tr>\n",
       "    <tr>\n",
       "      <th>2233271</th>\n",
       "      <td>2022-10-01</td>\n",
       "      <td>C999628527</td>\n",
       "      <td>30075.14</td>\n",
       "    </tr>\n",
       "    <tr>\n",
       "      <th>2233272</th>\n",
       "      <td>2022-10-01</td>\n",
       "      <td>C999660189</td>\n",
       "      <td>88845.26</td>\n",
       "    </tr>\n",
       "    <tr>\n",
       "      <th>2233273</th>\n",
       "      <td>2022-10-01</td>\n",
       "      <td>C999900236</td>\n",
       "      <td>228224.88</td>\n",
       "    </tr>\n",
       "  </tbody>\n",
       "</table>\n",
       "<p>2233274 rows × 3 columns</p>\n",
       "</div>"
      ],
      "text/plain": [
       "             fecha id_cliente_origen        Sum\n",
       "0       2022-09-01       C1000012640  367527.28\n",
       "1       2022-09-01       C1000028246   77106.69\n",
       "2       2022-09-01       C1000053363   84631.88\n",
       "3       2022-09-01        C100006673  363683.60\n",
       "4       2022-09-01       C1000093176    5155.13\n",
       "...            ...               ...        ...\n",
       "2233269 2022-10-01         C99887357  117228.18\n",
       "2233270 2022-10-01        C999143091  154502.44\n",
       "2233271 2022-10-01        C999628527   30075.14\n",
       "2233272 2022-10-01        C999660189   88845.26\n",
       "2233273 2022-10-01        C999900236  228224.88\n",
       "\n",
       "[2233274 rows x 3 columns]"
      ]
     },
     "execution_count": 101,
     "metadata": {},
     "output_type": "execute_result"
    }
   ],
   "source": [
    "CASH_OUT_t1.reset_index()"
   ]
  },
  {
   "cell_type": "code",
   "execution_count": 102,
   "id": "b46d0e9a",
   "metadata": {},
   "outputs": [],
   "source": [
    "CASH_OUT_t2 = CASH_OUT_t1[CASH_OUT_t1['Sum'] > 2000]"
   ]
  },
  {
   "cell_type": "code",
   "execution_count": 103,
   "id": "bf927e3a",
   "metadata": {},
   "outputs": [
    {
     "data": {
      "text/html": [
       "<div>\n",
       "<style scoped>\n",
       "    .dataframe tbody tr th:only-of-type {\n",
       "        vertical-align: middle;\n",
       "    }\n",
       "\n",
       "    .dataframe tbody tr th {\n",
       "        vertical-align: top;\n",
       "    }\n",
       "\n",
       "    .dataframe thead th {\n",
       "        text-align: right;\n",
       "    }\n",
       "</style>\n",
       "<table border=\"1\" class=\"dataframe\">\n",
       "  <thead>\n",
       "    <tr style=\"text-align: right;\">\n",
       "      <th></th>\n",
       "      <th></th>\n",
       "      <th>Sum</th>\n",
       "    </tr>\n",
       "    <tr>\n",
       "      <th>fecha</th>\n",
       "      <th>id_cliente_origen</th>\n",
       "      <th></th>\n",
       "    </tr>\n",
       "  </thead>\n",
       "  <tbody>\n",
       "    <tr>\n",
       "      <th rowspan=\"5\" valign=\"top\">2022-09-01</th>\n",
       "      <th>C1000012640</th>\n",
       "      <td>367527.28</td>\n",
       "    </tr>\n",
       "    <tr>\n",
       "      <th>C1000028246</th>\n",
       "      <td>77106.69</td>\n",
       "    </tr>\n",
       "    <tr>\n",
       "      <th>C1000053363</th>\n",
       "      <td>84631.88</td>\n",
       "    </tr>\n",
       "    <tr>\n",
       "      <th>C100006673</th>\n",
       "      <td>363683.60</td>\n",
       "    </tr>\n",
       "    <tr>\n",
       "      <th>C1000093176</th>\n",
       "      <td>5155.13</td>\n",
       "    </tr>\n",
       "    <tr>\n",
       "      <th>...</th>\n",
       "      <th>...</th>\n",
       "      <td>...</td>\n",
       "    </tr>\n",
       "    <tr>\n",
       "      <th rowspan=\"5\" valign=\"top\">2022-10-01</th>\n",
       "      <th>C99887357</th>\n",
       "      <td>117228.18</td>\n",
       "    </tr>\n",
       "    <tr>\n",
       "      <th>C999143091</th>\n",
       "      <td>154502.44</td>\n",
       "    </tr>\n",
       "    <tr>\n",
       "      <th>C999628527</th>\n",
       "      <td>30075.14</td>\n",
       "    </tr>\n",
       "    <tr>\n",
       "      <th>C999660189</th>\n",
       "      <td>88845.26</td>\n",
       "    </tr>\n",
       "    <tr>\n",
       "      <th>C999900236</th>\n",
       "      <td>228224.88</td>\n",
       "    </tr>\n",
       "  </tbody>\n",
       "</table>\n",
       "<p>2218911 rows × 1 columns</p>\n",
       "</div>"
      ],
      "text/plain": [
       "                                    Sum\n",
       "fecha      id_cliente_origen           \n",
       "2022-09-01 C1000012640        367527.28\n",
       "           C1000028246         77106.69\n",
       "           C1000053363         84631.88\n",
       "           C100006673         363683.60\n",
       "           C1000093176          5155.13\n",
       "...                                 ...\n",
       "2022-10-01 C99887357          117228.18\n",
       "           C999143091         154502.44\n",
       "           C999628527          30075.14\n",
       "           C999660189          88845.26\n",
       "           C999900236         228224.88\n",
       "\n",
       "[2218911 rows x 1 columns]"
      ]
     },
     "execution_count": 103,
     "metadata": {},
     "output_type": "execute_result"
    }
   ],
   "source": [
    "CASH_OUT_t2"
   ]
  },
  {
   "cell_type": "markdown",
   "id": "d2407ccb",
   "metadata": {},
   "source": [
    "Hay 2.218.911 clientes que retiraron mas de 2000 Euros al día"
   ]
  },
  {
   "cell_type": "code",
   "execution_count": 111,
   "id": "d009ed59",
   "metadata": {},
   "outputs": [],
   "source": [
    "DEBIT = df[df['tipo'] == 'DEBIT']"
   ]
  },
  {
   "cell_type": "code",
   "execution_count": 112,
   "id": "7e2a4048",
   "metadata": {},
   "outputs": [],
   "source": [
    "DEBIT['mes'] = DEBIT['fecha'].dt.month"
   ]
  },
  {
   "cell_type": "code",
   "execution_count": 113,
   "id": "6963b610",
   "metadata": {},
   "outputs": [
    {
     "data": {
      "text/html": [
       "<div>\n",
       "<style scoped>\n",
       "    .dataframe tbody tr th:only-of-type {\n",
       "        vertical-align: middle;\n",
       "    }\n",
       "\n",
       "    .dataframe tbody tr th {\n",
       "        vertical-align: top;\n",
       "    }\n",
       "\n",
       "    .dataframe thead th {\n",
       "        text-align: right;\n",
       "    }\n",
       "</style>\n",
       "<table border=\"1\" class=\"dataframe\">\n",
       "  <thead>\n",
       "    <tr style=\"text-align: right;\">\n",
       "      <th></th>\n",
       "      <th>t_id</th>\n",
       "      <th>tipo</th>\n",
       "      <th>fecha_final</th>\n",
       "      <th>id_cliente_origen</th>\n",
       "      <th>balance_prev_origen</th>\n",
       "      <th>balance_post_origen</th>\n",
       "      <th>id_cliente_destino</th>\n",
       "      <th>balance_prev_destino</th>\n",
       "      <th>balance_post_destino</th>\n",
       "      <th>cuantia</th>\n",
       "      <th>mensaje_alarma</th>\n",
       "      <th>es_fraude</th>\n",
       "      <th>fecha</th>\n",
       "      <th>hora</th>\n",
       "      <th>mes</th>\n",
       "    </tr>\n",
       "  </thead>\n",
       "  <tbody>\n",
       "    <tr>\n",
       "      <th>9</th>\n",
       "      <td>9</td>\n",
       "      <td>DEBIT</td>\n",
       "      <td>2022-09-01 08:00:00</td>\n",
       "      <td>C712410124</td>\n",
       "      <td>41720.0</td>\n",
       "      <td>36382.23</td>\n",
       "      <td>C195600860</td>\n",
       "      <td>41898.0</td>\n",
       "      <td>40348.79</td>\n",
       "      <td>5337.77</td>\n",
       "      <td>False</td>\n",
       "      <td>False</td>\n",
       "      <td>2022-09-01</td>\n",
       "      <td>8</td>\n",
       "      <td>9</td>\n",
       "    </tr>\n",
       "    <tr>\n",
       "      <th>10</th>\n",
       "      <td>10</td>\n",
       "      <td>DEBIT</td>\n",
       "      <td>2022-09-01 08:00:00</td>\n",
       "      <td>C1900366749</td>\n",
       "      <td>4465.0</td>\n",
       "      <td>0.00</td>\n",
       "      <td>C997608398</td>\n",
       "      <td>10845.0</td>\n",
       "      <td>157982.12</td>\n",
       "      <td>9644.94</td>\n",
       "      <td>False</td>\n",
       "      <td>False</td>\n",
       "      <td>2022-09-01</td>\n",
       "      <td>8</td>\n",
       "      <td>9</td>\n",
       "    </tr>\n",
       "    <tr>\n",
       "      <th>21</th>\n",
       "      <td>21</td>\n",
       "      <td>DEBIT</td>\n",
       "      <td>2022-09-01 08:00:00</td>\n",
       "      <td>C1566511282</td>\n",
       "      <td>11299.0</td>\n",
       "      <td>1996.21</td>\n",
       "      <td>C1973538135</td>\n",
       "      <td>29832.0</td>\n",
       "      <td>16896.70</td>\n",
       "      <td>9302.79</td>\n",
       "      <td>False</td>\n",
       "      <td>False</td>\n",
       "      <td>2022-09-01</td>\n",
       "      <td>8</td>\n",
       "      <td>9</td>\n",
       "    </tr>\n",
       "    <tr>\n",
       "      <th>22</th>\n",
       "      <td>22</td>\n",
       "      <td>DEBIT</td>\n",
       "      <td>2022-09-01 08:00:00</td>\n",
       "      <td>C1959239586</td>\n",
       "      <td>1817.0</td>\n",
       "      <td>751.59</td>\n",
       "      <td>C515132998</td>\n",
       "      <td>10330.0</td>\n",
       "      <td>0.00</td>\n",
       "      <td>1065.41</td>\n",
       "      <td>False</td>\n",
       "      <td>False</td>\n",
       "      <td>2022-09-01</td>\n",
       "      <td>8</td>\n",
       "      <td>9</td>\n",
       "    </tr>\n",
       "  </tbody>\n",
       "</table>\n",
       "</div>"
      ],
      "text/plain": [
       "    t_id   tipo         fecha_final id_cliente_origen  balance_prev_origen  \\\n",
       "9      9  DEBIT 2022-09-01 08:00:00        C712410124              41720.0   \n",
       "10    10  DEBIT 2022-09-01 08:00:00       C1900366749               4465.0   \n",
       "21    21  DEBIT 2022-09-01 08:00:00       C1566511282              11299.0   \n",
       "22    22  DEBIT 2022-09-01 08:00:00       C1959239586               1817.0   \n",
       "\n",
       "    balance_post_origen id_cliente_destino  balance_prev_destino  \\\n",
       "9              36382.23         C195600860               41898.0   \n",
       "10                 0.00         C997608398               10845.0   \n",
       "21              1996.21        C1973538135               29832.0   \n",
       "22               751.59         C515132998               10330.0   \n",
       "\n",
       "    balance_post_destino  cuantia  mensaje_alarma  es_fraude      fecha  hora  \\\n",
       "9               40348.79  5337.77           False      False 2022-09-01     8   \n",
       "10             157982.12  9644.94           False      False 2022-09-01     8   \n",
       "21              16896.70  9302.79           False      False 2022-09-01     8   \n",
       "22                  0.00  1065.41           False      False 2022-09-01     8   \n",
       "\n",
       "    mes  \n",
       "9     9  \n",
       "10    9  \n",
       "21    9  \n",
       "22    9  "
      ]
     },
     "execution_count": 113,
     "metadata": {},
     "output_type": "execute_result"
    }
   ],
   "source": [
    "DEBIT.head(4)"
   ]
  },
  {
   "cell_type": "code",
   "execution_count": 114,
   "id": "4ed2fc8f",
   "metadata": {},
   "outputs": [],
   "source": [
    "DEBIT_1  = DEBIT.groupby(['mes','id_cliente_origen'])['cuantia'].agg(Sum='sum')"
   ]
  },
  {
   "cell_type": "code",
   "execution_count": 115,
   "id": "98ca9968",
   "metadata": {},
   "outputs": [
    {
     "data": {
      "text/html": [
       "<div>\n",
       "<style scoped>\n",
       "    .dataframe tbody tr th:only-of-type {\n",
       "        vertical-align: middle;\n",
       "    }\n",
       "\n",
       "    .dataframe tbody tr th {\n",
       "        vertical-align: top;\n",
       "    }\n",
       "\n",
       "    .dataframe thead th {\n",
       "        text-align: right;\n",
       "    }\n",
       "</style>\n",
       "<table border=\"1\" class=\"dataframe\">\n",
       "  <thead>\n",
       "    <tr style=\"text-align: right;\">\n",
       "      <th></th>\n",
       "      <th>mes</th>\n",
       "      <th>id_cliente_origen</th>\n",
       "      <th>Sum</th>\n",
       "    </tr>\n",
       "  </thead>\n",
       "  <tbody>\n",
       "    <tr>\n",
       "      <th>0</th>\n",
       "      <td>9</td>\n",
       "      <td>C1000025173</td>\n",
       "      <td>1634.55</td>\n",
       "    </tr>\n",
       "    <tr>\n",
       "      <th>1</th>\n",
       "      <td>9</td>\n",
       "      <td>C10001825</td>\n",
       "      <td>2655.04</td>\n",
       "    </tr>\n",
       "    <tr>\n",
       "      <th>2</th>\n",
       "      <td>9</td>\n",
       "      <td>C1000190286</td>\n",
       "      <td>3395.56</td>\n",
       "    </tr>\n",
       "    <tr>\n",
       "      <th>3</th>\n",
       "      <td>9</td>\n",
       "      <td>C1000196428</td>\n",
       "      <td>2475.71</td>\n",
       "    </tr>\n",
       "    <tr>\n",
       "      <th>4</th>\n",
       "      <td>9</td>\n",
       "      <td>C1000209529</td>\n",
       "      <td>308.36</td>\n",
       "    </tr>\n",
       "    <tr>\n",
       "      <th>...</th>\n",
       "      <td>...</td>\n",
       "      <td>...</td>\n",
       "      <td>...</td>\n",
       "    </tr>\n",
       "    <tr>\n",
       "      <th>41427</th>\n",
       "      <td>10</td>\n",
       "      <td>C806831334</td>\n",
       "      <td>1388.35</td>\n",
       "    </tr>\n",
       "    <tr>\n",
       "      <th>41428</th>\n",
       "      <td>10</td>\n",
       "      <td>C839662403</td>\n",
       "      <td>12543.72</td>\n",
       "    </tr>\n",
       "    <tr>\n",
       "      <th>41429</th>\n",
       "      <td>10</td>\n",
       "      <td>C953860119</td>\n",
       "      <td>4385.34</td>\n",
       "    </tr>\n",
       "    <tr>\n",
       "      <th>41430</th>\n",
       "      <td>10</td>\n",
       "      <td>C960606953</td>\n",
       "      <td>1572.41</td>\n",
       "    </tr>\n",
       "    <tr>\n",
       "      <th>41431</th>\n",
       "      <td>10</td>\n",
       "      <td>C997082479</td>\n",
       "      <td>1453.66</td>\n",
       "    </tr>\n",
       "  </tbody>\n",
       "</table>\n",
       "<p>41432 rows × 3 columns</p>\n",
       "</div>"
      ],
      "text/plain": [
       "       mes id_cliente_origen       Sum\n",
       "0        9       C1000025173   1634.55\n",
       "1        9         C10001825   2655.04\n",
       "2        9       C1000190286   3395.56\n",
       "3        9       C1000196428   2475.71\n",
       "4        9       C1000209529    308.36\n",
       "...    ...               ...       ...\n",
       "41427   10        C806831334   1388.35\n",
       "41428   10        C839662403  12543.72\n",
       "41429   10        C953860119   4385.34\n",
       "41430   10        C960606953   1572.41\n",
       "41431   10        C997082479   1453.66\n",
       "\n",
       "[41432 rows x 3 columns]"
      ]
     },
     "execution_count": 115,
     "metadata": {},
     "output_type": "execute_result"
    }
   ],
   "source": [
    "DEBIT_1.reset_index()"
   ]
  },
  {
   "cell_type": "code",
   "execution_count": 116,
   "id": "56c82de2",
   "metadata": {},
   "outputs": [],
   "source": [
    "DEBIT_2 = DEBIT_1[DEBIT_1['Sum'] > 5000]"
   ]
  },
  {
   "cell_type": "code",
   "execution_count": 117,
   "id": "ec234c0b",
   "metadata": {},
   "outputs": [
    {
     "data": {
      "text/html": [
       "<div>\n",
       "<style scoped>\n",
       "    .dataframe tbody tr th:only-of-type {\n",
       "        vertical-align: middle;\n",
       "    }\n",
       "\n",
       "    .dataframe tbody tr th {\n",
       "        vertical-align: top;\n",
       "    }\n",
       "\n",
       "    .dataframe thead th {\n",
       "        text-align: right;\n",
       "    }\n",
       "</style>\n",
       "<table border=\"1\" class=\"dataframe\">\n",
       "  <thead>\n",
       "    <tr style=\"text-align: right;\">\n",
       "      <th></th>\n",
       "      <th>mes</th>\n",
       "      <th>id_cliente_origen</th>\n",
       "      <th>Sum</th>\n",
       "    </tr>\n",
       "  </thead>\n",
       "  <tbody>\n",
       "    <tr>\n",
       "      <th>0</th>\n",
       "      <td>9</td>\n",
       "      <td>C1000843295</td>\n",
       "      <td>7029.70</td>\n",
       "    </tr>\n",
       "    <tr>\n",
       "      <th>1</th>\n",
       "      <td>9</td>\n",
       "      <td>C1001144039</td>\n",
       "      <td>5194.55</td>\n",
       "    </tr>\n",
       "    <tr>\n",
       "      <th>2</th>\n",
       "      <td>9</td>\n",
       "      <td>C1001207714</td>\n",
       "      <td>10943.72</td>\n",
       "    </tr>\n",
       "    <tr>\n",
       "      <th>3</th>\n",
       "      <td>9</td>\n",
       "      <td>C1001262306</td>\n",
       "      <td>5634.25</td>\n",
       "    </tr>\n",
       "    <tr>\n",
       "      <th>4</th>\n",
       "      <td>9</td>\n",
       "      <td>C100140688</td>\n",
       "      <td>8414.11</td>\n",
       "    </tr>\n",
       "    <tr>\n",
       "      <th>...</th>\n",
       "      <td>...</td>\n",
       "      <td>...</td>\n",
       "      <td>...</td>\n",
       "    </tr>\n",
       "    <tr>\n",
       "      <th>11844</th>\n",
       "      <td>10</td>\n",
       "      <td>C1942412197</td>\n",
       "      <td>7394.05</td>\n",
       "    </tr>\n",
       "    <tr>\n",
       "      <th>11845</th>\n",
       "      <td>10</td>\n",
       "      <td>C2120758488</td>\n",
       "      <td>5676.65</td>\n",
       "    </tr>\n",
       "    <tr>\n",
       "      <th>11846</th>\n",
       "      <td>10</td>\n",
       "      <td>C539695306</td>\n",
       "      <td>16887.83</td>\n",
       "    </tr>\n",
       "    <tr>\n",
       "      <th>11847</th>\n",
       "      <td>10</td>\n",
       "      <td>C742125659</td>\n",
       "      <td>5711.73</td>\n",
       "    </tr>\n",
       "    <tr>\n",
       "      <th>11848</th>\n",
       "      <td>10</td>\n",
       "      <td>C839662403</td>\n",
       "      <td>12543.72</td>\n",
       "    </tr>\n",
       "  </tbody>\n",
       "</table>\n",
       "<p>11849 rows × 3 columns</p>\n",
       "</div>"
      ],
      "text/plain": [
       "       mes id_cliente_origen       Sum\n",
       "0        9       C1000843295   7029.70\n",
       "1        9       C1001144039   5194.55\n",
       "2        9       C1001207714  10943.72\n",
       "3        9       C1001262306   5634.25\n",
       "4        9        C100140688   8414.11\n",
       "...    ...               ...       ...\n",
       "11844   10       C1942412197   7394.05\n",
       "11845   10       C2120758488   5676.65\n",
       "11846   10        C539695306  16887.83\n",
       "11847   10        C742125659   5711.73\n",
       "11848   10        C839662403  12543.72\n",
       "\n",
       "[11849 rows x 3 columns]"
      ]
     },
     "execution_count": 117,
     "metadata": {},
     "output_type": "execute_result"
    }
   ],
   "source": [
    "DEBIT_2.reset_index()"
   ]
  },
  {
   "cell_type": "markdown",
   "id": "06402b6b",
   "metadata": {},
   "source": [
    "Hay 11.849 clientes que superaron el límite de pago con tarjeta de débito al mes, de 5000 €"
   ]
  },
  {
   "cell_type": "code",
   "execution_count": 118,
   "id": "5f689f7f",
   "metadata": {},
   "outputs": [],
   "source": [
    "TRANSFER = df[df['tipo'] == 'TRANSFER']"
   ]
  },
  {
   "cell_type": "code",
   "execution_count": 119,
   "id": "ea1fc74b",
   "metadata": {},
   "outputs": [],
   "source": [
    "TRANSFER_1  = TRANSFER.groupby(['hora','id_cliente_origen'])['t_id'].agg(Count='count')"
   ]
  },
  {
   "cell_type": "code",
   "execution_count": 120,
   "id": "a2d98722",
   "metadata": {},
   "outputs": [
    {
     "data": {
      "text/html": [
       "<div>\n",
       "<style scoped>\n",
       "    .dataframe tbody tr th:only-of-type {\n",
       "        vertical-align: middle;\n",
       "    }\n",
       "\n",
       "    .dataframe tbody tr th {\n",
       "        vertical-align: top;\n",
       "    }\n",
       "\n",
       "    .dataframe thead th {\n",
       "        text-align: right;\n",
       "    }\n",
       "</style>\n",
       "<table border=\"1\" class=\"dataframe\">\n",
       "  <thead>\n",
       "    <tr style=\"text-align: right;\">\n",
       "      <th></th>\n",
       "      <th>hora</th>\n",
       "      <th>id_cliente_origen</th>\n",
       "      <th>Count</th>\n",
       "    </tr>\n",
       "  </thead>\n",
       "  <tbody>\n",
       "    <tr>\n",
       "      <th>0</th>\n",
       "      <td>0</td>\n",
       "      <td>C1000094846</td>\n",
       "      <td>1</td>\n",
       "    </tr>\n",
       "    <tr>\n",
       "      <th>1</th>\n",
       "      <td>0</td>\n",
       "      <td>C1000122340</td>\n",
       "      <td>1</td>\n",
       "    </tr>\n",
       "    <tr>\n",
       "      <th>2</th>\n",
       "      <td>0</td>\n",
       "      <td>C1000125588</td>\n",
       "      <td>1</td>\n",
       "    </tr>\n",
       "    <tr>\n",
       "      <th>3</th>\n",
       "      <td>0</td>\n",
       "      <td>C1000126591</td>\n",
       "      <td>1</td>\n",
       "    </tr>\n",
       "    <tr>\n",
       "      <th>4</th>\n",
       "      <td>0</td>\n",
       "      <td>C1000150723</td>\n",
       "      <td>1</td>\n",
       "    </tr>\n",
       "    <tr>\n",
       "      <th>...</th>\n",
       "      <td>...</td>\n",
       "      <td>...</td>\n",
       "      <td>...</td>\n",
       "    </tr>\n",
       "    <tr>\n",
       "      <th>528790</th>\n",
       "      <td>23</td>\n",
       "      <td>C999714217</td>\n",
       "      <td>1</td>\n",
       "    </tr>\n",
       "    <tr>\n",
       "      <th>528791</th>\n",
       "      <td>23</td>\n",
       "      <td>C999765627</td>\n",
       "      <td>1</td>\n",
       "    </tr>\n",
       "    <tr>\n",
       "      <th>528792</th>\n",
       "      <td>23</td>\n",
       "      <td>C999807848</td>\n",
       "      <td>1</td>\n",
       "    </tr>\n",
       "    <tr>\n",
       "      <th>528793</th>\n",
       "      <td>23</td>\n",
       "      <td>C999908857</td>\n",
       "      <td>1</td>\n",
       "    </tr>\n",
       "    <tr>\n",
       "      <th>528794</th>\n",
       "      <td>23</td>\n",
       "      <td>C999963431</td>\n",
       "      <td>1</td>\n",
       "    </tr>\n",
       "  </tbody>\n",
       "</table>\n",
       "<p>528795 rows × 3 columns</p>\n",
       "</div>"
      ],
      "text/plain": [
       "        hora id_cliente_origen  Count\n",
       "0          0       C1000094846      1\n",
       "1          0       C1000122340      1\n",
       "2          0       C1000125588      1\n",
       "3          0       C1000126591      1\n",
       "4          0       C1000150723      1\n",
       "...      ...               ...    ...\n",
       "528790    23        C999714217      1\n",
       "528791    23        C999765627      1\n",
       "528792    23        C999807848      1\n",
       "528793    23        C999908857      1\n",
       "528794    23        C999963431      1\n",
       "\n",
       "[528795 rows x 3 columns]"
      ]
     },
     "execution_count": 120,
     "metadata": {},
     "output_type": "execute_result"
    }
   ],
   "source": [
    "TRANSFER_1 .reset_index()"
   ]
  },
  {
   "cell_type": "code",
   "execution_count": 121,
   "id": "db0021ed",
   "metadata": {},
   "outputs": [],
   "source": [
    "TRANSFER_2 = TRANSFER_1[TRANSFER_1['Count'] > 3]"
   ]
  },
  {
   "cell_type": "code",
   "execution_count": 122,
   "id": "53c82e97",
   "metadata": {},
   "outputs": [
    {
     "data": {
      "text/html": [
       "<div>\n",
       "<style scoped>\n",
       "    .dataframe tbody tr th:only-of-type {\n",
       "        vertical-align: middle;\n",
       "    }\n",
       "\n",
       "    .dataframe tbody tr th {\n",
       "        vertical-align: top;\n",
       "    }\n",
       "\n",
       "    .dataframe thead th {\n",
       "        text-align: right;\n",
       "    }\n",
       "</style>\n",
       "<table border=\"1\" class=\"dataframe\">\n",
       "  <thead>\n",
       "    <tr style=\"text-align: right;\">\n",
       "      <th></th>\n",
       "      <th></th>\n",
       "      <th>Count</th>\n",
       "    </tr>\n",
       "    <tr>\n",
       "      <th>hora</th>\n",
       "      <th>id_cliente_origen</th>\n",
       "      <th></th>\n",
       "    </tr>\n",
       "  </thead>\n",
       "  <tbody>\n",
       "  </tbody>\n",
       "</table>\n",
       "</div>"
      ],
      "text/plain": [
       "Empty DataFrame\n",
       "Columns: [Count]\n",
       "Index: []"
      ]
     },
     "execution_count": 122,
     "metadata": {},
     "output_type": "execute_result"
    }
   ],
   "source": [
    "TRANSFER_2"
   ]
  },
  {
   "cell_type": "markdown",
   "id": "4334c7b3",
   "metadata": {},
   "source": [
    "No existen errores con respecto a la cantidad de transferencias en una misma hora, para un mismo cliente. "
   ]
  },
  {
   "cell_type": "code",
   "execution_count": 123,
   "id": "ea88d02a",
   "metadata": {},
   "outputs": [],
   "source": [
    "TRANSFER_3  = TRANSFER.groupby(['hora','id_cliente_origen'])['cuantia'].agg(Sum ='sum')"
   ]
  },
  {
   "cell_type": "code",
   "execution_count": 124,
   "id": "cf7d6204",
   "metadata": {},
   "outputs": [
    {
     "data": {
      "text/html": [
       "<div>\n",
       "<style scoped>\n",
       "    .dataframe tbody tr th:only-of-type {\n",
       "        vertical-align: middle;\n",
       "    }\n",
       "\n",
       "    .dataframe tbody tr th {\n",
       "        vertical-align: top;\n",
       "    }\n",
       "\n",
       "    .dataframe thead th {\n",
       "        text-align: right;\n",
       "    }\n",
       "</style>\n",
       "<table border=\"1\" class=\"dataframe\">\n",
       "  <thead>\n",
       "    <tr style=\"text-align: right;\">\n",
       "      <th></th>\n",
       "      <th>hora</th>\n",
       "      <th>id_cliente_origen</th>\n",
       "      <th>Sum</th>\n",
       "    </tr>\n",
       "  </thead>\n",
       "  <tbody>\n",
       "    <tr>\n",
       "      <th>0</th>\n",
       "      <td>0</td>\n",
       "      <td>C1000094846</td>\n",
       "      <td>835095.20</td>\n",
       "    </tr>\n",
       "    <tr>\n",
       "      <th>1</th>\n",
       "      <td>0</td>\n",
       "      <td>C1000122340</td>\n",
       "      <td>86276.42</td>\n",
       "    </tr>\n",
       "    <tr>\n",
       "      <th>2</th>\n",
       "      <td>0</td>\n",
       "      <td>C1000125588</td>\n",
       "      <td>452100.96</td>\n",
       "    </tr>\n",
       "    <tr>\n",
       "      <th>3</th>\n",
       "      <td>0</td>\n",
       "      <td>C1000126591</td>\n",
       "      <td>351902.82</td>\n",
       "    </tr>\n",
       "    <tr>\n",
       "      <th>4</th>\n",
       "      <td>0</td>\n",
       "      <td>C1000150723</td>\n",
       "      <td>503020.45</td>\n",
       "    </tr>\n",
       "    <tr>\n",
       "      <th>...</th>\n",
       "      <td>...</td>\n",
       "      <td>...</td>\n",
       "      <td>...</td>\n",
       "    </tr>\n",
       "    <tr>\n",
       "      <th>528790</th>\n",
       "      <td>23</td>\n",
       "      <td>C999714217</td>\n",
       "      <td>10000000.00</td>\n",
       "    </tr>\n",
       "    <tr>\n",
       "      <th>528791</th>\n",
       "      <td>23</td>\n",
       "      <td>C999765627</td>\n",
       "      <td>2071088.63</td>\n",
       "    </tr>\n",
       "    <tr>\n",
       "      <th>528792</th>\n",
       "      <td>23</td>\n",
       "      <td>C999807848</td>\n",
       "      <td>613007.16</td>\n",
       "    </tr>\n",
       "    <tr>\n",
       "      <th>528793</th>\n",
       "      <td>23</td>\n",
       "      <td>C999908857</td>\n",
       "      <td>62146.19</td>\n",
       "    </tr>\n",
       "    <tr>\n",
       "      <th>528794</th>\n",
       "      <td>23</td>\n",
       "      <td>C999963431</td>\n",
       "      <td>560550.95</td>\n",
       "    </tr>\n",
       "  </tbody>\n",
       "</table>\n",
       "<p>528795 rows × 3 columns</p>\n",
       "</div>"
      ],
      "text/plain": [
       "        hora id_cliente_origen          Sum\n",
       "0          0       C1000094846    835095.20\n",
       "1          0       C1000122340     86276.42\n",
       "2          0       C1000125588    452100.96\n",
       "3          0       C1000126591    351902.82\n",
       "4          0       C1000150723    503020.45\n",
       "...      ...               ...          ...\n",
       "528790    23        C999714217  10000000.00\n",
       "528791    23        C999765627   2071088.63\n",
       "528792    23        C999807848    613007.16\n",
       "528793    23        C999908857     62146.19\n",
       "528794    23        C999963431    560550.95\n",
       "\n",
       "[528795 rows x 3 columns]"
      ]
     },
     "execution_count": 124,
     "metadata": {},
     "output_type": "execute_result"
    }
   ],
   "source": [
    "TRANSFER_3 .reset_index()"
   ]
  },
  {
   "cell_type": "code",
   "execution_count": 125,
   "id": "c3fdef48",
   "metadata": {},
   "outputs": [],
   "source": [
    "TRANSFER_total_t1 = TRANSFER_3[TRANSFER_3['Sum'] > 3000]"
   ]
  },
  {
   "cell_type": "code",
   "execution_count": 126,
   "id": "bbcd1a76",
   "metadata": {},
   "outputs": [
    {
     "data": {
      "text/html": [
       "<div>\n",
       "<style scoped>\n",
       "    .dataframe tbody tr th:only-of-type {\n",
       "        vertical-align: middle;\n",
       "    }\n",
       "\n",
       "    .dataframe tbody tr th {\n",
       "        vertical-align: top;\n",
       "    }\n",
       "\n",
       "    .dataframe thead th {\n",
       "        text-align: right;\n",
       "    }\n",
       "</style>\n",
       "<table border=\"1\" class=\"dataframe\">\n",
       "  <thead>\n",
       "    <tr style=\"text-align: right;\">\n",
       "      <th></th>\n",
       "      <th>hora</th>\n",
       "      <th>id_cliente_origen</th>\n",
       "      <th>Sum</th>\n",
       "    </tr>\n",
       "  </thead>\n",
       "  <tbody>\n",
       "    <tr>\n",
       "      <th>0</th>\n",
       "      <td>0</td>\n",
       "      <td>C1000094846</td>\n",
       "      <td>835095.20</td>\n",
       "    </tr>\n",
       "    <tr>\n",
       "      <th>1</th>\n",
       "      <td>0</td>\n",
       "      <td>C1000122340</td>\n",
       "      <td>86276.42</td>\n",
       "    </tr>\n",
       "    <tr>\n",
       "      <th>2</th>\n",
       "      <td>0</td>\n",
       "      <td>C1000125588</td>\n",
       "      <td>452100.96</td>\n",
       "    </tr>\n",
       "    <tr>\n",
       "      <th>3</th>\n",
       "      <td>0</td>\n",
       "      <td>C1000126591</td>\n",
       "      <td>351902.82</td>\n",
       "    </tr>\n",
       "    <tr>\n",
       "      <th>4</th>\n",
       "      <td>0</td>\n",
       "      <td>C1000150723</td>\n",
       "      <td>503020.45</td>\n",
       "    </tr>\n",
       "    <tr>\n",
       "      <th>...</th>\n",
       "      <td>...</td>\n",
       "      <td>...</td>\n",
       "      <td>...</td>\n",
       "    </tr>\n",
       "    <tr>\n",
       "      <th>527021</th>\n",
       "      <td>23</td>\n",
       "      <td>C999714217</td>\n",
       "      <td>10000000.00</td>\n",
       "    </tr>\n",
       "    <tr>\n",
       "      <th>527022</th>\n",
       "      <td>23</td>\n",
       "      <td>C999765627</td>\n",
       "      <td>2071088.63</td>\n",
       "    </tr>\n",
       "    <tr>\n",
       "      <th>527023</th>\n",
       "      <td>23</td>\n",
       "      <td>C999807848</td>\n",
       "      <td>613007.16</td>\n",
       "    </tr>\n",
       "    <tr>\n",
       "      <th>527024</th>\n",
       "      <td>23</td>\n",
       "      <td>C999908857</td>\n",
       "      <td>62146.19</td>\n",
       "    </tr>\n",
       "    <tr>\n",
       "      <th>527025</th>\n",
       "      <td>23</td>\n",
       "      <td>C999963431</td>\n",
       "      <td>560550.95</td>\n",
       "    </tr>\n",
       "  </tbody>\n",
       "</table>\n",
       "<p>527026 rows × 3 columns</p>\n",
       "</div>"
      ],
      "text/plain": [
       "        hora id_cliente_origen          Sum\n",
       "0          0       C1000094846    835095.20\n",
       "1          0       C1000122340     86276.42\n",
       "2          0       C1000125588    452100.96\n",
       "3          0       C1000126591    351902.82\n",
       "4          0       C1000150723    503020.45\n",
       "...      ...               ...          ...\n",
       "527021    23        C999714217  10000000.00\n",
       "527022    23        C999765627   2071088.63\n",
       "527023    23        C999807848    613007.16\n",
       "527024    23        C999908857     62146.19\n",
       "527025    23        C999963431    560550.95\n",
       "\n",
       "[527026 rows x 3 columns]"
      ]
     },
     "execution_count": 126,
     "metadata": {},
     "output_type": "execute_result"
    }
   ],
   "source": [
    "TRANSFER_total_t1.reset_index()"
   ]
  },
  {
   "cell_type": "markdown",
   "id": "20c30b20",
   "metadata": {},
   "source": [
    "Existen 527.026 casos, en los cuales las transacciones juntas suman más de 3000€ en una misma hora, para un mismo cliente."
   ]
  }
 ],
 "metadata": {
  "kernelspec": {
   "display_name": "Python 3 (ipykernel)",
   "language": "python",
   "name": "python3"
  },
  "language_info": {
   "codemirror_mode": {
    "name": "ipython",
    "version": 3
   },
   "file_extension": ".py",
   "mimetype": "text/x-python",
   "name": "python",
   "nbconvert_exporter": "python",
   "pygments_lexer": "ipython3",
   "version": "3.9.13"
  }
 },
 "nbformat": 4,
 "nbformat_minor": 5
}
