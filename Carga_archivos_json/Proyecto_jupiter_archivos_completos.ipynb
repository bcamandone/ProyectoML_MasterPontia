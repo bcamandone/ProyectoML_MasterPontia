{
 "cells": [
  {
   "cell_type": "markdown",
   "id": "00ebabee",
   "metadata": {},
   "source": [
    "Para poder efectuar el EDA, vamos a unir los 7 archivos trabajados en un solo archivo."
   ]
  },
  {
   "cell_type": "code",
   "execution_count": 1,
   "id": "4b181fda",
   "metadata": {},
   "outputs": [],
   "source": [
    "import pandas as pd\n",
    "import numpy as np\n",
    "import seaborn as sns\n",
    "import matplotlib as mpl\n",
    "import matplotlib.pyplot as plt"
   ]
  },
  {
   "cell_type": "code",
   "execution_count": 2,
   "id": "dc7a81fa",
   "metadata": {},
   "outputs": [],
   "source": [
    "dfbalancefinal = pd.read_csv('df_balance.csv')"
   ]
  },
  {
   "cell_type": "code",
   "execution_count": 3,
   "id": "44604fdd",
   "metadata": {},
   "outputs": [
    {
     "data": {
      "text/html": [
       "<div>\n",
       "<style scoped>\n",
       "    .dataframe tbody tr th:only-of-type {\n",
       "        vertical-align: middle;\n",
       "    }\n",
       "\n",
       "    .dataframe tbody tr th {\n",
       "        vertical-align: top;\n",
       "    }\n",
       "\n",
       "    .dataframe thead th {\n",
       "        text-align: right;\n",
       "    }\n",
       "</style>\n",
       "<table border=\"1\" class=\"dataframe\">\n",
       "  <thead>\n",
       "    <tr style=\"text-align: right;\">\n",
       "      <th></th>\n",
       "      <th>cliente_id</th>\n",
       "      <th>t_id</th>\n",
       "      <th>balance_prev</th>\n",
       "      <th>balance_post</th>\n",
       "    </tr>\n",
       "  </thead>\n",
       "  <tbody>\n",
       "    <tr>\n",
       "      <th>0</th>\n",
       "      <td>C1231006815</td>\n",
       "      <td>0</td>\n",
       "      <td>170136.0</td>\n",
       "      <td>160296.36</td>\n",
       "    </tr>\n",
       "    <tr>\n",
       "      <th>1</th>\n",
       "      <td>M1979787155</td>\n",
       "      <td>0</td>\n",
       "      <td>0.0</td>\n",
       "      <td>0.00</td>\n",
       "    </tr>\n",
       "    <tr>\n",
       "      <th>2</th>\n",
       "      <td>C1666544295</td>\n",
       "      <td>1</td>\n",
       "      <td>21249.0</td>\n",
       "      <td>19384.72</td>\n",
       "    </tr>\n",
       "  </tbody>\n",
       "</table>\n",
       "</div>"
      ],
      "text/plain": [
       "    cliente_id  t_id  balance_prev  balance_post\n",
       "0  C1231006815     0      170136.0     160296.36\n",
       "1  M1979787155     0           0.0          0.00\n",
       "2  C1666544295     1       21249.0      19384.72"
      ]
     },
     "execution_count": 3,
     "metadata": {},
     "output_type": "execute_result"
    }
   ],
   "source": [
    "dfbalancefinal.head(3)"
   ]
  },
  {
   "cell_type": "code",
   "execution_count": 4,
   "id": "0a6d0e57",
   "metadata": {},
   "outputs": [
    {
     "data": {
      "text/plain": [
       "(12725240, 4)"
      ]
     },
     "execution_count": 4,
     "metadata": {},
     "output_type": "execute_result"
    }
   ],
   "source": [
    "dfbalancefinal.shape"
   ]
  },
  {
   "cell_type": "code",
   "execution_count": 5,
   "id": "cca83ec8",
   "metadata": {},
   "outputs": [
    {
     "data": {
      "text/plain": [
       "False    12725240\n",
       "dtype: int64"
      ]
     },
     "execution_count": 5,
     "metadata": {},
     "output_type": "execute_result"
    }
   ],
   "source": [
    "dfbalancefinal.duplicated(subset=['cliente_id', 't_id']).value_counts()"
   ]
  },
  {
   "cell_type": "code",
   "execution_count": 6,
   "id": "5658eaab",
   "metadata": {},
   "outputs": [],
   "source": [
    "df_cuantia = pd.read_csv('df_cuantia.csv')"
   ]
  },
  {
   "cell_type": "code",
   "execution_count": 7,
   "id": "3fe0e384",
   "metadata": {},
   "outputs": [
    {
     "data": {
      "text/html": [
       "<div>\n",
       "<style scoped>\n",
       "    .dataframe tbody tr th:only-of-type {\n",
       "        vertical-align: middle;\n",
       "    }\n",
       "\n",
       "    .dataframe tbody tr th {\n",
       "        vertical-align: top;\n",
       "    }\n",
       "\n",
       "    .dataframe thead th {\n",
       "        text-align: right;\n",
       "    }\n",
       "</style>\n",
       "<table border=\"1\" class=\"dataframe\">\n",
       "  <thead>\n",
       "    <tr style=\"text-align: right;\">\n",
       "      <th></th>\n",
       "      <th>t_id</th>\n",
       "      <th>cuantia</th>\n",
       "    </tr>\n",
       "  </thead>\n",
       "  <tbody>\n",
       "    <tr>\n",
       "      <th>0</th>\n",
       "      <td>0</td>\n",
       "      <td>9839.64</td>\n",
       "    </tr>\n",
       "    <tr>\n",
       "      <th>1</th>\n",
       "      <td>1</td>\n",
       "      <td>1864.28</td>\n",
       "    </tr>\n",
       "    <tr>\n",
       "      <th>2</th>\n",
       "      <td>2</td>\n",
       "      <td>181.00</td>\n",
       "    </tr>\n",
       "  </tbody>\n",
       "</table>\n",
       "</div>"
      ],
      "text/plain": [
       "   t_id  cuantia\n",
       "0     0  9839.64\n",
       "1     1  1864.28\n",
       "2     2   181.00"
      ]
     },
     "execution_count": 7,
     "metadata": {},
     "output_type": "execute_result"
    }
   ],
   "source": [
    "df_cuantia.head(3)"
   ]
  },
  {
   "cell_type": "code",
   "execution_count": 8,
   "id": "0064c4b2",
   "metadata": {},
   "outputs": [
    {
     "data": {
      "text/plain": [
       "(6362620, 2)"
      ]
     },
     "execution_count": 8,
     "metadata": {},
     "output_type": "execute_result"
    }
   ],
   "source": [
    "df_cuantia.shape"
   ]
  },
  {
   "cell_type": "code",
   "execution_count": 9,
   "id": "5ec826b5",
   "metadata": {},
   "outputs": [
    {
     "data": {
      "text/plain": [
       "False    6362620\n",
       "dtype: int64"
      ]
     },
     "execution_count": 9,
     "metadata": {},
     "output_type": "execute_result"
    }
   ],
   "source": [
    "df_cuantia.duplicated(subset=['t_id']).value_counts()"
   ]
  },
  {
   "cell_type": "code",
   "execution_count": 10,
   "id": "a18f7c16",
   "metadata": {},
   "outputs": [],
   "source": [
    "\n",
    "df_clientes = pd.read_csv('df_clientes.csv')"
   ]
  },
  {
   "cell_type": "code",
   "execution_count": 11,
   "id": "d3c5df1d",
   "metadata": {},
   "outputs": [
    {
     "data": {
      "text/html": [
       "<div>\n",
       "<style scoped>\n",
       "    .dataframe tbody tr th:only-of-type {\n",
       "        vertical-align: middle;\n",
       "    }\n",
       "\n",
       "    .dataframe tbody tr th {\n",
       "        vertical-align: top;\n",
       "    }\n",
       "\n",
       "    .dataframe thead th {\n",
       "        text-align: right;\n",
       "    }\n",
       "</style>\n",
       "<table border=\"1\" class=\"dataframe\">\n",
       "  <thead>\n",
       "    <tr style=\"text-align: right;\">\n",
       "      <th></th>\n",
       "      <th>t_id</th>\n",
       "      <th>origen</th>\n",
       "      <th>destino</th>\n",
       "    </tr>\n",
       "  </thead>\n",
       "  <tbody>\n",
       "    <tr>\n",
       "      <th>0</th>\n",
       "      <td>0</td>\n",
       "      <td>C1231006815</td>\n",
       "      <td>M1979787155</td>\n",
       "    </tr>\n",
       "    <tr>\n",
       "      <th>1</th>\n",
       "      <td>1</td>\n",
       "      <td>C1666544295</td>\n",
       "      <td>M2044282225</td>\n",
       "    </tr>\n",
       "    <tr>\n",
       "      <th>2</th>\n",
       "      <td>2</td>\n",
       "      <td>C1305486145</td>\n",
       "      <td>C553264065</td>\n",
       "    </tr>\n",
       "  </tbody>\n",
       "</table>\n",
       "</div>"
      ],
      "text/plain": [
       "   t_id       origen      destino\n",
       "0     0  C1231006815  M1979787155\n",
       "1     1  C1666544295  M2044282225\n",
       "2     2  C1305486145   C553264065"
      ]
     },
     "execution_count": 11,
     "metadata": {},
     "output_type": "execute_result"
    }
   ],
   "source": [
    "df_clientes.head(3)"
   ]
  },
  {
   "cell_type": "code",
   "execution_count": 12,
   "id": "d026300f",
   "metadata": {},
   "outputs": [
    {
     "data": {
      "text/plain": [
       "(6362620, 3)"
      ]
     },
     "execution_count": 12,
     "metadata": {},
     "output_type": "execute_result"
    }
   ],
   "source": [
    "df_clientes.shape"
   ]
  },
  {
   "cell_type": "code",
   "execution_count": 13,
   "id": "20170acf",
   "metadata": {},
   "outputs": [
    {
     "data": {
      "text/plain": [
       "False    6362620\n",
       "dtype: int64"
      ]
     },
     "execution_count": 13,
     "metadata": {},
     "output_type": "execute_result"
    }
   ],
   "source": [
    "df_clientes.duplicated(subset=['t_id']).value_counts()"
   ]
  },
  {
   "cell_type": "markdown",
   "id": "1a024b2e",
   "metadata": {},
   "source": [
    "Unión dataset balance y dataset clientes"
   ]
  },
  {
   "cell_type": "code",
   "execution_count": 14,
   "id": "e9e8f837",
   "metadata": {},
   "outputs": [],
   "source": [
    "clientes_origen = df_clientes[['t_id', 'origen']]"
   ]
  },
  {
   "cell_type": "code",
   "execution_count": 15,
   "id": "fa2e83a4",
   "metadata": {},
   "outputs": [],
   "source": [
    "clientes_origen = clientes_origen.rename(columns={'origen':'cliente_id'\n",
    "                                   })"
   ]
  },
  {
   "cell_type": "code",
   "execution_count": 16,
   "id": "f4d60285",
   "metadata": {},
   "outputs": [
    {
     "data": {
      "text/html": [
       "<div>\n",
       "<style scoped>\n",
       "    .dataframe tbody tr th:only-of-type {\n",
       "        vertical-align: middle;\n",
       "    }\n",
       "\n",
       "    .dataframe tbody tr th {\n",
       "        vertical-align: top;\n",
       "    }\n",
       "\n",
       "    .dataframe thead th {\n",
       "        text-align: right;\n",
       "    }\n",
       "</style>\n",
       "<table border=\"1\" class=\"dataframe\">\n",
       "  <thead>\n",
       "    <tr style=\"text-align: right;\">\n",
       "      <th></th>\n",
       "      <th>t_id</th>\n",
       "      <th>cliente_id</th>\n",
       "    </tr>\n",
       "  </thead>\n",
       "  <tbody>\n",
       "    <tr>\n",
       "      <th>0</th>\n",
       "      <td>0</td>\n",
       "      <td>C1231006815</td>\n",
       "    </tr>\n",
       "    <tr>\n",
       "      <th>1</th>\n",
       "      <td>1</td>\n",
       "      <td>C1666544295</td>\n",
       "    </tr>\n",
       "    <tr>\n",
       "      <th>2</th>\n",
       "      <td>2</td>\n",
       "      <td>C1305486145</td>\n",
       "    </tr>\n",
       "  </tbody>\n",
       "</table>\n",
       "</div>"
      ],
      "text/plain": [
       "   t_id   cliente_id\n",
       "0     0  C1231006815\n",
       "1     1  C1666544295\n",
       "2     2  C1305486145"
      ]
     },
     "execution_count": 16,
     "metadata": {},
     "output_type": "execute_result"
    }
   ],
   "source": [
    "clientes_origen.head(3)"
   ]
  },
  {
   "cell_type": "code",
   "execution_count": 17,
   "id": "20d907e2",
   "metadata": {},
   "outputs": [],
   "source": [
    "df_balance_clientes_origen =  pd.merge(dfbalancefinal ,clientes_origen, how = 'inner', on = ('t_id', 'cliente_id'))"
   ]
  },
  {
   "cell_type": "code",
   "execution_count": 18,
   "id": "938f5a65",
   "metadata": {},
   "outputs": [],
   "source": [
    "df_balance_clientes_origen_1 = df_balance_clientes_origen.rename(columns={'cliente_id':'id_cliente_origen','balance_prev':'balance_prev_origen',\n",
    "                                                                          'balance_post':'balance_post_origen'}) "
   ]
  },
  {
   "cell_type": "code",
   "execution_count": 19,
   "id": "76805aa8",
   "metadata": {},
   "outputs": [
    {
     "data": {
      "text/plain": [
       "(6362620, 4)"
      ]
     },
     "execution_count": 19,
     "metadata": {},
     "output_type": "execute_result"
    }
   ],
   "source": [
    "df_balance_clientes_origen_1.shape"
   ]
  },
  {
   "cell_type": "code",
   "execution_count": 20,
   "id": "a92473c5",
   "metadata": {},
   "outputs": [
    {
     "data": {
      "text/html": [
       "<div>\n",
       "<style scoped>\n",
       "    .dataframe tbody tr th:only-of-type {\n",
       "        vertical-align: middle;\n",
       "    }\n",
       "\n",
       "    .dataframe tbody tr th {\n",
       "        vertical-align: top;\n",
       "    }\n",
       "\n",
       "    .dataframe thead th {\n",
       "        text-align: right;\n",
       "    }\n",
       "</style>\n",
       "<table border=\"1\" class=\"dataframe\">\n",
       "  <thead>\n",
       "    <tr style=\"text-align: right;\">\n",
       "      <th></th>\n",
       "      <th>id_cliente_origen</th>\n",
       "      <th>t_id</th>\n",
       "      <th>balance_prev_origen</th>\n",
       "      <th>balance_post_origen</th>\n",
       "    </tr>\n",
       "  </thead>\n",
       "  <tbody>\n",
       "    <tr>\n",
       "      <th>0</th>\n",
       "      <td>C1231006815</td>\n",
       "      <td>0</td>\n",
       "      <td>170136.0</td>\n",
       "      <td>160296.36</td>\n",
       "    </tr>\n",
       "    <tr>\n",
       "      <th>1</th>\n",
       "      <td>C1666544295</td>\n",
       "      <td>1</td>\n",
       "      <td>21249.0</td>\n",
       "      <td>19384.72</td>\n",
       "    </tr>\n",
       "    <tr>\n",
       "      <th>2</th>\n",
       "      <td>C1305486145</td>\n",
       "      <td>2</td>\n",
       "      <td>181.0</td>\n",
       "      <td>0.00</td>\n",
       "    </tr>\n",
       "  </tbody>\n",
       "</table>\n",
       "</div>"
      ],
      "text/plain": [
       "  id_cliente_origen  t_id  balance_prev_origen  balance_post_origen\n",
       "0       C1231006815     0             170136.0            160296.36\n",
       "1       C1666544295     1              21249.0             19384.72\n",
       "2       C1305486145     2                181.0                 0.00"
      ]
     },
     "execution_count": 20,
     "metadata": {},
     "output_type": "execute_result"
    }
   ],
   "source": [
    "df_balance_clientes_origen_1.head(3)"
   ]
  },
  {
   "cell_type": "code",
   "execution_count": 21,
   "id": "e072c9d4",
   "metadata": {},
   "outputs": [
    {
     "data": {
      "text/plain": [
       "False    6362620\n",
       "dtype: int64"
      ]
     },
     "execution_count": 21,
     "metadata": {},
     "output_type": "execute_result"
    }
   ],
   "source": [
    "df_balance_clientes_origen_1.duplicated(subset=['t_id']).value_counts()"
   ]
  },
  {
   "cell_type": "code",
   "execution_count": 22,
   "id": "559517ca",
   "metadata": {},
   "outputs": [],
   "source": [
    "clientes_destino = df_clientes[['t_id', 'destino']]"
   ]
  },
  {
   "cell_type": "code",
   "execution_count": 23,
   "id": "42d8394e",
   "metadata": {},
   "outputs": [],
   "source": [
    "clientes_destino = clientes_destino.rename(columns={'destino':'cliente_id'\n",
    "                                   })"
   ]
  },
  {
   "cell_type": "code",
   "execution_count": 24,
   "id": "9f0845db",
   "metadata": {},
   "outputs": [],
   "source": [
    "df_balance_clientes_destino =  pd.merge(dfbalancefinal ,clientes_destino, how = 'inner', on = ('t_id', 'cliente_id'))"
   ]
  },
  {
   "cell_type": "code",
   "execution_count": 25,
   "id": "6a336c9f",
   "metadata": {},
   "outputs": [],
   "source": [
    "df_balance_clientes_destino_1 = df_balance_clientes_destino.rename(columns={'cliente_id':'id_cliente_destino','balance_prev':'balance_prev_destino',\n",
    "                                                                            'balance_post':'balance_post_destino'})"
   ]
  },
  {
   "cell_type": "code",
   "execution_count": 26,
   "id": "3a27594c",
   "metadata": {},
   "outputs": [
    {
     "data": {
      "text/plain": [
       "False    6362620\n",
       "dtype: int64"
      ]
     },
     "execution_count": 26,
     "metadata": {},
     "output_type": "execute_result"
    }
   ],
   "source": [
    "df_balance_clientes_destino_1.duplicated(subset=['t_id']).value_counts()"
   ]
  },
  {
   "cell_type": "code",
   "execution_count": 27,
   "id": "cdf7586c",
   "metadata": {},
   "outputs": [],
   "source": [
    "df_balance_clientes =  pd.merge(df_balance_clientes_origen_1,df_balance_clientes_destino_1, how = 'inner', on = ('t_id'))"
   ]
  },
  {
   "cell_type": "code",
   "execution_count": 28,
   "id": "8b6e182f",
   "metadata": {},
   "outputs": [
    {
     "data": {
      "text/plain": [
       "(6362620, 7)"
      ]
     },
     "execution_count": 28,
     "metadata": {},
     "output_type": "execute_result"
    }
   ],
   "source": [
    "df_balance_clientes.shape"
   ]
  },
  {
   "cell_type": "code",
   "execution_count": 29,
   "id": "71b495f0",
   "metadata": {},
   "outputs": [
    {
     "data": {
      "text/plain": [
       "False    6362620\n",
       "dtype: int64"
      ]
     },
     "execution_count": 29,
     "metadata": {},
     "output_type": "execute_result"
    }
   ],
   "source": [
    "df_balance_clientes.duplicated(subset=['t_id']).value_counts()"
   ]
  },
  {
   "cell_type": "code",
   "execution_count": 30,
   "id": "9e587636",
   "metadata": {},
   "outputs": [
    {
     "data": {
      "text/html": [
       "<div>\n",
       "<style scoped>\n",
       "    .dataframe tbody tr th:only-of-type {\n",
       "        vertical-align: middle;\n",
       "    }\n",
       "\n",
       "    .dataframe tbody tr th {\n",
       "        vertical-align: top;\n",
       "    }\n",
       "\n",
       "    .dataframe thead th {\n",
       "        text-align: right;\n",
       "    }\n",
       "</style>\n",
       "<table border=\"1\" class=\"dataframe\">\n",
       "  <thead>\n",
       "    <tr style=\"text-align: right;\">\n",
       "      <th></th>\n",
       "      <th>id_cliente_origen</th>\n",
       "      <th>t_id</th>\n",
       "      <th>balance_prev_origen</th>\n",
       "      <th>balance_post_origen</th>\n",
       "      <th>id_cliente_destino</th>\n",
       "      <th>balance_prev_destino</th>\n",
       "      <th>balance_post_destino</th>\n",
       "    </tr>\n",
       "  </thead>\n",
       "  <tbody>\n",
       "    <tr>\n",
       "      <th>0</th>\n",
       "      <td>C1231006815</td>\n",
       "      <td>0</td>\n",
       "      <td>170136.0</td>\n",
       "      <td>160296.36</td>\n",
       "      <td>M1979787155</td>\n",
       "      <td>0.0</td>\n",
       "      <td>0.0</td>\n",
       "    </tr>\n",
       "    <tr>\n",
       "      <th>1</th>\n",
       "      <td>C1666544295</td>\n",
       "      <td>1</td>\n",
       "      <td>21249.0</td>\n",
       "      <td>19384.72</td>\n",
       "      <td>M2044282225</td>\n",
       "      <td>0.0</td>\n",
       "      <td>0.0</td>\n",
       "    </tr>\n",
       "    <tr>\n",
       "      <th>2</th>\n",
       "      <td>C1305486145</td>\n",
       "      <td>2</td>\n",
       "      <td>181.0</td>\n",
       "      <td>0.00</td>\n",
       "      <td>C553264065</td>\n",
       "      <td>0.0</td>\n",
       "      <td>0.0</td>\n",
       "    </tr>\n",
       "  </tbody>\n",
       "</table>\n",
       "</div>"
      ],
      "text/plain": [
       "  id_cliente_origen  t_id  balance_prev_origen  balance_post_origen  \\\n",
       "0       C1231006815     0             170136.0            160296.36   \n",
       "1       C1666544295     1              21249.0             19384.72   \n",
       "2       C1305486145     2                181.0                 0.00   \n",
       "\n",
       "  id_cliente_destino  balance_prev_destino  balance_post_destino  \n",
       "0        M1979787155                   0.0                   0.0  \n",
       "1        M2044282225                   0.0                   0.0  \n",
       "2         C553264065                   0.0                   0.0  "
      ]
     },
     "execution_count": 30,
     "metadata": {},
     "output_type": "execute_result"
    }
   ],
   "source": [
    "\n",
    "df_balance_clientes.head(3)"
   ]
  },
  {
   "cell_type": "code",
   "execution_count": 31,
   "id": "c4c02df0",
   "metadata": {},
   "outputs": [],
   "source": [
    "df_balance_clientes_1 = df_balance_clientes[['t_id','id_cliente_origen','balance_prev_origen','balance_post_origen',\n",
    "                                             'id_cliente_destino','balance_prev_destino','balance_post_destino']]"
   ]
  },
  {
   "cell_type": "markdown",
   "id": "5d939ac9",
   "metadata": {},
   "source": [
    "Unimos el dataset que ahora tiene el balance de origen y destino con su transacción, con la cuantía de la transacción"
   ]
  },
  {
   "cell_type": "code",
   "execution_count": 32,
   "id": "01a44725",
   "metadata": {},
   "outputs": [],
   "source": [
    "df_balance_clientes_cuantia =  pd.merge(df_balance_clientes_1 ,df_cuantia, how = 'inner', on = ('t_id'))"
   ]
  },
  {
   "cell_type": "code",
   "execution_count": 33,
   "id": "7a29d6fe",
   "metadata": {},
   "outputs": [
    {
     "data": {
      "text/plain": [
       "(6362620, 8)"
      ]
     },
     "execution_count": 33,
     "metadata": {},
     "output_type": "execute_result"
    }
   ],
   "source": [
    "df_balance_clientes_cuantia.shape"
   ]
  },
  {
   "cell_type": "markdown",
   "id": "0b8c70a5",
   "metadata": {},
   "source": [
    "Cargamos el dataset tipo y unimos con el dataset que tiene los datos del balance y de la cuantía"
   ]
  },
  {
   "cell_type": "code",
   "execution_count": 35,
   "id": "bd3206ad",
   "metadata": {},
   "outputs": [],
   "source": [
    "df_tipo = pd.read_csv('df_tipo.csv')"
   ]
  },
  {
   "cell_type": "code",
   "execution_count": 36,
   "id": "48415882",
   "metadata": {},
   "outputs": [],
   "source": [
    "df_balance_tipo =  pd.merge(df_balance_clientes_cuantia ,df_tipo, how = 'inner', on = ('t_id'))"
   ]
  },
  {
   "cell_type": "code",
   "execution_count": 37,
   "id": "8489589c",
   "metadata": {},
   "outputs": [
    {
     "data": {
      "text/plain": [
       "(6362620, 9)"
      ]
     },
     "execution_count": 37,
     "metadata": {},
     "output_type": "execute_result"
    }
   ],
   "source": [
    "df_balance_tipo.shape"
   ]
  },
  {
   "cell_type": "markdown",
   "id": "c40d0f25",
   "metadata": {},
   "source": [
    "Cargamos el dataset tiempo y unimos con el dataset que tiene los datos del balance, de la cuantía de la trancción y su tipo"
   ]
  },
  {
   "cell_type": "code",
   "execution_count": 38,
   "id": "327ed7c5",
   "metadata": {},
   "outputs": [],
   "source": [
    "df_tiempo = pd.read_csv('df_tiempo.csv')"
   ]
  },
  {
   "cell_type": "code",
   "execution_count": 39,
   "id": "3ceece93",
   "metadata": {},
   "outputs": [],
   "source": [
    "df_balance_tiempo =  pd.merge(df_balance_tipo ,df_tiempo, how = 'inner', on = ('t_id'))"
   ]
  },
  {
   "cell_type": "markdown",
   "id": "b00b3a61",
   "metadata": {},
   "source": [
    "Cargamos el dataset alarma_fraude y unimos con el dataset que tiene los datos del balance, de la cuantía de la trancción, su tipo y tiempo."
   ]
  },
  {
   "cell_type": "code",
   "execution_count": 40,
   "id": "156f3aa5",
   "metadata": {},
   "outputs": [],
   "source": [
    "df_alarma = pd.read_csv('df_alarma_fraude.csv')"
   ]
  },
  {
   "cell_type": "code",
   "execution_count": 41,
   "id": "172fba31",
   "metadata": {},
   "outputs": [
    {
     "data": {
      "text/plain": [
       "(16, 2)"
      ]
     },
     "execution_count": 41,
     "metadata": {},
     "output_type": "execute_result"
    }
   ],
   "source": [
    "df_alarma.shape"
   ]
  },
  {
   "cell_type": "code",
   "execution_count": 42,
   "id": "fa4f4c3b",
   "metadata": {},
   "outputs": [],
   "source": [
    "df_balance_alarma = pd.merge(df_balance_tiempo ,df_alarma, how = 'left', on = ('t_id'))"
   ]
  },
  {
   "cell_type": "code",
   "execution_count": 43,
   "id": "767a691a",
   "metadata": {},
   "outputs": [
    {
     "data": {
      "text/plain": [
       "(6362620, 12)"
      ]
     },
     "execution_count": 43,
     "metadata": {},
     "output_type": "execute_result"
    }
   ],
   "source": [
    "df_balance_alarma.shape"
   ]
  },
  {
   "cell_type": "markdown",
   "id": "a11938e2",
   "metadata": {},
   "source": [
    "Chequeamos una transacción donde saltó la alarma de fraude"
   ]
  },
  {
   "cell_type": "code",
   "execution_count": 44,
   "id": "30b74ae6",
   "metadata": {},
   "outputs": [],
   "source": [
    "a = df_balance_alarma.loc[df_balance_alarma['t_id'] == 2736446]"
   ]
  },
  {
   "cell_type": "code",
   "execution_count": 45,
   "id": "9dbf31c9",
   "metadata": {},
   "outputs": [
    {
     "data": {
      "text/html": [
       "<div>\n",
       "<style scoped>\n",
       "    .dataframe tbody tr th:only-of-type {\n",
       "        vertical-align: middle;\n",
       "    }\n",
       "\n",
       "    .dataframe tbody tr th {\n",
       "        vertical-align: top;\n",
       "    }\n",
       "\n",
       "    .dataframe thead th {\n",
       "        text-align: right;\n",
       "    }\n",
       "</style>\n",
       "<table border=\"1\" class=\"dataframe\">\n",
       "  <thead>\n",
       "    <tr style=\"text-align: right;\">\n",
       "      <th></th>\n",
       "      <th>t_id</th>\n",
       "      <th>id_cliente_origen</th>\n",
       "      <th>balance_prev_origen</th>\n",
       "      <th>balance_post_origen</th>\n",
       "      <th>id_cliente_destino</th>\n",
       "      <th>balance_prev_destino</th>\n",
       "      <th>balance_post_destino</th>\n",
       "      <th>cuantia</th>\n",
       "      <th>tipo</th>\n",
       "      <th>index</th>\n",
       "      <th>fecha_final</th>\n",
       "      <th>mensaje_alarma</th>\n",
       "    </tr>\n",
       "  </thead>\n",
       "  <tbody>\n",
       "    <tr>\n",
       "      <th>2741452</th>\n",
       "      <td>2736446</td>\n",
       "      <td>C728984460</td>\n",
       "      <td>4953893.08</td>\n",
       "      <td>4953893.08</td>\n",
       "      <td>C639921569</td>\n",
       "      <td>0.0</td>\n",
       "      <td>0.0</td>\n",
       "      <td>4953893.08</td>\n",
       "      <td>TRANSFER</td>\n",
       "      <td>2736446</td>\n",
       "      <td>2022-09-10 03:00:00</td>\n",
       "      <td>Detectado_fraude</td>\n",
       "    </tr>\n",
       "  </tbody>\n",
       "</table>\n",
       "</div>"
      ],
      "text/plain": [
       "            t_id id_cliente_origen  balance_prev_origen  balance_post_origen  \\\n",
       "2741452  2736446        C728984460           4953893.08           4953893.08   \n",
       "\n",
       "        id_cliente_destino  balance_prev_destino  balance_post_destino  \\\n",
       "2741452         C639921569                   0.0                   0.0   \n",
       "\n",
       "            cuantia      tipo    index          fecha_final    mensaje_alarma  \n",
       "2741452  4953893.08  TRANSFER  2736446  2022-09-10 03:00:00  Detectado_fraude  "
      ]
     },
     "execution_count": 45,
     "metadata": {},
     "output_type": "execute_result"
    }
   ],
   "source": [
    "a"
   ]
  },
  {
   "cell_type": "code",
   "execution_count": 47,
   "id": "05e06b30",
   "metadata": {},
   "outputs": [],
   "source": [
    "df_balance_alarma = df_balance_alarma.drop(columns = ['index'])"
   ]
  },
  {
   "cell_type": "markdown",
   "id": "0457aa71",
   "metadata": {},
   "source": [
    "Cargamos el dataset es_fraude y unimos con el dataset que tiene los datos del balance, de la cuantía de la trancción, su tipo, tiempo y si se detecto la alarma de fraude."
   ]
  },
  {
   "cell_type": "code",
   "execution_count": 48,
   "id": "7181e904",
   "metadata": {},
   "outputs": [],
   "source": [
    "df_fraude = pd.read_csv('df_es_fraude.csv')"
   ]
  },
  {
   "cell_type": "code",
   "execution_count": 49,
   "id": "fe8fa10d",
   "metadata": {},
   "outputs": [
    {
     "data": {
      "text/plain": [
       "(6362520, 2)"
      ]
     },
     "execution_count": 49,
     "metadata": {},
     "output_type": "execute_result"
    }
   ],
   "source": [
    "\n",
    "df_fraude.shape"
   ]
  },
  {
   "cell_type": "code",
   "execution_count": 50,
   "id": "1cb6d90c",
   "metadata": {},
   "outputs": [],
   "source": [
    "\n",
    "df_balance_fraude = pd.merge(df_balance_alarma ,df_fraude, how = 'left', on = ('t_id'))"
   ]
  },
  {
   "cell_type": "code",
   "execution_count": 51,
   "id": "5c72d0c6",
   "metadata": {},
   "outputs": [
    {
     "data": {
      "text/plain": [
       "(6362620, 12)"
      ]
     },
     "execution_count": 51,
     "metadata": {},
     "output_type": "execute_result"
    }
   ],
   "source": [
    "df_balance_fraude.shape"
   ]
  },
  {
   "cell_type": "code",
   "execution_count": 52,
   "id": "75753bde",
   "metadata": {},
   "outputs": [],
   "source": [
    "df_transacciones = df_balance_fraude[['t_id','tipo','fecha_final','id_cliente_origen','balance_prev_origen','balance_post_origen','id_cliente_destino','balance_prev_destino',\n",
    "                                      'balance_post_destino','cuantia', 'mensaje_alarma','es_fraude']]"
   ]
  },
  {
   "cell_type": "code",
   "execution_count": 53,
   "id": "102a1bf4",
   "metadata": {},
   "outputs": [
    {
     "data": {
      "text/html": [
       "<div>\n",
       "<style scoped>\n",
       "    .dataframe tbody tr th:only-of-type {\n",
       "        vertical-align: middle;\n",
       "    }\n",
       "\n",
       "    .dataframe tbody tr th {\n",
       "        vertical-align: top;\n",
       "    }\n",
       "\n",
       "    .dataframe thead th {\n",
       "        text-align: right;\n",
       "    }\n",
       "</style>\n",
       "<table border=\"1\" class=\"dataframe\">\n",
       "  <thead>\n",
       "    <tr style=\"text-align: right;\">\n",
       "      <th></th>\n",
       "      <th>t_id</th>\n",
       "      <th>tipo</th>\n",
       "      <th>fecha_final</th>\n",
       "      <th>id_cliente_origen</th>\n",
       "      <th>balance_prev_origen</th>\n",
       "      <th>balance_post_origen</th>\n",
       "      <th>id_cliente_destino</th>\n",
       "      <th>balance_prev_destino</th>\n",
       "      <th>balance_post_destino</th>\n",
       "      <th>cuantia</th>\n",
       "      <th>mensaje_alarma</th>\n",
       "      <th>es_fraude</th>\n",
       "    </tr>\n",
       "  </thead>\n",
       "  <tbody>\n",
       "    <tr>\n",
       "      <th>6095013</th>\n",
       "      <td>6094206</td>\n",
       "      <td>PAYMENT</td>\n",
       "      <td>2022-09-23 01:00:00</td>\n",
       "      <td>C1303897228</td>\n",
       "      <td>260.00</td>\n",
       "      <td>0.00</td>\n",
       "      <td>M1017413617</td>\n",
       "      <td>0.00</td>\n",
       "      <td>0.00</td>\n",
       "      <td>7648.81</td>\n",
       "      <td>NaN</td>\n",
       "      <td>False</td>\n",
       "    </tr>\n",
       "    <tr>\n",
       "      <th>5827665</th>\n",
       "      <td>5826126</td>\n",
       "      <td>TRANSFER</td>\n",
       "      <td>2022-09-18 01:00:00</td>\n",
       "      <td>C1718586375</td>\n",
       "      <td>56797.14</td>\n",
       "      <td>0.00</td>\n",
       "      <td>C735598592</td>\n",
       "      <td>6344845.99</td>\n",
       "      <td>7180780.70</td>\n",
       "      <td>835934.71</td>\n",
       "      <td>NaN</td>\n",
       "      <td>False</td>\n",
       "    </tr>\n",
       "    <tr>\n",
       "      <th>3515126</th>\n",
       "      <td>3510124</td>\n",
       "      <td>PAYMENT</td>\n",
       "      <td>2022-09-12 02:00:00</td>\n",
       "      <td>C5631925</td>\n",
       "      <td>198545.00</td>\n",
       "      <td>192898.88</td>\n",
       "      <td>M70045007</td>\n",
       "      <td>0.00</td>\n",
       "      <td>0.00</td>\n",
       "      <td>5646.12</td>\n",
       "      <td>NaN</td>\n",
       "      <td>False</td>\n",
       "    </tr>\n",
       "    <tr>\n",
       "      <th>1489396</th>\n",
       "      <td>1485636</td>\n",
       "      <td>CASH_OUT</td>\n",
       "      <td>2022-09-07 04:00:00</td>\n",
       "      <td>C9415316</td>\n",
       "      <td>1686.00</td>\n",
       "      <td>0.00</td>\n",
       "      <td>C1498574559</td>\n",
       "      <td>2466.74</td>\n",
       "      <td>40894.64</td>\n",
       "      <td>38427.90</td>\n",
       "      <td>NaN</td>\n",
       "      <td>False</td>\n",
       "    </tr>\n",
       "    <tr>\n",
       "      <th>4165499</th>\n",
       "      <td>4160892</td>\n",
       "      <td>CASH_OUT</td>\n",
       "      <td>2022-09-13 23:00:00</td>\n",
       "      <td>C1758439504</td>\n",
       "      <td>427281.00</td>\n",
       "      <td>292041.57</td>\n",
       "      <td>C362953375</td>\n",
       "      <td>0.00</td>\n",
       "      <td>135239.43</td>\n",
       "      <td>135239.43</td>\n",
       "      <td>NaN</td>\n",
       "      <td>False</td>\n",
       "    </tr>\n",
       "  </tbody>\n",
       "</table>\n",
       "</div>"
      ],
      "text/plain": [
       "            t_id      tipo          fecha_final id_cliente_origen  \\\n",
       "6095013  6094206   PAYMENT  2022-09-23 01:00:00       C1303897228   \n",
       "5827665  5826126  TRANSFER  2022-09-18 01:00:00       C1718586375   \n",
       "3515126  3510124   PAYMENT  2022-09-12 02:00:00          C5631925   \n",
       "1489396  1485636  CASH_OUT  2022-09-07 04:00:00          C9415316   \n",
       "4165499  4160892  CASH_OUT  2022-09-13 23:00:00       C1758439504   \n",
       "\n",
       "         balance_prev_origen  balance_post_origen id_cliente_destino  \\\n",
       "6095013               260.00                 0.00        M1017413617   \n",
       "5827665             56797.14                 0.00         C735598592   \n",
       "3515126            198545.00            192898.88          M70045007   \n",
       "1489396              1686.00                 0.00        C1498574559   \n",
       "4165499            427281.00            292041.57         C362953375   \n",
       "\n",
       "         balance_prev_destino  balance_post_destino    cuantia mensaje_alarma  \\\n",
       "6095013                  0.00                  0.00    7648.81            NaN   \n",
       "5827665            6344845.99            7180780.70  835934.71            NaN   \n",
       "3515126                  0.00                  0.00    5646.12            NaN   \n",
       "1489396               2466.74              40894.64   38427.90            NaN   \n",
       "4165499                  0.00             135239.43  135239.43            NaN   \n",
       "\n",
       "        es_fraude  \n",
       "6095013     False  \n",
       "5827665     False  \n",
       "3515126     False  \n",
       "1489396     False  \n",
       "4165499     False  "
      ]
     },
     "execution_count": 53,
     "metadata": {},
     "output_type": "execute_result"
    }
   ],
   "source": [
    "df_transacciones.sample(5)"
   ]
  },
  {
   "cell_type": "code",
   "execution_count": 54,
   "id": "de0202e5",
   "metadata": {},
   "outputs": [
    {
     "data": {
      "text/plain": [
       "False    6362620\n",
       "dtype: int64"
      ]
     },
     "execution_count": 54,
     "metadata": {},
     "output_type": "execute_result"
    }
   ],
   "source": [
    "df_transacciones.duplicated(subset=[ 't_id']).value_counts()"
   ]
  },
  {
   "cell_type": "code",
   "execution_count": 56,
   "id": "4f6be5e8",
   "metadata": {},
   "outputs": [
    {
     "data": {
      "text/plain": [
       "t_id                          0\n",
       "tipo                          0\n",
       "fecha_final                   0\n",
       "id_cliente_origen             0\n",
       "balance_prev_origen           0\n",
       "balance_post_origen           0\n",
       "id_cliente_destino            0\n",
       "balance_prev_destino          0\n",
       "balance_post_destino          0\n",
       "cuantia                       0\n",
       "mensaje_alarma          6362604\n",
       "es_fraude                   100\n",
       "dtype: int64"
      ]
     },
     "execution_count": 56,
     "metadata": {},
     "output_type": "execute_result"
    }
   ],
   "source": [
    "df_transacciones.isnull().sum()"
   ]
  },
  {
   "cell_type": "markdown",
   "id": "c186d411",
   "metadata": {},
   "source": [
    "Filtramos los 100 casos de fraude que no estan etiquetados y debemos predecir con el algoritmo de ML "
   ]
  },
  {
   "cell_type": "code",
   "execution_count": 57,
   "id": "de2a537e",
   "metadata": {},
   "outputs": [],
   "source": [
    "fraudes_a_predecir = df_transacciones[df_transacciones.es_fraude.isnull()]"
   ]
  },
  {
   "cell_type": "code",
   "execution_count": 58,
   "id": "e2c3c053",
   "metadata": {},
   "outputs": [
    {
     "data": {
      "text/plain": [
       "(100, 12)"
      ]
     },
     "execution_count": 58,
     "metadata": {},
     "output_type": "execute_result"
    }
   ],
   "source": [
    "fraudes_a_predecir.shape"
   ]
  },
  {
   "cell_type": "code",
   "execution_count": 77,
   "id": "1cae39a2",
   "metadata": {},
   "outputs": [],
   "source": [
    "fraudes_a_predecir.to_csv('fraudes_a_predecir.csv', index = False)"
   ]
  },
  {
   "cell_type": "markdown",
   "id": "fd2c9523",
   "metadata": {},
   "source": [
    "Para efectuar el EDA trabajamos con el dataset sin los casos a predecir "
   ]
  },
  {
   "cell_type": "code",
   "execution_count": 69,
   "id": "d95ef5c4",
   "metadata": {},
   "outputs": [],
   "source": [
    "df = df_transacciones[df_transacciones.es_fraude.notnull()]"
   ]
  },
  {
   "cell_type": "code",
   "execution_count": 70,
   "id": "dd96c031",
   "metadata": {},
   "outputs": [
    {
     "data": {
      "text/plain": [
       "(6362520, 12)"
      ]
     },
     "execution_count": 70,
     "metadata": {},
     "output_type": "execute_result"
    }
   ],
   "source": [
    "df.shape"
   ]
  },
  {
   "cell_type": "markdown",
   "id": "5551837e",
   "metadata": {},
   "source": [
    "Reemplazamos el mensaje de la columna mensaje_alarma por True "
   ]
  },
  {
   "cell_type": "code",
   "execution_count": 71,
   "id": "f6b35279",
   "metadata": {},
   "outputs": [
    {
     "data": {
      "text/plain": [
       "array([nan, 'Detectado_fraude'], dtype=object)"
      ]
     },
     "execution_count": 71,
     "metadata": {},
     "output_type": "execute_result"
    }
   ],
   "source": [
    "df.mensaje_alarma.unique()"
   ]
  },
  {
   "cell_type": "code",
   "execution_count": 72,
   "id": "2cc7d4ca",
   "metadata": {},
   "outputs": [],
   "source": [
    "df = df.replace({\"Detectado_fraude\": True})"
   ]
  },
  {
   "cell_type": "markdown",
   "id": "73735242",
   "metadata": {},
   "source": [
    "En los casos que no salto la alarma de fraude vamos a rellenar los nulos con False "
   ]
  },
  {
   "cell_type": "code",
   "execution_count": 74,
   "id": "3a9961db",
   "metadata": {},
   "outputs": [],
   "source": [
    "df.fillna({'mensaje_alarma': False}, inplace=True)"
   ]
  },
  {
   "cell_type": "code",
   "execution_count": 75,
   "id": "4fb55683",
   "metadata": {},
   "outputs": [
    {
     "data": {
      "text/html": [
       "<div>\n",
       "<style scoped>\n",
       "    .dataframe tbody tr th:only-of-type {\n",
       "        vertical-align: middle;\n",
       "    }\n",
       "\n",
       "    .dataframe tbody tr th {\n",
       "        vertical-align: top;\n",
       "    }\n",
       "\n",
       "    .dataframe thead th {\n",
       "        text-align: right;\n",
       "    }\n",
       "</style>\n",
       "<table border=\"1\" class=\"dataframe\">\n",
       "  <thead>\n",
       "    <tr style=\"text-align: right;\">\n",
       "      <th></th>\n",
       "      <th>t_id</th>\n",
       "      <th>tipo</th>\n",
       "      <th>fecha_final</th>\n",
       "      <th>id_cliente_origen</th>\n",
       "      <th>balance_prev_origen</th>\n",
       "      <th>balance_post_origen</th>\n",
       "      <th>id_cliente_destino</th>\n",
       "      <th>balance_prev_destino</th>\n",
       "      <th>balance_post_destino</th>\n",
       "      <th>cuantia</th>\n",
       "      <th>mensaje_alarma</th>\n",
       "      <th>es_fraude</th>\n",
       "    </tr>\n",
       "  </thead>\n",
       "  <tbody>\n",
       "    <tr>\n",
       "      <th>0</th>\n",
       "      <td>0</td>\n",
       "      <td>PAYMENT</td>\n",
       "      <td>2022-09-01 08:00:00</td>\n",
       "      <td>C1231006815</td>\n",
       "      <td>170136.0</td>\n",
       "      <td>160296.36</td>\n",
       "      <td>M1979787155</td>\n",
       "      <td>0.0</td>\n",
       "      <td>0.0</td>\n",
       "      <td>9839.64</td>\n",
       "      <td>False</td>\n",
       "      <td>False</td>\n",
       "    </tr>\n",
       "    <tr>\n",
       "      <th>1</th>\n",
       "      <td>1</td>\n",
       "      <td>PAYMENT</td>\n",
       "      <td>2022-09-01 08:00:00</td>\n",
       "      <td>C1666544295</td>\n",
       "      <td>21249.0</td>\n",
       "      <td>19384.72</td>\n",
       "      <td>M2044282225</td>\n",
       "      <td>0.0</td>\n",
       "      <td>0.0</td>\n",
       "      <td>1864.28</td>\n",
       "      <td>False</td>\n",
       "      <td>False</td>\n",
       "    </tr>\n",
       "    <tr>\n",
       "      <th>2</th>\n",
       "      <td>2</td>\n",
       "      <td>TRANSFER</td>\n",
       "      <td>2022-09-01 08:00:00</td>\n",
       "      <td>C1305486145</td>\n",
       "      <td>181.0</td>\n",
       "      <td>0.00</td>\n",
       "      <td>C553264065</td>\n",
       "      <td>0.0</td>\n",
       "      <td>0.0</td>\n",
       "      <td>181.00</td>\n",
       "      <td>False</td>\n",
       "      <td>True</td>\n",
       "    </tr>\n",
       "  </tbody>\n",
       "</table>\n",
       "</div>"
      ],
      "text/plain": [
       "   t_id      tipo          fecha_final id_cliente_origen  balance_prev_origen  \\\n",
       "0     0   PAYMENT  2022-09-01 08:00:00       C1231006815             170136.0   \n",
       "1     1   PAYMENT  2022-09-01 08:00:00       C1666544295              21249.0   \n",
       "2     2  TRANSFER  2022-09-01 08:00:00       C1305486145                181.0   \n",
       "\n",
       "   balance_post_origen id_cliente_destino  balance_prev_destino  \\\n",
       "0            160296.36        M1979787155                   0.0   \n",
       "1             19384.72        M2044282225                   0.0   \n",
       "2                 0.00         C553264065                   0.0   \n",
       "\n",
       "   balance_post_destino  cuantia  mensaje_alarma  es_fraude  \n",
       "0                   0.0  9839.64           False      False  \n",
       "1                   0.0  1864.28           False      False  \n",
       "2                   0.0   181.00           False       True  "
      ]
     },
     "execution_count": 75,
     "metadata": {},
     "output_type": "execute_result"
    }
   ],
   "source": [
    "df.head(3)"
   ]
  },
  {
   "cell_type": "code",
   "execution_count": 76,
   "id": "ae1d8e75",
   "metadata": {},
   "outputs": [
    {
     "data": {
      "text/plain": [
       "t_id                    0\n",
       "tipo                    0\n",
       "fecha_final             0\n",
       "id_cliente_origen       0\n",
       "balance_prev_origen     0\n",
       "balance_post_origen     0\n",
       "id_cliente_destino      0\n",
       "balance_prev_destino    0\n",
       "balance_post_destino    0\n",
       "cuantia                 0\n",
       "mensaje_alarma          0\n",
       "es_fraude               0\n",
       "dtype: int64"
      ]
     },
     "execution_count": 76,
     "metadata": {},
     "output_type": "execute_result"
    }
   ],
   "source": [
    "df.isnull().sum()"
   ]
  },
  {
   "cell_type": "code",
   "execution_count": 78,
   "id": "9004f8c1",
   "metadata": {},
   "outputs": [],
   "source": [
    "df.to_csv('df_completo.csv', index = False)"
   ]
  }
 ],
 "metadata": {
  "kernelspec": {
   "display_name": "Python 3 (ipykernel)",
   "language": "python",
   "name": "python3"
  },
  "language_info": {
   "codemirror_mode": {
    "name": "ipython",
    "version": 3
   },
   "file_extension": ".py",
   "mimetype": "text/x-python",
   "name": "python",
   "nbconvert_exporter": "python",
   "pygments_lexer": "ipython3",
   "version": "3.9.13"
  }
 },
 "nbformat": 4,
 "nbformat_minor": 5
}
