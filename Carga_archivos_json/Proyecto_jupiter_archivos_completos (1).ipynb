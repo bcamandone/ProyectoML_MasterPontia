{
 "cells": [
  {
   "cell_type": "markdown",
   "id": "ace667cb",
   "metadata": {},
   "source": [
    "Para poder efectuar el EDA, vamos a unir los 7 archivos trabajados en un solo archivo. "
   ]
  },
  {
   "cell_type": "code",
   "execution_count": 1,
   "id": "f3e7069b",
   "metadata": {},
   "outputs": [],
   "source": [
    "import pandas as pd\n",
    "import numpy as np\n",
    "import seaborn as sns\n",
    "import matplotlib as mpl\n",
    "import matplotlib.pyplot as plt"
   ]
  },
  {
   "cell_type": "markdown",
   "id": "5ff67dba",
   "metadata": {},
   "source": [
    "Empezamos por unir el dataset balance, clientes y cuantía. El resultado final sera un dataframe con la siguientes columnas:\n",
    "\n",
    "    1) t_id: el identificatorio único de la transacción\n",
    "    2) balance_prev_origen: el balance previo a la transacción del cliente de origen\n",
    "    3) balance_post_origen: el balance posterior a la transacción del cliente de origen\n",
    "    4) balance_prev_destino: el balance previo a la transacción del cliente de destino\n",
    "    5) balance_post_destino: el balance posterior a la transacción del cliente de destino\n",
    "    6) cuantia: el monto de la transacción "
   ]
  },
  {
   "cell_type": "code",
   "execution_count": 2,
   "id": "4b77a220",
   "metadata": {},
   "outputs": [],
   "source": [
    "dfbalancefinal = pd.read_csv('df_balance.csv')"
   ]
  },
  {
   "cell_type": "code",
   "execution_count": 3,
   "id": "280e41d9",
   "metadata": {},
   "outputs": [
    {
     "data": {
      "text/html": [
       "<div>\n",
       "<style scoped>\n",
       "    .dataframe tbody tr th:only-of-type {\n",
       "        vertical-align: middle;\n",
       "    }\n",
       "\n",
       "    .dataframe tbody tr th {\n",
       "        vertical-align: top;\n",
       "    }\n",
       "\n",
       "    .dataframe thead th {\n",
       "        text-align: right;\n",
       "    }\n",
       "</style>\n",
       "<table border=\"1\" class=\"dataframe\">\n",
       "  <thead>\n",
       "    <tr style=\"text-align: right;\">\n",
       "      <th></th>\n",
       "      <th>cliente_id</th>\n",
       "      <th>t_id</th>\n",
       "      <th>balance_prev</th>\n",
       "      <th>balance_post</th>\n",
       "    </tr>\n",
       "  </thead>\n",
       "  <tbody>\n",
       "    <tr>\n",
       "      <th>0</th>\n",
       "      <td>C1231006815</td>\n",
       "      <td>0</td>\n",
       "      <td>170136.0</td>\n",
       "      <td>160296.36</td>\n",
       "    </tr>\n",
       "    <tr>\n",
       "      <th>1</th>\n",
       "      <td>M1979787155</td>\n",
       "      <td>0</td>\n",
       "      <td>0.0</td>\n",
       "      <td>0.00</td>\n",
       "    </tr>\n",
       "    <tr>\n",
       "      <th>2</th>\n",
       "      <td>C1666544295</td>\n",
       "      <td>1</td>\n",
       "      <td>21249.0</td>\n",
       "      <td>19384.72</td>\n",
       "    </tr>\n",
       "  </tbody>\n",
       "</table>\n",
       "</div>"
      ],
      "text/plain": [
       "    cliente_id  t_id  balance_prev  balance_post\n",
       "0  C1231006815     0      170136.0     160296.36\n",
       "1  M1979787155     0           0.0          0.00\n",
       "2  C1666544295     1       21249.0      19384.72"
      ]
     },
     "execution_count": 3,
     "metadata": {},
     "output_type": "execute_result"
    }
   ],
   "source": [
    "dfbalancefinal.head(3)"
   ]
  },
  {
   "cell_type": "code",
   "execution_count": 4,
   "id": "95adbe80",
   "metadata": {},
   "outputs": [
    {
     "data": {
      "text/plain": [
       "(12725240, 4)"
      ]
     },
     "execution_count": 4,
     "metadata": {},
     "output_type": "execute_result"
    }
   ],
   "source": [
    "dfbalancefinal.shape"
   ]
  },
  {
   "cell_type": "code",
   "execution_count": 10,
   "id": "63893f30",
   "metadata": {},
   "outputs": [
    {
     "data": {
      "text/plain": [
       "False    12725240\n",
       "dtype: int64"
      ]
     },
     "execution_count": 10,
     "metadata": {},
     "output_type": "execute_result"
    }
   ],
   "source": [
    "dfbalancefinal.duplicated(subset=['cliente_id', 't_id']).value_counts()"
   ]
  },
  {
   "cell_type": "code",
   "execution_count": 11,
   "id": "651c05a1",
   "metadata": {},
   "outputs": [],
   "source": [
    "df_cuantia = pd.read_csv('df_cuantia.csv')"
   ]
  },
  {
   "cell_type": "code",
   "execution_count": 12,
   "id": "5d2045d6",
   "metadata": {},
   "outputs": [
    {
     "data": {
      "text/html": [
       "<div>\n",
       "<style scoped>\n",
       "    .dataframe tbody tr th:only-of-type {\n",
       "        vertical-align: middle;\n",
       "    }\n",
       "\n",
       "    .dataframe tbody tr th {\n",
       "        vertical-align: top;\n",
       "    }\n",
       "\n",
       "    .dataframe thead th {\n",
       "        text-align: right;\n",
       "    }\n",
       "</style>\n",
       "<table border=\"1\" class=\"dataframe\">\n",
       "  <thead>\n",
       "    <tr style=\"text-align: right;\">\n",
       "      <th></th>\n",
       "      <th>t_id</th>\n",
       "      <th>cuantia</th>\n",
       "    </tr>\n",
       "  </thead>\n",
       "  <tbody>\n",
       "    <tr>\n",
       "      <th>5859456</th>\n",
       "      <td>5859456</td>\n",
       "      <td>343957.97</td>\n",
       "    </tr>\n",
       "    <tr>\n",
       "      <th>4381484</th>\n",
       "      <td>4381484</td>\n",
       "      <td>4772.57</td>\n",
       "    </tr>\n",
       "    <tr>\n",
       "      <th>307080</th>\n",
       "      <td>307080</td>\n",
       "      <td>19858.51</td>\n",
       "    </tr>\n",
       "  </tbody>\n",
       "</table>\n",
       "</div>"
      ],
      "text/plain": [
       "            t_id    cuantia\n",
       "5859456  5859456  343957.97\n",
       "4381484  4381484    4772.57\n",
       "307080    307080   19858.51"
      ]
     },
     "execution_count": 12,
     "metadata": {},
     "output_type": "execute_result"
    }
   ],
   "source": [
    "df_cuantia.sample(3)"
   ]
  },
  {
   "cell_type": "code",
   "execution_count": 13,
   "id": "072be1b4",
   "metadata": {},
   "outputs": [
    {
     "data": {
      "text/plain": [
       "(6362620, 2)"
      ]
     },
     "execution_count": 13,
     "metadata": {},
     "output_type": "execute_result"
    }
   ],
   "source": [
    "df_cuantia.shape"
   ]
  },
  {
   "cell_type": "code",
   "execution_count": 19,
   "id": "21b64eb2",
   "metadata": {},
   "outputs": [
    {
     "data": {
      "text/plain": [
       "False    6362620\n",
       "dtype: int64"
      ]
     },
     "execution_count": 19,
     "metadata": {},
     "output_type": "execute_result"
    }
   ],
   "source": [
    "df_cuantia.duplicated(subset=['t_id']).value_counts()"
   ]
  },
  {
   "cell_type": "code",
   "execution_count": 14,
   "id": "eb5adffd",
   "metadata": {},
   "outputs": [],
   "source": [
    "df_clientes = pd.read_csv('df_clientes.csv')"
   ]
  },
  {
   "cell_type": "code",
   "execution_count": 44,
   "id": "f48284e4",
   "metadata": {},
   "outputs": [
    {
     "data": {
      "text/html": [
       "<div>\n",
       "<style scoped>\n",
       "    .dataframe tbody tr th:only-of-type {\n",
       "        vertical-align: middle;\n",
       "    }\n",
       "\n",
       "    .dataframe tbody tr th {\n",
       "        vertical-align: top;\n",
       "    }\n",
       "\n",
       "    .dataframe thead th {\n",
       "        text-align: right;\n",
       "    }\n",
       "</style>\n",
       "<table border=\"1\" class=\"dataframe\">\n",
       "  <thead>\n",
       "    <tr style=\"text-align: right;\">\n",
       "      <th></th>\n",
       "      <th>t_id</th>\n",
       "      <th>id_cliente_origen</th>\n",
       "      <th>id_cliente_destino</th>\n",
       "    </tr>\n",
       "  </thead>\n",
       "  <tbody>\n",
       "    <tr>\n",
       "      <th>0</th>\n",
       "      <td>0</td>\n",
       "      <td>C1231006815</td>\n",
       "      <td>M1979787155</td>\n",
       "    </tr>\n",
       "    <tr>\n",
       "      <th>1</th>\n",
       "      <td>1</td>\n",
       "      <td>C1666544295</td>\n",
       "      <td>M2044282225</td>\n",
       "    </tr>\n",
       "    <tr>\n",
       "      <th>2</th>\n",
       "      <td>2</td>\n",
       "      <td>C1305486145</td>\n",
       "      <td>C553264065</td>\n",
       "    </tr>\n",
       "  </tbody>\n",
       "</table>\n",
       "</div>"
      ],
      "text/plain": [
       "   t_id id_cliente_origen id_cliente_destino\n",
       "0     0       C1231006815        M1979787155\n",
       "1     1       C1666544295        M2044282225\n",
       "2     2       C1305486145         C553264065"
      ]
     },
     "execution_count": 44,
     "metadata": {},
     "output_type": "execute_result"
    }
   ],
   "source": [
    "df_clientes.head(3)"
   ]
  },
  {
   "cell_type": "code",
   "execution_count": 16,
   "id": "cee193a5",
   "metadata": {},
   "outputs": [
    {
     "data": {
      "text/plain": [
       "(6362620, 3)"
      ]
     },
     "execution_count": 16,
     "metadata": {},
     "output_type": "execute_result"
    }
   ],
   "source": [
    "df_clientes.shape"
   ]
  },
  {
   "cell_type": "code",
   "execution_count": 18,
   "id": "d4d5a0b2",
   "metadata": {},
   "outputs": [
    {
     "data": {
      "text/plain": [
       "False    6362620\n",
       "dtype: int64"
      ]
     },
     "execution_count": 18,
     "metadata": {},
     "output_type": "execute_result"
    }
   ],
   "source": [
    "df_clientes.duplicated(subset=['t_id']).value_counts()"
   ]
  },
  {
   "cell_type": "markdown",
   "id": "fbc0b098",
   "metadata": {},
   "source": [
    "Unión dataset balance y dataset clientes"
   ]
  },
  {
   "cell_type": "code",
   "execution_count": 21,
   "id": "bc728194",
   "metadata": {},
   "outputs": [],
   "source": [
    "clientes_origen = df_clientes[['t_id', 'id_cliente_origen']]"
   ]
  },
  {
   "cell_type": "code",
   "execution_count": 23,
   "id": "1ac28f4c",
   "metadata": {},
   "outputs": [],
   "source": [
    "clientes_origen = clientes_origen.rename(columns={'id_cliente_origen':'cliente_id'\n",
    "                                   })"
   ]
  },
  {
   "cell_type": "code",
   "execution_count": 25,
   "id": "f523d841",
   "metadata": {},
   "outputs": [],
   "source": [
    "df_balance_clientes_origen =  pd.merge(dfbalancefinal ,clientes_origen, how = 'inner', on = ('t_id', 'cliente_id'))"
   ]
  },
  {
   "cell_type": "code",
   "execution_count": 26,
   "id": "34a28c1e",
   "metadata": {},
   "outputs": [],
   "source": [
    "df_balance_clientes_origen_1 = df_balance_clientes_origen.rename(columns={'cliente_id':'id_cliente_origen','balance_prev':'balance_prev_origen','balance_post':'balance_post_origen'  })"
   ]
  },
  {
   "cell_type": "code",
   "execution_count": 27,
   "id": "4c96e385",
   "metadata": {},
   "outputs": [
    {
     "data": {
      "text/plain": [
       "(6362620, 4)"
      ]
     },
     "execution_count": 27,
     "metadata": {},
     "output_type": "execute_result"
    }
   ],
   "source": [
    "df_balance_clientes_origen_1.shape"
   ]
  },
  {
   "cell_type": "code",
   "execution_count": 28,
   "id": "c03577a0",
   "metadata": {},
   "outputs": [
    {
     "data": {
      "text/html": [
       "<div>\n",
       "<style scoped>\n",
       "    .dataframe tbody tr th:only-of-type {\n",
       "        vertical-align: middle;\n",
       "    }\n",
       "\n",
       "    .dataframe tbody tr th {\n",
       "        vertical-align: top;\n",
       "    }\n",
       "\n",
       "    .dataframe thead th {\n",
       "        text-align: right;\n",
       "    }\n",
       "</style>\n",
       "<table border=\"1\" class=\"dataframe\">\n",
       "  <thead>\n",
       "    <tr style=\"text-align: right;\">\n",
       "      <th></th>\n",
       "      <th>id_cliente_origen</th>\n",
       "      <th>t_id</th>\n",
       "      <th>balance_prev_origen</th>\n",
       "      <th>balance_post_origen</th>\n",
       "    </tr>\n",
       "  </thead>\n",
       "  <tbody>\n",
       "    <tr>\n",
       "      <th>0</th>\n",
       "      <td>C1231006815</td>\n",
       "      <td>0</td>\n",
       "      <td>170136.0</td>\n",
       "      <td>160296.36</td>\n",
       "    </tr>\n",
       "    <tr>\n",
       "      <th>1</th>\n",
       "      <td>C1666544295</td>\n",
       "      <td>1</td>\n",
       "      <td>21249.0</td>\n",
       "      <td>19384.72</td>\n",
       "    </tr>\n",
       "    <tr>\n",
       "      <th>2</th>\n",
       "      <td>C1305486145</td>\n",
       "      <td>2</td>\n",
       "      <td>181.0</td>\n",
       "      <td>0.00</td>\n",
       "    </tr>\n",
       "    <tr>\n",
       "      <th>3</th>\n",
       "      <td>C840083671</td>\n",
       "      <td>3</td>\n",
       "      <td>181.0</td>\n",
       "      <td>0.00</td>\n",
       "    </tr>\n",
       "    <tr>\n",
       "      <th>4</th>\n",
       "      <td>C2048537720</td>\n",
       "      <td>4</td>\n",
       "      <td>41554.0</td>\n",
       "      <td>29885.86</td>\n",
       "    </tr>\n",
       "  </tbody>\n",
       "</table>\n",
       "</div>"
      ],
      "text/plain": [
       "  id_cliente_origen  t_id  balance_prev_origen  balance_post_origen\n",
       "0       C1231006815     0             170136.0            160296.36\n",
       "1       C1666544295     1              21249.0             19384.72\n",
       "2       C1305486145     2                181.0                 0.00\n",
       "3        C840083671     3                181.0                 0.00\n",
       "4       C2048537720     4              41554.0             29885.86"
      ]
     },
     "execution_count": 28,
     "metadata": {},
     "output_type": "execute_result"
    }
   ],
   "source": [
    "df_balance_clientes_origen_1.head(5)"
   ]
  },
  {
   "cell_type": "code",
   "execution_count": 29,
   "id": "d9744aef",
   "metadata": {},
   "outputs": [
    {
     "data": {
      "text/plain": [
       "False    6362620\n",
       "dtype: int64"
      ]
     },
     "execution_count": 29,
     "metadata": {},
     "output_type": "execute_result"
    }
   ],
   "source": [
    "df_balance_clientes_origen_1.duplicated(subset=['t_id']).value_counts()"
   ]
  },
  {
   "cell_type": "code",
   "execution_count": 30,
   "id": "f78ea7b2",
   "metadata": {},
   "outputs": [],
   "source": [
    "clientes_destino = df_clientes[['t_id', 'id_cliente_destino']]"
   ]
  },
  {
   "cell_type": "code",
   "execution_count": 32,
   "id": "fa068e86",
   "metadata": {},
   "outputs": [],
   "source": [
    "clientes_destino = clientes_destino.rename(columns={'id_cliente_destino':'cliente_id'\n",
    "                                   })"
   ]
  },
  {
   "cell_type": "code",
   "execution_count": 36,
   "id": "5327bbbe",
   "metadata": {},
   "outputs": [],
   "source": [
    "df_balance_clientes_destino =  pd.merge(dfbalancefinal ,clientes_destino, how = 'inner', on = ('t_id', 'cliente_id'))"
   ]
  },
  {
   "cell_type": "code",
   "execution_count": 37,
   "id": "82a72227",
   "metadata": {},
   "outputs": [],
   "source": [
    "df_balance_clientes_destino_1 = df_balance_clientes_destino.rename(columns={'cliente_id':'id_cliente_destino','balance_prev':'balance_prev_destino','balance_post':'balance_post_destino'  })"
   ]
  },
  {
   "cell_type": "code",
   "execution_count": 38,
   "id": "d9dc6648",
   "metadata": {},
   "outputs": [
    {
     "data": {
      "text/html": [
       "<div>\n",
       "<style scoped>\n",
       "    .dataframe tbody tr th:only-of-type {\n",
       "        vertical-align: middle;\n",
       "    }\n",
       "\n",
       "    .dataframe tbody tr th {\n",
       "        vertical-align: top;\n",
       "    }\n",
       "\n",
       "    .dataframe thead th {\n",
       "        text-align: right;\n",
       "    }\n",
       "</style>\n",
       "<table border=\"1\" class=\"dataframe\">\n",
       "  <thead>\n",
       "    <tr style=\"text-align: right;\">\n",
       "      <th></th>\n",
       "      <th>id_cliente_destino</th>\n",
       "      <th>t_id</th>\n",
       "      <th>balance_prev_destino</th>\n",
       "      <th>balance_post_destino</th>\n",
       "    </tr>\n",
       "  </thead>\n",
       "  <tbody>\n",
       "    <tr>\n",
       "      <th>0</th>\n",
       "      <td>M1979787155</td>\n",
       "      <td>0</td>\n",
       "      <td>0.00</td>\n",
       "      <td>0.00</td>\n",
       "    </tr>\n",
       "    <tr>\n",
       "      <th>1</th>\n",
       "      <td>M2044282225</td>\n",
       "      <td>1</td>\n",
       "      <td>0.00</td>\n",
       "      <td>0.00</td>\n",
       "    </tr>\n",
       "    <tr>\n",
       "      <th>2</th>\n",
       "      <td>C553264065</td>\n",
       "      <td>2</td>\n",
       "      <td>0.00</td>\n",
       "      <td>0.00</td>\n",
       "    </tr>\n",
       "    <tr>\n",
       "      <th>3</th>\n",
       "      <td>C553264065</td>\n",
       "      <td>6167</td>\n",
       "      <td>0.00</td>\n",
       "      <td>109985.65</td>\n",
       "    </tr>\n",
       "    <tr>\n",
       "      <th>4</th>\n",
       "      <td>C553264065</td>\n",
       "      <td>7903</td>\n",
       "      <td>109985.65</td>\n",
       "      <td>99729.44</td>\n",
       "    </tr>\n",
       "  </tbody>\n",
       "</table>\n",
       "</div>"
      ],
      "text/plain": [
       "  id_cliente_destino  t_id  balance_prev_destino  balance_post_destino\n",
       "0        M1979787155     0                  0.00                  0.00\n",
       "1        M2044282225     1                  0.00                  0.00\n",
       "2         C553264065     2                  0.00                  0.00\n",
       "3         C553264065  6167                  0.00             109985.65\n",
       "4         C553264065  7903             109985.65              99729.44"
      ]
     },
     "execution_count": 38,
     "metadata": {},
     "output_type": "execute_result"
    }
   ],
   "source": [
    "df_balance_clientes_destino_1.head(5)"
   ]
  },
  {
   "cell_type": "code",
   "execution_count": 39,
   "id": "ce96bedf",
   "metadata": {},
   "outputs": [
    {
     "data": {
      "text/plain": [
       "False    6362620\n",
       "dtype: int64"
      ]
     },
     "execution_count": 39,
     "metadata": {},
     "output_type": "execute_result"
    }
   ],
   "source": [
    "df_balance_clientes_destino_1.duplicated(subset=['t_id']).value_counts()"
   ]
  },
  {
   "cell_type": "code",
   "execution_count": 40,
   "id": "85b3f936",
   "metadata": {},
   "outputs": [],
   "source": [
    "df_balance_clientes =  pd.merge(df_balance_clientes_origen_1,df_balance_clientes_destino_1, how = 'inner', on = ('t_id'))"
   ]
  },
  {
   "cell_type": "code",
   "execution_count": 41,
   "id": "2990055f",
   "metadata": {},
   "outputs": [
    {
     "data": {
      "text/plain": [
       "(6362620, 7)"
      ]
     },
     "execution_count": 41,
     "metadata": {},
     "output_type": "execute_result"
    }
   ],
   "source": [
    "df_balance_clientes.shape"
   ]
  },
  {
   "cell_type": "code",
   "execution_count": 42,
   "id": "d3705a4d",
   "metadata": {},
   "outputs": [
    {
     "data": {
      "text/plain": [
       "False    6362620\n",
       "dtype: int64"
      ]
     },
     "execution_count": 42,
     "metadata": {},
     "output_type": "execute_result"
    }
   ],
   "source": [
    "df_balance_clientes.duplicated(subset=['t_id']).value_counts()"
   ]
  },
  {
   "cell_type": "code",
   "execution_count": 43,
   "id": "c38e1a06",
   "metadata": {},
   "outputs": [
    {
     "data": {
      "text/html": [
       "<div>\n",
       "<style scoped>\n",
       "    .dataframe tbody tr th:only-of-type {\n",
       "        vertical-align: middle;\n",
       "    }\n",
       "\n",
       "    .dataframe tbody tr th {\n",
       "        vertical-align: top;\n",
       "    }\n",
       "\n",
       "    .dataframe thead th {\n",
       "        text-align: right;\n",
       "    }\n",
       "</style>\n",
       "<table border=\"1\" class=\"dataframe\">\n",
       "  <thead>\n",
       "    <tr style=\"text-align: right;\">\n",
       "      <th></th>\n",
       "      <th>id_cliente_origen</th>\n",
       "      <th>t_id</th>\n",
       "      <th>balance_prev_origen</th>\n",
       "      <th>balance_post_origen</th>\n",
       "      <th>id_cliente_destino</th>\n",
       "      <th>balance_prev_destino</th>\n",
       "      <th>balance_post_destino</th>\n",
       "    </tr>\n",
       "  </thead>\n",
       "  <tbody>\n",
       "    <tr>\n",
       "      <th>0</th>\n",
       "      <td>C1231006815</td>\n",
       "      <td>0</td>\n",
       "      <td>170136.00</td>\n",
       "      <td>160296.36</td>\n",
       "      <td>M1979787155</td>\n",
       "      <td>0.0</td>\n",
       "      <td>0.00</td>\n",
       "    </tr>\n",
       "    <tr>\n",
       "      <th>1</th>\n",
       "      <td>C1666544295</td>\n",
       "      <td>1</td>\n",
       "      <td>21249.00</td>\n",
       "      <td>19384.72</td>\n",
       "      <td>M2044282225</td>\n",
       "      <td>0.0</td>\n",
       "      <td>0.00</td>\n",
       "    </tr>\n",
       "    <tr>\n",
       "      <th>2</th>\n",
       "      <td>C1305486145</td>\n",
       "      <td>2</td>\n",
       "      <td>181.00</td>\n",
       "      <td>0.00</td>\n",
       "      <td>C553264065</td>\n",
       "      <td>0.0</td>\n",
       "      <td>0.00</td>\n",
       "    </tr>\n",
       "    <tr>\n",
       "      <th>3</th>\n",
       "      <td>C840083671</td>\n",
       "      <td>3</td>\n",
       "      <td>181.00</td>\n",
       "      <td>0.00</td>\n",
       "      <td>C38997010</td>\n",
       "      <td>21182.0</td>\n",
       "      <td>0.00</td>\n",
       "    </tr>\n",
       "    <tr>\n",
       "      <th>4</th>\n",
       "      <td>C2048537720</td>\n",
       "      <td>4</td>\n",
       "      <td>41554.00</td>\n",
       "      <td>29885.86</td>\n",
       "      <td>M1230701703</td>\n",
       "      <td>0.0</td>\n",
       "      <td>0.00</td>\n",
       "    </tr>\n",
       "    <tr>\n",
       "      <th>5</th>\n",
       "      <td>C90045638</td>\n",
       "      <td>5</td>\n",
       "      <td>53860.00</td>\n",
       "      <td>46042.29</td>\n",
       "      <td>M573487274</td>\n",
       "      <td>0.0</td>\n",
       "      <td>0.00</td>\n",
       "    </tr>\n",
       "    <tr>\n",
       "      <th>6</th>\n",
       "      <td>C154988899</td>\n",
       "      <td>6</td>\n",
       "      <td>183195.00</td>\n",
       "      <td>176087.23</td>\n",
       "      <td>M408069119</td>\n",
       "      <td>0.0</td>\n",
       "      <td>0.00</td>\n",
       "    </tr>\n",
       "    <tr>\n",
       "      <th>7</th>\n",
       "      <td>C1912850431</td>\n",
       "      <td>7</td>\n",
       "      <td>176087.23</td>\n",
       "      <td>168225.59</td>\n",
       "      <td>M633326333</td>\n",
       "      <td>0.0</td>\n",
       "      <td>0.00</td>\n",
       "    </tr>\n",
       "    <tr>\n",
       "      <th>8</th>\n",
       "      <td>C1265012928</td>\n",
       "      <td>8</td>\n",
       "      <td>2671.00</td>\n",
       "      <td>0.00</td>\n",
       "      <td>M1176932104</td>\n",
       "      <td>0.0</td>\n",
       "      <td>0.00</td>\n",
       "    </tr>\n",
       "    <tr>\n",
       "      <th>9</th>\n",
       "      <td>C712410124</td>\n",
       "      <td>9</td>\n",
       "      <td>41720.00</td>\n",
       "      <td>36382.23</td>\n",
       "      <td>C195600860</td>\n",
       "      <td>41898.0</td>\n",
       "      <td>40348.79</td>\n",
       "    </tr>\n",
       "  </tbody>\n",
       "</table>\n",
       "</div>"
      ],
      "text/plain": [
       "  id_cliente_origen  t_id  balance_prev_origen  balance_post_origen  \\\n",
       "0       C1231006815     0            170136.00            160296.36   \n",
       "1       C1666544295     1             21249.00             19384.72   \n",
       "2       C1305486145     2               181.00                 0.00   \n",
       "3        C840083671     3               181.00                 0.00   \n",
       "4       C2048537720     4             41554.00             29885.86   \n",
       "5         C90045638     5             53860.00             46042.29   \n",
       "6        C154988899     6            183195.00            176087.23   \n",
       "7       C1912850431     7            176087.23            168225.59   \n",
       "8       C1265012928     8              2671.00                 0.00   \n",
       "9        C712410124     9             41720.00             36382.23   \n",
       "\n",
       "  id_cliente_destino  balance_prev_destino  balance_post_destino  \n",
       "0        M1979787155                   0.0                  0.00  \n",
       "1        M2044282225                   0.0                  0.00  \n",
       "2         C553264065                   0.0                  0.00  \n",
       "3          C38997010               21182.0                  0.00  \n",
       "4        M1230701703                   0.0                  0.00  \n",
       "5         M573487274                   0.0                  0.00  \n",
       "6         M408069119                   0.0                  0.00  \n",
       "7         M633326333                   0.0                  0.00  \n",
       "8        M1176932104                   0.0                  0.00  \n",
       "9         C195600860               41898.0              40348.79  "
      ]
     },
     "execution_count": 43,
     "metadata": {},
     "output_type": "execute_result"
    }
   ],
   "source": [
    "df_balance_clientes.head(10)"
   ]
  },
  {
   "cell_type": "code",
   "execution_count": 47,
   "id": "1063cd5e",
   "metadata": {},
   "outputs": [],
   "source": [
    "df_balance_clientes_1 = df_balance_clientes[['t_id','balance_prev_origen','balance_post_origen','balance_prev_destino','balance_post_destino']]"
   ]
  },
  {
   "cell_type": "markdown",
   "id": "4792e505",
   "metadata": {},
   "source": [
    "Unimos el dataset que ahora tiene el balance de origen y destino con su transacción, con la cuantía de la transacción"
   ]
  },
  {
   "cell_type": "code",
   "execution_count": 49,
   "id": "720bbc32",
   "metadata": {},
   "outputs": [],
   "source": [
    "df_balance_clientes_cuantia =  pd.merge(df_balance_clientes_1 ,df_cuantia, how = 'inner', on = ('t_id'))"
   ]
  },
  {
   "cell_type": "code",
   "execution_count": 50,
   "id": "af3d7a86",
   "metadata": {},
   "outputs": [
    {
     "data": {
      "text/html": [
       "<div>\n",
       "<style scoped>\n",
       "    .dataframe tbody tr th:only-of-type {\n",
       "        vertical-align: middle;\n",
       "    }\n",
       "\n",
       "    .dataframe tbody tr th {\n",
       "        vertical-align: top;\n",
       "    }\n",
       "\n",
       "    .dataframe thead th {\n",
       "        text-align: right;\n",
       "    }\n",
       "</style>\n",
       "<table border=\"1\" class=\"dataframe\">\n",
       "  <thead>\n",
       "    <tr style=\"text-align: right;\">\n",
       "      <th></th>\n",
       "      <th>t_id</th>\n",
       "      <th>balance_prev_origen</th>\n",
       "      <th>balance_post_origen</th>\n",
       "      <th>balance_prev_destino</th>\n",
       "      <th>balance_post_destino</th>\n",
       "      <th>cuantia</th>\n",
       "    </tr>\n",
       "  </thead>\n",
       "  <tbody>\n",
       "    <tr>\n",
       "      <th>0</th>\n",
       "      <td>0</td>\n",
       "      <td>170136.00</td>\n",
       "      <td>160296.36</td>\n",
       "      <td>0.0</td>\n",
       "      <td>0.00</td>\n",
       "      <td>9839.64</td>\n",
       "    </tr>\n",
       "    <tr>\n",
       "      <th>1</th>\n",
       "      <td>1</td>\n",
       "      <td>21249.00</td>\n",
       "      <td>19384.72</td>\n",
       "      <td>0.0</td>\n",
       "      <td>0.00</td>\n",
       "      <td>1864.28</td>\n",
       "    </tr>\n",
       "    <tr>\n",
       "      <th>2</th>\n",
       "      <td>2</td>\n",
       "      <td>181.00</td>\n",
       "      <td>0.00</td>\n",
       "      <td>0.0</td>\n",
       "      <td>0.00</td>\n",
       "      <td>181.00</td>\n",
       "    </tr>\n",
       "    <tr>\n",
       "      <th>3</th>\n",
       "      <td>3</td>\n",
       "      <td>181.00</td>\n",
       "      <td>0.00</td>\n",
       "      <td>21182.0</td>\n",
       "      <td>0.00</td>\n",
       "      <td>181.00</td>\n",
       "    </tr>\n",
       "    <tr>\n",
       "      <th>4</th>\n",
       "      <td>4</td>\n",
       "      <td>41554.00</td>\n",
       "      <td>29885.86</td>\n",
       "      <td>0.0</td>\n",
       "      <td>0.00</td>\n",
       "      <td>11668.14</td>\n",
       "    </tr>\n",
       "    <tr>\n",
       "      <th>5</th>\n",
       "      <td>5</td>\n",
       "      <td>53860.00</td>\n",
       "      <td>46042.29</td>\n",
       "      <td>0.0</td>\n",
       "      <td>0.00</td>\n",
       "      <td>7817.71</td>\n",
       "    </tr>\n",
       "    <tr>\n",
       "      <th>6</th>\n",
       "      <td>6</td>\n",
       "      <td>183195.00</td>\n",
       "      <td>176087.23</td>\n",
       "      <td>0.0</td>\n",
       "      <td>0.00</td>\n",
       "      <td>7107.77</td>\n",
       "    </tr>\n",
       "    <tr>\n",
       "      <th>7</th>\n",
       "      <td>7</td>\n",
       "      <td>176087.23</td>\n",
       "      <td>168225.59</td>\n",
       "      <td>0.0</td>\n",
       "      <td>0.00</td>\n",
       "      <td>7861.64</td>\n",
       "    </tr>\n",
       "    <tr>\n",
       "      <th>8</th>\n",
       "      <td>8</td>\n",
       "      <td>2671.00</td>\n",
       "      <td>0.00</td>\n",
       "      <td>0.0</td>\n",
       "      <td>0.00</td>\n",
       "      <td>4024.36</td>\n",
       "    </tr>\n",
       "    <tr>\n",
       "      <th>9</th>\n",
       "      <td>9</td>\n",
       "      <td>41720.00</td>\n",
       "      <td>36382.23</td>\n",
       "      <td>41898.0</td>\n",
       "      <td>40348.79</td>\n",
       "      <td>5337.77</td>\n",
       "    </tr>\n",
       "  </tbody>\n",
       "</table>\n",
       "</div>"
      ],
      "text/plain": [
       "   t_id  balance_prev_origen  balance_post_origen  balance_prev_destino  \\\n",
       "0     0            170136.00            160296.36                   0.0   \n",
       "1     1             21249.00             19384.72                   0.0   \n",
       "2     2               181.00                 0.00                   0.0   \n",
       "3     3               181.00                 0.00               21182.0   \n",
       "4     4             41554.00             29885.86                   0.0   \n",
       "5     5             53860.00             46042.29                   0.0   \n",
       "6     6            183195.00            176087.23                   0.0   \n",
       "7     7            176087.23            168225.59                   0.0   \n",
       "8     8              2671.00                 0.00                   0.0   \n",
       "9     9             41720.00             36382.23               41898.0   \n",
       "\n",
       "   balance_post_destino   cuantia  \n",
       "0                  0.00   9839.64  \n",
       "1                  0.00   1864.28  \n",
       "2                  0.00    181.00  \n",
       "3                  0.00    181.00  \n",
       "4                  0.00  11668.14  \n",
       "5                  0.00   7817.71  \n",
       "6                  0.00   7107.77  \n",
       "7                  0.00   7861.64  \n",
       "8                  0.00   4024.36  \n",
       "9              40348.79   5337.77  "
      ]
     },
     "execution_count": 50,
     "metadata": {},
     "output_type": "execute_result"
    }
   ],
   "source": [
    "df_balance_clientes_cuantia.head(10)"
   ]
  },
  {
   "cell_type": "code",
   "execution_count": 51,
   "id": "b6e436c9",
   "metadata": {},
   "outputs": [
    {
     "data": {
      "text/plain": [
       "(6362620, 6)"
      ]
     },
     "execution_count": 51,
     "metadata": {},
     "output_type": "execute_result"
    }
   ],
   "source": [
    "df_balance_clientes_cuantia.shape"
   ]
  },
  {
   "cell_type": "markdown",
   "id": "b62e096d",
   "metadata": {},
   "source": [
    "Cargamos el dataset tipo y unimos con el dataset que tiene los datos del balance y de la cuantía"
   ]
  },
  {
   "cell_type": "code",
   "execution_count": 52,
   "id": "789b0e8f",
   "metadata": {},
   "outputs": [],
   "source": [
    "df_tipo = pd.read_csv('df_tipo.csv')"
   ]
  },
  {
   "cell_type": "code",
   "execution_count": 53,
   "id": "79c7b73a",
   "metadata": {},
   "outputs": [
    {
     "data": {
      "text/plain": [
       "(6362620, 2)"
      ]
     },
     "execution_count": 53,
     "metadata": {},
     "output_type": "execute_result"
    }
   ],
   "source": [
    "df_tipo.shape"
   ]
  },
  {
   "cell_type": "code",
   "execution_count": 54,
   "id": "194d800c",
   "metadata": {},
   "outputs": [],
   "source": [
    "df_balance_tipo =  pd.merge(df_balance_clientes_cuantia ,df_tipo, how = 'inner', on = ('t_id'))"
   ]
  },
  {
   "cell_type": "code",
   "execution_count": 55,
   "id": "43bd52f4",
   "metadata": {},
   "outputs": [
    {
     "data": {
      "text/plain": [
       "(6362620, 7)"
      ]
     },
     "execution_count": 55,
     "metadata": {},
     "output_type": "execute_result"
    }
   ],
   "source": [
    "df_balance_tipo.shape"
   ]
  },
  {
   "cell_type": "code",
   "execution_count": 56,
   "id": "6ae2d696",
   "metadata": {},
   "outputs": [
    {
     "data": {
      "text/html": [
       "<div>\n",
       "<style scoped>\n",
       "    .dataframe tbody tr th:only-of-type {\n",
       "        vertical-align: middle;\n",
       "    }\n",
       "\n",
       "    .dataframe tbody tr th {\n",
       "        vertical-align: top;\n",
       "    }\n",
       "\n",
       "    .dataframe thead th {\n",
       "        text-align: right;\n",
       "    }\n",
       "</style>\n",
       "<table border=\"1\" class=\"dataframe\">\n",
       "  <thead>\n",
       "    <tr style=\"text-align: right;\">\n",
       "      <th></th>\n",
       "      <th>t_id</th>\n",
       "      <th>balance_prev_origen</th>\n",
       "      <th>balance_post_origen</th>\n",
       "      <th>balance_prev_destino</th>\n",
       "      <th>balance_post_destino</th>\n",
       "      <th>cuantia</th>\n",
       "      <th>tipo</th>\n",
       "    </tr>\n",
       "  </thead>\n",
       "  <tbody>\n",
       "    <tr>\n",
       "      <th>0</th>\n",
       "      <td>0</td>\n",
       "      <td>170136.0</td>\n",
       "      <td>160296.36</td>\n",
       "      <td>0.0</td>\n",
       "      <td>0.0</td>\n",
       "      <td>9839.64</td>\n",
       "      <td>PAYMENT</td>\n",
       "    </tr>\n",
       "    <tr>\n",
       "      <th>1</th>\n",
       "      <td>1</td>\n",
       "      <td>21249.0</td>\n",
       "      <td>19384.72</td>\n",
       "      <td>0.0</td>\n",
       "      <td>0.0</td>\n",
       "      <td>1864.28</td>\n",
       "      <td>PAYMENT</td>\n",
       "    </tr>\n",
       "    <tr>\n",
       "      <th>2</th>\n",
       "      <td>2</td>\n",
       "      <td>181.0</td>\n",
       "      <td>0.00</td>\n",
       "      <td>0.0</td>\n",
       "      <td>0.0</td>\n",
       "      <td>181.00</td>\n",
       "      <td>TRANSFER</td>\n",
       "    </tr>\n",
       "    <tr>\n",
       "      <th>3</th>\n",
       "      <td>3</td>\n",
       "      <td>181.0</td>\n",
       "      <td>0.00</td>\n",
       "      <td>21182.0</td>\n",
       "      <td>0.0</td>\n",
       "      <td>181.00</td>\n",
       "      <td>CASH_OUT</td>\n",
       "    </tr>\n",
       "    <tr>\n",
       "      <th>4</th>\n",
       "      <td>4</td>\n",
       "      <td>41554.0</td>\n",
       "      <td>29885.86</td>\n",
       "      <td>0.0</td>\n",
       "      <td>0.0</td>\n",
       "      <td>11668.14</td>\n",
       "      <td>PAYMENT</td>\n",
       "    </tr>\n",
       "  </tbody>\n",
       "</table>\n",
       "</div>"
      ],
      "text/plain": [
       "   t_id  balance_prev_origen  balance_post_origen  balance_prev_destino  \\\n",
       "0     0             170136.0            160296.36                   0.0   \n",
       "1     1              21249.0             19384.72                   0.0   \n",
       "2     2                181.0                 0.00                   0.0   \n",
       "3     3                181.0                 0.00               21182.0   \n",
       "4     4              41554.0             29885.86                   0.0   \n",
       "\n",
       "   balance_post_destino   cuantia      tipo  \n",
       "0                   0.0   9839.64   PAYMENT  \n",
       "1                   0.0   1864.28   PAYMENT  \n",
       "2                   0.0    181.00  TRANSFER  \n",
       "3                   0.0    181.00  CASH_OUT  \n",
       "4                   0.0  11668.14   PAYMENT  "
      ]
     },
     "execution_count": 56,
     "metadata": {},
     "output_type": "execute_result"
    }
   ],
   "source": [
    "df_balance_tipo.head(5)"
   ]
  },
  {
   "cell_type": "markdown",
   "id": "9a68c16c",
   "metadata": {},
   "source": [
    "Cargamos el dataset tiempo y unimos con el dataset que tiene los datos del balance, de la cuantía de la trancción y su tipo"
   ]
  },
  {
   "cell_type": "code",
   "execution_count": 57,
   "id": "1b3b1c61",
   "metadata": {},
   "outputs": [],
   "source": [
    "df_tiempo = pd.read_csv('df_tiempo.csv')"
   ]
  },
  {
   "cell_type": "code",
   "execution_count": 58,
   "id": "c1fdfd1e",
   "metadata": {},
   "outputs": [
    {
     "data": {
      "text/plain": [
       "(6362620, 2)"
      ]
     },
     "execution_count": 58,
     "metadata": {},
     "output_type": "execute_result"
    }
   ],
   "source": [
    "df_tiempo.shape"
   ]
  },
  {
   "cell_type": "code",
   "execution_count": 59,
   "id": "3ae729ca",
   "metadata": {},
   "outputs": [],
   "source": [
    "df_balance_tiempo =  pd.merge(df_balance_tipo ,df_tiempo, how = 'inner', on = ('t_id'))"
   ]
  },
  {
   "cell_type": "code",
   "execution_count": 60,
   "id": "3b764992",
   "metadata": {},
   "outputs": [
    {
     "data": {
      "text/plain": [
       "(6362620, 8)"
      ]
     },
     "execution_count": 60,
     "metadata": {},
     "output_type": "execute_result"
    }
   ],
   "source": [
    "df_balance_tiempo.shape"
   ]
  },
  {
   "cell_type": "code",
   "execution_count": 61,
   "id": "8ed636a2",
   "metadata": {},
   "outputs": [
    {
     "data": {
      "text/html": [
       "<div>\n",
       "<style scoped>\n",
       "    .dataframe tbody tr th:only-of-type {\n",
       "        vertical-align: middle;\n",
       "    }\n",
       "\n",
       "    .dataframe tbody tr th {\n",
       "        vertical-align: top;\n",
       "    }\n",
       "\n",
       "    .dataframe thead th {\n",
       "        text-align: right;\n",
       "    }\n",
       "</style>\n",
       "<table border=\"1\" class=\"dataframe\">\n",
       "  <thead>\n",
       "    <tr style=\"text-align: right;\">\n",
       "      <th></th>\n",
       "      <th>t_id</th>\n",
       "      <th>balance_prev_origen</th>\n",
       "      <th>balance_post_origen</th>\n",
       "      <th>balance_prev_destino</th>\n",
       "      <th>balance_post_destino</th>\n",
       "      <th>cuantia</th>\n",
       "      <th>tipo</th>\n",
       "      <th>fecha_final</th>\n",
       "    </tr>\n",
       "  </thead>\n",
       "  <tbody>\n",
       "    <tr>\n",
       "      <th>0</th>\n",
       "      <td>0</td>\n",
       "      <td>170136.0</td>\n",
       "      <td>160296.36</td>\n",
       "      <td>0.0</td>\n",
       "      <td>0.0</td>\n",
       "      <td>9839.64</td>\n",
       "      <td>PAYMENT</td>\n",
       "      <td>2022-09-01 08:00:00</td>\n",
       "    </tr>\n",
       "    <tr>\n",
       "      <th>1</th>\n",
       "      <td>1</td>\n",
       "      <td>21249.0</td>\n",
       "      <td>19384.72</td>\n",
       "      <td>0.0</td>\n",
       "      <td>0.0</td>\n",
       "      <td>1864.28</td>\n",
       "      <td>PAYMENT</td>\n",
       "      <td>2022-09-01 08:00:00</td>\n",
       "    </tr>\n",
       "    <tr>\n",
       "      <th>2</th>\n",
       "      <td>2</td>\n",
       "      <td>181.0</td>\n",
       "      <td>0.00</td>\n",
       "      <td>0.0</td>\n",
       "      <td>0.0</td>\n",
       "      <td>181.00</td>\n",
       "      <td>TRANSFER</td>\n",
       "      <td>2022-09-01 08:00:00</td>\n",
       "    </tr>\n",
       "    <tr>\n",
       "      <th>3</th>\n",
       "      <td>3</td>\n",
       "      <td>181.0</td>\n",
       "      <td>0.00</td>\n",
       "      <td>21182.0</td>\n",
       "      <td>0.0</td>\n",
       "      <td>181.00</td>\n",
       "      <td>CASH_OUT</td>\n",
       "      <td>2022-09-01 08:00:00</td>\n",
       "    </tr>\n",
       "    <tr>\n",
       "      <th>4</th>\n",
       "      <td>4</td>\n",
       "      <td>41554.0</td>\n",
       "      <td>29885.86</td>\n",
       "      <td>0.0</td>\n",
       "      <td>0.0</td>\n",
       "      <td>11668.14</td>\n",
       "      <td>PAYMENT</td>\n",
       "      <td>2022-09-01 08:00:00</td>\n",
       "    </tr>\n",
       "  </tbody>\n",
       "</table>\n",
       "</div>"
      ],
      "text/plain": [
       "   t_id  balance_prev_origen  balance_post_origen  balance_prev_destino  \\\n",
       "0     0             170136.0            160296.36                   0.0   \n",
       "1     1              21249.0             19384.72                   0.0   \n",
       "2     2                181.0                 0.00                   0.0   \n",
       "3     3                181.0                 0.00               21182.0   \n",
       "4     4              41554.0             29885.86                   0.0   \n",
       "\n",
       "   balance_post_destino   cuantia      tipo          fecha_final  \n",
       "0                   0.0   9839.64   PAYMENT  2022-09-01 08:00:00  \n",
       "1                   0.0   1864.28   PAYMENT  2022-09-01 08:00:00  \n",
       "2                   0.0    181.00  TRANSFER  2022-09-01 08:00:00  \n",
       "3                   0.0    181.00  CASH_OUT  2022-09-01 08:00:00  \n",
       "4                   0.0  11668.14   PAYMENT  2022-09-01 08:00:00  "
      ]
     },
     "execution_count": 61,
     "metadata": {},
     "output_type": "execute_result"
    }
   ],
   "source": [
    "df_balance_tiempo.head(5)"
   ]
  },
  {
   "cell_type": "markdown",
   "id": "891aa8bf",
   "metadata": {},
   "source": [
    "Cargamos el dataset alarma_fraude y unimos con el dataset que tiene los datos del balance, de la cuantía de la trancción,\n",
    "su tipo y tiempo."
   ]
  },
  {
   "cell_type": "code",
   "execution_count": 76,
   "id": "b0e57e99",
   "metadata": {},
   "outputs": [],
   "source": [
    "df_alarma = pd.read_csv('df_alarma_fraude.csv')"
   ]
  },
  {
   "cell_type": "code",
   "execution_count": 77,
   "id": "37f4ca59",
   "metadata": {},
   "outputs": [
    {
     "data": {
      "text/plain": [
       "(16, 2)"
      ]
     },
     "execution_count": 77,
     "metadata": {},
     "output_type": "execute_result"
    }
   ],
   "source": [
    "df_alarma.shape"
   ]
  },
  {
   "cell_type": "code",
   "execution_count": 78,
   "id": "55418d4d",
   "metadata": {},
   "outputs": [
    {
     "data": {
      "text/html": [
       "<div>\n",
       "<style scoped>\n",
       "    .dataframe tbody tr th:only-of-type {\n",
       "        vertical-align: middle;\n",
       "    }\n",
       "\n",
       "    .dataframe tbody tr th {\n",
       "        vertical-align: top;\n",
       "    }\n",
       "\n",
       "    .dataframe thead th {\n",
       "        text-align: right;\n",
       "    }\n",
       "</style>\n",
       "<table border=\"1\" class=\"dataframe\">\n",
       "  <thead>\n",
       "    <tr style=\"text-align: right;\">\n",
       "      <th></th>\n",
       "      <th>t_id</th>\n",
       "      <th>mensaje_alarma</th>\n",
       "    </tr>\n",
       "  </thead>\n",
       "  <tbody>\n",
       "    <tr>\n",
       "      <th>0</th>\n",
       "      <td>2736446</td>\n",
       "      <td>Detectado_fraude</td>\n",
       "    </tr>\n",
       "    <tr>\n",
       "      <th>1</th>\n",
       "      <td>3247297</td>\n",
       "      <td>Detectado_fraude</td>\n",
       "    </tr>\n",
       "    <tr>\n",
       "      <th>2</th>\n",
       "      <td>3760288</td>\n",
       "      <td>Detectado_fraude</td>\n",
       "    </tr>\n",
       "    <tr>\n",
       "      <th>3</th>\n",
       "      <td>5563713</td>\n",
       "      <td>Detectado_fraude</td>\n",
       "    </tr>\n",
       "    <tr>\n",
       "      <th>4</th>\n",
       "      <td>5996407</td>\n",
       "      <td>Detectado_fraude</td>\n",
       "    </tr>\n",
       "  </tbody>\n",
       "</table>\n",
       "</div>"
      ],
      "text/plain": [
       "      t_id    mensaje_alarma\n",
       "0  2736446  Detectado_fraude\n",
       "1  3247297  Detectado_fraude\n",
       "2  3760288  Detectado_fraude\n",
       "3  5563713  Detectado_fraude\n",
       "4  5996407  Detectado_fraude"
      ]
     },
     "execution_count": 78,
     "metadata": {},
     "output_type": "execute_result"
    }
   ],
   "source": [
    "df_alarma.head(5)"
   ]
  },
  {
   "cell_type": "code",
   "execution_count": 79,
   "id": "5da21c84",
   "metadata": {},
   "outputs": [],
   "source": [
    "df_balance_alarma = pd.merge(df_balance_tiempo ,df_alarma, how = 'left', on = ('t_id'))"
   ]
  },
  {
   "cell_type": "code",
   "execution_count": 80,
   "id": "c8c26e70",
   "metadata": {},
   "outputs": [
    {
     "data": {
      "text/plain": [
       "(6362620, 9)"
      ]
     },
     "execution_count": 80,
     "metadata": {},
     "output_type": "execute_result"
    }
   ],
   "source": [
    "df_balance_alarma.shape"
   ]
  },
  {
   "cell_type": "code",
   "execution_count": 81,
   "id": "cd76f4d4",
   "metadata": {},
   "outputs": [
    {
     "data": {
      "text/html": [
       "<div>\n",
       "<style scoped>\n",
       "    .dataframe tbody tr th:only-of-type {\n",
       "        vertical-align: middle;\n",
       "    }\n",
       "\n",
       "    .dataframe tbody tr th {\n",
       "        vertical-align: top;\n",
       "    }\n",
       "\n",
       "    .dataframe thead th {\n",
       "        text-align: right;\n",
       "    }\n",
       "</style>\n",
       "<table border=\"1\" class=\"dataframe\">\n",
       "  <thead>\n",
       "    <tr style=\"text-align: right;\">\n",
       "      <th></th>\n",
       "      <th>t_id</th>\n",
       "      <th>balance_prev_origen</th>\n",
       "      <th>balance_post_origen</th>\n",
       "      <th>balance_prev_destino</th>\n",
       "      <th>balance_post_destino</th>\n",
       "      <th>cuantia</th>\n",
       "      <th>tipo</th>\n",
       "      <th>fecha_final</th>\n",
       "      <th>mensaje_alarma</th>\n",
       "    </tr>\n",
       "  </thead>\n",
       "  <tbody>\n",
       "    <tr>\n",
       "      <th>1825903</th>\n",
       "      <td>1821638</td>\n",
       "      <td>80063.95</td>\n",
       "      <td>0.00</td>\n",
       "      <td>1007854.52</td>\n",
       "      <td>1809246.72</td>\n",
       "      <td>801392.20</td>\n",
       "      <td>TRANSFER</td>\n",
       "      <td>2022-09-08 02:00:00</td>\n",
       "      <td>NaN</td>\n",
       "    </tr>\n",
       "    <tr>\n",
       "      <th>6337149</th>\n",
       "      <td>6337081</td>\n",
       "      <td>7712997.81</td>\n",
       "      <td>7720166.12</td>\n",
       "      <td>65855.49</td>\n",
       "      <td>58687.18</td>\n",
       "      <td>7168.31</td>\n",
       "      <td>CASH_IN</td>\n",
       "      <td>2022-09-30 02:00:00</td>\n",
       "      <td>NaN</td>\n",
       "    </tr>\n",
       "    <tr>\n",
       "      <th>2523017</th>\n",
       "      <td>2518108</td>\n",
       "      <td>0.00</td>\n",
       "      <td>0.00</td>\n",
       "      <td>406432.36</td>\n",
       "      <td>746269.23</td>\n",
       "      <td>339836.88</td>\n",
       "      <td>TRANSFER</td>\n",
       "      <td>2022-09-09 20:00:00</td>\n",
       "      <td>NaN</td>\n",
       "    </tr>\n",
       "    <tr>\n",
       "      <th>659386</th>\n",
       "      <td>657402</td>\n",
       "      <td>0.00</td>\n",
       "      <td>0.00</td>\n",
       "      <td>468475.23</td>\n",
       "      <td>569096.76</td>\n",
       "      <td>100621.53</td>\n",
       "      <td>CASH_OUT</td>\n",
       "      <td>2022-09-02 18:00:00</td>\n",
       "      <td>NaN</td>\n",
       "    </tr>\n",
       "    <tr>\n",
       "      <th>5184284</th>\n",
       "      <td>5181325</td>\n",
       "      <td>42675.00</td>\n",
       "      <td>40750.90</td>\n",
       "      <td>0.00</td>\n",
       "      <td>0.00</td>\n",
       "      <td>1924.10</td>\n",
       "      <td>PAYMENT</td>\n",
       "      <td>2022-09-16 06:00:00</td>\n",
       "      <td>NaN</td>\n",
       "    </tr>\n",
       "  </tbody>\n",
       "</table>\n",
       "</div>"
      ],
      "text/plain": [
       "            t_id  balance_prev_origen  balance_post_origen  \\\n",
       "1825903  1821638             80063.95                 0.00   \n",
       "6337149  6337081           7712997.81           7720166.12   \n",
       "2523017  2518108                 0.00                 0.00   \n",
       "659386    657402                 0.00                 0.00   \n",
       "5184284  5181325             42675.00             40750.90   \n",
       "\n",
       "         balance_prev_destino  balance_post_destino    cuantia      tipo  \\\n",
       "1825903            1007854.52            1809246.72  801392.20  TRANSFER   \n",
       "6337149              65855.49              58687.18    7168.31   CASH_IN   \n",
       "2523017             406432.36             746269.23  339836.88  TRANSFER   \n",
       "659386              468475.23             569096.76  100621.53  CASH_OUT   \n",
       "5184284                  0.00                  0.00    1924.10   PAYMENT   \n",
       "\n",
       "                 fecha_final mensaje_alarma  \n",
       "1825903  2022-09-08 02:00:00            NaN  \n",
       "6337149  2022-09-30 02:00:00            NaN  \n",
       "2523017  2022-09-09 20:00:00            NaN  \n",
       "659386   2022-09-02 18:00:00            NaN  \n",
       "5184284  2022-09-16 06:00:00            NaN  "
      ]
     },
     "execution_count": 81,
     "metadata": {},
     "output_type": "execute_result"
    }
   ],
   "source": [
    "df_balance_alarma.sample(5)"
   ]
  },
  {
   "cell_type": "markdown",
   "id": "859a9d0c",
   "metadata": {},
   "source": [
    "Chequeamos una transacción donde saltó la alarma de fraude"
   ]
  },
  {
   "cell_type": "code",
   "execution_count": 82,
   "id": "7c8b6655",
   "metadata": {},
   "outputs": [],
   "source": [
    "a = df_balance_alarma.loc[df_balance_alarma['t_id'] == 2736446]"
   ]
  },
  {
   "cell_type": "code",
   "execution_count": 83,
   "id": "71d2c821",
   "metadata": {},
   "outputs": [
    {
     "data": {
      "text/html": [
       "<div>\n",
       "<style scoped>\n",
       "    .dataframe tbody tr th:only-of-type {\n",
       "        vertical-align: middle;\n",
       "    }\n",
       "\n",
       "    .dataframe tbody tr th {\n",
       "        vertical-align: top;\n",
       "    }\n",
       "\n",
       "    .dataframe thead th {\n",
       "        text-align: right;\n",
       "    }\n",
       "</style>\n",
       "<table border=\"1\" class=\"dataframe\">\n",
       "  <thead>\n",
       "    <tr style=\"text-align: right;\">\n",
       "      <th></th>\n",
       "      <th>t_id</th>\n",
       "      <th>balance_prev_origen</th>\n",
       "      <th>balance_post_origen</th>\n",
       "      <th>balance_prev_destino</th>\n",
       "      <th>balance_post_destino</th>\n",
       "      <th>cuantia</th>\n",
       "      <th>tipo</th>\n",
       "      <th>fecha_final</th>\n",
       "      <th>mensaje_alarma</th>\n",
       "    </tr>\n",
       "  </thead>\n",
       "  <tbody>\n",
       "    <tr>\n",
       "      <th>2741452</th>\n",
       "      <td>2736446</td>\n",
       "      <td>4953893.08</td>\n",
       "      <td>4953893.08</td>\n",
       "      <td>0.0</td>\n",
       "      <td>0.0</td>\n",
       "      <td>4953893.08</td>\n",
       "      <td>TRANSFER</td>\n",
       "      <td>2022-09-10 03:00:00</td>\n",
       "      <td>Detectado_fraude</td>\n",
       "    </tr>\n",
       "  </tbody>\n",
       "</table>\n",
       "</div>"
      ],
      "text/plain": [
       "            t_id  balance_prev_origen  balance_post_origen  \\\n",
       "2741452  2736446           4953893.08           4953893.08   \n",
       "\n",
       "         balance_prev_destino  balance_post_destino     cuantia      tipo  \\\n",
       "2741452                   0.0                   0.0  4953893.08  TRANSFER   \n",
       "\n",
       "                 fecha_final    mensaje_alarma  \n",
       "2741452  2022-09-10 03:00:00  Detectado_fraude  "
      ]
     },
     "execution_count": 83,
     "metadata": {},
     "output_type": "execute_result"
    }
   ],
   "source": [
    "a"
   ]
  },
  {
   "cell_type": "code",
   "execution_count": null,
   "id": "f2d439d0",
   "metadata": {},
   "outputs": [],
   "source": [
    "Cargamos el dataset es_fraude y unimos con el dataset que tiene los datos del balance, de la cuantía de la trancción,\n",
    "su tipo, tiempo y si se detecto la alarma de fraude. "
   ]
  },
  {
   "cell_type": "code",
   "execution_count": 84,
   "id": "a1747451",
   "metadata": {},
   "outputs": [],
   "source": [
    "df_fraude = pd.read_csv('df_es_fraude.csv')"
   ]
  },
  {
   "cell_type": "code",
   "execution_count": 85,
   "id": "dcc475b8",
   "metadata": {},
   "outputs": [
    {
     "data": {
      "text/plain": [
       "(6362520, 2)"
      ]
     },
     "execution_count": 85,
     "metadata": {},
     "output_type": "execute_result"
    }
   ],
   "source": [
    "df_fraude.shape"
   ]
  },
  {
   "cell_type": "code",
   "execution_count": 87,
   "id": "afbf433e",
   "metadata": {},
   "outputs": [
    {
     "data": {
      "text/html": [
       "<div>\n",
       "<style scoped>\n",
       "    .dataframe tbody tr th:only-of-type {\n",
       "        vertical-align: middle;\n",
       "    }\n",
       "\n",
       "    .dataframe tbody tr th {\n",
       "        vertical-align: top;\n",
       "    }\n",
       "\n",
       "    .dataframe thead th {\n",
       "        text-align: right;\n",
       "    }\n",
       "</style>\n",
       "<table border=\"1\" class=\"dataframe\">\n",
       "  <thead>\n",
       "    <tr style=\"text-align: right;\">\n",
       "      <th></th>\n",
       "      <th>t_id</th>\n",
       "      <th>es_fraude</th>\n",
       "    </tr>\n",
       "  </thead>\n",
       "  <tbody>\n",
       "    <tr>\n",
       "      <th>0</th>\n",
       "      <td>0</td>\n",
       "      <td>False</td>\n",
       "    </tr>\n",
       "    <tr>\n",
       "      <th>1</th>\n",
       "      <td>1</td>\n",
       "      <td>False</td>\n",
       "    </tr>\n",
       "    <tr>\n",
       "      <th>2</th>\n",
       "      <td>2</td>\n",
       "      <td>True</td>\n",
       "    </tr>\n",
       "    <tr>\n",
       "      <th>3</th>\n",
       "      <td>3</td>\n",
       "      <td>True</td>\n",
       "    </tr>\n",
       "    <tr>\n",
       "      <th>4</th>\n",
       "      <td>4</td>\n",
       "      <td>False</td>\n",
       "    </tr>\n",
       "  </tbody>\n",
       "</table>\n",
       "</div>"
      ],
      "text/plain": [
       "   t_id  es_fraude\n",
       "0     0      False\n",
       "1     1      False\n",
       "2     2       True\n",
       "3     3       True\n",
       "4     4      False"
      ]
     },
     "execution_count": 87,
     "metadata": {},
     "output_type": "execute_result"
    }
   ],
   "source": [
    "df_fraude.head(5)"
   ]
  },
  {
   "cell_type": "code",
   "execution_count": 88,
   "id": "ac08ee44",
   "metadata": {},
   "outputs": [],
   "source": [
    "df_balance_fraude = pd.merge(df_balance_alarma ,df_fraude, how = 'left', on = ('t_id'))"
   ]
  },
  {
   "cell_type": "code",
   "execution_count": 89,
   "id": "a4ba0ad8",
   "metadata": {},
   "outputs": [
    {
     "data": {
      "text/plain": [
       "(6362620, 10)"
      ]
     },
     "execution_count": 89,
     "metadata": {},
     "output_type": "execute_result"
    }
   ],
   "source": [
    "df_balance_fraude.shape"
   ]
  },
  {
   "cell_type": "code",
   "execution_count": 90,
   "id": "d2ed48cd",
   "metadata": {},
   "outputs": [
    {
     "data": {
      "text/html": [
       "<div>\n",
       "<style scoped>\n",
       "    .dataframe tbody tr th:only-of-type {\n",
       "        vertical-align: middle;\n",
       "    }\n",
       "\n",
       "    .dataframe tbody tr th {\n",
       "        vertical-align: top;\n",
       "    }\n",
       "\n",
       "    .dataframe thead th {\n",
       "        text-align: right;\n",
       "    }\n",
       "</style>\n",
       "<table border=\"1\" class=\"dataframe\">\n",
       "  <thead>\n",
       "    <tr style=\"text-align: right;\">\n",
       "      <th></th>\n",
       "      <th>t_id</th>\n",
       "      <th>balance_prev_origen</th>\n",
       "      <th>balance_post_origen</th>\n",
       "      <th>balance_prev_destino</th>\n",
       "      <th>balance_post_destino</th>\n",
       "      <th>cuantia</th>\n",
       "      <th>tipo</th>\n",
       "      <th>fecha_final</th>\n",
       "      <th>mensaje_alarma</th>\n",
       "      <th>es_fraude</th>\n",
       "    </tr>\n",
       "  </thead>\n",
       "  <tbody>\n",
       "    <tr>\n",
       "      <th>0</th>\n",
       "      <td>0</td>\n",
       "      <td>170136.0</td>\n",
       "      <td>160296.36</td>\n",
       "      <td>0.0</td>\n",
       "      <td>0.0</td>\n",
       "      <td>9839.64</td>\n",
       "      <td>PAYMENT</td>\n",
       "      <td>2022-09-01 08:00:00</td>\n",
       "      <td>NaN</td>\n",
       "      <td>False</td>\n",
       "    </tr>\n",
       "    <tr>\n",
       "      <th>1</th>\n",
       "      <td>1</td>\n",
       "      <td>21249.0</td>\n",
       "      <td>19384.72</td>\n",
       "      <td>0.0</td>\n",
       "      <td>0.0</td>\n",
       "      <td>1864.28</td>\n",
       "      <td>PAYMENT</td>\n",
       "      <td>2022-09-01 08:00:00</td>\n",
       "      <td>NaN</td>\n",
       "      <td>False</td>\n",
       "    </tr>\n",
       "    <tr>\n",
       "      <th>2</th>\n",
       "      <td>2</td>\n",
       "      <td>181.0</td>\n",
       "      <td>0.00</td>\n",
       "      <td>0.0</td>\n",
       "      <td>0.0</td>\n",
       "      <td>181.00</td>\n",
       "      <td>TRANSFER</td>\n",
       "      <td>2022-09-01 08:00:00</td>\n",
       "      <td>NaN</td>\n",
       "      <td>True</td>\n",
       "    </tr>\n",
       "    <tr>\n",
       "      <th>3</th>\n",
       "      <td>3</td>\n",
       "      <td>181.0</td>\n",
       "      <td>0.00</td>\n",
       "      <td>21182.0</td>\n",
       "      <td>0.0</td>\n",
       "      <td>181.00</td>\n",
       "      <td>CASH_OUT</td>\n",
       "      <td>2022-09-01 08:00:00</td>\n",
       "      <td>NaN</td>\n",
       "      <td>True</td>\n",
       "    </tr>\n",
       "    <tr>\n",
       "      <th>4</th>\n",
       "      <td>4</td>\n",
       "      <td>41554.0</td>\n",
       "      <td>29885.86</td>\n",
       "      <td>0.0</td>\n",
       "      <td>0.0</td>\n",
       "      <td>11668.14</td>\n",
       "      <td>PAYMENT</td>\n",
       "      <td>2022-09-01 08:00:00</td>\n",
       "      <td>NaN</td>\n",
       "      <td>False</td>\n",
       "    </tr>\n",
       "  </tbody>\n",
       "</table>\n",
       "</div>"
      ],
      "text/plain": [
       "   t_id  balance_prev_origen  balance_post_origen  balance_prev_destino  \\\n",
       "0     0             170136.0            160296.36                   0.0   \n",
       "1     1              21249.0             19384.72                   0.0   \n",
       "2     2                181.0                 0.00                   0.0   \n",
       "3     3                181.0                 0.00               21182.0   \n",
       "4     4              41554.0             29885.86                   0.0   \n",
       "\n",
       "   balance_post_destino   cuantia      tipo          fecha_final  \\\n",
       "0                   0.0   9839.64   PAYMENT  2022-09-01 08:00:00   \n",
       "1                   0.0   1864.28   PAYMENT  2022-09-01 08:00:00   \n",
       "2                   0.0    181.00  TRANSFER  2022-09-01 08:00:00   \n",
       "3                   0.0    181.00  CASH_OUT  2022-09-01 08:00:00   \n",
       "4                   0.0  11668.14   PAYMENT  2022-09-01 08:00:00   \n",
       "\n",
       "  mensaje_alarma es_fraude  \n",
       "0            NaN     False  \n",
       "1            NaN     False  \n",
       "2            NaN      True  \n",
       "3            NaN      True  \n",
       "4            NaN     False  "
      ]
     },
     "execution_count": 90,
     "metadata": {},
     "output_type": "execute_result"
    }
   ],
   "source": [
    "df_balance_fraude.head(5)"
   ]
  },
  {
   "cell_type": "code",
   "execution_count": 91,
   "id": "0f4f8bf8",
   "metadata": {},
   "outputs": [],
   "source": [
    "df_transacciones = df_balance_fraude[['t_id','tipo','fecha_final','balance_prev_origen','balance_post_origen','balance_prev_destino',\n",
    "                                      'balance_post_destino','cuantia', 'mensaje_alarma','es_fraude']]"
   ]
  },
  {
   "cell_type": "code",
   "execution_count": 92,
   "id": "9d1f33b6",
   "metadata": {},
   "outputs": [
    {
     "data": {
      "text/plain": [
       "(6362620, 10)"
      ]
     },
     "execution_count": 92,
     "metadata": {},
     "output_type": "execute_result"
    }
   ],
   "source": [
    "df_transacciones.shape"
   ]
  },
  {
   "cell_type": "code",
   "execution_count": 93,
   "id": "3b06e466",
   "metadata": {},
   "outputs": [
    {
     "data": {
      "text/html": [
       "<div>\n",
       "<style scoped>\n",
       "    .dataframe tbody tr th:only-of-type {\n",
       "        vertical-align: middle;\n",
       "    }\n",
       "\n",
       "    .dataframe tbody tr th {\n",
       "        vertical-align: top;\n",
       "    }\n",
       "\n",
       "    .dataframe thead th {\n",
       "        text-align: right;\n",
       "    }\n",
       "</style>\n",
       "<table border=\"1\" class=\"dataframe\">\n",
       "  <thead>\n",
       "    <tr style=\"text-align: right;\">\n",
       "      <th></th>\n",
       "      <th>t_id</th>\n",
       "      <th>tipo</th>\n",
       "      <th>fecha_final</th>\n",
       "      <th>balance_prev_origen</th>\n",
       "      <th>balance_post_origen</th>\n",
       "      <th>balance_prev_destino</th>\n",
       "      <th>balance_post_destino</th>\n",
       "      <th>cuantia</th>\n",
       "      <th>mensaje_alarma</th>\n",
       "      <th>es_fraude</th>\n",
       "    </tr>\n",
       "  </thead>\n",
       "  <tbody>\n",
       "    <tr>\n",
       "      <th>982742</th>\n",
       "      <td>979991</td>\n",
       "      <td>DEBIT</td>\n",
       "      <td>2022-09-03 03:00:00</td>\n",
       "      <td>27787.00</td>\n",
       "      <td>20352.57</td>\n",
       "      <td>2242382.43</td>\n",
       "      <td>2249816.86</td>\n",
       "      <td>7434.43</td>\n",
       "      <td>NaN</td>\n",
       "      <td>False</td>\n",
       "    </tr>\n",
       "    <tr>\n",
       "      <th>3687982</th>\n",
       "      <td>3683061</td>\n",
       "      <td>PAYMENT</td>\n",
       "      <td>2022-09-12 19:00:00</td>\n",
       "      <td>61888.00</td>\n",
       "      <td>46062.20</td>\n",
       "      <td>0.00</td>\n",
       "      <td>0.00</td>\n",
       "      <td>15825.80</td>\n",
       "      <td>NaN</td>\n",
       "      <td>False</td>\n",
       "    </tr>\n",
       "    <tr>\n",
       "      <th>2275047</th>\n",
       "      <td>2270304</td>\n",
       "      <td>CASH_IN</td>\n",
       "      <td>2022-09-09 02:00:00</td>\n",
       "      <td>2502223.76</td>\n",
       "      <td>2566819.58</td>\n",
       "      <td>1370980.35</td>\n",
       "      <td>1306384.52</td>\n",
       "      <td>64595.83</td>\n",
       "      <td>NaN</td>\n",
       "      <td>False</td>\n",
       "    </tr>\n",
       "    <tr>\n",
       "      <th>2318047</th>\n",
       "      <td>2313300</td>\n",
       "      <td>CASH_IN</td>\n",
       "      <td>2022-09-09 03:00:00</td>\n",
       "      <td>7983913.62</td>\n",
       "      <td>8147211.25</td>\n",
       "      <td>1210646.67</td>\n",
       "      <td>1047349.04</td>\n",
       "      <td>163297.63</td>\n",
       "      <td>NaN</td>\n",
       "      <td>False</td>\n",
       "    </tr>\n",
       "    <tr>\n",
       "      <th>2882039</th>\n",
       "      <td>2876993</td>\n",
       "      <td>CASH_OUT</td>\n",
       "      <td>2022-09-10 18:00:00</td>\n",
       "      <td>164411.00</td>\n",
       "      <td>0.00</td>\n",
       "      <td>0.00</td>\n",
       "      <td>293291.30</td>\n",
       "      <td>293291.30</td>\n",
       "      <td>NaN</td>\n",
       "      <td>False</td>\n",
       "    </tr>\n",
       "  </tbody>\n",
       "</table>\n",
       "</div>"
      ],
      "text/plain": [
       "            t_id      tipo          fecha_final  balance_prev_origen  \\\n",
       "982742    979991     DEBIT  2022-09-03 03:00:00             27787.00   \n",
       "3687982  3683061   PAYMENT  2022-09-12 19:00:00             61888.00   \n",
       "2275047  2270304   CASH_IN  2022-09-09 02:00:00           2502223.76   \n",
       "2318047  2313300   CASH_IN  2022-09-09 03:00:00           7983913.62   \n",
       "2882039  2876993  CASH_OUT  2022-09-10 18:00:00            164411.00   \n",
       "\n",
       "         balance_post_origen  balance_prev_destino  balance_post_destino  \\\n",
       "982742              20352.57            2242382.43            2249816.86   \n",
       "3687982             46062.20                  0.00                  0.00   \n",
       "2275047           2566819.58            1370980.35            1306384.52   \n",
       "2318047           8147211.25            1210646.67            1047349.04   \n",
       "2882039                 0.00                  0.00             293291.30   \n",
       "\n",
       "           cuantia mensaje_alarma es_fraude  \n",
       "982742     7434.43            NaN     False  \n",
       "3687982   15825.80            NaN     False  \n",
       "2275047   64595.83            NaN     False  \n",
       "2318047  163297.63            NaN     False  \n",
       "2882039  293291.30            NaN     False  "
      ]
     },
     "execution_count": 93,
     "metadata": {},
     "output_type": "execute_result"
    }
   ],
   "source": [
    "df_transacciones.sample(5)"
   ]
  },
  {
   "cell_type": "code",
   "execution_count": 94,
   "id": "d549e07d",
   "metadata": {},
   "outputs": [
    {
     "data": {
      "text/plain": [
       "False    6362620\n",
       "dtype: int64"
      ]
     },
     "execution_count": 94,
     "metadata": {},
     "output_type": "execute_result"
    }
   ],
   "source": [
    "df_transacciones.duplicated(subset=[ 't_id']).value_counts()"
   ]
  },
  {
   "cell_type": "code",
   "execution_count": 95,
   "id": "3ee632a5",
   "metadata": {},
   "outputs": [],
   "source": [
    "df_transacciones.to_csv('df_transacciones.csv', index = False)"
   ]
  }
 ],
 "metadata": {
  "kernelspec": {
   "display_name": "Python 3 (ipykernel)",
   "language": "python",
   "name": "python3"
  },
  "language_info": {
   "codemirror_mode": {
    "name": "ipython",
    "version": 3
   },
   "file_extension": ".py",
   "mimetype": "text/x-python",
   "name": "python",
   "nbconvert_exporter": "python",
   "pygments_lexer": "ipython3",
   "version": "3.9.12"
  }
 },
 "nbformat": 4,
 "nbformat_minor": 5
}
