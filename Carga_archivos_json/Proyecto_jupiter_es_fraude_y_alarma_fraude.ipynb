{
 "cells": [
  {
   "cell_type": "code",
   "execution_count": 11,
   "id": "8b8ba662",
   "metadata": {},
   "outputs": [],
   "source": [
    "import pandas as pd \n",
    "import json\n"
   ]
  },
  {
   "cell_type": "markdown",
   "id": "b30feed2",
   "metadata": {},
   "source": [
    "Cargamos el dataset sobre las transacciones que se marcaron como fraude"
   ]
  },
  {
   "cell_type": "code",
   "execution_count": 3,
   "id": "c8cbae0e",
   "metadata": {},
   "outputs": [],
   "source": [
    "df_fraude = pd.read_json('Datasets/es_fraude.json', orient ='index')"
   ]
  },
  {
   "cell_type": "code",
   "execution_count": 4,
   "id": "491dee66",
   "metadata": {},
   "outputs": [
    {
     "data": {
      "text/html": [
       "<div>\n",
       "<style scoped>\n",
       "    .dataframe tbody tr th:only-of-type {\n",
       "        vertical-align: middle;\n",
       "    }\n",
       "\n",
       "    .dataframe tbody tr th {\n",
       "        vertical-align: top;\n",
       "    }\n",
       "\n",
       "    .dataframe thead th {\n",
       "        text-align: right;\n",
       "    }\n",
       "</style>\n",
       "<table border=\"1\" class=\"dataframe\">\n",
       "  <thead>\n",
       "    <tr style=\"text-align: right;\">\n",
       "      <th></th>\n",
       "      <th>0</th>\n",
       "    </tr>\n",
       "  </thead>\n",
       "  <tbody>\n",
       "    <tr>\n",
       "      <th>3931767</th>\n",
       "      <td>False</td>\n",
       "    </tr>\n",
       "    <tr>\n",
       "      <th>6184542</th>\n",
       "      <td>False</td>\n",
       "    </tr>\n",
       "    <tr>\n",
       "      <th>578720</th>\n",
       "      <td>False</td>\n",
       "    </tr>\n",
       "    <tr>\n",
       "      <th>6128429</th>\n",
       "      <td>False</td>\n",
       "    </tr>\n",
       "    <tr>\n",
       "      <th>3597744</th>\n",
       "      <td>False</td>\n",
       "    </tr>\n",
       "  </tbody>\n",
       "</table>\n",
       "</div>"
      ],
      "text/plain": [
       "             0\n",
       "3931767  False\n",
       "6184542  False\n",
       "578720   False\n",
       "6128429  False\n",
       "3597744  False"
      ]
     },
     "execution_count": 4,
     "metadata": {},
     "output_type": "execute_result"
    }
   ],
   "source": [
    "df_fraude.sample(5)"
   ]
  },
  {
   "cell_type": "code",
   "execution_count": 5,
   "id": "c77b9105",
   "metadata": {},
   "outputs": [],
   "source": [
    "df_fraude = df_fraude.rename(columns={0:'es_fraude'\n",
    "                                   })"
   ]
  },
  {
   "cell_type": "code",
   "execution_count": 6,
   "id": "1254e2bc",
   "metadata": {},
   "outputs": [],
   "source": [
    "df_fraude.reset_index(level=0, inplace=True)"
   ]
  },
  {
   "cell_type": "code",
   "execution_count": 7,
   "id": "669c7b33",
   "metadata": {},
   "outputs": [],
   "source": [
    "df_fraude = df_fraude.rename(columns={'index':'t_id'\n",
    "                                   })\n"
   ]
  },
  {
   "cell_type": "code",
   "execution_count": 8,
   "id": "f95e177f",
   "metadata": {},
   "outputs": [
    {
     "data": {
      "text/html": [
       "<div>\n",
       "<style scoped>\n",
       "    .dataframe tbody tr th:only-of-type {\n",
       "        vertical-align: middle;\n",
       "    }\n",
       "\n",
       "    .dataframe tbody tr th {\n",
       "        vertical-align: top;\n",
       "    }\n",
       "\n",
       "    .dataframe thead th {\n",
       "        text-align: right;\n",
       "    }\n",
       "</style>\n",
       "<table border=\"1\" class=\"dataframe\">\n",
       "  <thead>\n",
       "    <tr style=\"text-align: right;\">\n",
       "      <th></th>\n",
       "      <th>t_id</th>\n",
       "      <th>es_fraude</th>\n",
       "    </tr>\n",
       "  </thead>\n",
       "  <tbody>\n",
       "    <tr>\n",
       "      <th>6237952</th>\n",
       "      <td>6238050</td>\n",
       "      <td>False</td>\n",
       "    </tr>\n",
       "    <tr>\n",
       "      <th>5824304</th>\n",
       "      <td>5824398</td>\n",
       "      <td>False</td>\n",
       "    </tr>\n",
       "    <tr>\n",
       "      <th>5805792</th>\n",
       "      <td>5805886</td>\n",
       "      <td>False</td>\n",
       "    </tr>\n",
       "    <tr>\n",
       "      <th>139198</th>\n",
       "      <td>139199</td>\n",
       "      <td>False</td>\n",
       "    </tr>\n",
       "    <tr>\n",
       "      <th>4794764</th>\n",
       "      <td>4794839</td>\n",
       "      <td>False</td>\n",
       "    </tr>\n",
       "  </tbody>\n",
       "</table>\n",
       "</div>"
      ],
      "text/plain": [
       "            t_id  es_fraude\n",
       "6237952  6238050      False\n",
       "5824304  5824398      False\n",
       "5805792  5805886      False\n",
       "139198    139199      False\n",
       "4794764  4794839      False"
      ]
     },
     "execution_count": 8,
     "metadata": {},
     "output_type": "execute_result"
    }
   ],
   "source": [
    "df_fraude.sample(5)"
   ]
  },
  {
   "cell_type": "code",
   "execution_count": 9,
   "id": "8abfa64e",
   "metadata": {},
   "outputs": [],
   "source": [
    "df_fraude.to_csv('df_es_fraude.csv', index = False)"
   ]
  },
  {
   "cell_type": "markdown",
   "id": "630560ed",
   "metadata": {},
   "source": [
    "Cargamos el dataset sobre las transacciones en las cuales salto la alarma, (intento de transferir más de 200.000 en una sola transacción)."
   ]
  },
  {
   "cell_type": "code",
   "execution_count": 12,
   "id": "cee7e8d0",
   "metadata": {},
   "outputs": [],
   "source": [
    "f = open('Datasets/alarma_fraude.json') \n",
    "dfalarma = json.load(f) \n",
    "f.close()"
   ]
  },
  {
   "cell_type": "code",
   "execution_count": 13,
   "id": "4ab5014b",
   "metadata": {},
   "outputs": [],
   "source": [
    "df_alarma = pd.DataFrame.from_dict(dfalarma, orient='index',\n",
    "                       columns=['t_id', 'mensaje_alarma'])"
   ]
  },
  {
   "cell_type": "code",
   "execution_count": 14,
   "id": "240efe88",
   "metadata": {},
   "outputs": [
    {
     "data": {
      "text/html": [
       "<div>\n",
       "<style scoped>\n",
       "    .dataframe tbody tr th:only-of-type {\n",
       "        vertical-align: middle;\n",
       "    }\n",
       "\n",
       "    .dataframe tbody tr th {\n",
       "        vertical-align: top;\n",
       "    }\n",
       "\n",
       "    .dataframe thead th {\n",
       "        text-align: right;\n",
       "    }\n",
       "</style>\n",
       "<table border=\"1\" class=\"dataframe\">\n",
       "  <thead>\n",
       "    <tr style=\"text-align: right;\">\n",
       "      <th></th>\n",
       "      <th>t_id</th>\n",
       "      <th>mensaje_alarma</th>\n",
       "    </tr>\n",
       "  </thead>\n",
       "  <tbody>\n",
       "    <tr>\n",
       "      <th>2736446</th>\n",
       "      <td>2736446</td>\n",
       "      <td>Detectado_fraude</td>\n",
       "    </tr>\n",
       "    <tr>\n",
       "      <th>3247297</th>\n",
       "      <td>3247297</td>\n",
       "      <td>Detectado_fraude</td>\n",
       "    </tr>\n",
       "    <tr>\n",
       "      <th>3760288</th>\n",
       "      <td>3760288</td>\n",
       "      <td>Detectado_fraude</td>\n",
       "    </tr>\n",
       "    <tr>\n",
       "      <th>5563713</th>\n",
       "      <td>5563713</td>\n",
       "      <td>Detectado_fraude</td>\n",
       "    </tr>\n",
       "    <tr>\n",
       "      <th>5996407</th>\n",
       "      <td>5996407</td>\n",
       "      <td>Detectado_fraude</td>\n",
       "    </tr>\n",
       "    <tr>\n",
       "      <th>5996409</th>\n",
       "      <td>5996409</td>\n",
       "      <td>Detectado_fraude</td>\n",
       "    </tr>\n",
       "    <tr>\n",
       "      <th>6168499</th>\n",
       "      <td>6168499</td>\n",
       "      <td>Detectado_fraude</td>\n",
       "    </tr>\n",
       "    <tr>\n",
       "      <th>6205439</th>\n",
       "      <td>6205439</td>\n",
       "      <td>Detectado_fraude</td>\n",
       "    </tr>\n",
       "    <tr>\n",
       "      <th>6266413</th>\n",
       "      <td>6266413</td>\n",
       "      <td>Detectado_fraude</td>\n",
       "    </tr>\n",
       "    <tr>\n",
       "      <th>6281482</th>\n",
       "      <td>6281482</td>\n",
       "      <td>Detectado_fraude</td>\n",
       "    </tr>\n",
       "    <tr>\n",
       "      <th>6281484</th>\n",
       "      <td>6281484</td>\n",
       "      <td>Detectado_fraude</td>\n",
       "    </tr>\n",
       "    <tr>\n",
       "      <th>6296014</th>\n",
       "      <td>6296014</td>\n",
       "      <td>Detectado_fraude</td>\n",
       "    </tr>\n",
       "    <tr>\n",
       "      <th>6351225</th>\n",
       "      <td>6351225</td>\n",
       "      <td>Detectado_fraude</td>\n",
       "    </tr>\n",
       "    <tr>\n",
       "      <th>6362460</th>\n",
       "      <td>6362460</td>\n",
       "      <td>Detectado_fraude</td>\n",
       "    </tr>\n",
       "    <tr>\n",
       "      <th>6362462</th>\n",
       "      <td>6362462</td>\n",
       "      <td>Detectado_fraude</td>\n",
       "    </tr>\n",
       "    <tr>\n",
       "      <th>6362584</th>\n",
       "      <td>6362584</td>\n",
       "      <td>Detectado_fraude</td>\n",
       "    </tr>\n",
       "  </tbody>\n",
       "</table>\n",
       "</div>"
      ],
      "text/plain": [
       "            t_id    mensaje_alarma\n",
       "2736446  2736446  Detectado_fraude\n",
       "3247297  3247297  Detectado_fraude\n",
       "3760288  3760288  Detectado_fraude\n",
       "5563713  5563713  Detectado_fraude\n",
       "5996407  5996407  Detectado_fraude\n",
       "5996409  5996409  Detectado_fraude\n",
       "6168499  6168499  Detectado_fraude\n",
       "6205439  6205439  Detectado_fraude\n",
       "6266413  6266413  Detectado_fraude\n",
       "6281482  6281482  Detectado_fraude\n",
       "6281484  6281484  Detectado_fraude\n",
       "6296014  6296014  Detectado_fraude\n",
       "6351225  6351225  Detectado_fraude\n",
       "6362460  6362460  Detectado_fraude\n",
       "6362462  6362462  Detectado_fraude\n",
       "6362584  6362584  Detectado_fraude"
      ]
     },
     "execution_count": 14,
     "metadata": {},
     "output_type": "execute_result"
    }
   ],
   "source": [
    "df_alarma"
   ]
  },
  {
   "cell_type": "code",
   "execution_count": 15,
   "id": "df65741f",
   "metadata": {},
   "outputs": [],
   "source": [
    "df_alarma.to_csv('df_alarma_fraude.csv', index = False)"
   ]
  }
 ],
 "metadata": {
  "kernelspec": {
   "display_name": "Python 3 (ipykernel)",
   "language": "python",
   "name": "python3"
  },
  "language_info": {
   "codemirror_mode": {
    "name": "ipython",
    "version": 3
   },
   "file_extension": ".py",
   "mimetype": "text/x-python",
   "name": "python",
   "nbconvert_exporter": "python",
   "pygments_lexer": "ipython3",
   "version": "3.9.12"
  }
 },
 "nbformat": 4,
 "nbformat_minor": 5
}
