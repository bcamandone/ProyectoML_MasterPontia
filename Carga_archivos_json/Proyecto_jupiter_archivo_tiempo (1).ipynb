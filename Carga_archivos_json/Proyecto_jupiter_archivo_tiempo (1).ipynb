{
 "cells": [
  {
   "cell_type": "code",
   "execution_count": 13,
   "id": "9d80e1c8",
   "metadata": {},
   "outputs": [],
   "source": [
    "import json\n",
    "import pandas as pd\n",
    "from datetime import datetime, timedelta\n",
    "from datetime import date "
   ]
  },
  {
   "cell_type": "markdown",
   "id": "30cab22d",
   "metadata": {},
   "source": [
    "Cargamos el dataset tiempo, que nos informa el momento en que se realizo la transaccion. Archivo histórico en el que por cada unidad de tiempo se almacena una lista con los t_id que se han producido en dicha unidad de tiempo"
   ]
  },
  {
   "cell_type": "code",
   "execution_count": 2,
   "id": "8c5ff9e8",
   "metadata": {},
   "outputs": [],
   "source": [
    "f = open('Datasets/tiempo.json') \n",
    "dftiempo = json.load(f) \n",
    "f.close()"
   ]
  },
  {
   "cell_type": "code",
   "execution_count": 4,
   "id": "c24d5e93",
   "metadata": {},
   "outputs": [],
   "source": [
    "df_tiempo = pd.DataFrame([key for key in dftiempo.keys()], columns=['hora_transaccion'])"
   ]
  },
  {
   "cell_type": "code",
   "execution_count": 5,
   "id": "d772b37a",
   "metadata": {},
   "outputs": [],
   "source": [
    "df_tiempo['t_id'] = [value[::] for value in dftiempo.values()]"
   ]
  },
  {
   "cell_type": "code",
   "execution_count": 6,
   "id": "dda3a1ad",
   "metadata": {},
   "outputs": [
    {
     "data": {
      "text/html": [
       "<div>\n",
       "<style scoped>\n",
       "    .dataframe tbody tr th:only-of-type {\n",
       "        vertical-align: middle;\n",
       "    }\n",
       "\n",
       "    .dataframe tbody tr th {\n",
       "        vertical-align: top;\n",
       "    }\n",
       "\n",
       "    .dataframe thead th {\n",
       "        text-align: right;\n",
       "    }\n",
       "</style>\n",
       "<table border=\"1\" class=\"dataframe\">\n",
       "  <thead>\n",
       "    <tr style=\"text-align: right;\">\n",
       "      <th></th>\n",
       "      <th>hora_transaccion</th>\n",
       "      <th>t_id</th>\n",
       "    </tr>\n",
       "  </thead>\n",
       "  <tbody>\n",
       "    <tr>\n",
       "      <th>544</th>\n",
       "      <td>545</td>\n",
       "      <td>[6141290, 6141291, 6141292, 6141293, 6141294, ...</td>\n",
       "    </tr>\n",
       "    <tr>\n",
       "      <th>528</th>\n",
       "      <td>529</td>\n",
       "      <td>[6117473, 6117474, 6117475, 6117476, 6117477, ...</td>\n",
       "    </tr>\n",
       "    <tr>\n",
       "      <th>678</th>\n",
       "      <td>679</td>\n",
       "      <td>[6296682, 6296683, 6296684, 6296685, 6296686, ...</td>\n",
       "    </tr>\n",
       "    <tr>\n",
       "      <th>368</th>\n",
       "      <td>369</td>\n",
       "      <td>[5188066, 5188067, 5188068, 5188069, 5188070, ...</td>\n",
       "    </tr>\n",
       "    <tr>\n",
       "      <th>165</th>\n",
       "      <td>166</td>\n",
       "      <td>[1906234, 1906235, 1906236, 1906237, 1906238, ...</td>\n",
       "    </tr>\n",
       "  </tbody>\n",
       "</table>\n",
       "</div>"
      ],
      "text/plain": [
       "    hora_transaccion                                               t_id\n",
       "544              545  [6141290, 6141291, 6141292, 6141293, 6141294, ...\n",
       "528              529  [6117473, 6117474, 6117475, 6117476, 6117477, ...\n",
       "678              679  [6296682, 6296683, 6296684, 6296685, 6296686, ...\n",
       "368              369  [5188066, 5188067, 5188068, 5188069, 5188070, ...\n",
       "165              166  [1906234, 1906235, 1906236, 1906237, 1906238, ..."
      ]
     },
     "execution_count": 6,
     "metadata": {},
     "output_type": "execute_result"
    }
   ],
   "source": [
    "df_tiempo.sample(5)"
   ]
  },
  {
   "cell_type": "code",
   "execution_count": 7,
   "id": "110adf30",
   "metadata": {},
   "outputs": [],
   "source": [
    "df_tiempo_final = df_tiempo.explode('t_id')"
   ]
  },
  {
   "cell_type": "code",
   "execution_count": 9,
   "id": "e0903f37",
   "metadata": {},
   "outputs": [
    {
     "data": {
      "text/html": [
       "<div>\n",
       "<style scoped>\n",
       "    .dataframe tbody tr th:only-of-type {\n",
       "        vertical-align: middle;\n",
       "    }\n",
       "\n",
       "    .dataframe tbody tr th {\n",
       "        vertical-align: top;\n",
       "    }\n",
       "\n",
       "    .dataframe thead th {\n",
       "        text-align: right;\n",
       "    }\n",
       "</style>\n",
       "<table border=\"1\" class=\"dataframe\">\n",
       "  <thead>\n",
       "    <tr style=\"text-align: right;\">\n",
       "      <th></th>\n",
       "      <th>hora_transaccion</th>\n",
       "      <th>t_id</th>\n",
       "    </tr>\n",
       "  </thead>\n",
       "  <tbody>\n",
       "    <tr>\n",
       "      <th>206</th>\n",
       "      <td>207</td>\n",
       "      <td>2570159</td>\n",
       "    </tr>\n",
       "    <tr>\n",
       "      <th>179</th>\n",
       "      <td>180</td>\n",
       "      <td>2031738</td>\n",
       "    </tr>\n",
       "    <tr>\n",
       "      <th>18</th>\n",
       "      <td>19</td>\n",
       "      <td>453715</td>\n",
       "    </tr>\n",
       "  </tbody>\n",
       "</table>\n",
       "</div>"
      ],
      "text/plain": [
       "    hora_transaccion     t_id\n",
       "206              207  2570159\n",
       "179              180  2031738\n",
       "18                19   453715"
      ]
     },
     "execution_count": 9,
     "metadata": {},
     "output_type": "execute_result"
    }
   ],
   "source": [
    "df_tiempo_final.sample(3)"
   ]
  },
  {
   "cell_type": "code",
   "execution_count": 48,
   "id": "244ebcae",
   "metadata": {},
   "outputs": [
    {
     "data": {
      "text/plain": [
       "(6362620, 2)"
      ]
     },
     "execution_count": 48,
     "metadata": {},
     "output_type": "execute_result"
    }
   ],
   "source": [
    "df_tiempo_final.shape"
   ]
  },
  {
   "cell_type": "markdown",
   "id": "c397f922",
   "metadata": {},
   "source": [
    "La columna hora_transaccion nos indica la cantidad de horas desde el dia 2022-09-01 a las 07:00:00 AM, necesitamos transformar cada fila a formato fecha sumando la hora que corresponde."
   ]
  },
  {
   "cell_type": "code",
   "execution_count": 10,
   "id": "98d0bff5",
   "metadata": {},
   "outputs": [],
   "source": [
    "df_tiempo_final['hora_transaccion'] = df_tiempo_final['hora_transaccion'].astype(dtype= 'int')"
   ]
  },
  {
   "cell_type": "code",
   "execution_count": 11,
   "id": "599881d4",
   "metadata": {},
   "outputs": [
    {
     "data": {
      "text/plain": [
       "hora_transaccion     int32\n",
       "t_id                object\n",
       "dtype: object"
      ]
     },
     "execution_count": 11,
     "metadata": {},
     "output_type": "execute_result"
    }
   ],
   "source": [
    "df_tiempo_final.dtypes"
   ]
  },
  {
   "cell_type": "code",
   "execution_count": 14,
   "id": "a68d9a95",
   "metadata": {},
   "outputs": [],
   "source": [
    "fecha = datetime(2022, 9, 1, 7,  0, 0)"
   ]
  },
  {
   "cell_type": "code",
   "execution_count": 15,
   "id": "5fa7e047",
   "metadata": {},
   "outputs": [
    {
     "name": "stdout",
     "output_type": "stream",
     "text": [
      "2022-09-01 07:00:00\n"
     ]
    }
   ],
   "source": [
    "print(fecha)"
   ]
  },
  {
   "cell_type": "code",
   "execution_count": 16,
   "id": "cef08cd4",
   "metadata": {},
   "outputs": [],
   "source": [
    "lista_fecha = []\n",
    "for i in df_tiempo_final['t_id']:\n",
    "    lista_fecha.append(fecha)"
   ]
  },
  {
   "cell_type": "code",
   "execution_count": 38,
   "id": "14bb5514",
   "metadata": {},
   "outputs": [],
   "source": [
    "Horas = df_tiempo_final['hora_transaccion']"
   ]
  },
  {
   "cell_type": "code",
   "execution_count": 39,
   "id": "9010b4e7",
   "metadata": {},
   "outputs": [],
   "source": [
    "df_fechas = pd.DataFrame(list(zip(Horas, lista_fecha)), columns = ['hora_transaccion','fecha_origen'])"
   ]
  },
  {
   "cell_type": "markdown",
   "id": "a87f6452",
   "metadata": {},
   "source": [
    "Utilizamos la función to_timedelta, para convertir la hora en objetos timedelta que están conformados por tantas horas como indica la columna y es posible sumarlos a la fecha."
   ]
  },
  {
   "cell_type": "code",
   "execution_count": 41,
   "id": "0a0bfc5f",
   "metadata": {},
   "outputs": [],
   "source": [
    "df_fechas[\"fecha_final\"] = df_fechas[\"fecha_origen\"] + pd.to_timedelta(df_fechas[\"hora_transaccion\"], 'h')"
   ]
  },
  {
   "cell_type": "markdown",
   "id": "f2d8aff6",
   "metadata": {},
   "source": [
    "Por último unimos los datasets y solos nos quedamos con la fecha final y el ID de la transacción"
   ]
  },
  {
   "cell_type": "code",
   "execution_count": 53,
   "id": "b139b336",
   "metadata": {},
   "outputs": [],
   "source": [
    "df_tiempo_final1 = df_tiempo_final['t_id']"
   ]
  },
  {
   "cell_type": "code",
   "execution_count": 55,
   "id": "5ee3514a",
   "metadata": {},
   "outputs": [],
   "source": [
    "df_tiempo_final2 = pd.DataFrame(df_tiempo_final1)"
   ]
  },
  {
   "cell_type": "code",
   "execution_count": 57,
   "id": "5db2fc0b",
   "metadata": {},
   "outputs": [
    {
     "data": {
      "text/html": [
       "<div>\n",
       "<style scoped>\n",
       "    .dataframe tbody tr th:only-of-type {\n",
       "        vertical-align: middle;\n",
       "    }\n",
       "\n",
       "    .dataframe tbody tr th {\n",
       "        vertical-align: top;\n",
       "    }\n",
       "\n",
       "    .dataframe thead th {\n",
       "        text-align: right;\n",
       "    }\n",
       "</style>\n",
       "<table border=\"1\" class=\"dataframe\">\n",
       "  <thead>\n",
       "    <tr style=\"text-align: right;\">\n",
       "      <th></th>\n",
       "      <th>t_id</th>\n",
       "    </tr>\n",
       "  </thead>\n",
       "  <tbody>\n",
       "    <tr>\n",
       "      <th>742</th>\n",
       "      <td>6362615</td>\n",
       "    </tr>\n",
       "    <tr>\n",
       "      <th>742</th>\n",
       "      <td>6362616</td>\n",
       "    </tr>\n",
       "    <tr>\n",
       "      <th>742</th>\n",
       "      <td>6362617</td>\n",
       "    </tr>\n",
       "    <tr>\n",
       "      <th>742</th>\n",
       "      <td>6362618</td>\n",
       "    </tr>\n",
       "    <tr>\n",
       "      <th>742</th>\n",
       "      <td>6362619</td>\n",
       "    </tr>\n",
       "  </tbody>\n",
       "</table>\n",
       "</div>"
      ],
      "text/plain": [
       "        t_id\n",
       "742  6362615\n",
       "742  6362616\n",
       "742  6362617\n",
       "742  6362618\n",
       "742  6362619"
      ]
     },
     "execution_count": 57,
     "metadata": {},
     "output_type": "execute_result"
    }
   ],
   "source": [
    "df_tiempo_final2.tail(5)"
   ]
  },
  {
   "cell_type": "code",
   "execution_count": 44,
   "id": "fdf4c45c",
   "metadata": {},
   "outputs": [],
   "source": [
    "df_fechas1 = df_fechas['fecha_final']"
   ]
  },
  {
   "cell_type": "code",
   "execution_count": 45,
   "id": "798d3f5c",
   "metadata": {},
   "outputs": [
    {
     "data": {
      "text/plain": [
       "6362615   2022-10-02 06:00:00\n",
       "6362616   2022-10-02 06:00:00\n",
       "6362617   2022-10-02 06:00:00\n",
       "6362618   2022-10-02 06:00:00\n",
       "6362619   2022-10-02 06:00:00\n",
       "Name: fecha_final, dtype: datetime64[ns]"
      ]
     },
     "execution_count": 45,
     "metadata": {},
     "output_type": "execute_result"
    }
   ],
   "source": [
    "df_fechas1.tail(5)"
   ]
  },
  {
   "cell_type": "code",
   "execution_count": 59,
   "id": "19086105",
   "metadata": {},
   "outputs": [],
   "source": [
    "df_fechas2 = pd.DataFrame(df_fechas1)"
   ]
  },
  {
   "cell_type": "code",
   "execution_count": 60,
   "id": "8f55d3fa",
   "metadata": {},
   "outputs": [],
   "source": [
    "df_fechas2.reset_index(level=0, inplace=True)"
   ]
  },
  {
   "cell_type": "code",
   "execution_count": 62,
   "id": "660edec0",
   "metadata": {},
   "outputs": [
    {
     "data": {
      "text/html": [
       "<div>\n",
       "<style scoped>\n",
       "    .dataframe tbody tr th:only-of-type {\n",
       "        vertical-align: middle;\n",
       "    }\n",
       "\n",
       "    .dataframe tbody tr th {\n",
       "        vertical-align: top;\n",
       "    }\n",
       "\n",
       "    .dataframe thead th {\n",
       "        text-align: right;\n",
       "    }\n",
       "</style>\n",
       "<table border=\"1\" class=\"dataframe\">\n",
       "  <thead>\n",
       "    <tr style=\"text-align: right;\">\n",
       "      <th></th>\n",
       "      <th>index</th>\n",
       "      <th>fecha_final</th>\n",
       "    </tr>\n",
       "  </thead>\n",
       "  <tbody>\n",
       "    <tr>\n",
       "      <th>6362615</th>\n",
       "      <td>6362615</td>\n",
       "      <td>2022-10-02 06:00:00</td>\n",
       "    </tr>\n",
       "    <tr>\n",
       "      <th>6362616</th>\n",
       "      <td>6362616</td>\n",
       "      <td>2022-10-02 06:00:00</td>\n",
       "    </tr>\n",
       "    <tr>\n",
       "      <th>6362617</th>\n",
       "      <td>6362617</td>\n",
       "      <td>2022-10-02 06:00:00</td>\n",
       "    </tr>\n",
       "    <tr>\n",
       "      <th>6362618</th>\n",
       "      <td>6362618</td>\n",
       "      <td>2022-10-02 06:00:00</td>\n",
       "    </tr>\n",
       "    <tr>\n",
       "      <th>6362619</th>\n",
       "      <td>6362619</td>\n",
       "      <td>2022-10-02 06:00:00</td>\n",
       "    </tr>\n",
       "  </tbody>\n",
       "</table>\n",
       "</div>"
      ],
      "text/plain": [
       "           index         fecha_final\n",
       "6362615  6362615 2022-10-02 06:00:00\n",
       "6362616  6362616 2022-10-02 06:00:00\n",
       "6362617  6362617 2022-10-02 06:00:00\n",
       "6362618  6362618 2022-10-02 06:00:00\n",
       "6362619  6362619 2022-10-02 06:00:00"
      ]
     },
     "execution_count": 62,
     "metadata": {},
     "output_type": "execute_result"
    }
   ],
   "source": [
    "df_fechas2.tail(5)"
   ]
  },
  {
   "cell_type": "code",
   "execution_count": 63,
   "id": "d072a368",
   "metadata": {},
   "outputs": [],
   "source": [
    "df_tiempo3 = pd.merge(df_tiempo_final2, df_fechas2, how= 'inner', left_on = 't_id' , right_on='index') "
   ]
  },
  {
   "cell_type": "code",
   "execution_count": 64,
   "id": "3a6068d0",
   "metadata": {},
   "outputs": [
    {
     "data": {
      "text/plain": [
       "(6362620, 3)"
      ]
     },
     "execution_count": 64,
     "metadata": {},
     "output_type": "execute_result"
    }
   ],
   "source": [
    "df_tiempo3.shape"
   ]
  },
  {
   "cell_type": "code",
   "execution_count": 65,
   "id": "5f2dbd15",
   "metadata": {},
   "outputs": [
    {
     "data": {
      "text/html": [
       "<div>\n",
       "<style scoped>\n",
       "    .dataframe tbody tr th:only-of-type {\n",
       "        vertical-align: middle;\n",
       "    }\n",
       "\n",
       "    .dataframe tbody tr th {\n",
       "        vertical-align: top;\n",
       "    }\n",
       "\n",
       "    .dataframe thead th {\n",
       "        text-align: right;\n",
       "    }\n",
       "</style>\n",
       "<table border=\"1\" class=\"dataframe\">\n",
       "  <thead>\n",
       "    <tr style=\"text-align: right;\">\n",
       "      <th></th>\n",
       "      <th>t_id</th>\n",
       "      <th>index</th>\n",
       "      <th>fecha_final</th>\n",
       "    </tr>\n",
       "  </thead>\n",
       "  <tbody>\n",
       "    <tr>\n",
       "      <th>6362615</th>\n",
       "      <td>6362615</td>\n",
       "      <td>6362615</td>\n",
       "      <td>2022-10-02 06:00:00</td>\n",
       "    </tr>\n",
       "    <tr>\n",
       "      <th>6362616</th>\n",
       "      <td>6362616</td>\n",
       "      <td>6362616</td>\n",
       "      <td>2022-10-02 06:00:00</td>\n",
       "    </tr>\n",
       "    <tr>\n",
       "      <th>6362617</th>\n",
       "      <td>6362617</td>\n",
       "      <td>6362617</td>\n",
       "      <td>2022-10-02 06:00:00</td>\n",
       "    </tr>\n",
       "    <tr>\n",
       "      <th>6362618</th>\n",
       "      <td>6362618</td>\n",
       "      <td>6362618</td>\n",
       "      <td>2022-10-02 06:00:00</td>\n",
       "    </tr>\n",
       "    <tr>\n",
       "      <th>6362619</th>\n",
       "      <td>6362619</td>\n",
       "      <td>6362619</td>\n",
       "      <td>2022-10-02 06:00:00</td>\n",
       "    </tr>\n",
       "  </tbody>\n",
       "</table>\n",
       "</div>"
      ],
      "text/plain": [
       "            t_id    index         fecha_final\n",
       "6362615  6362615  6362615 2022-10-02 06:00:00\n",
       "6362616  6362616  6362616 2022-10-02 06:00:00\n",
       "6362617  6362617  6362617 2022-10-02 06:00:00\n",
       "6362618  6362618  6362618 2022-10-02 06:00:00\n",
       "6362619  6362619  6362619 2022-10-02 06:00:00"
      ]
     },
     "execution_count": 65,
     "metadata": {},
     "output_type": "execute_result"
    }
   ],
   "source": [
    "df_tiempo3.tail(5)"
   ]
  },
  {
   "cell_type": "code",
   "execution_count": 66,
   "id": "0c7c7278",
   "metadata": {},
   "outputs": [
    {
     "data": {
      "text/html": [
       "<div>\n",
       "<style scoped>\n",
       "    .dataframe tbody tr th:only-of-type {\n",
       "        vertical-align: middle;\n",
       "    }\n",
       "\n",
       "    .dataframe tbody tr th {\n",
       "        vertical-align: top;\n",
       "    }\n",
       "\n",
       "    .dataframe thead th {\n",
       "        text-align: right;\n",
       "    }\n",
       "</style>\n",
       "<table border=\"1\" class=\"dataframe\">\n",
       "  <thead>\n",
       "    <tr style=\"text-align: right;\">\n",
       "      <th></th>\n",
       "      <th>t_id</th>\n",
       "      <th>fecha_final</th>\n",
       "    </tr>\n",
       "  </thead>\n",
       "  <tbody>\n",
       "    <tr>\n",
       "      <th>0</th>\n",
       "      <td>0</td>\n",
       "      <td>2022-09-01 08:00:00</td>\n",
       "    </tr>\n",
       "    <tr>\n",
       "      <th>1</th>\n",
       "      <td>1</td>\n",
       "      <td>2022-09-01 08:00:00</td>\n",
       "    </tr>\n",
       "    <tr>\n",
       "      <th>2</th>\n",
       "      <td>2</td>\n",
       "      <td>2022-09-01 08:00:00</td>\n",
       "    </tr>\n",
       "    <tr>\n",
       "      <th>3</th>\n",
       "      <td>3</td>\n",
       "      <td>2022-09-01 08:00:00</td>\n",
       "    </tr>\n",
       "    <tr>\n",
       "      <th>4</th>\n",
       "      <td>4</td>\n",
       "      <td>2022-09-01 08:00:00</td>\n",
       "    </tr>\n",
       "    <tr>\n",
       "      <th>...</th>\n",
       "      <td>...</td>\n",
       "      <td>...</td>\n",
       "    </tr>\n",
       "    <tr>\n",
       "      <th>6362615</th>\n",
       "      <td>6362615</td>\n",
       "      <td>2022-10-02 06:00:00</td>\n",
       "    </tr>\n",
       "    <tr>\n",
       "      <th>6362616</th>\n",
       "      <td>6362616</td>\n",
       "      <td>2022-10-02 06:00:00</td>\n",
       "    </tr>\n",
       "    <tr>\n",
       "      <th>6362617</th>\n",
       "      <td>6362617</td>\n",
       "      <td>2022-10-02 06:00:00</td>\n",
       "    </tr>\n",
       "    <tr>\n",
       "      <th>6362618</th>\n",
       "      <td>6362618</td>\n",
       "      <td>2022-10-02 06:00:00</td>\n",
       "    </tr>\n",
       "    <tr>\n",
       "      <th>6362619</th>\n",
       "      <td>6362619</td>\n",
       "      <td>2022-10-02 06:00:00</td>\n",
       "    </tr>\n",
       "  </tbody>\n",
       "</table>\n",
       "<p>6362620 rows × 2 columns</p>\n",
       "</div>"
      ],
      "text/plain": [
       "            t_id         fecha_final\n",
       "0              0 2022-09-01 08:00:00\n",
       "1              1 2022-09-01 08:00:00\n",
       "2              2 2022-09-01 08:00:00\n",
       "3              3 2022-09-01 08:00:00\n",
       "4              4 2022-09-01 08:00:00\n",
       "...          ...                 ...\n",
       "6362615  6362615 2022-10-02 06:00:00\n",
       "6362616  6362616 2022-10-02 06:00:00\n",
       "6362617  6362617 2022-10-02 06:00:00\n",
       "6362618  6362618 2022-10-02 06:00:00\n",
       "6362619  6362619 2022-10-02 06:00:00\n",
       "\n",
       "[6362620 rows x 2 columns]"
      ]
     },
     "execution_count": 66,
     "metadata": {},
     "output_type": "execute_result"
    }
   ],
   "source": [
    "df_tiempo3.drop(['index'], axis=1)"
   ]
  },
  {
   "cell_type": "code",
   "execution_count": 67,
   "id": "0c046ccc",
   "metadata": {},
   "outputs": [],
   "source": [
    "df_tiempo3.to_csv('df_tiempo.csv', index = False)"
   ]
  }
 ],
 "metadata": {
  "kernelspec": {
   "display_name": "Python 3 (ipykernel)",
   "language": "python",
   "name": "python3"
  },
  "language_info": {
   "codemirror_mode": {
    "name": "ipython",
    "version": 3
   },
   "file_extension": ".py",
   "mimetype": "text/x-python",
   "name": "python",
   "nbconvert_exporter": "python",
   "pygments_lexer": "ipython3",
   "version": "3.9.12"
  }
 },
 "nbformat": 4,
 "nbformat_minor": 5
}
