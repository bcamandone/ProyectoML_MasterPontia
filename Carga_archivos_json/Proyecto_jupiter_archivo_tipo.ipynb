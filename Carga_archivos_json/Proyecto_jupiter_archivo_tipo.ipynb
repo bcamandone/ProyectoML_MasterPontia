{
 "cells": [
  {
   "cell_type": "code",
   "execution_count": 4,
   "id": "823f5fbc",
   "metadata": {},
   "outputs": [],
   "source": [
    "import pandas as pd\n",
    "import json"
   ]
  },
  {
   "cell_type": "markdown",
   "id": "848e4eea",
   "metadata": {},
   "source": [
    "Cargamos el dataset tipo, que nos informa el tipo de la transaccion: PAYMENT TRANSFER CASH_OUT DEBIT CASH_IN"
   ]
  },
  {
   "cell_type": "code",
   "execution_count": 5,
   "id": "d165e70e",
   "metadata": {},
   "outputs": [],
   "source": [
    "f = open('Datasets/tipo.json') \n",
    "dftipo = json.load(f) \n",
    "f.close()"
   ]
  },
  {
   "cell_type": "code",
   "execution_count": 6,
   "id": "e7908107",
   "metadata": {},
   "outputs": [],
   "source": [
    "ID_PAYMENT = dftipo['PAYMENT']['t_id'] \n",
    "ID_TRANSFER = dftipo['TRANSFER']['t_id']\n",
    "ID_CASH_OUT = dftipo['CASH_OUT']['t_id']\n",
    "ID_DEBIT = dftipo['DEBIT']['t_id']\n",
    "ID_CASH_IN = dftipo['CASH_IN']['t_id']"
   ]
  },
  {
   "cell_type": "code",
   "execution_count": 7,
   "id": "1a15b383",
   "metadata": {},
   "outputs": [],
   "source": [
    "str_payment = 'PAYMENT'\n",
    "lista_payment = []\n",
    "for i in ID_PAYMENT:\n",
    "    lista_payment.append(str_payment)"
   ]
  },
  {
   "cell_type": "code",
   "execution_count": 8,
   "id": "b7427933",
   "metadata": {},
   "outputs": [],
   "source": [
    "str_transfer = 'TRANSFER'\n",
    "lista_transfer = []\n",
    "for i in ID_TRANSFER:\n",
    "    lista_transfer.append(str_transfer)"
   ]
  },
  {
   "cell_type": "code",
   "execution_count": 9,
   "id": "d983937e",
   "metadata": {},
   "outputs": [],
   "source": [
    "lista_cashout = ['CASH_OUT'] * len(ID_CASH_OUT)\n",
    "lista_debit = ['DEBIT'] * len(ID_DEBIT)\n",
    "lista_cashin = ['CASH_IN'] * len(ID_CASH_IN)"
   ]
  },
  {
   "cell_type": "code",
   "execution_count": 10,
   "id": "3e05e113",
   "metadata": {},
   "outputs": [],
   "source": [
    "df_tipo_payment = pd.DataFrame(list(zip(ID_PAYMENT, lista_payment  )), columns = ['t_id','tipo'])\n",
    "df_tipo_transfer = pd.DataFrame(list(zip(ID_TRANSFER, lista_transfer  )), columns = ['t_id','tipo'])\n",
    "df_tipo_cashout = pd.DataFrame(list(zip(ID_CASH_OUT, lista_cashout  )), columns = ['t_id','tipo'])\n",
    "df_tipo_debit = pd.DataFrame(list(zip(ID_DEBIT, lista_debit)), columns = ['t_id','tipo'])\n",
    "df_tipo_cashin = pd.DataFrame(list(zip(ID_CASH_IN, lista_cashin)), columns = ['t_id','tipo'])"
   ]
  },
  {
   "cell_type": "code",
   "execution_count": 11,
   "id": "08a1c0d0",
   "metadata": {},
   "outputs": [],
   "source": [
    "df_tipo_0 = pd.merge(df_tipo_payment ,df_tipo_transfer, how = 'outer')"
   ]
  },
  {
   "cell_type": "code",
   "execution_count": 12,
   "id": "443f0d9e",
   "metadata": {},
   "outputs": [],
   "source": [
    "df_tipo_1 = pd.merge(df_tipo_0 ,df_tipo_cashout, how = 'outer')"
   ]
  },
  {
   "cell_type": "code",
   "execution_count": 13,
   "id": "4ba11b69",
   "metadata": {},
   "outputs": [],
   "source": [
    "df_tipo_2 = pd.merge(df_tipo_1 ,df_tipo_debit, how = 'outer' )"
   ]
  },
  {
   "cell_type": "code",
   "execution_count": 14,
   "id": "91347b8f",
   "metadata": {},
   "outputs": [],
   "source": [
    "df_tipo_total = pd.merge(df_tipo_2 ,df_tipo_cashin, how = 'outer')"
   ]
  },
  {
   "cell_type": "code",
   "execution_count": 15,
   "id": "5784b619",
   "metadata": {},
   "outputs": [
    {
     "data": {
      "text/html": [
       "<div>\n",
       "<style scoped>\n",
       "    .dataframe tbody tr th:only-of-type {\n",
       "        vertical-align: middle;\n",
       "    }\n",
       "\n",
       "    .dataframe tbody tr th {\n",
       "        vertical-align: top;\n",
       "    }\n",
       "\n",
       "    .dataframe thead th {\n",
       "        text-align: right;\n",
       "    }\n",
       "</style>\n",
       "<table border=\"1\" class=\"dataframe\">\n",
       "  <thead>\n",
       "    <tr style=\"text-align: right;\">\n",
       "      <th></th>\n",
       "      <th>t_id</th>\n",
       "      <th>tipo</th>\n",
       "    </tr>\n",
       "  </thead>\n",
       "  <tbody>\n",
       "    <tr>\n",
       "      <th>429244</th>\n",
       "      <td>1275672</td>\n",
       "      <td>PAYMENT</td>\n",
       "    </tr>\n",
       "    <tr>\n",
       "      <th>1223649</th>\n",
       "      <td>3629368</td>\n",
       "      <td>PAYMENT</td>\n",
       "    </tr>\n",
       "    <tr>\n",
       "      <th>3159796</th>\n",
       "      <td>1333816</td>\n",
       "      <td>CASH_OUT</td>\n",
       "    </tr>\n",
       "    <tr>\n",
       "      <th>4781682</th>\n",
       "      <td>5913581</td>\n",
       "      <td>CASH_OUT</td>\n",
       "    </tr>\n",
       "    <tr>\n",
       "      <th>3067006</th>\n",
       "      <td>1084952</td>\n",
       "      <td>CASH_OUT</td>\n",
       "    </tr>\n",
       "  </tbody>\n",
       "</table>\n",
       "</div>"
      ],
      "text/plain": [
       "            t_id      tipo\n",
       "429244   1275672   PAYMENT\n",
       "1223649  3629368   PAYMENT\n",
       "3159796  1333816  CASH_OUT\n",
       "4781682  5913581  CASH_OUT\n",
       "3067006  1084952  CASH_OUT"
      ]
     },
     "execution_count": 15,
     "metadata": {},
     "output_type": "execute_result"
    }
   ],
   "source": [
    "df_tipo_total.sample(5)"
   ]
  },
  {
   "cell_type": "code",
   "execution_count": 16,
   "id": "2a8e2ab0",
   "metadata": {},
   "outputs": [],
   "source": [
    "df_tipo_total.to_csv('df_tipo', index = False)"
   ]
  }
 ],
 "metadata": {
  "kernelspec": {
   "display_name": "Python 3 (ipykernel)",
   "language": "python",
   "name": "python3"
  },
  "language_info": {
   "codemirror_mode": {
    "name": "ipython",
    "version": 3
   },
   "file_extension": ".py",
   "mimetype": "text/x-python",
   "name": "python",
   "nbconvert_exporter": "python",
   "pygments_lexer": "ipython3",
   "version": "3.9.12"
  }
 },
 "nbformat": 4,
 "nbformat_minor": 5
}
