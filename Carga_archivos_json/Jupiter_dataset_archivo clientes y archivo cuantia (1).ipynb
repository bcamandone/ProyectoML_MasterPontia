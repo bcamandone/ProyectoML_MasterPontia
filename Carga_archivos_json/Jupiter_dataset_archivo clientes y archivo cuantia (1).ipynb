{
 "cells": [
  {
   "cell_type": "markdown",
   "id": "a5c45870",
   "metadata": {},
   "source": [
    "Cargamos el dataset clientes, que por cada transaccion nos informa el ID de cliente de origen y el ID de cliente de destino. "
   ]
  },
  {
   "cell_type": "code",
   "execution_count": 1,
   "id": "d577559a",
   "metadata": {},
   "outputs": [],
   "source": [
    "import pandas as pd \n",
    "import json\n",
    "import csv"
   ]
  },
  {
   "cell_type": "code",
   "execution_count": 2,
   "id": "29c2154f",
   "metadata": {},
   "outputs": [],
   "source": [
    "f = open('Datasets/clientes.json') \n",
    "dfclientes = json.load(f) \n",
    "f.close()"
   ]
  },
  {
   "cell_type": "code",
   "execution_count": 3,
   "id": "27ca19a5",
   "metadata": {},
   "outputs": [],
   "source": [
    "df = pd.DataFrame.from_dict(dfclientes)"
   ]
  },
  {
   "cell_type": "code",
   "execution_count": 5,
   "id": "9747c2f5",
   "metadata": {},
   "outputs": [
    {
     "data": {
      "text/html": [
       "<div>\n",
       "<style scoped>\n",
       "    .dataframe tbody tr th:only-of-type {\n",
       "        vertical-align: middle;\n",
       "    }\n",
       "\n",
       "    .dataframe tbody tr th {\n",
       "        vertical-align: top;\n",
       "    }\n",
       "\n",
       "    .dataframe thead th {\n",
       "        text-align: right;\n",
       "    }\n",
       "</style>\n",
       "<table border=\"1\" class=\"dataframe\">\n",
       "  <thead>\n",
       "    <tr style=\"text-align: right;\">\n",
       "      <th></th>\n",
       "      <th>0</th>\n",
       "      <th>1</th>\n",
       "      <th>2</th>\n",
       "      <th>3</th>\n",
       "      <th>4</th>\n",
       "      <th>5</th>\n",
       "      <th>6</th>\n",
       "      <th>7</th>\n",
       "      <th>8</th>\n",
       "      <th>9</th>\n",
       "      <th>...</th>\n",
       "      <th>6362610</th>\n",
       "      <th>6362611</th>\n",
       "      <th>6362612</th>\n",
       "      <th>6362613</th>\n",
       "      <th>6362614</th>\n",
       "      <th>6362615</th>\n",
       "      <th>6362616</th>\n",
       "      <th>6362617</th>\n",
       "      <th>6362618</th>\n",
       "      <th>6362619</th>\n",
       "    </tr>\n",
       "  </thead>\n",
       "  <tbody>\n",
       "    <tr>\n",
       "      <th>origen</th>\n",
       "      <td>C1231006815</td>\n",
       "      <td>C1666544295</td>\n",
       "      <td>C1305486145</td>\n",
       "      <td>C840083671</td>\n",
       "      <td>C2048537720</td>\n",
       "      <td>C90045638</td>\n",
       "      <td>C154988899</td>\n",
       "      <td>C1912850431</td>\n",
       "      <td>C1265012928</td>\n",
       "      <td>C712410124</td>\n",
       "      <td>...</td>\n",
       "      <td>C778071008</td>\n",
       "      <td>C994950684</td>\n",
       "      <td>C1531301470</td>\n",
       "      <td>C1436118706</td>\n",
       "      <td>C2013999242</td>\n",
       "      <td>C786484425</td>\n",
       "      <td>C1529008245</td>\n",
       "      <td>C1162922333</td>\n",
       "      <td>C1685995037</td>\n",
       "      <td>C1280323807</td>\n",
       "    </tr>\n",
       "    <tr>\n",
       "      <th>destino</th>\n",
       "      <td>M1979787155</td>\n",
       "      <td>M2044282225</td>\n",
       "      <td>C553264065</td>\n",
       "      <td>C38997010</td>\n",
       "      <td>M1230701703</td>\n",
       "      <td>M573487274</td>\n",
       "      <td>M408069119</td>\n",
       "      <td>M633326333</td>\n",
       "      <td>M1176932104</td>\n",
       "      <td>C195600860</td>\n",
       "      <td>...</td>\n",
       "      <td>C1812552860</td>\n",
       "      <td>C1662241365</td>\n",
       "      <td>C1470998563</td>\n",
       "      <td>C1240760502</td>\n",
       "      <td>C1850423904</td>\n",
       "      <td>C776919290</td>\n",
       "      <td>C1881841831</td>\n",
       "      <td>C1365125890</td>\n",
       "      <td>C2080388513</td>\n",
       "      <td>C873221189</td>\n",
       "    </tr>\n",
       "  </tbody>\n",
       "</table>\n",
       "<p>2 rows × 6362620 columns</p>\n",
       "</div>"
      ],
      "text/plain": [
       "                   0            1            2           3            4  \\\n",
       "origen   C1231006815  C1666544295  C1305486145  C840083671  C2048537720   \n",
       "destino  M1979787155  M2044282225   C553264065   C38997010  M1230701703   \n",
       "\n",
       "                  5           6            7            8           9  ...  \\\n",
       "origen    C90045638  C154988899  C1912850431  C1265012928  C712410124  ...   \n",
       "destino  M573487274  M408069119   M633326333  M1176932104  C195600860  ...   \n",
       "\n",
       "             6362610      6362611      6362612      6362613      6362614  \\\n",
       "origen    C778071008   C994950684  C1531301470  C1436118706  C2013999242   \n",
       "destino  C1812552860  C1662241365  C1470998563  C1240760502  C1850423904   \n",
       "\n",
       "            6362615      6362616      6362617      6362618      6362619  \n",
       "origen   C786484425  C1529008245  C1162922333  C1685995037  C1280323807  \n",
       "destino  C776919290  C1881841831  C1365125890  C2080388513   C873221189  \n",
       "\n",
       "[2 rows x 6362620 columns]"
      ]
     },
     "execution_count": 5,
     "metadata": {},
     "output_type": "execute_result"
    }
   ],
   "source": [
    "df.head(5)"
   ]
  },
  {
   "cell_type": "code",
   "execution_count": 6,
   "id": "36cf1feb",
   "metadata": {},
   "outputs": [],
   "source": [
    "df_clientes = df.transpose()\n",
    "df_clientes = df_clientes.rename_axis('t_id').reset_index()"
   ]
  },
  {
   "cell_type": "code",
   "execution_count": 7,
   "id": "d561e2b7",
   "metadata": {},
   "outputs": [
    {
     "data": {
      "text/html": [
       "<div>\n",
       "<style scoped>\n",
       "    .dataframe tbody tr th:only-of-type {\n",
       "        vertical-align: middle;\n",
       "    }\n",
       "\n",
       "    .dataframe tbody tr th {\n",
       "        vertical-align: top;\n",
       "    }\n",
       "\n",
       "    .dataframe thead th {\n",
       "        text-align: right;\n",
       "    }\n",
       "</style>\n",
       "<table border=\"1\" class=\"dataframe\">\n",
       "  <thead>\n",
       "    <tr style=\"text-align: right;\">\n",
       "      <th></th>\n",
       "      <th>t_id</th>\n",
       "      <th>origen</th>\n",
       "      <th>destino</th>\n",
       "    </tr>\n",
       "  </thead>\n",
       "  <tbody>\n",
       "    <tr>\n",
       "      <th>4274758</th>\n",
       "      <td>4274758</td>\n",
       "      <td>C1169359462</td>\n",
       "      <td>C2019066160</td>\n",
       "    </tr>\n",
       "    <tr>\n",
       "      <th>1073149</th>\n",
       "      <td>1073149</td>\n",
       "      <td>C1064023592</td>\n",
       "      <td>C453436048</td>\n",
       "    </tr>\n",
       "    <tr>\n",
       "      <th>5441499</th>\n",
       "      <td>5441499</td>\n",
       "      <td>C1514282324</td>\n",
       "      <td>C1521017053</td>\n",
       "    </tr>\n",
       "    <tr>\n",
       "      <th>577939</th>\n",
       "      <td>577939</td>\n",
       "      <td>C439174491</td>\n",
       "      <td>C1323976391</td>\n",
       "    </tr>\n",
       "    <tr>\n",
       "      <th>647118</th>\n",
       "      <td>647118</td>\n",
       "      <td>C1318541755</td>\n",
       "      <td>M363784282</td>\n",
       "    </tr>\n",
       "  </tbody>\n",
       "</table>\n",
       "</div>"
      ],
      "text/plain": [
       "            t_id       origen      destino\n",
       "4274758  4274758  C1169359462  C2019066160\n",
       "1073149  1073149  C1064023592   C453436048\n",
       "5441499  5441499  C1514282324  C1521017053\n",
       "577939    577939   C439174491  C1323976391\n",
       "647118    647118  C1318541755   M363784282"
      ]
     },
     "execution_count": 7,
     "metadata": {},
     "output_type": "execute_result"
    }
   ],
   "source": [
    "df_clientes.sample(5)"
   ]
  },
  {
   "cell_type": "markdown",
   "id": "f618bdfa",
   "metadata": {},
   "source": [
    "Cargamos el dataset cuantia que nos informa el ID de la transacción y el monto. "
   ]
  },
  {
   "cell_type": "code",
   "execution_count": 8,
   "id": "4b113836",
   "metadata": {},
   "outputs": [],
   "source": [
    "f = open('Datasets/cuantia.json') \n",
    "dfcuantia = json.load(f) \n",
    "f.close()"
   ]
  },
  {
   "cell_type": "code",
   "execution_count": 10,
   "id": "f2320b16",
   "metadata": {},
   "outputs": [],
   "source": [
    "df_ = pd.DataFrame.from_dict(dfcuantia)"
   ]
  },
  {
   "cell_type": "code",
   "execution_count": 11,
   "id": "86d9c142",
   "metadata": {},
   "outputs": [
    {
     "data": {
      "text/html": [
       "<div>\n",
       "<style scoped>\n",
       "    .dataframe tbody tr th:only-of-type {\n",
       "        vertical-align: middle;\n",
       "    }\n",
       "\n",
       "    .dataframe tbody tr th {\n",
       "        vertical-align: top;\n",
       "    }\n",
       "\n",
       "    .dataframe thead th {\n",
       "        text-align: right;\n",
       "    }\n",
       "</style>\n",
       "<table border=\"1\" class=\"dataframe\">\n",
       "  <thead>\n",
       "    <tr style=\"text-align: right;\">\n",
       "      <th></th>\n",
       "      <th>0</th>\n",
       "      <th>1</th>\n",
       "      <th>2</th>\n",
       "      <th>3</th>\n",
       "      <th>4</th>\n",
       "      <th>5</th>\n",
       "      <th>6</th>\n",
       "      <th>7</th>\n",
       "      <th>8</th>\n",
       "      <th>9</th>\n",
       "      <th>...</th>\n",
       "      <th>6362610</th>\n",
       "      <th>6362611</th>\n",
       "      <th>6362612</th>\n",
       "      <th>6362613</th>\n",
       "      <th>6362614</th>\n",
       "      <th>6362615</th>\n",
       "      <th>6362616</th>\n",
       "      <th>6362617</th>\n",
       "      <th>6362618</th>\n",
       "      <th>6362619</th>\n",
       "    </tr>\n",
       "  </thead>\n",
       "  <tbody>\n",
       "    <tr>\n",
       "      <th>cuantia</th>\n",
       "      <td>9839.64</td>\n",
       "      <td>1864.28</td>\n",
       "      <td>181.0</td>\n",
       "      <td>181.0</td>\n",
       "      <td>11668.14</td>\n",
       "      <td>7817.71</td>\n",
       "      <td>7107.77</td>\n",
       "      <td>7861.64</td>\n",
       "      <td>4024.36</td>\n",
       "      <td>5337.77</td>\n",
       "      <td>...</td>\n",
       "      <td>63416.99</td>\n",
       "      <td>63416.99</td>\n",
       "      <td>1258818.82</td>\n",
       "      <td>1258818.82</td>\n",
       "      <td>339682.13</td>\n",
       "      <td>339682.13</td>\n",
       "      <td>6311409.28</td>\n",
       "      <td>6311409.28</td>\n",
       "      <td>850002.52</td>\n",
       "      <td>850002.52</td>\n",
       "    </tr>\n",
       "  </tbody>\n",
       "</table>\n",
       "<p>1 rows × 6362620 columns</p>\n",
       "</div>"
      ],
      "text/plain": [
       "               0        1      2      3         4        5        6        7  \\\n",
       "cuantia  9839.64  1864.28  181.0  181.0  11668.14  7817.71  7107.77  7861.64   \n",
       "\n",
       "               8        9  ...   6362610   6362611     6362612     6362613  \\\n",
       "cuantia  4024.36  5337.77  ...  63416.99  63416.99  1258818.82  1258818.82   \n",
       "\n",
       "           6362614    6362615     6362616     6362617    6362618    6362619  \n",
       "cuantia  339682.13  339682.13  6311409.28  6311409.28  850002.52  850002.52  \n",
       "\n",
       "[1 rows x 6362620 columns]"
      ]
     },
     "execution_count": 11,
     "metadata": {},
     "output_type": "execute_result"
    }
   ],
   "source": [
    "df_.head(5)"
   ]
  },
  {
   "cell_type": "code",
   "execution_count": 12,
   "id": "3453d965",
   "metadata": {},
   "outputs": [],
   "source": [
    "df_cuantia = df_.transpose()\n",
    "df_cuantia = df_cuantia.rename_axis('t_id').reset_index()"
   ]
  },
  {
   "cell_type": "code",
   "execution_count": 13,
   "id": "c2fde98a",
   "metadata": {},
   "outputs": [
    {
     "data": {
      "text/html": [
       "<div>\n",
       "<style scoped>\n",
       "    .dataframe tbody tr th:only-of-type {\n",
       "        vertical-align: middle;\n",
       "    }\n",
       "\n",
       "    .dataframe tbody tr th {\n",
       "        vertical-align: top;\n",
       "    }\n",
       "\n",
       "    .dataframe thead th {\n",
       "        text-align: right;\n",
       "    }\n",
       "</style>\n",
       "<table border=\"1\" class=\"dataframe\">\n",
       "  <thead>\n",
       "    <tr style=\"text-align: right;\">\n",
       "      <th></th>\n",
       "      <th>t_id</th>\n",
       "      <th>cuantia</th>\n",
       "    </tr>\n",
       "  </thead>\n",
       "  <tbody>\n",
       "    <tr>\n",
       "      <th>0</th>\n",
       "      <td>0</td>\n",
       "      <td>9839.64</td>\n",
       "    </tr>\n",
       "    <tr>\n",
       "      <th>1</th>\n",
       "      <td>1</td>\n",
       "      <td>1864.28</td>\n",
       "    </tr>\n",
       "    <tr>\n",
       "      <th>2</th>\n",
       "      <td>2</td>\n",
       "      <td>181.00</td>\n",
       "    </tr>\n",
       "    <tr>\n",
       "      <th>3</th>\n",
       "      <td>3</td>\n",
       "      <td>181.00</td>\n",
       "    </tr>\n",
       "    <tr>\n",
       "      <th>4</th>\n",
       "      <td>4</td>\n",
       "      <td>11668.14</td>\n",
       "    </tr>\n",
       "  </tbody>\n",
       "</table>\n",
       "</div>"
      ],
      "text/plain": [
       "  t_id   cuantia\n",
       "0    0   9839.64\n",
       "1    1   1864.28\n",
       "2    2    181.00\n",
       "3    3    181.00\n",
       "4    4  11668.14"
      ]
     },
     "execution_count": 13,
     "metadata": {},
     "output_type": "execute_result"
    }
   ],
   "source": [
    "df_cuantia.head(5)"
   ]
  },
  {
   "cell_type": "code",
   "execution_count": 14,
   "id": "61a48f0e",
   "metadata": {},
   "outputs": [],
   "source": [
    "df_cuantia.to_csv('df_cuantia.csv', index = False)"
   ]
  },
  {
   "cell_type": "code",
   "execution_count": 15,
   "id": "9143f97f",
   "metadata": {},
   "outputs": [],
   "source": [
    "df_clientes.to_csv('df_clientes.csv', index = False)"
   ]
  }
 ],
 "metadata": {
  "kernelspec": {
   "display_name": "Python 3 (ipykernel)",
   "language": "python",
   "name": "python3"
  },
  "language_info": {
   "codemirror_mode": {
    "name": "ipython",
    "version": 3
   },
   "file_extension": ".py",
   "mimetype": "text/x-python",
   "name": "python",
   "nbconvert_exporter": "python",
   "pygments_lexer": "ipython3",
   "version": "3.9.12"
  }
 },
 "nbformat": 4,
 "nbformat_minor": 5
}
