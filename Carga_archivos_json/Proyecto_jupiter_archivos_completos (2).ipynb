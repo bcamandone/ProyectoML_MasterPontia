{
 "cells": [
  {
   "cell_type": "markdown",
   "id": "ace667cb",
   "metadata": {},
   "source": [
    "Para poder efectuar el EDA, vamos a unir los 7 archivos trabajados en un solo archivo. "
   ]
  },
  {
   "cell_type": "code",
   "execution_count": 1,
   "id": "f3e7069b",
   "metadata": {},
   "outputs": [],
   "source": [
    "import pandas as pd\n",
    "import numpy as np\n",
    "import seaborn as sns\n",
    "import matplotlib as mpl\n",
    "import matplotlib.pyplot as plt"
   ]
  },
  {
   "cell_type": "code",
   "execution_count": 2,
   "id": "4b77a220",
   "metadata": {},
   "outputs": [],
   "source": [
    "dfbalancefinal = pd.read_csv('df_balance.csv')"
   ]
  },
  {
   "cell_type": "code",
   "execution_count": 3,
   "id": "280e41d9",
   "metadata": {},
   "outputs": [
    {
     "data": {
      "text/html": [
       "<div>\n",
       "<style scoped>\n",
       "    .dataframe tbody tr th:only-of-type {\n",
       "        vertical-align: middle;\n",
       "    }\n",
       "\n",
       "    .dataframe tbody tr th {\n",
       "        vertical-align: top;\n",
       "    }\n",
       "\n",
       "    .dataframe thead th {\n",
       "        text-align: right;\n",
       "    }\n",
       "</style>\n",
       "<table border=\"1\" class=\"dataframe\">\n",
       "  <thead>\n",
       "    <tr style=\"text-align: right;\">\n",
       "      <th></th>\n",
       "      <th>cliente_id</th>\n",
       "      <th>t_id</th>\n",
       "      <th>balance_prev</th>\n",
       "      <th>balance_post</th>\n",
       "    </tr>\n",
       "  </thead>\n",
       "  <tbody>\n",
       "    <tr>\n",
       "      <th>0</th>\n",
       "      <td>C1231006815</td>\n",
       "      <td>0</td>\n",
       "      <td>170136.0</td>\n",
       "      <td>160296.36</td>\n",
       "    </tr>\n",
       "    <tr>\n",
       "      <th>1</th>\n",
       "      <td>M1979787155</td>\n",
       "      <td>0</td>\n",
       "      <td>0.0</td>\n",
       "      <td>0.00</td>\n",
       "    </tr>\n",
       "    <tr>\n",
       "      <th>2</th>\n",
       "      <td>C1666544295</td>\n",
       "      <td>1</td>\n",
       "      <td>21249.0</td>\n",
       "      <td>19384.72</td>\n",
       "    </tr>\n",
       "  </tbody>\n",
       "</table>\n",
       "</div>"
      ],
      "text/plain": [
       "    cliente_id  t_id  balance_prev  balance_post\n",
       "0  C1231006815     0      170136.0     160296.36\n",
       "1  M1979787155     0           0.0          0.00\n",
       "2  C1666544295     1       21249.0      19384.72"
      ]
     },
     "execution_count": 3,
     "metadata": {},
     "output_type": "execute_result"
    }
   ],
   "source": [
    "dfbalancefinal.head(3)"
   ]
  },
  {
   "cell_type": "code",
   "execution_count": 4,
   "id": "95adbe80",
   "metadata": {},
   "outputs": [
    {
     "data": {
      "text/plain": [
       "(12725240, 4)"
      ]
     },
     "execution_count": 4,
     "metadata": {},
     "output_type": "execute_result"
    }
   ],
   "source": [
    "dfbalancefinal.shape"
   ]
  },
  {
   "cell_type": "code",
   "execution_count": 5,
   "id": "63893f30",
   "metadata": {},
   "outputs": [
    {
     "data": {
      "text/plain": [
       "False    12725240\n",
       "dtype: int64"
      ]
     },
     "execution_count": 5,
     "metadata": {},
     "output_type": "execute_result"
    }
   ],
   "source": [
    "dfbalancefinal.duplicated(subset=['cliente_id', 't_id']).value_counts()"
   ]
  },
  {
   "cell_type": "code",
   "execution_count": 6,
   "id": "651c05a1",
   "metadata": {},
   "outputs": [],
   "source": [
    "df_cuantia = pd.read_csv('df_cuantia.csv')"
   ]
  },
  {
   "cell_type": "code",
   "execution_count": 7,
   "id": "5d2045d6",
   "metadata": {},
   "outputs": [
    {
     "data": {
      "text/html": [
       "<div>\n",
       "<style scoped>\n",
       "    .dataframe tbody tr th:only-of-type {\n",
       "        vertical-align: middle;\n",
       "    }\n",
       "\n",
       "    .dataframe tbody tr th {\n",
       "        vertical-align: top;\n",
       "    }\n",
       "\n",
       "    .dataframe thead th {\n",
       "        text-align: right;\n",
       "    }\n",
       "</style>\n",
       "<table border=\"1\" class=\"dataframe\">\n",
       "  <thead>\n",
       "    <tr style=\"text-align: right;\">\n",
       "      <th></th>\n",
       "      <th>t_id</th>\n",
       "      <th>cuantia</th>\n",
       "    </tr>\n",
       "  </thead>\n",
       "  <tbody>\n",
       "    <tr>\n",
       "      <th>3679710</th>\n",
       "      <td>3679710</td>\n",
       "      <td>156549.75</td>\n",
       "    </tr>\n",
       "    <tr>\n",
       "      <th>2801547</th>\n",
       "      <td>2801547</td>\n",
       "      <td>265552.92</td>\n",
       "    </tr>\n",
       "    <tr>\n",
       "      <th>5777183</th>\n",
       "      <td>5777183</td>\n",
       "      <td>4338.30</td>\n",
       "    </tr>\n",
       "  </tbody>\n",
       "</table>\n",
       "</div>"
      ],
      "text/plain": [
       "            t_id    cuantia\n",
       "3679710  3679710  156549.75\n",
       "2801547  2801547  265552.92\n",
       "5777183  5777183    4338.30"
      ]
     },
     "execution_count": 7,
     "metadata": {},
     "output_type": "execute_result"
    }
   ],
   "source": [
    "df_cuantia.sample(3)"
   ]
  },
  {
   "cell_type": "code",
   "execution_count": 8,
   "id": "072be1b4",
   "metadata": {},
   "outputs": [
    {
     "data": {
      "text/plain": [
       "(6362620, 2)"
      ]
     },
     "execution_count": 8,
     "metadata": {},
     "output_type": "execute_result"
    }
   ],
   "source": [
    "df_cuantia.shape"
   ]
  },
  {
   "cell_type": "code",
   "execution_count": 9,
   "id": "21b64eb2",
   "metadata": {},
   "outputs": [
    {
     "data": {
      "text/plain": [
       "False    6362620\n",
       "dtype: int64"
      ]
     },
     "execution_count": 9,
     "metadata": {},
     "output_type": "execute_result"
    }
   ],
   "source": [
    "df_cuantia.duplicated(subset=['t_id']).value_counts()"
   ]
  },
  {
   "cell_type": "code",
   "execution_count": 10,
   "id": "eb5adffd",
   "metadata": {},
   "outputs": [],
   "source": [
    "df_clientes = pd.read_csv('df_clientes.csv')"
   ]
  },
  {
   "cell_type": "code",
   "execution_count": 11,
   "id": "f48284e4",
   "metadata": {},
   "outputs": [
    {
     "data": {
      "text/html": [
       "<div>\n",
       "<style scoped>\n",
       "    .dataframe tbody tr th:only-of-type {\n",
       "        vertical-align: middle;\n",
       "    }\n",
       "\n",
       "    .dataframe tbody tr th {\n",
       "        vertical-align: top;\n",
       "    }\n",
       "\n",
       "    .dataframe thead th {\n",
       "        text-align: right;\n",
       "    }\n",
       "</style>\n",
       "<table border=\"1\" class=\"dataframe\">\n",
       "  <thead>\n",
       "    <tr style=\"text-align: right;\">\n",
       "      <th></th>\n",
       "      <th>t_id</th>\n",
       "      <th>id_cliente_origen</th>\n",
       "      <th>id_cliente_destino</th>\n",
       "    </tr>\n",
       "  </thead>\n",
       "  <tbody>\n",
       "    <tr>\n",
       "      <th>0</th>\n",
       "      <td>0</td>\n",
       "      <td>C1231006815</td>\n",
       "      <td>M1979787155</td>\n",
       "    </tr>\n",
       "    <tr>\n",
       "      <th>1</th>\n",
       "      <td>1</td>\n",
       "      <td>C1666544295</td>\n",
       "      <td>M2044282225</td>\n",
       "    </tr>\n",
       "    <tr>\n",
       "      <th>2</th>\n",
       "      <td>2</td>\n",
       "      <td>C1305486145</td>\n",
       "      <td>C553264065</td>\n",
       "    </tr>\n",
       "  </tbody>\n",
       "</table>\n",
       "</div>"
      ],
      "text/plain": [
       "   t_id id_cliente_origen id_cliente_destino\n",
       "0     0       C1231006815        M1979787155\n",
       "1     1       C1666544295        M2044282225\n",
       "2     2       C1305486145         C553264065"
      ]
     },
     "execution_count": 11,
     "metadata": {},
     "output_type": "execute_result"
    }
   ],
   "source": [
    "df_clientes.head(3)"
   ]
  },
  {
   "cell_type": "code",
   "execution_count": 12,
   "id": "cee193a5",
   "metadata": {},
   "outputs": [
    {
     "data": {
      "text/plain": [
       "(6362620, 3)"
      ]
     },
     "execution_count": 12,
     "metadata": {},
     "output_type": "execute_result"
    }
   ],
   "source": [
    "df_clientes.shape"
   ]
  },
  {
   "cell_type": "code",
   "execution_count": 13,
   "id": "d4d5a0b2",
   "metadata": {},
   "outputs": [
    {
     "data": {
      "text/plain": [
       "False    6362620\n",
       "dtype: int64"
      ]
     },
     "execution_count": 13,
     "metadata": {},
     "output_type": "execute_result"
    }
   ],
   "source": [
    "df_clientes.duplicated(subset=['t_id']).value_counts()"
   ]
  },
  {
   "cell_type": "markdown",
   "id": "fbc0b098",
   "metadata": {},
   "source": [
    "Unión dataset balance y dataset clientes"
   ]
  },
  {
   "cell_type": "code",
   "execution_count": 14,
   "id": "bc728194",
   "metadata": {},
   "outputs": [],
   "source": [
    "clientes_origen = df_clientes[['t_id', 'id_cliente_origen']]"
   ]
  },
  {
   "cell_type": "code",
   "execution_count": 15,
   "id": "1ac28f4c",
   "metadata": {},
   "outputs": [],
   "source": [
    "clientes_origen = clientes_origen.rename(columns={'id_cliente_origen':'cliente_id'\n",
    "                                   })"
   ]
  },
  {
   "cell_type": "code",
   "execution_count": 16,
   "id": "f523d841",
   "metadata": {},
   "outputs": [],
   "source": [
    "df_balance_clientes_origen =  pd.merge(dfbalancefinal ,clientes_origen, how = 'inner', on = ('t_id', 'cliente_id'))"
   ]
  },
  {
   "cell_type": "code",
   "execution_count": 17,
   "id": "34a28c1e",
   "metadata": {},
   "outputs": [],
   "source": [
    "df_balance_clientes_origen_1 = df_balance_clientes_origen.rename(columns={'cliente_id':'id_cliente_origen','balance_prev':'balance_prev_origen','balance_post':'balance_post_origen'  })"
   ]
  },
  {
   "cell_type": "code",
   "execution_count": 18,
   "id": "4c96e385",
   "metadata": {},
   "outputs": [
    {
     "data": {
      "text/plain": [
       "(6362620, 4)"
      ]
     },
     "execution_count": 18,
     "metadata": {},
     "output_type": "execute_result"
    }
   ],
   "source": [
    "df_balance_clientes_origen_1.shape"
   ]
  },
  {
   "cell_type": "code",
   "execution_count": 19,
   "id": "c03577a0",
   "metadata": {},
   "outputs": [
    {
     "data": {
      "text/html": [
       "<div>\n",
       "<style scoped>\n",
       "    .dataframe tbody tr th:only-of-type {\n",
       "        vertical-align: middle;\n",
       "    }\n",
       "\n",
       "    .dataframe tbody tr th {\n",
       "        vertical-align: top;\n",
       "    }\n",
       "\n",
       "    .dataframe thead th {\n",
       "        text-align: right;\n",
       "    }\n",
       "</style>\n",
       "<table border=\"1\" class=\"dataframe\">\n",
       "  <thead>\n",
       "    <tr style=\"text-align: right;\">\n",
       "      <th></th>\n",
       "      <th>id_cliente_origen</th>\n",
       "      <th>t_id</th>\n",
       "      <th>balance_prev_origen</th>\n",
       "      <th>balance_post_origen</th>\n",
       "    </tr>\n",
       "  </thead>\n",
       "  <tbody>\n",
       "    <tr>\n",
       "      <th>0</th>\n",
       "      <td>C1231006815</td>\n",
       "      <td>0</td>\n",
       "      <td>170136.0</td>\n",
       "      <td>160296.36</td>\n",
       "    </tr>\n",
       "    <tr>\n",
       "      <th>1</th>\n",
       "      <td>C1666544295</td>\n",
       "      <td>1</td>\n",
       "      <td>21249.0</td>\n",
       "      <td>19384.72</td>\n",
       "    </tr>\n",
       "    <tr>\n",
       "      <th>2</th>\n",
       "      <td>C1305486145</td>\n",
       "      <td>2</td>\n",
       "      <td>181.0</td>\n",
       "      <td>0.00</td>\n",
       "    </tr>\n",
       "    <tr>\n",
       "      <th>3</th>\n",
       "      <td>C840083671</td>\n",
       "      <td>3</td>\n",
       "      <td>181.0</td>\n",
       "      <td>0.00</td>\n",
       "    </tr>\n",
       "    <tr>\n",
       "      <th>4</th>\n",
       "      <td>C2048537720</td>\n",
       "      <td>4</td>\n",
       "      <td>41554.0</td>\n",
       "      <td>29885.86</td>\n",
       "    </tr>\n",
       "  </tbody>\n",
       "</table>\n",
       "</div>"
      ],
      "text/plain": [
       "  id_cliente_origen  t_id  balance_prev_origen  balance_post_origen\n",
       "0       C1231006815     0             170136.0            160296.36\n",
       "1       C1666544295     1              21249.0             19384.72\n",
       "2       C1305486145     2                181.0                 0.00\n",
       "3        C840083671     3                181.0                 0.00\n",
       "4       C2048537720     4              41554.0             29885.86"
      ]
     },
     "execution_count": 19,
     "metadata": {},
     "output_type": "execute_result"
    }
   ],
   "source": [
    "df_balance_clientes_origen_1.head(5)"
   ]
  },
  {
   "cell_type": "code",
   "execution_count": 20,
   "id": "d9744aef",
   "metadata": {},
   "outputs": [
    {
     "data": {
      "text/plain": [
       "False    6362620\n",
       "dtype: int64"
      ]
     },
     "execution_count": 20,
     "metadata": {},
     "output_type": "execute_result"
    }
   ],
   "source": [
    "df_balance_clientes_origen_1.duplicated(subset=['t_id']).value_counts()"
   ]
  },
  {
   "cell_type": "code",
   "execution_count": 21,
   "id": "f78ea7b2",
   "metadata": {},
   "outputs": [],
   "source": [
    "clientes_destino = df_clientes[['t_id', 'id_cliente_destino']]"
   ]
  },
  {
   "cell_type": "code",
   "execution_count": 22,
   "id": "fa068e86",
   "metadata": {},
   "outputs": [],
   "source": [
    "clientes_destino = clientes_destino.rename(columns={'id_cliente_destino':'cliente_id'\n",
    "                                   })"
   ]
  },
  {
   "cell_type": "code",
   "execution_count": 23,
   "id": "5327bbbe",
   "metadata": {},
   "outputs": [],
   "source": [
    "df_balance_clientes_destino =  pd.merge(dfbalancefinal ,clientes_destino, how = 'inner', on = ('t_id', 'cliente_id'))"
   ]
  },
  {
   "cell_type": "code",
   "execution_count": 24,
   "id": "82a72227",
   "metadata": {},
   "outputs": [],
   "source": [
    "df_balance_clientes_destino_1 = df_balance_clientes_destino.rename(columns={'cliente_id':'id_cliente_destino','balance_prev':'balance_prev_destino','balance_post':'balance_post_destino'  })"
   ]
  },
  {
   "cell_type": "code",
   "execution_count": 25,
   "id": "d9dc6648",
   "metadata": {},
   "outputs": [
    {
     "data": {
      "text/html": [
       "<div>\n",
       "<style scoped>\n",
       "    .dataframe tbody tr th:only-of-type {\n",
       "        vertical-align: middle;\n",
       "    }\n",
       "\n",
       "    .dataframe tbody tr th {\n",
       "        vertical-align: top;\n",
       "    }\n",
       "\n",
       "    .dataframe thead th {\n",
       "        text-align: right;\n",
       "    }\n",
       "</style>\n",
       "<table border=\"1\" class=\"dataframe\">\n",
       "  <thead>\n",
       "    <tr style=\"text-align: right;\">\n",
       "      <th></th>\n",
       "      <th>id_cliente_destino</th>\n",
       "      <th>t_id</th>\n",
       "      <th>balance_prev_destino</th>\n",
       "      <th>balance_post_destino</th>\n",
       "    </tr>\n",
       "  </thead>\n",
       "  <tbody>\n",
       "    <tr>\n",
       "      <th>0</th>\n",
       "      <td>M1979787155</td>\n",
       "      <td>0</td>\n",
       "      <td>0.00</td>\n",
       "      <td>0.00</td>\n",
       "    </tr>\n",
       "    <tr>\n",
       "      <th>1</th>\n",
       "      <td>M2044282225</td>\n",
       "      <td>1</td>\n",
       "      <td>0.00</td>\n",
       "      <td>0.00</td>\n",
       "    </tr>\n",
       "    <tr>\n",
       "      <th>2</th>\n",
       "      <td>C553264065</td>\n",
       "      <td>2</td>\n",
       "      <td>0.00</td>\n",
       "      <td>0.00</td>\n",
       "    </tr>\n",
       "    <tr>\n",
       "      <th>3</th>\n",
       "      <td>C553264065</td>\n",
       "      <td>6167</td>\n",
       "      <td>0.00</td>\n",
       "      <td>109985.65</td>\n",
       "    </tr>\n",
       "    <tr>\n",
       "      <th>4</th>\n",
       "      <td>C553264065</td>\n",
       "      <td>7903</td>\n",
       "      <td>109985.65</td>\n",
       "      <td>99729.44</td>\n",
       "    </tr>\n",
       "  </tbody>\n",
       "</table>\n",
       "</div>"
      ],
      "text/plain": [
       "  id_cliente_destino  t_id  balance_prev_destino  balance_post_destino\n",
       "0        M1979787155     0                  0.00                  0.00\n",
       "1        M2044282225     1                  0.00                  0.00\n",
       "2         C553264065     2                  0.00                  0.00\n",
       "3         C553264065  6167                  0.00             109985.65\n",
       "4         C553264065  7903             109985.65              99729.44"
      ]
     },
     "execution_count": 25,
     "metadata": {},
     "output_type": "execute_result"
    }
   ],
   "source": [
    "df_balance_clientes_destino_1.head(5)"
   ]
  },
  {
   "cell_type": "code",
   "execution_count": 26,
   "id": "ce96bedf",
   "metadata": {},
   "outputs": [
    {
     "data": {
      "text/plain": [
       "False    6362620\n",
       "dtype: int64"
      ]
     },
     "execution_count": 26,
     "metadata": {},
     "output_type": "execute_result"
    }
   ],
   "source": [
    "df_balance_clientes_destino_1.duplicated(subset=['t_id']).value_counts()"
   ]
  },
  {
   "cell_type": "code",
   "execution_count": 27,
   "id": "85b3f936",
   "metadata": {},
   "outputs": [],
   "source": [
    "df_balance_clientes =  pd.merge(df_balance_clientes_origen_1,df_balance_clientes_destino_1, how = 'inner', on = ('t_id'))"
   ]
  },
  {
   "cell_type": "code",
   "execution_count": 28,
   "id": "2990055f",
   "metadata": {},
   "outputs": [
    {
     "data": {
      "text/plain": [
       "(6362620, 7)"
      ]
     },
     "execution_count": 28,
     "metadata": {},
     "output_type": "execute_result"
    }
   ],
   "source": [
    "df_balance_clientes.shape"
   ]
  },
  {
   "cell_type": "code",
   "execution_count": 29,
   "id": "d3705a4d",
   "metadata": {},
   "outputs": [
    {
     "data": {
      "text/plain": [
       "False    6362620\n",
       "dtype: int64"
      ]
     },
     "execution_count": 29,
     "metadata": {},
     "output_type": "execute_result"
    }
   ],
   "source": [
    "df_balance_clientes.duplicated(subset=['t_id']).value_counts()"
   ]
  },
  {
   "cell_type": "code",
   "execution_count": 30,
   "id": "c38e1a06",
   "metadata": {},
   "outputs": [
    {
     "data": {
      "text/html": [
       "<div>\n",
       "<style scoped>\n",
       "    .dataframe tbody tr th:only-of-type {\n",
       "        vertical-align: middle;\n",
       "    }\n",
       "\n",
       "    .dataframe tbody tr th {\n",
       "        vertical-align: top;\n",
       "    }\n",
       "\n",
       "    .dataframe thead th {\n",
       "        text-align: right;\n",
       "    }\n",
       "</style>\n",
       "<table border=\"1\" class=\"dataframe\">\n",
       "  <thead>\n",
       "    <tr style=\"text-align: right;\">\n",
       "      <th></th>\n",
       "      <th>id_cliente_origen</th>\n",
       "      <th>t_id</th>\n",
       "      <th>balance_prev_origen</th>\n",
       "      <th>balance_post_origen</th>\n",
       "      <th>id_cliente_destino</th>\n",
       "      <th>balance_prev_destino</th>\n",
       "      <th>balance_post_destino</th>\n",
       "    </tr>\n",
       "  </thead>\n",
       "  <tbody>\n",
       "    <tr>\n",
       "      <th>0</th>\n",
       "      <td>C1231006815</td>\n",
       "      <td>0</td>\n",
       "      <td>170136.00</td>\n",
       "      <td>160296.36</td>\n",
       "      <td>M1979787155</td>\n",
       "      <td>0.0</td>\n",
       "      <td>0.00</td>\n",
       "    </tr>\n",
       "    <tr>\n",
       "      <th>1</th>\n",
       "      <td>C1666544295</td>\n",
       "      <td>1</td>\n",
       "      <td>21249.00</td>\n",
       "      <td>19384.72</td>\n",
       "      <td>M2044282225</td>\n",
       "      <td>0.0</td>\n",
       "      <td>0.00</td>\n",
       "    </tr>\n",
       "    <tr>\n",
       "      <th>2</th>\n",
       "      <td>C1305486145</td>\n",
       "      <td>2</td>\n",
       "      <td>181.00</td>\n",
       "      <td>0.00</td>\n",
       "      <td>C553264065</td>\n",
       "      <td>0.0</td>\n",
       "      <td>0.00</td>\n",
       "    </tr>\n",
       "    <tr>\n",
       "      <th>3</th>\n",
       "      <td>C840083671</td>\n",
       "      <td>3</td>\n",
       "      <td>181.00</td>\n",
       "      <td>0.00</td>\n",
       "      <td>C38997010</td>\n",
       "      <td>21182.0</td>\n",
       "      <td>0.00</td>\n",
       "    </tr>\n",
       "    <tr>\n",
       "      <th>4</th>\n",
       "      <td>C2048537720</td>\n",
       "      <td>4</td>\n",
       "      <td>41554.00</td>\n",
       "      <td>29885.86</td>\n",
       "      <td>M1230701703</td>\n",
       "      <td>0.0</td>\n",
       "      <td>0.00</td>\n",
       "    </tr>\n",
       "    <tr>\n",
       "      <th>5</th>\n",
       "      <td>C90045638</td>\n",
       "      <td>5</td>\n",
       "      <td>53860.00</td>\n",
       "      <td>46042.29</td>\n",
       "      <td>M573487274</td>\n",
       "      <td>0.0</td>\n",
       "      <td>0.00</td>\n",
       "    </tr>\n",
       "    <tr>\n",
       "      <th>6</th>\n",
       "      <td>C154988899</td>\n",
       "      <td>6</td>\n",
       "      <td>183195.00</td>\n",
       "      <td>176087.23</td>\n",
       "      <td>M408069119</td>\n",
       "      <td>0.0</td>\n",
       "      <td>0.00</td>\n",
       "    </tr>\n",
       "    <tr>\n",
       "      <th>7</th>\n",
       "      <td>C1912850431</td>\n",
       "      <td>7</td>\n",
       "      <td>176087.23</td>\n",
       "      <td>168225.59</td>\n",
       "      <td>M633326333</td>\n",
       "      <td>0.0</td>\n",
       "      <td>0.00</td>\n",
       "    </tr>\n",
       "    <tr>\n",
       "      <th>8</th>\n",
       "      <td>C1265012928</td>\n",
       "      <td>8</td>\n",
       "      <td>2671.00</td>\n",
       "      <td>0.00</td>\n",
       "      <td>M1176932104</td>\n",
       "      <td>0.0</td>\n",
       "      <td>0.00</td>\n",
       "    </tr>\n",
       "    <tr>\n",
       "      <th>9</th>\n",
       "      <td>C712410124</td>\n",
       "      <td>9</td>\n",
       "      <td>41720.00</td>\n",
       "      <td>36382.23</td>\n",
       "      <td>C195600860</td>\n",
       "      <td>41898.0</td>\n",
       "      <td>40348.79</td>\n",
       "    </tr>\n",
       "  </tbody>\n",
       "</table>\n",
       "</div>"
      ],
      "text/plain": [
       "  id_cliente_origen  t_id  balance_prev_origen  balance_post_origen  \\\n",
       "0       C1231006815     0            170136.00            160296.36   \n",
       "1       C1666544295     1             21249.00             19384.72   \n",
       "2       C1305486145     2               181.00                 0.00   \n",
       "3        C840083671     3               181.00                 0.00   \n",
       "4       C2048537720     4             41554.00             29885.86   \n",
       "5         C90045638     5             53860.00             46042.29   \n",
       "6        C154988899     6            183195.00            176087.23   \n",
       "7       C1912850431     7            176087.23            168225.59   \n",
       "8       C1265012928     8              2671.00                 0.00   \n",
       "9        C712410124     9             41720.00             36382.23   \n",
       "\n",
       "  id_cliente_destino  balance_prev_destino  balance_post_destino  \n",
       "0        M1979787155                   0.0                  0.00  \n",
       "1        M2044282225                   0.0                  0.00  \n",
       "2         C553264065                   0.0                  0.00  \n",
       "3          C38997010               21182.0                  0.00  \n",
       "4        M1230701703                   0.0                  0.00  \n",
       "5         M573487274                   0.0                  0.00  \n",
       "6         M408069119                   0.0                  0.00  \n",
       "7         M633326333                   0.0                  0.00  \n",
       "8        M1176932104                   0.0                  0.00  \n",
       "9         C195600860               41898.0              40348.79  "
      ]
     },
     "execution_count": 30,
     "metadata": {},
     "output_type": "execute_result"
    }
   ],
   "source": [
    "df_balance_clientes.head(10)"
   ]
  },
  {
   "cell_type": "code",
   "execution_count": 31,
   "id": "1063cd5e",
   "metadata": {},
   "outputs": [],
   "source": [
    "df_balance_clientes_1 = df_balance_clientes[['t_id','id_cliente_origen','balance_prev_origen','balance_post_origen',\n",
    "                                             'id_cliente_destino','balance_prev_destino','balance_post_destino']]"
   ]
  },
  {
   "cell_type": "markdown",
   "id": "4792e505",
   "metadata": {},
   "source": [
    "Unimos el dataset que ahora tiene el balance de origen y destino con su transacción, con la cuantía de la transacción"
   ]
  },
  {
   "cell_type": "code",
   "execution_count": 32,
   "id": "720bbc32",
   "metadata": {},
   "outputs": [],
   "source": [
    "df_balance_clientes_cuantia =  pd.merge(df_balance_clientes_1 ,df_cuantia, how = 'inner', on = ('t_id'))"
   ]
  },
  {
   "cell_type": "code",
   "execution_count": 33,
   "id": "af3d7a86",
   "metadata": {},
   "outputs": [
    {
     "data": {
      "text/html": [
       "<div>\n",
       "<style scoped>\n",
       "    .dataframe tbody tr th:only-of-type {\n",
       "        vertical-align: middle;\n",
       "    }\n",
       "\n",
       "    .dataframe tbody tr th {\n",
       "        vertical-align: top;\n",
       "    }\n",
       "\n",
       "    .dataframe thead th {\n",
       "        text-align: right;\n",
       "    }\n",
       "</style>\n",
       "<table border=\"1\" class=\"dataframe\">\n",
       "  <thead>\n",
       "    <tr style=\"text-align: right;\">\n",
       "      <th></th>\n",
       "      <th>t_id</th>\n",
       "      <th>id_cliente_origen</th>\n",
       "      <th>balance_prev_origen</th>\n",
       "      <th>balance_post_origen</th>\n",
       "      <th>id_cliente_destino</th>\n",
       "      <th>balance_prev_destino</th>\n",
       "      <th>balance_post_destino</th>\n",
       "      <th>cuantia</th>\n",
       "    </tr>\n",
       "  </thead>\n",
       "  <tbody>\n",
       "    <tr>\n",
       "      <th>0</th>\n",
       "      <td>0</td>\n",
       "      <td>C1231006815</td>\n",
       "      <td>170136.00</td>\n",
       "      <td>160296.36</td>\n",
       "      <td>M1979787155</td>\n",
       "      <td>0.0</td>\n",
       "      <td>0.00</td>\n",
       "      <td>9839.64</td>\n",
       "    </tr>\n",
       "    <tr>\n",
       "      <th>1</th>\n",
       "      <td>1</td>\n",
       "      <td>C1666544295</td>\n",
       "      <td>21249.00</td>\n",
       "      <td>19384.72</td>\n",
       "      <td>M2044282225</td>\n",
       "      <td>0.0</td>\n",
       "      <td>0.00</td>\n",
       "      <td>1864.28</td>\n",
       "    </tr>\n",
       "    <tr>\n",
       "      <th>2</th>\n",
       "      <td>2</td>\n",
       "      <td>C1305486145</td>\n",
       "      <td>181.00</td>\n",
       "      <td>0.00</td>\n",
       "      <td>C553264065</td>\n",
       "      <td>0.0</td>\n",
       "      <td>0.00</td>\n",
       "      <td>181.00</td>\n",
       "    </tr>\n",
       "    <tr>\n",
       "      <th>3</th>\n",
       "      <td>3</td>\n",
       "      <td>C840083671</td>\n",
       "      <td>181.00</td>\n",
       "      <td>0.00</td>\n",
       "      <td>C38997010</td>\n",
       "      <td>21182.0</td>\n",
       "      <td>0.00</td>\n",
       "      <td>181.00</td>\n",
       "    </tr>\n",
       "    <tr>\n",
       "      <th>4</th>\n",
       "      <td>4</td>\n",
       "      <td>C2048537720</td>\n",
       "      <td>41554.00</td>\n",
       "      <td>29885.86</td>\n",
       "      <td>M1230701703</td>\n",
       "      <td>0.0</td>\n",
       "      <td>0.00</td>\n",
       "      <td>11668.14</td>\n",
       "    </tr>\n",
       "    <tr>\n",
       "      <th>5</th>\n",
       "      <td>5</td>\n",
       "      <td>C90045638</td>\n",
       "      <td>53860.00</td>\n",
       "      <td>46042.29</td>\n",
       "      <td>M573487274</td>\n",
       "      <td>0.0</td>\n",
       "      <td>0.00</td>\n",
       "      <td>7817.71</td>\n",
       "    </tr>\n",
       "    <tr>\n",
       "      <th>6</th>\n",
       "      <td>6</td>\n",
       "      <td>C154988899</td>\n",
       "      <td>183195.00</td>\n",
       "      <td>176087.23</td>\n",
       "      <td>M408069119</td>\n",
       "      <td>0.0</td>\n",
       "      <td>0.00</td>\n",
       "      <td>7107.77</td>\n",
       "    </tr>\n",
       "    <tr>\n",
       "      <th>7</th>\n",
       "      <td>7</td>\n",
       "      <td>C1912850431</td>\n",
       "      <td>176087.23</td>\n",
       "      <td>168225.59</td>\n",
       "      <td>M633326333</td>\n",
       "      <td>0.0</td>\n",
       "      <td>0.00</td>\n",
       "      <td>7861.64</td>\n",
       "    </tr>\n",
       "    <tr>\n",
       "      <th>8</th>\n",
       "      <td>8</td>\n",
       "      <td>C1265012928</td>\n",
       "      <td>2671.00</td>\n",
       "      <td>0.00</td>\n",
       "      <td>M1176932104</td>\n",
       "      <td>0.0</td>\n",
       "      <td>0.00</td>\n",
       "      <td>4024.36</td>\n",
       "    </tr>\n",
       "    <tr>\n",
       "      <th>9</th>\n",
       "      <td>9</td>\n",
       "      <td>C712410124</td>\n",
       "      <td>41720.00</td>\n",
       "      <td>36382.23</td>\n",
       "      <td>C195600860</td>\n",
       "      <td>41898.0</td>\n",
       "      <td>40348.79</td>\n",
       "      <td>5337.77</td>\n",
       "    </tr>\n",
       "  </tbody>\n",
       "</table>\n",
       "</div>"
      ],
      "text/plain": [
       "   t_id id_cliente_origen  balance_prev_origen  balance_post_origen  \\\n",
       "0     0       C1231006815            170136.00            160296.36   \n",
       "1     1       C1666544295             21249.00             19384.72   \n",
       "2     2       C1305486145               181.00                 0.00   \n",
       "3     3        C840083671               181.00                 0.00   \n",
       "4     4       C2048537720             41554.00             29885.86   \n",
       "5     5         C90045638             53860.00             46042.29   \n",
       "6     6        C154988899            183195.00            176087.23   \n",
       "7     7       C1912850431            176087.23            168225.59   \n",
       "8     8       C1265012928              2671.00                 0.00   \n",
       "9     9        C712410124             41720.00             36382.23   \n",
       "\n",
       "  id_cliente_destino  balance_prev_destino  balance_post_destino   cuantia  \n",
       "0        M1979787155                   0.0                  0.00   9839.64  \n",
       "1        M2044282225                   0.0                  0.00   1864.28  \n",
       "2         C553264065                   0.0                  0.00    181.00  \n",
       "3          C38997010               21182.0                  0.00    181.00  \n",
       "4        M1230701703                   0.0                  0.00  11668.14  \n",
       "5         M573487274                   0.0                  0.00   7817.71  \n",
       "6         M408069119                   0.0                  0.00   7107.77  \n",
       "7         M633326333                   0.0                  0.00   7861.64  \n",
       "8        M1176932104                   0.0                  0.00   4024.36  \n",
       "9         C195600860               41898.0              40348.79   5337.77  "
      ]
     },
     "execution_count": 33,
     "metadata": {},
     "output_type": "execute_result"
    }
   ],
   "source": [
    "df_balance_clientes_cuantia.head(10)"
   ]
  },
  {
   "cell_type": "code",
   "execution_count": 34,
   "id": "b6e436c9",
   "metadata": {},
   "outputs": [
    {
     "data": {
      "text/plain": [
       "(6362620, 8)"
      ]
     },
     "execution_count": 34,
     "metadata": {},
     "output_type": "execute_result"
    }
   ],
   "source": [
    "df_balance_clientes_cuantia.shape"
   ]
  },
  {
   "cell_type": "markdown",
   "id": "b62e096d",
   "metadata": {},
   "source": [
    "Cargamos el dataset tipo y unimos con el dataset que tiene los datos del balance y de la cuantía"
   ]
  },
  {
   "cell_type": "code",
   "execution_count": 35,
   "id": "789b0e8f",
   "metadata": {},
   "outputs": [],
   "source": [
    "df_tipo = pd.read_csv('df_tipo.csv')"
   ]
  },
  {
   "cell_type": "code",
   "execution_count": 36,
   "id": "79c7b73a",
   "metadata": {},
   "outputs": [
    {
     "data": {
      "text/plain": [
       "(6362620, 2)"
      ]
     },
     "execution_count": 36,
     "metadata": {},
     "output_type": "execute_result"
    }
   ],
   "source": [
    "df_tipo.shape"
   ]
  },
  {
   "cell_type": "code",
   "execution_count": 37,
   "id": "194d800c",
   "metadata": {},
   "outputs": [],
   "source": [
    "df_balance_tipo =  pd.merge(df_balance_clientes_cuantia ,df_tipo, how = 'inner', on = ('t_id'))"
   ]
  },
  {
   "cell_type": "code",
   "execution_count": 38,
   "id": "43bd52f4",
   "metadata": {},
   "outputs": [
    {
     "data": {
      "text/plain": [
       "(6362620, 9)"
      ]
     },
     "execution_count": 38,
     "metadata": {},
     "output_type": "execute_result"
    }
   ],
   "source": [
    "df_balance_tipo.shape"
   ]
  },
  {
   "cell_type": "code",
   "execution_count": 39,
   "id": "6ae2d696",
   "metadata": {},
   "outputs": [
    {
     "data": {
      "text/html": [
       "<div>\n",
       "<style scoped>\n",
       "    .dataframe tbody tr th:only-of-type {\n",
       "        vertical-align: middle;\n",
       "    }\n",
       "\n",
       "    .dataframe tbody tr th {\n",
       "        vertical-align: top;\n",
       "    }\n",
       "\n",
       "    .dataframe thead th {\n",
       "        text-align: right;\n",
       "    }\n",
       "</style>\n",
       "<table border=\"1\" class=\"dataframe\">\n",
       "  <thead>\n",
       "    <tr style=\"text-align: right;\">\n",
       "      <th></th>\n",
       "      <th>t_id</th>\n",
       "      <th>id_cliente_origen</th>\n",
       "      <th>balance_prev_origen</th>\n",
       "      <th>balance_post_origen</th>\n",
       "      <th>id_cliente_destino</th>\n",
       "      <th>balance_prev_destino</th>\n",
       "      <th>balance_post_destino</th>\n",
       "      <th>cuantia</th>\n",
       "      <th>tipo</th>\n",
       "    </tr>\n",
       "  </thead>\n",
       "  <tbody>\n",
       "    <tr>\n",
       "      <th>0</th>\n",
       "      <td>0</td>\n",
       "      <td>C1231006815</td>\n",
       "      <td>170136.0</td>\n",
       "      <td>160296.36</td>\n",
       "      <td>M1979787155</td>\n",
       "      <td>0.0</td>\n",
       "      <td>0.0</td>\n",
       "      <td>9839.64</td>\n",
       "      <td>PAYMENT</td>\n",
       "    </tr>\n",
       "    <tr>\n",
       "      <th>1</th>\n",
       "      <td>1</td>\n",
       "      <td>C1666544295</td>\n",
       "      <td>21249.0</td>\n",
       "      <td>19384.72</td>\n",
       "      <td>M2044282225</td>\n",
       "      <td>0.0</td>\n",
       "      <td>0.0</td>\n",
       "      <td>1864.28</td>\n",
       "      <td>PAYMENT</td>\n",
       "    </tr>\n",
       "    <tr>\n",
       "      <th>2</th>\n",
       "      <td>2</td>\n",
       "      <td>C1305486145</td>\n",
       "      <td>181.0</td>\n",
       "      <td>0.00</td>\n",
       "      <td>C553264065</td>\n",
       "      <td>0.0</td>\n",
       "      <td>0.0</td>\n",
       "      <td>181.00</td>\n",
       "      <td>TRANSFER</td>\n",
       "    </tr>\n",
       "    <tr>\n",
       "      <th>3</th>\n",
       "      <td>3</td>\n",
       "      <td>C840083671</td>\n",
       "      <td>181.0</td>\n",
       "      <td>0.00</td>\n",
       "      <td>C38997010</td>\n",
       "      <td>21182.0</td>\n",
       "      <td>0.0</td>\n",
       "      <td>181.00</td>\n",
       "      <td>CASH_OUT</td>\n",
       "    </tr>\n",
       "    <tr>\n",
       "      <th>4</th>\n",
       "      <td>4</td>\n",
       "      <td>C2048537720</td>\n",
       "      <td>41554.0</td>\n",
       "      <td>29885.86</td>\n",
       "      <td>M1230701703</td>\n",
       "      <td>0.0</td>\n",
       "      <td>0.0</td>\n",
       "      <td>11668.14</td>\n",
       "      <td>PAYMENT</td>\n",
       "    </tr>\n",
       "  </tbody>\n",
       "</table>\n",
       "</div>"
      ],
      "text/plain": [
       "   t_id id_cliente_origen  balance_prev_origen  balance_post_origen  \\\n",
       "0     0       C1231006815             170136.0            160296.36   \n",
       "1     1       C1666544295              21249.0             19384.72   \n",
       "2     2       C1305486145                181.0                 0.00   \n",
       "3     3        C840083671                181.0                 0.00   \n",
       "4     4       C2048537720              41554.0             29885.86   \n",
       "\n",
       "  id_cliente_destino  balance_prev_destino  balance_post_destino   cuantia  \\\n",
       "0        M1979787155                   0.0                   0.0   9839.64   \n",
       "1        M2044282225                   0.0                   0.0   1864.28   \n",
       "2         C553264065                   0.0                   0.0    181.00   \n",
       "3          C38997010               21182.0                   0.0    181.00   \n",
       "4        M1230701703                   0.0                   0.0  11668.14   \n",
       "\n",
       "       tipo  \n",
       "0   PAYMENT  \n",
       "1   PAYMENT  \n",
       "2  TRANSFER  \n",
       "3  CASH_OUT  \n",
       "4   PAYMENT  "
      ]
     },
     "execution_count": 39,
     "metadata": {},
     "output_type": "execute_result"
    }
   ],
   "source": [
    "df_balance_tipo.head(5)"
   ]
  },
  {
   "cell_type": "markdown",
   "id": "9a68c16c",
   "metadata": {},
   "source": [
    "Cargamos el dataset tiempo y unimos con el dataset que tiene los datos del balance, de la cuantía de la trancción y su tipo"
   ]
  },
  {
   "cell_type": "code",
   "execution_count": 40,
   "id": "1b3b1c61",
   "metadata": {},
   "outputs": [],
   "source": [
    "df_tiempo = pd.read_csv('df_tiempo.csv')"
   ]
  },
  {
   "cell_type": "code",
   "execution_count": 41,
   "id": "c1fdfd1e",
   "metadata": {},
   "outputs": [
    {
     "data": {
      "text/plain": [
       "(6362620, 2)"
      ]
     },
     "execution_count": 41,
     "metadata": {},
     "output_type": "execute_result"
    }
   ],
   "source": [
    "df_tiempo.shape"
   ]
  },
  {
   "cell_type": "code",
   "execution_count": 42,
   "id": "3ae729ca",
   "metadata": {},
   "outputs": [],
   "source": [
    "df_balance_tiempo =  pd.merge(df_balance_tipo ,df_tiempo, how = 'inner', on = ('t_id'))"
   ]
  },
  {
   "cell_type": "code",
   "execution_count": 43,
   "id": "3b764992",
   "metadata": {},
   "outputs": [
    {
     "data": {
      "text/plain": [
       "(6362620, 10)"
      ]
     },
     "execution_count": 43,
     "metadata": {},
     "output_type": "execute_result"
    }
   ],
   "source": [
    "df_balance_tiempo.shape"
   ]
  },
  {
   "cell_type": "code",
   "execution_count": 44,
   "id": "8ed636a2",
   "metadata": {},
   "outputs": [
    {
     "data": {
      "text/html": [
       "<div>\n",
       "<style scoped>\n",
       "    .dataframe tbody tr th:only-of-type {\n",
       "        vertical-align: middle;\n",
       "    }\n",
       "\n",
       "    .dataframe tbody tr th {\n",
       "        vertical-align: top;\n",
       "    }\n",
       "\n",
       "    .dataframe thead th {\n",
       "        text-align: right;\n",
       "    }\n",
       "</style>\n",
       "<table border=\"1\" class=\"dataframe\">\n",
       "  <thead>\n",
       "    <tr style=\"text-align: right;\">\n",
       "      <th></th>\n",
       "      <th>t_id</th>\n",
       "      <th>id_cliente_origen</th>\n",
       "      <th>balance_prev_origen</th>\n",
       "      <th>balance_post_origen</th>\n",
       "      <th>id_cliente_destino</th>\n",
       "      <th>balance_prev_destino</th>\n",
       "      <th>balance_post_destino</th>\n",
       "      <th>cuantia</th>\n",
       "      <th>tipo</th>\n",
       "      <th>fecha_final</th>\n",
       "    </tr>\n",
       "  </thead>\n",
       "  <tbody>\n",
       "    <tr>\n",
       "      <th>0</th>\n",
       "      <td>0</td>\n",
       "      <td>C1231006815</td>\n",
       "      <td>170136.0</td>\n",
       "      <td>160296.36</td>\n",
       "      <td>M1979787155</td>\n",
       "      <td>0.0</td>\n",
       "      <td>0.0</td>\n",
       "      <td>9839.64</td>\n",
       "      <td>PAYMENT</td>\n",
       "      <td>2022-09-01 08:00:00</td>\n",
       "    </tr>\n",
       "    <tr>\n",
       "      <th>1</th>\n",
       "      <td>1</td>\n",
       "      <td>C1666544295</td>\n",
       "      <td>21249.0</td>\n",
       "      <td>19384.72</td>\n",
       "      <td>M2044282225</td>\n",
       "      <td>0.0</td>\n",
       "      <td>0.0</td>\n",
       "      <td>1864.28</td>\n",
       "      <td>PAYMENT</td>\n",
       "      <td>2022-09-01 08:00:00</td>\n",
       "    </tr>\n",
       "    <tr>\n",
       "      <th>2</th>\n",
       "      <td>2</td>\n",
       "      <td>C1305486145</td>\n",
       "      <td>181.0</td>\n",
       "      <td>0.00</td>\n",
       "      <td>C553264065</td>\n",
       "      <td>0.0</td>\n",
       "      <td>0.0</td>\n",
       "      <td>181.00</td>\n",
       "      <td>TRANSFER</td>\n",
       "      <td>2022-09-01 08:00:00</td>\n",
       "    </tr>\n",
       "    <tr>\n",
       "      <th>3</th>\n",
       "      <td>3</td>\n",
       "      <td>C840083671</td>\n",
       "      <td>181.0</td>\n",
       "      <td>0.00</td>\n",
       "      <td>C38997010</td>\n",
       "      <td>21182.0</td>\n",
       "      <td>0.0</td>\n",
       "      <td>181.00</td>\n",
       "      <td>CASH_OUT</td>\n",
       "      <td>2022-09-01 08:00:00</td>\n",
       "    </tr>\n",
       "    <tr>\n",
       "      <th>4</th>\n",
       "      <td>4</td>\n",
       "      <td>C2048537720</td>\n",
       "      <td>41554.0</td>\n",
       "      <td>29885.86</td>\n",
       "      <td>M1230701703</td>\n",
       "      <td>0.0</td>\n",
       "      <td>0.0</td>\n",
       "      <td>11668.14</td>\n",
       "      <td>PAYMENT</td>\n",
       "      <td>2022-09-01 08:00:00</td>\n",
       "    </tr>\n",
       "  </tbody>\n",
       "</table>\n",
       "</div>"
      ],
      "text/plain": [
       "   t_id id_cliente_origen  balance_prev_origen  balance_post_origen  \\\n",
       "0     0       C1231006815             170136.0            160296.36   \n",
       "1     1       C1666544295              21249.0             19384.72   \n",
       "2     2       C1305486145                181.0                 0.00   \n",
       "3     3        C840083671                181.0                 0.00   \n",
       "4     4       C2048537720              41554.0             29885.86   \n",
       "\n",
       "  id_cliente_destino  balance_prev_destino  balance_post_destino   cuantia  \\\n",
       "0        M1979787155                   0.0                   0.0   9839.64   \n",
       "1        M2044282225                   0.0                   0.0   1864.28   \n",
       "2         C553264065                   0.0                   0.0    181.00   \n",
       "3          C38997010               21182.0                   0.0    181.00   \n",
       "4        M1230701703                   0.0                   0.0  11668.14   \n",
       "\n",
       "       tipo          fecha_final  \n",
       "0   PAYMENT  2022-09-01 08:00:00  \n",
       "1   PAYMENT  2022-09-01 08:00:00  \n",
       "2  TRANSFER  2022-09-01 08:00:00  \n",
       "3  CASH_OUT  2022-09-01 08:00:00  \n",
       "4   PAYMENT  2022-09-01 08:00:00  "
      ]
     },
     "execution_count": 44,
     "metadata": {},
     "output_type": "execute_result"
    }
   ],
   "source": [
    "df_balance_tiempo.head(5)"
   ]
  },
  {
   "cell_type": "markdown",
   "id": "891aa8bf",
   "metadata": {},
   "source": [
    "Cargamos el dataset alarma_fraude y unimos con el dataset que tiene los datos del balance, de la cuantía de la trancción,\n",
    "su tipo y tiempo."
   ]
  },
  {
   "cell_type": "code",
   "execution_count": 45,
   "id": "b0e57e99",
   "metadata": {},
   "outputs": [],
   "source": [
    "df_alarma = pd.read_csv('df_alarma_fraude.csv')"
   ]
  },
  {
   "cell_type": "code",
   "execution_count": 46,
   "id": "37f4ca59",
   "metadata": {},
   "outputs": [
    {
     "data": {
      "text/plain": [
       "(16, 2)"
      ]
     },
     "execution_count": 46,
     "metadata": {},
     "output_type": "execute_result"
    }
   ],
   "source": [
    "df_alarma.shape"
   ]
  },
  {
   "cell_type": "code",
   "execution_count": 47,
   "id": "55418d4d",
   "metadata": {},
   "outputs": [
    {
     "data": {
      "text/html": [
       "<div>\n",
       "<style scoped>\n",
       "    .dataframe tbody tr th:only-of-type {\n",
       "        vertical-align: middle;\n",
       "    }\n",
       "\n",
       "    .dataframe tbody tr th {\n",
       "        vertical-align: top;\n",
       "    }\n",
       "\n",
       "    .dataframe thead th {\n",
       "        text-align: right;\n",
       "    }\n",
       "</style>\n",
       "<table border=\"1\" class=\"dataframe\">\n",
       "  <thead>\n",
       "    <tr style=\"text-align: right;\">\n",
       "      <th></th>\n",
       "      <th>t_id</th>\n",
       "      <th>mensaje_alarma</th>\n",
       "    </tr>\n",
       "  </thead>\n",
       "  <tbody>\n",
       "    <tr>\n",
       "      <th>0</th>\n",
       "      <td>2736446</td>\n",
       "      <td>Detectado_fraude</td>\n",
       "    </tr>\n",
       "    <tr>\n",
       "      <th>1</th>\n",
       "      <td>3247297</td>\n",
       "      <td>Detectado_fraude</td>\n",
       "    </tr>\n",
       "    <tr>\n",
       "      <th>2</th>\n",
       "      <td>3760288</td>\n",
       "      <td>Detectado_fraude</td>\n",
       "    </tr>\n",
       "    <tr>\n",
       "      <th>3</th>\n",
       "      <td>5563713</td>\n",
       "      <td>Detectado_fraude</td>\n",
       "    </tr>\n",
       "    <tr>\n",
       "      <th>4</th>\n",
       "      <td>5996407</td>\n",
       "      <td>Detectado_fraude</td>\n",
       "    </tr>\n",
       "  </tbody>\n",
       "</table>\n",
       "</div>"
      ],
      "text/plain": [
       "      t_id    mensaje_alarma\n",
       "0  2736446  Detectado_fraude\n",
       "1  3247297  Detectado_fraude\n",
       "2  3760288  Detectado_fraude\n",
       "3  5563713  Detectado_fraude\n",
       "4  5996407  Detectado_fraude"
      ]
     },
     "execution_count": 47,
     "metadata": {},
     "output_type": "execute_result"
    }
   ],
   "source": [
    "df_alarma.head(5)"
   ]
  },
  {
   "cell_type": "code",
   "execution_count": 48,
   "id": "5da21c84",
   "metadata": {},
   "outputs": [],
   "source": [
    "df_balance_alarma = pd.merge(df_balance_tiempo ,df_alarma, how = 'left', on = ('t_id'))"
   ]
  },
  {
   "cell_type": "code",
   "execution_count": 49,
   "id": "c8c26e70",
   "metadata": {},
   "outputs": [
    {
     "data": {
      "text/plain": [
       "(6362620, 11)"
      ]
     },
     "execution_count": 49,
     "metadata": {},
     "output_type": "execute_result"
    }
   ],
   "source": [
    "df_balance_alarma.shape"
   ]
  },
  {
   "cell_type": "code",
   "execution_count": 50,
   "id": "cd76f4d4",
   "metadata": {},
   "outputs": [
    {
     "data": {
      "text/html": [
       "<div>\n",
       "<style scoped>\n",
       "    .dataframe tbody tr th:only-of-type {\n",
       "        vertical-align: middle;\n",
       "    }\n",
       "\n",
       "    .dataframe tbody tr th {\n",
       "        vertical-align: top;\n",
       "    }\n",
       "\n",
       "    .dataframe thead th {\n",
       "        text-align: right;\n",
       "    }\n",
       "</style>\n",
       "<table border=\"1\" class=\"dataframe\">\n",
       "  <thead>\n",
       "    <tr style=\"text-align: right;\">\n",
       "      <th></th>\n",
       "      <th>t_id</th>\n",
       "      <th>id_cliente_origen</th>\n",
       "      <th>balance_prev_origen</th>\n",
       "      <th>balance_post_origen</th>\n",
       "      <th>id_cliente_destino</th>\n",
       "      <th>balance_prev_destino</th>\n",
       "      <th>balance_post_destino</th>\n",
       "      <th>cuantia</th>\n",
       "      <th>tipo</th>\n",
       "      <th>fecha_final</th>\n",
       "      <th>mensaje_alarma</th>\n",
       "    </tr>\n",
       "  </thead>\n",
       "  <tbody>\n",
       "    <tr>\n",
       "      <th>5534511</th>\n",
       "      <td>5532272</td>\n",
       "      <td>C371163578</td>\n",
       "      <td>0.00</td>\n",
       "      <td>0.00</td>\n",
       "      <td>M78093917</td>\n",
       "      <td>0.00</td>\n",
       "      <td>0.00</td>\n",
       "      <td>11554.81</td>\n",
       "      <td>PAYMENT</td>\n",
       "      <td>2022-09-17 04:00:00</td>\n",
       "      <td>NaN</td>\n",
       "    </tr>\n",
       "    <tr>\n",
       "      <th>4818958</th>\n",
       "      <td>4815281</td>\n",
       "      <td>C52467249</td>\n",
       "      <td>0.00</td>\n",
       "      <td>0.00</td>\n",
       "      <td>C1471541275</td>\n",
       "      <td>297020.39</td>\n",
       "      <td>298951.61</td>\n",
       "      <td>1931.22</td>\n",
       "      <td>CASH_OUT</td>\n",
       "      <td>2022-09-15 17:00:00</td>\n",
       "      <td>NaN</td>\n",
       "    </tr>\n",
       "    <tr>\n",
       "      <th>6221366</th>\n",
       "      <td>6220946</td>\n",
       "      <td>C1785293540</td>\n",
       "      <td>255587.26</td>\n",
       "      <td>245702.68</td>\n",
       "      <td>M1376488597</td>\n",
       "      <td>0.00</td>\n",
       "      <td>0.00</td>\n",
       "      <td>9884.59</td>\n",
       "      <td>PAYMENT</td>\n",
       "      <td>2022-09-25 21:00:00</td>\n",
       "      <td>NaN</td>\n",
       "    </tr>\n",
       "    <tr>\n",
       "      <th>5961665</th>\n",
       "      <td>5960506</td>\n",
       "      <td>C1789523267</td>\n",
       "      <td>0.00</td>\n",
       "      <td>0.00</td>\n",
       "      <td>M27056169</td>\n",
       "      <td>0.00</td>\n",
       "      <td>0.00</td>\n",
       "      <td>14456.41</td>\n",
       "      <td>PAYMENT</td>\n",
       "      <td>2022-09-18 05:00:00</td>\n",
       "      <td>NaN</td>\n",
       "    </tr>\n",
       "    <tr>\n",
       "      <th>1727599</th>\n",
       "      <td>1723462</td>\n",
       "      <td>C728864301</td>\n",
       "      <td>1355.00</td>\n",
       "      <td>0.00</td>\n",
       "      <td>M928837742</td>\n",
       "      <td>0.00</td>\n",
       "      <td>0.00</td>\n",
       "      <td>2326.71</td>\n",
       "      <td>PAYMENT</td>\n",
       "      <td>2022-09-07 23:00:00</td>\n",
       "      <td>NaN</td>\n",
       "    </tr>\n",
       "  </tbody>\n",
       "</table>\n",
       "</div>"
      ],
      "text/plain": [
       "            t_id id_cliente_origen  balance_prev_origen  balance_post_origen  \\\n",
       "5534511  5532272        C371163578                 0.00                 0.00   \n",
       "4818958  4815281         C52467249                 0.00                 0.00   \n",
       "6221366  6220946       C1785293540            255587.26            245702.68   \n",
       "5961665  5960506       C1789523267                 0.00                 0.00   \n",
       "1727599  1723462        C728864301              1355.00                 0.00   \n",
       "\n",
       "        id_cliente_destino  balance_prev_destino  balance_post_destino  \\\n",
       "5534511          M78093917                  0.00                  0.00   \n",
       "4818958        C1471541275             297020.39             298951.61   \n",
       "6221366        M1376488597                  0.00                  0.00   \n",
       "5961665          M27056169                  0.00                  0.00   \n",
       "1727599         M928837742                  0.00                  0.00   \n",
       "\n",
       "          cuantia      tipo          fecha_final mensaje_alarma  \n",
       "5534511  11554.81   PAYMENT  2022-09-17 04:00:00            NaN  \n",
       "4818958   1931.22  CASH_OUT  2022-09-15 17:00:00            NaN  \n",
       "6221366   9884.59   PAYMENT  2022-09-25 21:00:00            NaN  \n",
       "5961665  14456.41   PAYMENT  2022-09-18 05:00:00            NaN  \n",
       "1727599   2326.71   PAYMENT  2022-09-07 23:00:00            NaN  "
      ]
     },
     "execution_count": 50,
     "metadata": {},
     "output_type": "execute_result"
    }
   ],
   "source": [
    "df_balance_alarma.sample(5)"
   ]
  },
  {
   "cell_type": "markdown",
   "id": "859a9d0c",
   "metadata": {},
   "source": [
    "Chequeamos una transacción donde saltó la alarma de fraude"
   ]
  },
  {
   "cell_type": "code",
   "execution_count": 51,
   "id": "7c8b6655",
   "metadata": {},
   "outputs": [],
   "source": [
    "a = df_balance_alarma.loc[df_balance_alarma['t_id'] == 2736446]"
   ]
  },
  {
   "cell_type": "code",
   "execution_count": 52,
   "id": "71d2c821",
   "metadata": {},
   "outputs": [
    {
     "data": {
      "text/html": [
       "<div>\n",
       "<style scoped>\n",
       "    .dataframe tbody tr th:only-of-type {\n",
       "        vertical-align: middle;\n",
       "    }\n",
       "\n",
       "    .dataframe tbody tr th {\n",
       "        vertical-align: top;\n",
       "    }\n",
       "\n",
       "    .dataframe thead th {\n",
       "        text-align: right;\n",
       "    }\n",
       "</style>\n",
       "<table border=\"1\" class=\"dataframe\">\n",
       "  <thead>\n",
       "    <tr style=\"text-align: right;\">\n",
       "      <th></th>\n",
       "      <th>t_id</th>\n",
       "      <th>id_cliente_origen</th>\n",
       "      <th>balance_prev_origen</th>\n",
       "      <th>balance_post_origen</th>\n",
       "      <th>id_cliente_destino</th>\n",
       "      <th>balance_prev_destino</th>\n",
       "      <th>balance_post_destino</th>\n",
       "      <th>cuantia</th>\n",
       "      <th>tipo</th>\n",
       "      <th>fecha_final</th>\n",
       "      <th>mensaje_alarma</th>\n",
       "    </tr>\n",
       "  </thead>\n",
       "  <tbody>\n",
       "    <tr>\n",
       "      <th>2741452</th>\n",
       "      <td>2736446</td>\n",
       "      <td>C728984460</td>\n",
       "      <td>4953893.08</td>\n",
       "      <td>4953893.08</td>\n",
       "      <td>C639921569</td>\n",
       "      <td>0.0</td>\n",
       "      <td>0.0</td>\n",
       "      <td>4953893.08</td>\n",
       "      <td>TRANSFER</td>\n",
       "      <td>2022-09-10 03:00:00</td>\n",
       "      <td>Detectado_fraude</td>\n",
       "    </tr>\n",
       "  </tbody>\n",
       "</table>\n",
       "</div>"
      ],
      "text/plain": [
       "            t_id id_cliente_origen  balance_prev_origen  balance_post_origen  \\\n",
       "2741452  2736446        C728984460           4953893.08           4953893.08   \n",
       "\n",
       "        id_cliente_destino  balance_prev_destino  balance_post_destino  \\\n",
       "2741452         C639921569                   0.0                   0.0   \n",
       "\n",
       "            cuantia      tipo          fecha_final    mensaje_alarma  \n",
       "2741452  4953893.08  TRANSFER  2022-09-10 03:00:00  Detectado_fraude  "
      ]
     },
     "execution_count": 52,
     "metadata": {},
     "output_type": "execute_result"
    }
   ],
   "source": [
    "a"
   ]
  },
  {
   "cell_type": "markdown",
   "id": "5b25b823",
   "metadata": {},
   "source": [
    "Cargamos el dataset es_fraude y unimos con el dataset que tiene los datos del balance, de la cuantía de la trancción,\n",
    "su tipo, tiempo y si se detecto la alarma de fraude. "
   ]
  },
  {
   "cell_type": "code",
   "execution_count": 55,
   "id": "a1747451",
   "metadata": {},
   "outputs": [],
   "source": [
    "df_fraude = pd.read_csv('df_es_fraude.csv')"
   ]
  },
  {
   "cell_type": "code",
   "execution_count": 56,
   "id": "dcc475b8",
   "metadata": {},
   "outputs": [
    {
     "data": {
      "text/plain": [
       "(6362520, 2)"
      ]
     },
     "execution_count": 56,
     "metadata": {},
     "output_type": "execute_result"
    }
   ],
   "source": [
    "df_fraude.shape"
   ]
  },
  {
   "cell_type": "code",
   "execution_count": 57,
   "id": "afbf433e",
   "metadata": {},
   "outputs": [
    {
     "data": {
      "text/html": [
       "<div>\n",
       "<style scoped>\n",
       "    .dataframe tbody tr th:only-of-type {\n",
       "        vertical-align: middle;\n",
       "    }\n",
       "\n",
       "    .dataframe tbody tr th {\n",
       "        vertical-align: top;\n",
       "    }\n",
       "\n",
       "    .dataframe thead th {\n",
       "        text-align: right;\n",
       "    }\n",
       "</style>\n",
       "<table border=\"1\" class=\"dataframe\">\n",
       "  <thead>\n",
       "    <tr style=\"text-align: right;\">\n",
       "      <th></th>\n",
       "      <th>t_id</th>\n",
       "      <th>es_fraude</th>\n",
       "    </tr>\n",
       "  </thead>\n",
       "  <tbody>\n",
       "    <tr>\n",
       "      <th>0</th>\n",
       "      <td>0</td>\n",
       "      <td>False</td>\n",
       "    </tr>\n",
       "    <tr>\n",
       "      <th>1</th>\n",
       "      <td>1</td>\n",
       "      <td>False</td>\n",
       "    </tr>\n",
       "    <tr>\n",
       "      <th>2</th>\n",
       "      <td>2</td>\n",
       "      <td>True</td>\n",
       "    </tr>\n",
       "    <tr>\n",
       "      <th>3</th>\n",
       "      <td>3</td>\n",
       "      <td>True</td>\n",
       "    </tr>\n",
       "    <tr>\n",
       "      <th>4</th>\n",
       "      <td>4</td>\n",
       "      <td>False</td>\n",
       "    </tr>\n",
       "  </tbody>\n",
       "</table>\n",
       "</div>"
      ],
      "text/plain": [
       "   t_id  es_fraude\n",
       "0     0      False\n",
       "1     1      False\n",
       "2     2       True\n",
       "3     3       True\n",
       "4     4      False"
      ]
     },
     "execution_count": 57,
     "metadata": {},
     "output_type": "execute_result"
    }
   ],
   "source": [
    "df_fraude.head(5)"
   ]
  },
  {
   "cell_type": "code",
   "execution_count": 58,
   "id": "ac08ee44",
   "metadata": {},
   "outputs": [],
   "source": [
    "df_balance_fraude = pd.merge(df_balance_alarma ,df_fraude, how = 'left', on = ('t_id'))"
   ]
  },
  {
   "cell_type": "code",
   "execution_count": 59,
   "id": "a4ba0ad8",
   "metadata": {},
   "outputs": [
    {
     "data": {
      "text/plain": [
       "(6362620, 12)"
      ]
     },
     "execution_count": 59,
     "metadata": {},
     "output_type": "execute_result"
    }
   ],
   "source": [
    "df_balance_fraude.shape"
   ]
  },
  {
   "cell_type": "code",
   "execution_count": 60,
   "id": "d2ed48cd",
   "metadata": {},
   "outputs": [
    {
     "data": {
      "text/html": [
       "<div>\n",
       "<style scoped>\n",
       "    .dataframe tbody tr th:only-of-type {\n",
       "        vertical-align: middle;\n",
       "    }\n",
       "\n",
       "    .dataframe tbody tr th {\n",
       "        vertical-align: top;\n",
       "    }\n",
       "\n",
       "    .dataframe thead th {\n",
       "        text-align: right;\n",
       "    }\n",
       "</style>\n",
       "<table border=\"1\" class=\"dataframe\">\n",
       "  <thead>\n",
       "    <tr style=\"text-align: right;\">\n",
       "      <th></th>\n",
       "      <th>t_id</th>\n",
       "      <th>id_cliente_origen</th>\n",
       "      <th>balance_prev_origen</th>\n",
       "      <th>balance_post_origen</th>\n",
       "      <th>id_cliente_destino</th>\n",
       "      <th>balance_prev_destino</th>\n",
       "      <th>balance_post_destino</th>\n",
       "      <th>cuantia</th>\n",
       "      <th>tipo</th>\n",
       "      <th>fecha_final</th>\n",
       "      <th>mensaje_alarma</th>\n",
       "      <th>es_fraude</th>\n",
       "    </tr>\n",
       "  </thead>\n",
       "  <tbody>\n",
       "    <tr>\n",
       "      <th>0</th>\n",
       "      <td>0</td>\n",
       "      <td>C1231006815</td>\n",
       "      <td>170136.0</td>\n",
       "      <td>160296.36</td>\n",
       "      <td>M1979787155</td>\n",
       "      <td>0.0</td>\n",
       "      <td>0.0</td>\n",
       "      <td>9839.64</td>\n",
       "      <td>PAYMENT</td>\n",
       "      <td>2022-09-01 08:00:00</td>\n",
       "      <td>NaN</td>\n",
       "      <td>False</td>\n",
       "    </tr>\n",
       "    <tr>\n",
       "      <th>1</th>\n",
       "      <td>1</td>\n",
       "      <td>C1666544295</td>\n",
       "      <td>21249.0</td>\n",
       "      <td>19384.72</td>\n",
       "      <td>M2044282225</td>\n",
       "      <td>0.0</td>\n",
       "      <td>0.0</td>\n",
       "      <td>1864.28</td>\n",
       "      <td>PAYMENT</td>\n",
       "      <td>2022-09-01 08:00:00</td>\n",
       "      <td>NaN</td>\n",
       "      <td>False</td>\n",
       "    </tr>\n",
       "    <tr>\n",
       "      <th>2</th>\n",
       "      <td>2</td>\n",
       "      <td>C1305486145</td>\n",
       "      <td>181.0</td>\n",
       "      <td>0.00</td>\n",
       "      <td>C553264065</td>\n",
       "      <td>0.0</td>\n",
       "      <td>0.0</td>\n",
       "      <td>181.00</td>\n",
       "      <td>TRANSFER</td>\n",
       "      <td>2022-09-01 08:00:00</td>\n",
       "      <td>NaN</td>\n",
       "      <td>True</td>\n",
       "    </tr>\n",
       "    <tr>\n",
       "      <th>3</th>\n",
       "      <td>3</td>\n",
       "      <td>C840083671</td>\n",
       "      <td>181.0</td>\n",
       "      <td>0.00</td>\n",
       "      <td>C38997010</td>\n",
       "      <td>21182.0</td>\n",
       "      <td>0.0</td>\n",
       "      <td>181.00</td>\n",
       "      <td>CASH_OUT</td>\n",
       "      <td>2022-09-01 08:00:00</td>\n",
       "      <td>NaN</td>\n",
       "      <td>True</td>\n",
       "    </tr>\n",
       "    <tr>\n",
       "      <th>4</th>\n",
       "      <td>4</td>\n",
       "      <td>C2048537720</td>\n",
       "      <td>41554.0</td>\n",
       "      <td>29885.86</td>\n",
       "      <td>M1230701703</td>\n",
       "      <td>0.0</td>\n",
       "      <td>0.0</td>\n",
       "      <td>11668.14</td>\n",
       "      <td>PAYMENT</td>\n",
       "      <td>2022-09-01 08:00:00</td>\n",
       "      <td>NaN</td>\n",
       "      <td>False</td>\n",
       "    </tr>\n",
       "  </tbody>\n",
       "</table>\n",
       "</div>"
      ],
      "text/plain": [
       "   t_id id_cliente_origen  balance_prev_origen  balance_post_origen  \\\n",
       "0     0       C1231006815             170136.0            160296.36   \n",
       "1     1       C1666544295              21249.0             19384.72   \n",
       "2     2       C1305486145                181.0                 0.00   \n",
       "3     3        C840083671                181.0                 0.00   \n",
       "4     4       C2048537720              41554.0             29885.86   \n",
       "\n",
       "  id_cliente_destino  balance_prev_destino  balance_post_destino   cuantia  \\\n",
       "0        M1979787155                   0.0                   0.0   9839.64   \n",
       "1        M2044282225                   0.0                   0.0   1864.28   \n",
       "2         C553264065                   0.0                   0.0    181.00   \n",
       "3          C38997010               21182.0                   0.0    181.00   \n",
       "4        M1230701703                   0.0                   0.0  11668.14   \n",
       "\n",
       "       tipo          fecha_final mensaje_alarma es_fraude  \n",
       "0   PAYMENT  2022-09-01 08:00:00            NaN     False  \n",
       "1   PAYMENT  2022-09-01 08:00:00            NaN     False  \n",
       "2  TRANSFER  2022-09-01 08:00:00            NaN      True  \n",
       "3  CASH_OUT  2022-09-01 08:00:00            NaN      True  \n",
       "4   PAYMENT  2022-09-01 08:00:00            NaN     False  "
      ]
     },
     "execution_count": 60,
     "metadata": {},
     "output_type": "execute_result"
    }
   ],
   "source": [
    "df_balance_fraude.head(5)"
   ]
  },
  {
   "cell_type": "code",
   "execution_count": 63,
   "id": "0f4f8bf8",
   "metadata": {},
   "outputs": [],
   "source": [
    "df_transacciones = df_balance_fraude[['t_id','tipo','fecha_final','id_cliente_origen','balance_prev_origen','balance_post_origen','id_cliente_destino','balance_prev_destino',\n",
    "                                      'balance_post_destino','cuantia', 'mensaje_alarma','es_fraude']]"
   ]
  },
  {
   "cell_type": "code",
   "execution_count": 64,
   "id": "9d1f33b6",
   "metadata": {},
   "outputs": [
    {
     "data": {
      "text/plain": [
       "(6362620, 12)"
      ]
     },
     "execution_count": 64,
     "metadata": {},
     "output_type": "execute_result"
    }
   ],
   "source": [
    "df_transacciones.shape"
   ]
  },
  {
   "cell_type": "code",
   "execution_count": 65,
   "id": "3b06e466",
   "metadata": {},
   "outputs": [
    {
     "data": {
      "text/html": [
       "<div>\n",
       "<style scoped>\n",
       "    .dataframe tbody tr th:only-of-type {\n",
       "        vertical-align: middle;\n",
       "    }\n",
       "\n",
       "    .dataframe tbody tr th {\n",
       "        vertical-align: top;\n",
       "    }\n",
       "\n",
       "    .dataframe thead th {\n",
       "        text-align: right;\n",
       "    }\n",
       "</style>\n",
       "<table border=\"1\" class=\"dataframe\">\n",
       "  <thead>\n",
       "    <tr style=\"text-align: right;\">\n",
       "      <th></th>\n",
       "      <th>t_id</th>\n",
       "      <th>tipo</th>\n",
       "      <th>fecha_final</th>\n",
       "      <th>id_cliente_origen</th>\n",
       "      <th>balance_prev_origen</th>\n",
       "      <th>balance_post_origen</th>\n",
       "      <th>id_cliente_destino</th>\n",
       "      <th>balance_prev_destino</th>\n",
       "      <th>balance_post_destino</th>\n",
       "      <th>cuantia</th>\n",
       "      <th>mensaje_alarma</th>\n",
       "      <th>es_fraude</th>\n",
       "    </tr>\n",
       "  </thead>\n",
       "  <tbody>\n",
       "    <tr>\n",
       "      <th>4867096</th>\n",
       "      <td>4863516</td>\n",
       "      <td>CASH_OUT</td>\n",
       "      <td>2022-09-15 19:00:00</td>\n",
       "      <td>C1225730105</td>\n",
       "      <td>0.0</td>\n",
       "      <td>0.0</td>\n",
       "      <td>C1307958375</td>\n",
       "      <td>1799069.66</td>\n",
       "      <td>2089221.75</td>\n",
       "      <td>290152.09</td>\n",
       "      <td>NaN</td>\n",
       "      <td>False</td>\n",
       "    </tr>\n",
       "    <tr>\n",
       "      <th>4212618</th>\n",
       "      <td>4208088</td>\n",
       "      <td>CASH_OUT</td>\n",
       "      <td>2022-09-14 00:00:00</td>\n",
       "      <td>C690878393</td>\n",
       "      <td>0.0</td>\n",
       "      <td>0.0</td>\n",
       "      <td>C24132352</td>\n",
       "      <td>3330918.46</td>\n",
       "      <td>3650242.04</td>\n",
       "      <td>319323.57</td>\n",
       "      <td>NaN</td>\n",
       "      <td>False</td>\n",
       "    </tr>\n",
       "    <tr>\n",
       "      <th>5889798</th>\n",
       "      <td>5888412</td>\n",
       "      <td>CASH_OUT</td>\n",
       "      <td>2022-09-18 02:00:00</td>\n",
       "      <td>C759086997</td>\n",
       "      <td>11581.0</td>\n",
       "      <td>0.0</td>\n",
       "      <td>C382179335</td>\n",
       "      <td>1124814.64</td>\n",
       "      <td>1159010.79</td>\n",
       "      <td>34196.15</td>\n",
       "      <td>NaN</td>\n",
       "      <td>False</td>\n",
       "    </tr>\n",
       "    <tr>\n",
       "      <th>2913094</th>\n",
       "      <td>2908055</td>\n",
       "      <td>CASH_OUT</td>\n",
       "      <td>2022-09-10 19:00:00</td>\n",
       "      <td>C701528038</td>\n",
       "      <td>19859.0</td>\n",
       "      <td>0.0</td>\n",
       "      <td>C1756661753</td>\n",
       "      <td>5624.47</td>\n",
       "      <td>56116.41</td>\n",
       "      <td>50491.94</td>\n",
       "      <td>NaN</td>\n",
       "      <td>False</td>\n",
       "    </tr>\n",
       "    <tr>\n",
       "      <th>5050816</th>\n",
       "      <td>5047576</td>\n",
       "      <td>CASH_OUT</td>\n",
       "      <td>2022-09-16 01:00:00</td>\n",
       "      <td>C692221494</td>\n",
       "      <td>0.0</td>\n",
       "      <td>0.0</td>\n",
       "      <td>C1549030630</td>\n",
       "      <td>2366046.87</td>\n",
       "      <td>2586321.85</td>\n",
       "      <td>220274.98</td>\n",
       "      <td>NaN</td>\n",
       "      <td>False</td>\n",
       "    </tr>\n",
       "  </tbody>\n",
       "</table>\n",
       "</div>"
      ],
      "text/plain": [
       "            t_id      tipo          fecha_final id_cliente_origen  \\\n",
       "4867096  4863516  CASH_OUT  2022-09-15 19:00:00       C1225730105   \n",
       "4212618  4208088  CASH_OUT  2022-09-14 00:00:00        C690878393   \n",
       "5889798  5888412  CASH_OUT  2022-09-18 02:00:00        C759086997   \n",
       "2913094  2908055  CASH_OUT  2022-09-10 19:00:00        C701528038   \n",
       "5050816  5047576  CASH_OUT  2022-09-16 01:00:00        C692221494   \n",
       "\n",
       "         balance_prev_origen  balance_post_origen id_cliente_destino  \\\n",
       "4867096                  0.0                  0.0        C1307958375   \n",
       "4212618                  0.0                  0.0          C24132352   \n",
       "5889798              11581.0                  0.0         C382179335   \n",
       "2913094              19859.0                  0.0        C1756661753   \n",
       "5050816                  0.0                  0.0        C1549030630   \n",
       "\n",
       "         balance_prev_destino  balance_post_destino    cuantia mensaje_alarma  \\\n",
       "4867096            1799069.66            2089221.75  290152.09            NaN   \n",
       "4212618            3330918.46            3650242.04  319323.57            NaN   \n",
       "5889798            1124814.64            1159010.79   34196.15            NaN   \n",
       "2913094               5624.47              56116.41   50491.94            NaN   \n",
       "5050816            2366046.87            2586321.85  220274.98            NaN   \n",
       "\n",
       "        es_fraude  \n",
       "4867096     False  \n",
       "4212618     False  \n",
       "5889798     False  \n",
       "2913094     False  \n",
       "5050816     False  "
      ]
     },
     "execution_count": 65,
     "metadata": {},
     "output_type": "execute_result"
    }
   ],
   "source": [
    "df_transacciones.sample(5)"
   ]
  },
  {
   "cell_type": "code",
   "execution_count": 66,
   "id": "d549e07d",
   "metadata": {},
   "outputs": [
    {
     "data": {
      "text/plain": [
       "False    6362620\n",
       "dtype: int64"
      ]
     },
     "execution_count": 66,
     "metadata": {},
     "output_type": "execute_result"
    }
   ],
   "source": [
    "df_transacciones.duplicated(subset=[ 't_id']).value_counts()"
   ]
  },
  {
   "cell_type": "code",
   "execution_count": 67,
   "id": "3ee632a5",
   "metadata": {},
   "outputs": [],
   "source": [
    "df_transacciones.to_csv('df_transacciones.csv', index = False)"
   ]
  }
 ],
 "metadata": {
  "kernelspec": {
   "display_name": "Python 3 (ipykernel)",
   "language": "python",
   "name": "python3"
  },
  "language_info": {
   "codemirror_mode": {
    "name": "ipython",
    "version": 3
   },
   "file_extension": ".py",
   "mimetype": "text/x-python",
   "name": "python",
   "nbconvert_exporter": "python",
   "pygments_lexer": "ipython3",
   "version": "3.9.12"
  }
 },
 "nbformat": 4,
 "nbformat_minor": 5
}
