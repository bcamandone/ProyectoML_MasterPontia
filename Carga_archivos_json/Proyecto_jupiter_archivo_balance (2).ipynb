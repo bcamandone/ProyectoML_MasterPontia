{
 "cells": [
  {
   "cell_type": "code",
   "execution_count": 1,
   "id": "c3b55d9c",
   "metadata": {},
   "outputs": [],
   "source": [
    "import pandas as pd \n",
    "import json\n",
    "import csv\n",
    "from pandas import json_normalize\n",
    "from flatten_json import flatten"
   ]
  },
  {
   "cell_type": "code",
   "execution_count": 2,
   "id": "6623aafe",
   "metadata": {},
   "outputs": [],
   "source": [
    "f = open('Datasets/balances.json') \n",
    "dfbalance = json.load(f) \n",
    "f.close()"
   ]
  },
  {
   "cell_type": "markdown",
   "id": "013d8a8e",
   "metadata": {},
   "source": [
    "Defino un diccionario con el resultado final que quiero obtener "
   ]
  },
  {
   "cell_type": "code",
   "execution_count": 4,
   "id": "19547eda",
   "metadata": {},
   "outputs": [],
   "source": [
    "resultado = {'cliente_id':[], 't_id':[], 'balance_prev':[], 'balance_post':[]}"
   ]
  },
  {
   "cell_type": "code",
   "execution_count": 5,
   "id": "175b73be",
   "metadata": {},
   "outputs": [],
   "source": [
    "def llenar_resultado_con_transaccion(transaccion, clienteId, res):\n",
    "    res['cliente_id'].append(clienteId)\n",
    "    res['t_id'].append(transaccion['t_id'])\n",
    "    res['balance_prev'].append(transaccion['balance_prev'])\n",
    "    res['balance_post'].append(transaccion['balance_post'])\n",
    "    \n",
    "def llenar_resultado_con_info_cliente(clienteId, transacciones, res):\n",
    "    for t in transacciones:\n",
    "        llenar_resultado_con_transaccion(t, clienteId, res)\n",
    "        \n",
    "for cliente_id in dfbalance:\n",
    "    llenar_resultado_con_info_cliente(cliente_id, dfbalance[cliente_id], resultado)"
   ]
  },
  {
   "cell_type": "code",
   "execution_count": 7,
   "id": "7a49da10",
   "metadata": {},
   "outputs": [],
   "source": [
    "df_balance = pd.DataFrame(resultado)"
   ]
  },
  {
   "cell_type": "code",
   "execution_count": 8,
   "id": "37dadcf7",
   "metadata": {},
   "outputs": [
    {
     "data": {
      "text/plain": [
       "(12725240, 4)"
      ]
     },
     "execution_count": 8,
     "metadata": {},
     "output_type": "execute_result"
    }
   ],
   "source": [
    "df_balance.shape"
   ]
  },
  {
   "cell_type": "code",
   "execution_count": 10,
   "id": "d395c1fc",
   "metadata": {},
   "outputs": [
    {
     "data": {
      "text/plain": [
       "False    12725240\n",
       "dtype: int64"
      ]
     },
     "execution_count": 10,
     "metadata": {},
     "output_type": "execute_result"
    }
   ],
   "source": [
    "df_balance.duplicated(subset=['cliente_id', 't_id']).value_counts()"
   ]
  },
  {
   "cell_type": "code",
   "execution_count": 11,
   "id": "28c785bd",
   "metadata": {},
   "outputs": [],
   "source": [
    "df_balance.to_csv('df_balance.csv', index = False)"
   ]
  }
 ],
 "metadata": {
  "kernelspec": {
   "display_name": "Python 3 (ipykernel)",
   "language": "python",
   "name": "python3"
  },
  "language_info": {
   "codemirror_mode": {
    "name": "ipython",
    "version": 3
   },
   "file_extension": ".py",
   "mimetype": "text/x-python",
   "name": "python",
   "nbconvert_exporter": "python",
   "pygments_lexer": "ipython3",
   "version": "3.9.12"
  }
 },
 "nbformat": 4,
 "nbformat_minor": 5
}
